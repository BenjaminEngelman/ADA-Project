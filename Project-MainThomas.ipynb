{
 "cells": [
  {
   "cell_type": "markdown",
   "metadata": {},
   "source": [
    "# Nice to Meat You : An Analysis on Meat Consumption\n",
    "\n",
    "## Introduction\n",
    "\n",
    "Meat consumption is a highly controversial topic in nowadays society in terms of [environment](https://www.theguardian.com/environment/2018/oct/10/huge-reduction-in-meat-eating-essential-to-avoid-climate-breakdown), [health](https://gamechangersmovie.com/), and [ethical](http://traslosmuros.com/en/slaughterhouse-documentary/) reasons. This situation introduces different ways of consuming meat and divides people according to their behaviors such as vegan, vegetarian, occasional meat consumer, and people consuming large amounts of meats.\n",
    "\n",
    "In this project, we are particularly interested in the factors related to consuming meat and how the behavior of households varies according to their meat consumption. We are going to focus on demographic information such as economic status, family composition, age, and their relation with consuming meat. Moreover, we are going to study external effects that are related to meat consumption such as seasonal changes, campaigns, and discounts. Finally, we are going to categorize households according to their meat consumption and perform a behavior analysis per category.\n",
    "\n",
    "To do so, we are going to use the Dunnhumby dataset. This dataset contains shopping information collected over two years from a group of 2,500 households as well as their information for each household. Moreover, we are planning to expand our analysis with an additional dataset about nutritional information.\n",
    "\n",
    "\n",
    "## Factors that influence meat consumption\n",
    "\n",
    "### Loading the data"
   ]
  },
  {
   "cell_type": "code",
   "execution_count": 1,
   "metadata": {},
   "outputs": [],
   "source": [
    "%matplotlib inline\n",
    "import pandas as pd\n",
    "import numpy as np\n",
    "import re\n",
    "from matplotlib.ticker import MaxNLocator\n",
    "import matplotlib.pyplot as plt\n",
    "from requests import get\n",
    "from bs4 import BeautifulSoup"
   ]
  },
  {
   "cell_type": "markdown",
   "metadata": {},
   "source": [
    "The first step is to select the meat products in the products dataset. The products are classified at three different categories levels. The broadest category is 'DEPARTMENT'."
   ]
  },
  {
   "cell_type": "code",
   "execution_count": 39,
   "metadata": {
    "scrolled": false
   },
   "outputs": [
    {
     "data": {
      "text/plain": [
       "array(['GROCERY', 'MISC. TRANS.', 'PASTRY', 'DRUG GM', 'MEAT-PCKGD',\n",
       "       'SEAFOOD-PCKGD', 'PRODUCE', 'NUTRITION', 'DELI', 'COSMETICS',\n",
       "       'MEAT', 'FLORAL', 'TRAVEL & LEISUR', 'SEAFOOD', 'MISC SALES TRAN',\n",
       "       'SALAD BAR', 'KIOSK-GAS', 'ELECT &PLUMBING', 'GRO BAKERY',\n",
       "       'GM MERCH EXP', 'FROZEN GROCERY', 'COUP/STR & MFG', 'SPIRITS',\n",
       "       'GARDEN CENTER', 'TOYS', 'CHARITABLE CONT', 'RESTAURANT', 'RX',\n",
       "       'PROD-WHS SALES', 'MEAT-WHSE', 'DAIRY DELI', 'CHEF SHOPPE', 'HBC',\n",
       "       'DELI/SNACK BAR', 'PORK', 'AUTOMOTIVE', 'VIDEO RENTAL', ' ',\n",
       "       'CNTRL/STORE SUP', 'HOUSEWARES', 'POSTAL CENTER', 'PHOTO', 'VIDEO',\n",
       "       'PHARMACY SUPPLY'], dtype=object)"
      ]
     },
     "execution_count": 39,
     "metadata": {},
     "output_type": "execute_result"
    }
   ],
   "source": [
    "products = pd.read_csv('dunnhumby/product.csv', sep = ',')\n",
    "products['DEPARTMENT'].unique()"
   ]
  },
  {
   "cell_type": "code",
   "execution_count": 40,
   "metadata": {},
   "outputs": [],
   "source": [
    "# Select the meat departments\n",
    "meat_dept = ['MEAT-PCKGD','MEAT','MEAT-WHSE','PORK']\n",
    "meat_products = products[products['DEPARTMENT'].isin(meat_dept)].copy()"
   ]
  },
  {
   "cell_type": "markdown",
   "metadata": {},
   "source": [
    "The 'DELI' department also contains meat but not exclusively. It is therefore necessary to select the 'COMMODITY_DESC' amongst the 'DELI' department containing exclusively meat."
   ]
  },
  {
   "cell_type": "code",
   "execution_count": 41,
   "metadata": {},
   "outputs": [
    {
     "data": {
      "text/plain": [
       "array(['SALADS/DIPS', 'SANDWICHES', 'DELI MEATS', 'CHEESES',\n",
       "       'CHICKEN/POULTRY', 'SNACKS', 'PREPARED FOOD', 'COFFEE SHOP',\n",
       "       'DELI SPECIALTIES (RETAIL PK)', 'PARTY TRAYS', 'SERVICE BEVERAGE',\n",
       "       'SUSHI', 'DELI SUPPLIES'], dtype=object)"
      ]
     },
     "execution_count": 41,
     "metadata": {},
     "output_type": "execute_result"
    }
   ],
   "source": [
    "deli_products = products[products['DEPARTMENT'] == 'DELI']\n",
    "deli_products['COMMODITY_DESC'].unique()"
   ]
  },
  {
   "cell_type": "code",
   "execution_count": 106,
   "metadata": {},
   "outputs": [
    {
     "data": {
      "text/plain": [
       "array(['FRESH', 'FRZN BREADED PREPARED CHICK', 'BREAST - BONELESS(IQF)',\n",
       "       'BOLOGNA', 'LINKS - COOKED', 'LUNCH COMBO', 'BETTER FOR YOU',\n",
       "       'LINKS - RAW', 'CORN DOGS', 'KOSHER/SPECIALTY', 'CHICKEN WINGS',\n",
       "       'HAM', 'CHICKEN BREAST BONE IN', 'SELECT BEEF', 'LOAVE',\n",
       "       'PEPPERONI/SALAMI', 'SAUERKRAUT', 'MISCELLANEOUS', 'ENTREES',\n",
       "       'PRIMAL', 'POULTRY', 'SMOKED/COOKED',\n",
       "       'SMOKED/COOKED - BETTER FOR YOU', 'PREMIUM - BEEF',\n",
       "       'GROUND TURKEY', 'PICKLES', 'BREAST - BONE-IN (IQF)', 'PREMIUM',\n",
       "       'STUFFED/MIXED BEEF', 'PATTIES - RAW', 'ROLLS - PORK',\n",
       "       'VARIETY PACK', 'PREMIUM - MEAT', 'SALADS', 'CHICKEN-FULLY COOKED',\n",
       "       'HAMS-DRY CURED/COUNTRY', 'FRZN BURGERS/BBQ/MEATBALL',\n",
       "       'ROLLS - FLAVORED/OTHER', 'ECONOMY', 'PRE-COOKED',\n",
       "       'PORK-FULLY COOKED', 'CHICKEN DRUMS', 'ECONOMY - MEAT',\n",
       "       'CHOICE BEEF', 'EXTERNAL', 'DRY', 'BUTTS', 'NATURAL BEEF',\n",
       "       'WHOLE HENS (UNDER 15LBS)', 'SOUP/STEW', 'LEAN', 'CUBED MEATS',\n",
       "       'CHICKEN BREAST BONELESS', 'FRZN BREAKFAST ENTREES/SANDWIC',\n",
       "       'SAUSAGE', 'HAM STEAKS/CUBES/SLICES', 'FLANK', 'MISC SALES TRANS',\n",
       "       'RIBS', 'SPICES/SEASONING', 'MEAT DEPT KEY RINGS', 'KABOBS BEEF',\n",
       "       'ENHANCED', 'WHOLE CHICKEN (ROASTERS/FRYER)', 'CHICKEN THIGHS',\n",
       "       'GRND/PATTY - FROZEN', 'FLAVORED/OTHER', 'HAMS-HALF/PORT BONE-IN',\n",
       "       'KABOBS', 'HAMS-WHOLE BONE-IN', 'ROUND/LEG', 'SNACK MEAT', 'DRUMS',\n",
       "       'CHEESE', 'HAM - STEAKS/SLICES/CUBES', 'RIBS - SPARE RIB/BACK RIB',\n",
       "       'LOIN - CHOPS BONELESS', 'GRND/PATTY - CHUCK', 'SNACKS/APPETIZERS',\n",
       "       'LOIN - STK/CHP/SLC', 'GRND/PATTY - ROUND', 'HOT DOGS-BEEF',\n",
       "       'OFFALS', 'RIB - STK/CHP/SLC', 'CHUCK/SHLDR - ROAST', 'WINGS',\n",
       "       'SMOKED/COOKED - BEEF', 'BREADED - CHICKEN',\n",
       "       'CHICKEN LEGS/QUARTERS', 'SHLDR - PICNIC', 'STUFFED/MIXED PORK',\n",
       "       'TURKEY BREAST BONELESS', 'PATTIES', 'GRND/PATTY - SIRLOIN (90%+)',\n",
       "       'FRESH HAMS', 'LOIN - CHOPS BONE-IN', 'CHUCK/SHOULDER',\n",
       "       'MEAT-MISC-SAUCES/MARIN-DRY', 'INTERNAL',\n",
       "       'STIR FRY/STRIPS/FAJITAS', 'LOIN - ROAST', 'SAUCES/MARINADES',\n",
       "       'WHOLE HEN (UNDER 15LBS)', 'TURKEY BREAST BONE IN',\n",
       "       'TURKEY PARTS SMOKED', 'BRISKET', 'WHOLE/CUTUP', 'CORNED BEEF',\n",
       "       'SHLDR - STK/CHP/SLC', 'WHOLE - HENS (15 LBS & UNDER F',\n",
       "       'GRND/PATTY - BEEF', 'MEAT SNACKS', 'SMOKED OFFAL', 'WINGS (IQF)',\n",
       "       'RIB', 'WHOLE - TOM (16 LBS & OVER FRZ',\n",
       "       'FRZN MULTI SERVE ENTREES ALL', 'ORGANIC BEEF', 'ECONOMY - BEEF',\n",
       "       'BURRITOS', 'FROZEN MEAT', 'LOIN - WH/HALF BONE-IN',\n",
       "       'TURKEY HALVES/QUARTERS', 'VARIETY MEAT - EXTERNAL',\n",
       "       'HAM - SPIRAL', 'TURKEY DRUMS', 'SEASONED POULTRY',\n",
       "       'BRSKT/BRST/BLY - WH/HALF', 'ROUND/LEG - STK/CHP/SLC',\n",
       "       'HAM - BONELESS HALF/PORT', 'SMOKED CHOPS BONE-IN',\n",
       "       'WHOLE TOMS (OVER 15LBS)', 'SKIRT', 'BREAST - BONELESS',\n",
       "       'BACON - BELLY/JOWL', 'HAM - BONELESS WHOLE', 'THIGHS (IQF)',\n",
       "       'NATURAL', 'DRUMS (IQF)', 'EXTERNAL FRESH',\n",
       "       'HAM - BONE-IN HALF/PORT', 'LOIN - WH/HALF',\n",
       "       'RIBS - COUNTRY/WESTERN STYLE', 'CHUCK/SHLDR - STK/CHP/SLC',\n",
       "       'OTHER', 'CHUNK MEATS - ALL', 'COCKTAILS', 'BREAST - BONE-IN',\n",
       "       'PICKLE ITEMS', 'LOIN - WH/HALF BONELESS', 'MARINATED PORK',\n",
       "       'MARINATED', 'PRIME BEEF', 'MISC DAIRY REFIGERATED', 'ORGANIC',\n",
       "       'WHOLE HEN (OVER 15LBS)', 'THIN MEATS', 'SEASONED PORK',\n",
       "       'TURKEY THIGHS', 'SAL:OLIVES/PICKLES-BULK', 'SHLDR - BUTT',\n",
       "       'KABOBS PORK', 'OTHER - FULLY COOKED',\n",
       "       'FRZN SS PREMIUM ENTREES/DNRS/T', 'VARIETY MEAT - INTERNAL',\n",
       "       'PIZZA', 'HAMS-CANNED', 'BREAST - BONE-IN (FRZ)',\n",
       "       'FLNK/PLT/SHNK - STK/CHP/SLC', 'NON-MEATS - OTHER',\n",
       "       'RIB - SPARE RIB/BACK RIB', 'MARINATED POULTRY',\n",
       "       'VARIETY MEAT - CUBE/STW/STRP', 'STUFFED/MIXED POULTRY',\n",
       "       'SEAFOOD-MISC-SAUCES/MARIN-WET', 'HAM - BONE-IN WHOLE',\n",
       "       'MISC BAG SNACKS', 'RW FRESH PROCESSED MEAT', 'DUCKS', 'ANGUS',\n",
       "       'SANDWICHES/BISCUITS/GRAVY', 'GROUND PORK', 'INTERNAL FRESH',\n",
       "       'GROUND CHICKEN', 'HAM- NET WEIGHT', 'SANDWICHES&HANDHELDS',\n",
       "       'FROZEN PACKAGE MEAT', 'TURKEY WINGS', 'MIXED PACKS',\n",
       "       'FLNK/PLT/SHNK - WH/HALF', 'COOKED', 'PATTIES - COOKED',\n",
       "       'HAMS-SPIRAL', 'CORNISH HEN', 'BEEF - FULLY COOKED',\n",
       "       'SAUCE MIXES GRAVY MIXES DRY', 'TURKEY GRND/PTTY',\n",
       "       'MEAT-MISC-MISC', 'DUCK', 'BROTH', 'LOIN', 'HAMS-WHOLE BONELESS',\n",
       "       'CHEESE:PROCESSED PREPORTND', 'MEAT-MISC-RW-ALL',\n",
       "       'WHOLE - TOM (16 LBS & OVER FRS', 'ROUND/LEG - ROAST', 'SEASONED',\n",
       "       'GRND/PATTY - CHUCK(EW)', 'FRZN HASHBROWN POTATOES',\n",
       "       'RIB - WHL/HALF', 'RED', 'THIGHS', 'LUNCHMEAT-RW-ALL',\n",
       "       'MEAL SOL-RAW FRTHR PREPRD MT', 'ANGUS BEEF',\n",
       "       'RICE SIDE DISH MIXES DRY', 'FRZN REGIONAL/OTHER',\n",
       "       'GRND/PATTY - BEEF(EW)', 'BEEF', 'SEASONED BEEF',\n",
       "       'FRESH-BETTER FOR YOU', 'NOODLES DRY',\n",
       "       'MEXICAN SAUCESSALSAPICANTEE', 'HOT MUSTARD/SPECIALTY MUSTAR',\n",
       "       'DRUMS (FRZ)', 'CHICKEN', 'FRZN BRD STICK/PORTON',\n",
       "       'FRZN MISC SEAFOOD', 'GRINDS', 'SANDWICHES-OTHER',\n",
       "       'KABOBS POULTRY', 'SANDWICHES - (COLD)', 'PREP FD: PIZZA (COLD)',\n",
       "       'MEAT: SAUS DRY PPK/PRSLC', 'HAMS-HALF/PORT BONELESS',\n",
       "       'SMOKED PICNICS', 'SMOKED CHOPS BONELESS', 'POTATOES PROCESSED',\n",
       "       'FRZN MEAT ALTERNATIVES', 'REFRIGERATED PASTA SAUCE',\n",
       "       'MARINATED BEEF', 'SIDE DISHES'], dtype=object)"
      ]
     },
     "execution_count": 106,
     "metadata": {},
     "output_type": "execute_result"
    }
   ],
   "source": [
    "# Select the meat commodities amongst the 'DELI' department\n",
    "meat_commodity = ['DELI MEATS','CHICKEN/POULTRY']\n",
    "meat_products.append(products[products['COMMODITY_DESC'].isin(meat_commodity)])\n",
    "meat_products['SUB_COMMODITY_DESC'].unique()"
   ]
  },
  {
   "cell_type": "markdown",
   "metadata": {},
   "source": [
    "With these steps, we have selected all the products containing only meat. A second step allows to select all the products containing meat."
   ]
  },
  {
   "cell_type": "code",
   "execution_count": 105,
   "metadata": {},
   "outputs": [
    {
     "data": {
      "text/plain": [
       "array(['FRZN SS PREMIUM ENTREES/DNRS/T', 'FRZN MULTI SERVE ENTREES ALL',\n",
       "       'MICROWAVABLE CUPS', 'CHILI: CANNED', 'BEEF STEW',\n",
       "       'HOT DOG CHILI SAUCE', 'PASTA: CANNED',\n",
       "       'FRZN BREADED PREPARED CHICK', 'FRZN SS PREMIUM ENTREES/DNRS/N',\n",
       "       'SANDWICH SAUCE', 'VIENNA SAUSAGE',\n",
       "       'SS ECONOMY ENTREES/DINNERS ALL', 'CHUNK MEATS - ALL',\n",
       "       'LUNCHEON MEAT', 'FROZEN PASTA', 'CHICKEN-FULLY COOKED',\n",
       "       'TAMALES (STOCKED N/CANNED MEAT', 'SNACKS/APPETIZERS', 'MICROWAVE',\n",
       "       'HASH: CANNED', 'POULTRY - STEW W/DUMPLINGS/ A',\n",
       "       'BEEF/PORK - DRIED SLICED W/GRA', 'POTTED MEATS AND SPREADS',\n",
       "       'FROZEN ENTREES', 'CORN BEEF', 'MISC CND MEATS',\n",
       "       'FRZN REGIONAL/OTHER', 'PIZZA/PREMIUM',\n",
       "       'FRZN BURGERS/BBQ/MEATBALL', 'PORK-FULLY COOKED', 'KITES',\n",
       "       'GRASS/SHRED'], dtype=object)"
      ]
     },
     "execution_count": 105,
     "metadata": {},
     "output_type": "execute_result"
    }
   ],
   "source": [
    "# products containing meat selected from their 'COMMODITY_DESC' and 'SUB_COMMODITY_DESC' sections\n",
    "cont_meat_commodity = ['MEAT - SHELF STABLE','FROZEN CHICKEN','FRZN MEAT/MEAT DINNERS']\n",
    "cont_meat_sub_commodity = ['DELI TRAY:MEAT AND CHEESE','MEAT ADDED']\n",
    "cont_meat = products[products['COMMODITY_DESC'].isin(cont_meat_commodity)]\n",
    "cont_meat.append(products[products['SUB_COMMODITY_DESC'].isin(cont_meat_sub_commodity)])\n",
    "# remove vegetarian meat options \n",
    "cont_meat = cont_meat[cont_meat['SUB_COMMODITY_DESC'].isin(['FRZN MEAT ALTERNATIVES' ,'FROZEN MEAT (VEGETARIAN)']) == 0].copy()\n",
    "cont_meat['SUB_COMMODITY_DESC'].unique()"
   ]
  },
  {
   "cell_type": "code",
   "execution_count": 98,
   "metadata": {
    "scrolled": true
   },
   "outputs": [
    {
     "data": {
      "text/plain": [
       "DEPARTMENT\n",
       "GROCERY            39021\n",
       "DRUG GM            31529\n",
       "PRODUCE             3118\n",
       "COSMETICS           3011\n",
       "NUTRITION           2914\n",
       "MEAT                2544\n",
       "MEAT-PCKGD          2427\n",
       "DELI                2354\n",
       "PASTRY              2149\n",
       "FLORAL               938\n",
       "SEAFOOD-PCKGD        563\n",
       "MISC. TRANS.         490\n",
       "SPIRITS              377\n",
       "SEAFOOD              369\n",
       "GARDEN CENTER        128\n",
       "RESTAURANT           102\n",
       "MISC SALES TRAN       88\n",
       "SALAD BAR             48\n",
       "COUP/STR & MFG        39\n",
       "TRAVEL & LEISUR       28\n",
       "FROZEN GROCERY        23\n",
       "KIOSK-GAS             16\n",
       "                      15\n",
       "CHEF SHOPPE           14\n",
       "RX                     9\n",
       "CNTRL/STORE SUP        4\n",
       "POSTAL CENTER          3\n",
       "DAIRY DELI             3\n",
       "TOYS                   3\n",
       "VIDEO RENTAL           3\n",
       "GM MERCH EXP           3\n",
       "PHOTO                  2\n",
       "DELI/SNACK BAR         2\n",
       "PROD-WHS SALES         2\n",
       "GRO BAKERY             2\n",
       "CHARITABLE CONT        2\n",
       "AUTOMOTIVE             2\n",
       "VIDEO                  2\n",
       "PORK                   1\n",
       "ELECT &PLUMBING        1\n",
       "HOUSEWARES             1\n",
       "PHARMACY SUPPLY        1\n",
       "MEAT-WHSE              1\n",
       "HBC                    1\n",
       "Name: PRODUCT_ID, dtype: int64"
      ]
     },
     "execution_count": 98,
     "metadata": {},
     "output_type": "execute_result"
    }
   ],
   "source": [
    "products.groupby('DEPARTMENT').count()['PRODUCT_ID'].sort_values(ascending = False)"
   ]
  },
  {
   "cell_type": "code",
   "execution_count": 107,
   "metadata": {},
   "outputs": [],
   "source": [
    "meat_products.to_csv('data/meat_products.csv')\n",
    "cont_meat.to_csv('data/cont_meat.csv')"
   ]
  },
  {
   "cell_type": "code",
   "execution_count": null,
   "metadata": {},
   "outputs": [],
   "source": []
  }
 ],
 "metadata": {
  "kernelspec": {
   "display_name": "Python 3",
   "language": "python",
   "name": "python3"
  },
  "language_info": {
   "codemirror_mode": {
    "name": "ipython",
    "version": 3
   },
   "file_extension": ".py",
   "mimetype": "text/x-python",
   "name": "python",
   "nbconvert_exporter": "python",
   "pygments_lexer": "ipython3",
   "version": "3.6.5"
  }
 },
 "nbformat": 4,
 "nbformat_minor": 2
}
