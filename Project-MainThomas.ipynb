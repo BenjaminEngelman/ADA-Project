{
 "cells": [
  {
   "cell_type": "markdown",
   "metadata": {},
   "source": [
    "# Nice to Meat You : An Analysis on Meat Consumption\n",
    "\n",
    "## Introduction\n",
    "\n",
    "Meat consumption is a highly controversial topic in nowadays society in terms of [environment](https://www.theguardian.com/environment/2018/oct/10/huge-reduction-in-meat-eating-essential-to-avoid-climate-breakdown), [health](https://gamechangersmovie.com/), and [ethical](http://traslosmuros.com/en/slaughterhouse-documentary/) reasons. This situation introduces different ways of consuming meat and divides people according to their behaviors such as vegan, vegetarian, occasional meat consumer, and people consuming large amounts of meats.\n",
    "\n",
    "In this project, we are particularly interested in the factors related to consuming meat and how the behavior of households varies according to their meat consumption. We are going to focus on demographic information such as economic status, family composition, age, and their relation with consuming meat. Moreover, we are going to study external effects that are related to meat consumption such as seasonal changes, campaigns, and discounts. Finally, we are going to categorize households according to their meat consumption and perform a behavior analysis per category.\n",
    "\n",
    "To do so, we are going to use the Dunnhumby dataset. This dataset contains shopping information collected over two years from a group of 2,500 households as well as their information for each household. Moreover, we are planning to expand our analysis with an additional dataset about nutritional information.\n",
    "\n",
    "\n",
    "## Factors that influence meat consumption\n",
    "\n",
    "### Loading the data"
   ]
  },
  {
   "cell_type": "code",
   "execution_count": 1,
   "metadata": {},
   "outputs": [],
   "source": [
    "%matplotlib inline\n",
    "import pandas as pd\n",
    "import numpy as np\n",
    "import re\n",
    "from matplotlib.ticker import MaxNLocator\n",
    "import matplotlib.pyplot as plt\n",
    "from requests import get\n",
    "from bs4 import BeautifulSoup"
   ]
  },
  {
   "cell_type": "code",
   "execution_count": 2,
   "metadata": {},
   "outputs": [],
   "source": [
    "products = pd.read_csv('dunnhumby/product.csv', sep = ',')"
   ]
  },
  {
   "cell_type": "markdown",
   "metadata": {},
   "source": [
    "### Characterising the products\n",
    "\n",
    "The first step of the project is to correctly collect the products for each category in which we want to do further analysis. The objective is to be able to select food products, meat products and vegetables. "
   ]
  },
  {
   "cell_type": "code",
   "execution_count": 4,
   "metadata": {},
   "outputs": [
    {
     "name": "stdout",
     "output_type": "stream",
     "text": [
      "There are 92353 rows and 7 columns in the dataset.\n",
      "Number of columns with missing values is 0.\n",
      "Columns:\n",
      "--------\n",
      "PRODUCT_ID\n",
      "MANUFACTURER\n",
      "DEPARTMENT\n",
      "BRAND\n",
      "COMMODITY_DESC\n",
      "SUB_COMMODITY_DESC\n",
      "CURR_SIZE_OF_PRODUCT\n"
     ]
    }
   ],
   "source": [
    "print('There are {0} rows and {1} columns in the dataset.'.format(len(products), len(products.columns))) \n",
    "print('Number of columns with missing values is {0}.'.format(len(products.columns.to_numpy()[products.isna().any()])))\n",
    "print('Columns:')\n",
    "print('--------')\n",
    "for col in products.columns:\n",
    "    print(col)"
   ]
  },
  {
   "cell_type": "markdown",
   "metadata": {},
   "source": [
    "There are 7 columns and three of them allow us to have information about the type of the product. The broadest one is 'DEPARTMENT'. Each one of these contains one or more 'COMMODITY_DESC' which contain 'SUB_COMMODITY_DESC'. In the following parts the idea will be to start scratching products from 'DEPARTMENT' category and then go lower into the levels of precision."
   ]
  },
  {
   "cell_type": "code",
   "execution_count": 5,
   "metadata": {},
   "outputs": [
    {
     "name": "stdout",
     "output_type": "stream",
     "text": [
      "There are 92353 unique products distributed in 44 different departments.\n"
     ]
    }
   ],
   "source": [
    "print('There are {0} unique products distributed in {1} different departments.'.format(len(products['PRODUCT_ID'].unique()), len(products['DEPARTMENT'].unique())))"
   ]
  },
  {
   "cell_type": "markdown",
   "metadata": {},
   "source": [
    "For this project, the main interest is food products. Therefore, a database with only food-related departments is created."
   ]
  },
  {
   "cell_type": "code",
   "execution_count": 6,
   "metadata": {},
   "outputs": [
    {
     "name": "stdout",
     "output_type": "stream",
     "text": [
      "There are 56031 unique food products distributed in 18 different departments.\n"
     ]
    },
    {
     "data": {
      "text/plain": [
       "DEPARTMENT\n",
       "GROCERY           39021\n",
       "PRODUCE            3118\n",
       "NUTRITION          2914\n",
       "MEAT               2544\n",
       "MEAT-PCKGD         2427\n",
       "DELI               2354\n",
       "PASTRY             2149\n",
       "SEAFOOD-PCKGD       563\n",
       "SPIRITS             377\n",
       "SEAFOOD             369\n",
       "RESTAURANT          102\n",
       "SALAD BAR            48\n",
       "FROZEN GROCERY       23\n",
       "CHEF SHOPPE          14\n",
       "DAIRY DELI            3\n",
       "GRO BAKERY            2\n",
       "DELI/SNACK BAR        2\n",
       "PORK                  1\n",
       "Name: PRODUCT_ID, dtype: int64"
      ]
     },
     "execution_count": 6,
     "metadata": {},
     "output_type": "execute_result"
    }
   ],
   "source": [
    "food_dep = ['GROCERY', 'PASTRY', 'MEAT-PCKGD','SEAFOOD-PCKGD', 'PRODUCE', 'NUTRITION', 'DELI',\n",
    "       'MEAT', 'SEAFOOD', 'SALAD BAR', 'GRO BAKERY','FROZEN GROCERY', 'SPIRITS', 'RESTAURANT',\n",
    "       'DAIRY DELI', 'CHEF SHOPPE', 'DELI/SNACK BAR', 'PORK']\n",
    "food_products = products[products.DEPARTMENT.isin(food_dep)].copy()\n",
    "print('There are {0} unique food products distributed in {1} different departments.'.format(len(food_products['PRODUCT_ID'].unique()), len(food_products['DEPARTMENT'].unique())))\n",
    "food_products.groupby(\"DEPARTMENT\")\\\n",
    "                                   .count()[\"PRODUCT_ID\"]\\\n",
    "                                   .sort_values(ascending=False)"
   ]
  },
  {
   "cell_type": "markdown",
   "metadata": {},
   "source": [
    "The GROCERY department contains nearly 70% of the products in the food sector. It may be useful to have a deeper look in it for better information on the type of products it contains."
   ]
  },
  {
   "cell_type": "code",
   "execution_count": 7,
   "metadata": {},
   "outputs": [
    {
     "data": {
      "text/plain": [
       "array(['FRZN ICE', 'FRUIT - SHELF STABLE', 'COOKIES/CONES',\n",
       "       'SPICES & EXTRACTS', 'PNT BTR/JELLY/JAMS',\n",
       "       'ICE CREAM/MILK/SHERBTS', 'AIR CARE', 'CHEESE', 'SHORTENING/OIL',\n",
       "       'COFFEE', 'PAPER HOUSEWARES', 'BAKED BREAD/BUNS/ROLLS',\n",
       "       'VEGETABLES - SHELF STABLE', 'HISPANIC', 'DINNER MXS:DRY',\n",
       "       'CONDIMENTS/SAUCES', 'FRZN VEGETABLE/VEG DSH', 'BAKING NEEDS',\n",
       "       'FRZN FRUITS', 'HOUSEHOLD CLEANG NEEDS', 'FD WRAPS/BAGS/TRSH BG',\n",
       "       'DRY MIX DESSERTS', 'PICKLE/RELISH/PKLD VEG', 'BAKING MIXES',\n",
       "       'FLUID MILK PRODUCTS', 'SOUP', 'BAKED SWEET GOODS',\n",
       "       'DRY BN/VEG/POTATO/RICE', 'FACIAL TISS/DNR NAPKIN', 'FROZEN PIZZA',\n",
       "       'EGGS', 'REFRGRATD DOUGH PRODUCTS', 'HOT CEREAL', 'COLD CEREAL',\n",
       "       'SUGARS/SWEETNERS', 'SEAFOOD - SHELF STABLE', 'CANNED JUICES',\n",
       "       'BAG SNACKS', 'BEANS - CANNED GLASS & MW', 'CRACKERS/MISC BKD FD',\n",
       "       'CONVENIENT BRKFST/WHLSM SNACKS', 'SOFT DRINKS', 'BUTTER',\n",
       "       'FRZN MEAT/MEAT DINNERS', 'WATER - CARBONATED/FLVRD DRINK',\n",
       "       'FRZN BREAKFAST FOODS', 'MILK BY-PRODUCTS', 'LAUNDRY DETERGENTS',\n",
       "       'ISOTONIC DRINKS', 'FRZN JCE CONC/DRNKS', 'LAUNDRY ADDITIVES',\n",
       "       'TEAS', 'DRY NOODLES/PASTA', 'PASTA SAUCE', 'CAT FOOD',\n",
       "       'MOLASSES/SYRUP/PANCAKE MIXS', 'BATH TISSUES',\n",
       "       'FROZEN PIE/DESSERTS', 'MEAT - SHELF STABLE',\n",
       "       'SALD DRSNG/SNDWCH SPRD', 'LIQUOR', 'FROZEN BREAD/DOUGH',\n",
       "       'SNACK NUTS', 'BEERS/ALES', 'REFRGRATD JUICES/DRNKS', 'YOGURT',\n",
       "       'DOG FOODS', 'FRZN NOVELTIES/WTR ICE', 'WAREHOUSE SNACKS',\n",
       "       'DRY SAUCES/GRAVY', 'MARGARINES', 'PWDR/CRYSTL DRNK MX', 'OLIVES',\n",
       "       'MISC. DAIRY', 'COCOA MIXES', 'FLOUR & MEALS', 'SYRUPS/TOPPINGS',\n",
       "       'BLEACH', 'PAPER TOWELS', 'FRZN POTATOES', 'DISHWASH DETERGENTS',\n",
       "       'CANNED MILK', 'CAT LITTER', 'FROZEN CHICKEN', 'DOMESTIC WINE',\n",
       "       'MISC WINE', 'PET CARE SUPPLIES', 'COUPON/MISC ITEMS',\n",
       "       'IMPORTED WINE', 'RESTRICTED DIET', 'BIRD SEED', 'FRZN SEAFOOD',\n",
       "       'NEW AGE', 'BOTTLE DEPOSITS'], dtype=object)"
      ]
     },
     "execution_count": 7,
     "metadata": {},
     "output_type": "execute_result"
    }
   ],
   "source": [
    "food_products[food_products.DEPARTMENT == 'GROCERY'].COMMODITY_DESC.unique()"
   ]
  },
  {
   "cell_type": "markdown",
   "metadata": {},
   "source": [
    "It is clearly seen that some of the COMMODITY_DESC correspond to housecleaning and non-food commodities. \n",
    "Therefore, they have to be removed in the next step."
   ]
  },
  {
   "cell_type": "code",
   "execution_count": 8,
   "metadata": {},
   "outputs": [
    {
     "name": "stdout",
     "output_type": "stream",
     "text": [
      "There are 51341 unique food products distributed in 18 different departments.\n"
     ]
    },
    {
     "data": {
      "text/plain": [
       "DEPARTMENT\n",
       "GROCERY           34331\n",
       "PRODUCE            3118\n",
       "NUTRITION          2914\n",
       "MEAT               2544\n",
       "MEAT-PCKGD         2427\n",
       "DELI               2354\n",
       "PASTRY             2149\n",
       "SEAFOOD-PCKGD       563\n",
       "SPIRITS             377\n",
       "SEAFOOD             369\n",
       "RESTAURANT          102\n",
       "SALAD BAR            48\n",
       "FROZEN GROCERY       23\n",
       "CHEF SHOPPE          14\n",
       "DAIRY DELI            3\n",
       "GRO BAKERY            2\n",
       "DELI/SNACK BAR        2\n",
       "PORK                  1\n",
       "Name: PRODUCT_ID, dtype: int64"
      ]
     },
     "execution_count": 8,
     "metadata": {},
     "output_type": "execute_result"
    }
   ],
   "source": [
    "non_food_groceries = ['AIR CARE', 'PAPER HOUSEWARES', 'HOUSEHOLD CLEANG NEEDS', 'FD WRAPS/BAGS/TRSH BG', 'FACIAL TISS/DNR NAPKIN',\\\n",
    "                     'LAUNDRY DETERGENTS', 'LAUNDRY ADDITIVES', 'CAT FOOD', 'BATH TISSUES', 'DOG FOODS', 'BLEACH', 'PAPER TOWELS',\\\n",
    "                     'DISHWASH DETERGENTS', 'CAT LITTER', 'COUPON/MISC ITEMS', 'PET CARE SUPPLIES', 'BIRD SEED', 'BOTTLE DEPOSITS']\n",
    "food_products = food_products[food_products['COMMODITY_DESC'].isin(non_food_groceries) == 0]\n",
    "print('There are {0} unique food products distributed in {1} different departments.'.format(len(food_products['PRODUCT_ID'].unique()), len(food_products['DEPARTMENT'].unique())))\n",
    "food_products.groupby(\"DEPARTMENT\")\\\n",
    "                                   .count()[\"PRODUCT_ID\"]\\\n",
    "                                   .sort_values(ascending=False)"
   ]
  },
  {
   "cell_type": "markdown",
   "metadata": {},
   "source": [
    "## Scrape some websites to create a list of meat-related words"
   ]
  },
  {
   "cell_type": "markdown",
   "metadata": {},
   "source": [
    "To find a maximum of meat related products, we have decided to refer to two different websites (https://www.listchallenges.com/types-of-meat and  https://www.manythings.org/vocabulary/lists/c/words.php) to get the words related to meat. These words are then used to select all the products whose DEPARTMENT, COMMODITY_DESC or SUB_COMMODITY_DESC contain one of these words."
   ]
  },
  {
   "cell_type": "code",
   "execution_count": 9,
   "metadata": {},
   "outputs": [],
   "source": [
    "meat_words = []"
   ]
  },
  {
   "cell_type": "code",
   "execution_count": 10,
   "metadata": {},
   "outputs": [],
   "source": [
    "# First Website\n",
    "urls = [\"https://www.listchallenges.com/types-of-meat\", \"https://www.listchallenges.com/types-of-meat/list/2\"]\n",
    "for url in urls:\n",
    "    r = get(url)\n",
    "    page_body = r.text\n",
    "    soup = BeautifulSoup(page_body, 'html.parser')\n",
    "    meat_divs = soup.findAll(\"div\", {\"class\": \"item-name\"})\n",
    "    meat_words.extend([div.text.upper().strip() for div in meat_divs])\n",
    "# Second Website   \n",
    "base_url = \"https://www.manythings.org/vocabulary/lists/c/words.php\"\n",
    "urls = [base_url + \"?f=meat\", base_url + \"?f=fish\"]\n",
    "for url in urls:\n",
    "    r = get(url)\n",
    "    page_body = r.text\n",
    "    soup = BeautifulSoup(page_body, 'html.parser')\n",
    "    meat_li = soup.findAll(\"li\")\n",
    "    meat_words.extend([li.text.upper().strip() for li in meat_li])"
   ]
  },
  {
   "cell_type": "code",
   "execution_count": 11,
   "metadata": {},
   "outputs": [
    {
     "name": "stdout",
     "output_type": "stream",
     "text": [
      "['ANCHOVY', 'BACON', 'BEEF', 'BUFFALO', 'CARIBOU', 'CATFISH', 'CHICKEN', 'CLAMS', 'COD', 'CORNISH GAME HEN', 'CRAB', 'DUCK', 'EEL', 'EMU', 'GOAT', 'GOOSE', 'GROUSE', 'HALIBUT', 'HAM', 'KANGAROO', 'LAMB', 'LOBSTER', 'MACKEREL', 'MAHI MAHI', 'OCTOPUS', 'OSTRICH', 'OYSTERS', 'PHEASANT', 'PORK', 'QUAIL', 'RABBIT', 'SALMON', 'SARDINES', 'SCALLOPS', 'SHARK', 'SHRIMP', 'SNAKE', 'SQUAB', 'SQUID', 'SWORDFISH', 'TILAPIA', 'TUNA', 'TURKEY', 'VEAL', 'VENISON', 'SALAMI', 'POULTRY', 'SEAFOOD', 'FISH', 'MEAT', 'MEATS']\n"
     ]
    }
   ],
   "source": [
    "# add particular words that are not in both websites\n",
    "meat_words.extend([\"SALAMI\", \"POULTRY\", \"SEAFOOD\", \"FISH\",\"MEAT\",\"MEATS\"])\n",
    "print(meat_words)"
   ]
  },
  {
   "cell_type": "code",
   "execution_count": 12,
   "metadata": {},
   "outputs": [
    {
     "name": "stdout",
     "output_type": "stream",
     "text": [
      "There are 9035 meat products distributed in 9 different departments.\n"
     ]
    }
   ],
   "source": [
    "meat_words_regex = [r'\\b%s\\b' % word for word in meat_words]\n",
    "full_regex = re.compile('|'.join(meat_words_regex))\n",
    "meat_products = products[food_products.DEPARTMENT.str.contains(full_regex, regex=True)|\\\n",
    "                          food_products.COMMODITY_DESC.str.contains(full_regex, regex=True) |\\\n",
    "                          products.SUB_COMMODITY_DESC.str.contains(full_regex, regex=True)]\n",
    "print('There are {0} meat products distributed in {1} different departments.'.format(len(meat_products['PRODUCT_ID'].unique()), len(meat_products['DEPARTMENT'].unique())))"
   ]
  },
  {
   "cell_type": "markdown",
   "metadata": {},
   "source": [
    "As for food products, some products are incorrectly placed in the meat category. They have to be removed by hand as before."
   ]
  },
  {
   "cell_type": "code",
   "execution_count": 13,
   "metadata": {},
   "outputs": [
    {
     "name": "stdout",
     "output_type": "stream",
     "text": [
      "There are 8783 meat products distributed in 9 different departments.\n"
     ]
    },
    {
     "data": {
      "text/plain": [
       "DEPARTMENT\n",
       "MEAT             2527\n",
       "MEAT-PCKGD       2346\n",
       "GROCERY          2235\n",
       "DELI              720\n",
       "SEAFOOD-PCKGD     563\n",
       "SEAFOOD           369\n",
       "NUTRITION          21\n",
       "PORK                1\n",
       "PASTRY              1\n",
       "Name: PRODUCT_ID, dtype: int64"
      ]
     },
     "execution_count": 13,
     "metadata": {},
     "output_type": "execute_result"
    }
   ],
   "source": [
    "meat_drops_sub = [ 'FROZEN MEAT (VEGETARIAN)', 'VEGETARIAN MEATS', 'FRZN MEAT ALTERNATIVES', 'SAUERKRAUT', 'PICKLES',\\\n",
    "                  'SALADS', 'CHEESE', 'PICKLE ITEMS', 'SAL:OLIVES/PICKLES-BULK', 'POTATOES PROCESSED',\\\n",
    "                  'NON-MEATS - OTHER', 'MISC SALES TRANS', 'NON-MEATS - OTHER']\n",
    "meat_products = meat_products[meat_products['SUB_COMMODITY_DESC'].isin(meat_drops_sub) == 0]\n",
    "print('There are {0} meat products distributed in {1} different departments.'.format(len(meat_products['PRODUCT_ID'].unique()), len(meat_products['DEPARTMENT'].unique())))\n",
    "meat_products.groupby(\"DEPARTMENT\").count()[\"PRODUCT_ID\"].sort_values(ascending=False)"
   ]
  },
  {
   "cell_type": "markdown",
   "metadata": {},
   "source": [
    "We can see that 17.6% of the food products are meat related products. In this part, we will make the distinction between two type of meat products. On one hand, we have all the products containing meat, a list we have just created. On other hand, we have meat and products that are mostly made of meat as sausages. The distinction must be made as the first contains all meat products but isn't exclusive while the second one only contains meat but does not contain it all."
   ]
  },
  {
   "cell_type": "code",
   "execution_count": 16,
   "metadata": {},
   "outputs": [
    {
     "name": "stdout",
     "output_type": "stream",
     "text": [
      "There are 6617 pure meat products distributed in 9 different departments.\n"
     ]
    },
    {
     "data": {
      "text/plain": [
       "DEPARTMENT\n",
       "MEAT             2498\n",
       "MEAT-PCKGD       2150\n",
       "DELI              574\n",
       "GROCERY           531\n",
       "SEAFOOD-PCKGD     472\n",
       "SEAFOOD           369\n",
       "NUTRITION          21\n",
       "PORK                1\n",
       "PASTRY              1\n",
       "Name: PRODUCT_ID, dtype: int64"
      ]
     },
     "execution_count": 16,
     "metadata": {},
     "output_type": "execute_result"
    }
   ],
   "source": [
    "drop_pure = [ 'DINNER MXS:DRY','PASTA SAUCE']\n",
    "notpurewords = [\"PIZZA\", \"SANDWICH\",\"SANDWICHES\",\"PASTA\",\"CHILI\", \"STEW\", \"HASH\",\"GRASS/SHRED\",\"KITES\",\"REGIONAL\",\"ENTREES\",\"BEANS\",\\\n",
    "               \"SAUCES\",\"NOODLES\",\"RICE\",\"DAIRY\",\"CONDIMENTS\",\"SAUS\",\"CHEESE\",\"SPICES\",\"BREADERS\"]\n",
    "pure_meat = meat_products[meat_products['COMMODITY_DESC'].isin(drop_pure) == 0].copy()\n",
    "notpure_regex = [r'\\b%s\\b' % word for word in notpurewords]\n",
    "full_regex = re.compile('|'.join(notpure_regex))\n",
    "pure_meat = pure_meat[pure_meat.SUB_COMMODITY_DESC.str.contains(full_regex, regex=True) == 0]\n",
    "print('There are {0} pure meat products distributed in {1} different departments.'.format(len(pure_meat['PRODUCT_ID'].unique()), len(pure_meat['DEPARTMENT'].unique())))\n",
    "pure_meat.groupby(\"DEPARTMENT\").count()[\"PRODUCT_ID\"].sort_values(ascending=False)\n"
   ]
  },
  {
   "cell_type": "code",
   "execution_count": 21,
   "metadata": {},
   "outputs": [
    {
     "data": {
      "text/plain": [
       "Text(0.5, 1.0, 'Pure meat products per Department')"
      ]
     },
     "execution_count": 21,
     "metadata": {},
     "output_type": "execute_result"
    },
    {
     "data": {
      "image/png": "[encoded data removed]",
      "text/plain": [
       "<Figure size 864x360 with 2 Axes>"
      ]
     },
     "metadata": {
      "needs_background": "light"
     },
     "output_type": "display_data"
    }
   ],
   "source": [
    "\n",
    "num_of_meat_per_dep = meat_products.groupby(\"DEPARTMENT\").count()[\"PRODUCT_ID\"]\\\n",
    "                                   .sort_values(ascending=False).reset_index(name=\"Number of meat product\")\n",
    "pure_meat_per_dep = pure_meat.groupby(\"DEPARTMENT\").count()[\"PRODUCT_ID\"]\\\n",
    "                                   .sort_values(ascending=False).reset_index(name=\"Number of meat product\")\n",
    "\n",
    "# plot histogram of normalized weights\n",
    "fig, axes = plt.subplots(nrows=1, ncols=2, figsize=(12,5))\n",
    "num_of_meat_per_dep.plot.bar(x=\"DEPARTMENT\", y=\"Number of meat product\",ax=axes[0])\n",
    "axes[0].set_title(\"Products containing meat per Department\")\n",
    "\n",
    "# plot histogram of not-normalized weights\n",
    "pure_meat_per_dep.plot.bar(x=\"DEPARTMENT\", y=\"Number of meat product\",ax=axes[1], color='orange')\n",
    "axes[1].set_title(\"Pure meat products per Department\")"
   ]
  },
  {
   "cell_type": "markdown",
   "metadata": {},
   "source": [
    "In the previous plot, it is clearly seen that most of the Departments contained mainly pure meat products. However, the Grocery department is the exception, where pure meat products only make up to a quarter of the total meat products. \n",
    "\n",
    "After all this part of data scrapping and selecting pure meat products, we want to know which is the meat's proportion for each meat category. There are 5 main categories : pork meat, poultry, bovine meat, ovine meat and seafood. "
   ]
  },
  {
   "cell_type": "code",
   "execution_count": 22,
   "metadata": {},
   "outputs": [],
   "source": [
    "pork_words = ['BACON', 'HAM','HAMS', 'PORK', 'SALAMI', 'LINKS', 'SAUSAGE']\n",
    "bovine_words = ['BEEF', 'BUFFALO', 'VEAL']\n",
    "ovine_words = ['GOAT', 'LAMB']\n",
    "poultry_words = ['FOWL','THIGHS', 'DRUMS','CHICKEN','CHICK', 'CORNISH', 'DUCK', 'DUCKS', 'GOOSE', 'GROUSE', 'PHEASANT', 'TURKEY', 'POULTRY', 'HENS', 'BREAST','WINGS']\n",
    "seafood_words = ['ANCHOVY', 'CATFISH', 'CLAMS', 'COD', 'CRAB', 'EEL', 'HALIBUT', 'LOBSTER', 'MACKEREL', 'MAHI MAHI', 'OCTOPUS', 'OYSTERS', 'QUAIL', 'SALMON', 'SARDINES', 'SCALLOPS', 'SHARK', 'SHRIMP', 'SQUAB', 'SQUID', 'SWORDFISH', 'TILAPIA', 'TUNA', 'SEAFOOD', 'FISH']\n",
    "pork_regex = [r'\\b%s\\b' % word for word in pork_words]\n",
    "full_pork_regex = re.compile('|'.join(pork_regex))\n",
    "pork_products = pure_meat[pure_meat.SUB_COMMODITY_DESC.str.contains(full_pork_regex, regex=True) |\\\n",
    "                         pure_meat.COMMODITY_DESC.str.contains(full_pork_regex, regex=True) ]\n",
    "bovine_regex = [r'\\b%s\\b' % word for word in bovine_words]\n",
    "full_bovine_regex = re.compile('|'.join(bovine_regex))\n",
    "bovine_products = pure_meat[pure_meat.SUB_COMMODITY_DESC.str.contains(full_bovine_regex, regex=True) |\\\n",
    "                         pure_meat.COMMODITY_DESC.str.contains(full_bovine_regex, regex=True)]\n",
    "ovine_regex = [r'\\b%s\\b' % word for word in ovine_words]\n",
    "full_ovine_regex = re.compile('|'.join(ovine_regex))\n",
    "ovine_products = pure_meat[pure_meat.SUB_COMMODITY_DESC.str.contains(full_ovine_regex, regex=True)|\\\n",
    "                         pure_meat.COMMODITY_DESC.str.contains(full_ovine_regex, regex=True)]\n",
    "poultry_regex = [r'\\b%s\\b' % word for word in poultry_words]\n",
    "full_poultry_regex = re.compile('|'.join(poultry_regex))\n",
    "poultry_products = pure_meat[pure_meat.SUB_COMMODITY_DESC.str.contains(full_poultry_regex, regex=True)|\\\n",
    "                         pure_meat.COMMODITY_DESC.str.contains(full_poultry_regex, regex=True)]\n",
    "seafood_regex = [r'\\b%s\\b' % word for word in seafood_words]\n",
    "full_seafood_regex = re.compile('|'.join(seafood_regex))\n",
    "seafood_products = pure_meat[pure_meat.SUB_COMMODITY_DESC.str.contains(full_seafood_regex, regex=True)|\\\n",
    "                         pure_meat.COMMODITY_DESC.str.contains(full_seafood_regex, regex=True)]\n",
    "\n",
    "\n"
   ]
  },
  {
   "cell_type": "code",
   "execution_count": 23,
   "metadata": {},
   "outputs": [],
   "source": [
    "other_meat = pure_meat[(pure_meat.PRODUCT_ID.isin(pork_products.PRODUCT_ID) | pure_meat.PRODUCT_ID.isin(bovine_products.PRODUCT_ID)|\\\n",
    "                      pure_meat.PRODUCT_ID.isin(ovine_products.PRODUCT_ID) | pure_meat.PRODUCT_ID.isin(poultry_products.PRODUCT_ID) |\\\n",
    "                      pure_meat.PRODUCT_ID.isin(seafood_products.PRODUCT_ID)) == 0]"
   ]
  },
  {
   "cell_type": "code",
   "execution_count": 24,
   "metadata": {},
   "outputs": [
    {
     "data": {
      "image/png": "[encoded data removed]",
      "text/plain": [
       "<Figure size 432x288 with 1 Axes>"
      ]
     },
     "metadata": {
      "needs_background": "light"
     },
     "output_type": "display_data"
    }
   ],
   "source": [
    "x = np.arange(6)\n",
    "y = [len(pork_products), len(poultry_products), len(bovine_products),  len(seafood_products), len(ovine_products), len(other_meat)]\n",
    "plt.bar(x, y)\n",
    "plt.xticks(x, ( 'Pork', 'Poultry', 'Bovine','Seafood', 'Ovine', 'Unknown'))\n",
    "plt.show()"
   ]
  },
  {
   "cell_type": "markdown",
   "metadata": {},
   "source": [
    "We see that pork meat is the category with most products and that there are much less products in the ovine category than in the other categories. The \"Unknown\" category has the remaining products for which there is not enough information to classify in a category (e.g. sub-commodities with the words \"burger\" or \"bbq\")."
   ]
  },
  {
   "cell_type": "markdown",
   "metadata": {},
   "source": [
    "## Get only vegetables"
   ]
  },
  {
   "cell_type": "code",
   "execution_count": 25,
   "metadata": {},
   "outputs": [],
   "source": [
    "veggies = [\n",
    "    \"asparagus\",\n",
    "    \"beans\",\n",
    "    \"beet\",\n",
    "    \"broccoli\",\n",
    "    \"Brussels sprouts\",\n",
    "    \"cabbage\",\n",
    "    \"carrot\",\n",
    "    \"carrots\",\n",
    "    \"cauliflower\",\n",
    "    \"celery\",\n",
    "    \"Chinese cabbage\",\n",
    "    \"corn\",\n",
    "    \"cucumber\",\n",
    "    \"cucumbers\",\n",
    "    \"eggplant\",\n",
    "    \"eggplants\",\n",
    "    \"green pepper\",\n",
    "    \"Japanese radish\",\n",
    "    \"kale\",\n",
    "    \"lettuce\",\n",
    "    \"salad\",\n",
    "    \"okra\",\n",
    "    \"onion\",\n",
    "    \"onions\",\n",
    "    \"peas\",\n",
    "    \"pumpkins\",\n",
    "    \"radish\",\n",
    "    \"spinach\",\n",
    "    \"sweet potato\",\n",
    "    \"tomatoes\",\n",
    "    \"tomato\",\n",
    "    \"turnips\",\n",
    "    \"vegetables\"\n",
    "]\n",
    "veggies = [v.upper() for v in veggies]"
   ]
  },
  {
   "cell_type": "code",
   "execution_count": 26,
   "metadata": {},
   "outputs": [],
   "source": [
    "veggie_words_regex = [r'\\b%s\\b' % word for word in veggies]\n",
    "full_regex = re.compile('|'.join(veggie_words_regex))\n",
    "\n",
    "veggie_products = products[food_products.COMMODITY_DESC.str.contains(full_regex, regex=True) |\\\n",
    "                           products.SUB_COMMODITY_DESC.str.contains(full_regex, regex=True)]"
   ]
  },
  {
   "cell_type": "code",
   "execution_count": 28,
   "metadata": {},
   "outputs": [
    {
     "name": "stdout",
     "output_type": "stream",
     "text": [
      "There are 3209 veggetables products distributed in 7 different departments.\n"
     ]
    }
   ],
   "source": [
    "drops_vegg = ['SHORTENING/OIL','CONDIMENTS/SAUCES', 'SALD DRSNG/SNDWCH SPRD', 'FROZEN MEAT','BAG SNACKS', 'BAKING MIXES',\\\n",
    "             'CRACKERS/MISC BKD FD', 'SPICES & EXTRACTS','BAKING NEEDS','MEAT - SHELF STABLE','DELI SPECIALTIES (RETAIL PK)', 'FROZEN PIZZA']\n",
    "veggie_products = veggie_products[veggie_products['COMMODITY_DESC'].isin(drops_vegg) == 0]\n",
    "print('There are {0} veggetables products distributed in {1} different departments.'.format(len(veggie_products['PRODUCT_ID'].unique()), len(veggie_products['DEPARTMENT'].unique())))\n"
   ]
  },
  {
   "cell_type": "code",
   "execution_count": 31,
   "metadata": {},
   "outputs": [
    {
     "data": {
      "text/plain": [
       "<matplotlib.axes._subplots.AxesSubplot at 0x177a21f4e48>"
      ]
     },
     "execution_count": 31,
     "metadata": {},
     "output_type": "execute_result"
    },
    {
     "data": {
      "image/png": "[encoded data removed]",
      "text/plain": [
       "<Figure size 432x288 with 1 Axes>"
      ]
     },
     "metadata": {
      "needs_background": "light"
     },
     "output_type": "display_data"
    }
   ],
   "source": [
    "num_of_veg_per_dep = veggie_products.groupby(\"DEPARTMENT\").count()[\"PRODUCT_ID\"]\\\n",
    "                                   .sort_values(ascending=False).reset_index(name=\"Number of vegetables product\")\n",
    "num_of_veg_per_dep.plot.bar(x=\"DEPARTMENT\", y=\"Number of vegetables product\")"
   ]
  },
  {
   "cell_type": "markdown",
   "metadata": {},
   "source": [
    "It can be seen that most of the vegetable products are in the Grocery and Produce Department. Moreover, there are twice as much pure meat products than vegetable products."
   ]
  },
  {
   "cell_type": "code",
   "execution_count": null,
   "metadata": {},
   "outputs": [],
   "source": []
  }
 ],
 "metadata": {
  "kernelspec": {
   "display_name": "Python 3",
   "language": "python",
   "name": "python3"
  },
  "language_info": {
   "codemirror_mode": {
    "name": "ipython",
    "version": 3
   },
   "file_extension": ".py",
   "mimetype": "text/x-python",
   "name": "python",
   "nbconvert_exporter": "python",
   "pygments_lexer": "ipython3",
   "version": "3.6.5"
  }
 },
 "nbformat": 4,
 "nbformat_minor": 4
}
