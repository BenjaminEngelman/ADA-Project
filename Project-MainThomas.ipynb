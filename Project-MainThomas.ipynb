{
 "cells": [
  {
   "cell_type": "markdown",
   "metadata": {},
   "source": [
    "# Nice to Meat You : An Analysis on Meat Consumption\n",
    "\n",
    "## Introduction\n",
    "\n",
    "Meat consumption is a highly controversial topic in nowadays society in terms of [environment](https://www.theguardian.com/environment/2018/oct/10/huge-reduction-in-meat-eating-essential-to-avoid-climate-breakdown), [health](https://gamechangersmovie.com/), and [ethical](http://traslosmuros.com/en/slaughterhouse-documentary/) reasons. This situation introduces different ways of consuming meat and divides people according to their behaviors such as vegan, vegetarian, occasional meat consumer, and people consuming large amounts of meats.\n",
    "\n",
    "In this project, we are particularly interested in the factors related to consuming meat and how the behavior of households varies according to their meat consumption. We are going to focus on demographic information such as economic status, family composition, age, and their relation with consuming meat. Moreover, we are going to study external effects that are related to meat consumption such as seasonal changes, campaigns, and discounts. Finally, we are going to categorize households according to their meat consumption and perform a behavior analysis per category.\n",
    "\n",
    "To do so, we are going to use the Dunnhumby dataset. This dataset contains shopping information collected over two years from a group of 2,500 households as well as their information for each household. Moreover, we are planning to expand our analysis with an additional dataset about nutritional information.\n",
    "\n",
    "\n",
    "## Factors that influence meat consumption\n",
    "\n",
    "### Loading the data"
   ]
  },
  {
   "cell_type": "code",
   "execution_count": 37,
   "metadata": {},
   "outputs": [],
   "source": [
    "%matplotlib inline\n",
    "import pandas as pd\n",
    "import numpy as np\n",
    "import re\n",
    "from matplotlib.ticker import MaxNLocator\n",
    "import matplotlib.pyplot as plt\n",
    "from requests import get\n",
    "from bs4 import BeautifulSoup"
   ]
  },
  {
   "cell_type": "code",
   "execution_count": 38,
   "metadata": {},
   "outputs": [],
   "source": [
    "products = pd.read_csv('dunnhumby/product.csv', sep = ',')"
   ]
  },
  {
   "cell_type": "markdown",
   "metadata": {},
   "source": [
    "### Characterising the products\n",
    "\n",
    "The first step of the project is to correctly collect the products for each category in which we want to do further analysis. The objective is to be able to select food products, meat products and vegetables. "
   ]
  },
  {
   "cell_type": "code",
   "execution_count": 44,
   "metadata": {},
   "outputs": [
    {
     "data": {
      "text/plain": [
       "Index(['PRODUCT_ID', 'MANUFACTURER', 'DEPARTMENT', 'BRAND', 'COMMODITY_DESC',\n",
       "       'SUB_COMMODITY_DESC', 'CURR_SIZE_OF_PRODUCT'],\n",
       "      dtype='object')"
      ]
     },
     "execution_count": 44,
     "metadata": {},
     "output_type": "execute_result"
    }
   ],
   "source": [
    "products.columns"
   ]
  },
  {
   "cell_type": "markdown",
   "metadata": {},
   "source": [
    "There are 7 columns and three of them allow us to have information about the type of the product. The broadest one is 'DEPARTMENT'. Each one of these contains one or more 'COMMODITY_DESC' which contain 'SUB_COMMODITY_DESC'. In the following parts the idea will be to start scratching products from 'DEPARTMENT' category and then go lower into the levels of precision."
   ]
  },
  {
   "cell_type": "code",
   "execution_count": 40,
   "metadata": {},
   "outputs": [
    {
     "name": "stdout",
     "output_type": "stream",
     "text": [
      "There are 92353 unique products distributed in 44 different departments.\n"
     ]
    }
   ],
   "source": [
    "print('There are {0} unique products distributed in {1} different departments.'.format(len(products['PRODUCT_ID'].unique()), len(products['DEPARTMENT'].unique())))"
   ]
  },
  {
   "cell_type": "markdown",
   "metadata": {},
   "source": [
    "For this project, the main interest is food products. Therefore, a database with only food-related departments is created."
   ]
  },
  {
   "cell_type": "code",
   "execution_count": 46,
   "metadata": {},
   "outputs": [
    {
     "name": "stdout",
     "output_type": "stream",
     "text": [
      "There are 56031 unique products distributed in 18 different departments.\n"
     ]
    },
    {
     "data": {
      "text/plain": [
       "DEPARTMENT\n",
       "GROCERY           39021\n",
       "PRODUCE            3118\n",
       "NUTRITION          2914\n",
       "MEAT               2544\n",
       "MEAT-PCKGD         2427\n",
       "DELI               2354\n",
       "PASTRY             2149\n",
       "SEAFOOD-PCKGD       563\n",
       "SPIRITS             377\n",
       "SEAFOOD             369\n",
       "RESTAURANT          102\n",
       "SALAD BAR            48\n",
       "FROZEN GROCERY       23\n",
       "CHEF SHOPPE          14\n",
       "DAIRY DELI            3\n",
       "GRO BAKERY            2\n",
       "DELI/SNACK BAR        2\n",
       "PORK                  1\n",
       "Name: PRODUCT_ID, dtype: int64"
      ]
     },
     "execution_count": 46,
     "metadata": {},
     "output_type": "execute_result"
    }
   ],
   "source": [
    "food_dep = ['GROCERY', 'PASTRY', 'MEAT-PCKGD','SEAFOOD-PCKGD', 'PRODUCE', 'NUTRITION', 'DELI',\n",
    "       'MEAT', 'SEAFOOD', 'SALAD BAR', 'GRO BAKERY','FROZEN GROCERY', 'SPIRITS', 'RESTAURANT',\n",
    "       'DAIRY DELI', 'CHEF SHOPPE', 'DELI/SNACK BAR', 'PORK']\n",
    "food_products = products[products.DEPARTMENT.isin(food_dep)].copy()\n",
    "print('There are {0} unique food products distributed in {1} different departments.'.format(len(food_products['PRODUCT_ID'].unique()), len(food_products['DEPARTMENT'].unique())))\n",
    "food_products.groupby(\"DEPARTMENT\")\\\n",
    "                                   .count()[\"PRODUCT_ID\"]\\\n",
    "                                   .sort_values(ascending=False)"
   ]
  },
  {
   "cell_type": "markdown",
   "metadata": {},
   "source": [
    "The GROCERY department contains nearly 70% of the products in the food sector. It may be useful to have a deeper look in it for better information on the type of products it contains."
   ]
  },
  {
   "cell_type": "code",
   "execution_count": 47,
   "metadata": {},
   "outputs": [
    {
     "data": {
      "text/plain": [
       "array(['FRZN ICE', 'FRUIT - SHELF STABLE', 'COOKIES/CONES',\n",
       "       'SPICES & EXTRACTS', 'PNT BTR/JELLY/JAMS',\n",
       "       'ICE CREAM/MILK/SHERBTS', 'AIR CARE', 'CHEESE', 'SHORTENING/OIL',\n",
       "       'COFFEE', 'PAPER HOUSEWARES', 'BAKED BREAD/BUNS/ROLLS',\n",
       "       'VEGETABLES - SHELF STABLE', 'HISPANIC', 'DINNER MXS:DRY',\n",
       "       'CONDIMENTS/SAUCES', 'FRZN VEGETABLE/VEG DSH', 'BAKING NEEDS',\n",
       "       'FRZN FRUITS', 'HOUSEHOLD CLEANG NEEDS', 'FD WRAPS/BAGS/TRSH BG',\n",
       "       'DRY MIX DESSERTS', 'PICKLE/RELISH/PKLD VEG', 'BAKING MIXES',\n",
       "       'FLUID MILK PRODUCTS', 'SOUP', 'BAKED SWEET GOODS',\n",
       "       'DRY BN/VEG/POTATO/RICE', 'FACIAL TISS/DNR NAPKIN', 'FROZEN PIZZA',\n",
       "       'EGGS', 'REFRGRATD DOUGH PRODUCTS', 'HOT CEREAL', 'COLD CEREAL',\n",
       "       'SUGARS/SWEETNERS', 'SEAFOOD - SHELF STABLE', 'CANNED JUICES',\n",
       "       'BAG SNACKS', 'BEANS - CANNED GLASS & MW', 'CRACKERS/MISC BKD FD',\n",
       "       'CONVENIENT BRKFST/WHLSM SNACKS', 'SOFT DRINKS', 'BUTTER',\n",
       "       'FRZN MEAT/MEAT DINNERS', 'WATER - CARBONATED/FLVRD DRINK',\n",
       "       'FRZN BREAKFAST FOODS', 'MILK BY-PRODUCTS', 'LAUNDRY DETERGENTS',\n",
       "       'ISOTONIC DRINKS', 'FRZN JCE CONC/DRNKS', 'LAUNDRY ADDITIVES',\n",
       "       'TEAS', 'DRY NOODLES/PASTA', 'PASTA SAUCE', 'CAT FOOD',\n",
       "       'MOLASSES/SYRUP/PANCAKE MIXS', 'BATH TISSUES',\n",
       "       'FROZEN PIE/DESSERTS', 'MEAT - SHELF STABLE',\n",
       "       'SALD DRSNG/SNDWCH SPRD', 'LIQUOR', 'FROZEN BREAD/DOUGH',\n",
       "       'SNACK NUTS', 'BEERS/ALES', 'REFRGRATD JUICES/DRNKS', 'YOGURT',\n",
       "       'DOG FOODS', 'FRZN NOVELTIES/WTR ICE', 'WAREHOUSE SNACKS',\n",
       "       'DRY SAUCES/GRAVY', 'MARGARINES', 'PWDR/CRYSTL DRNK MX', 'OLIVES',\n",
       "       'MISC. DAIRY', 'COCOA MIXES', 'FLOUR & MEALS', 'SYRUPS/TOPPINGS',\n",
       "       'BLEACH', 'PAPER TOWELS', 'FRZN POTATOES', 'DISHWASH DETERGENTS',\n",
       "       'CANNED MILK', 'CAT LITTER', 'FROZEN CHICKEN', 'DOMESTIC WINE',\n",
       "       'MISC WINE', 'PET CARE SUPPLIES', 'COUPON/MISC ITEMS',\n",
       "       'IMPORTED WINE', 'RESTRICTED DIET', 'BIRD SEED', 'FRZN SEAFOOD',\n",
       "       'NEW AGE', 'BOTTLE DEPOSITS'], dtype=object)"
      ]
     },
     "execution_count": 47,
     "metadata": {},
     "output_type": "execute_result"
    }
   ],
   "source": [
    "food_products[food_products.DEPARTMENT == 'GROCERY'].COMMODITY_DESC.unique()"
   ]
  },
  {
   "cell_type": "markdown",
   "metadata": {},
   "source": [
    "It is clearly seen that some of the COMMODITY_DESC correspond to housecleaning and non-food commodities. \n",
    "Therefore, they have to be removed in the next step."
   ]
  },
  {
   "cell_type": "code",
   "execution_count": 119,
   "metadata": {},
   "outputs": [
    {
     "name": "stdout",
     "output_type": "stream",
     "text": [
      "There are 51341 unique food products distributed in 18 different departments.\n"
     ]
    },
    {
     "data": {
      "text/plain": [
       "DEPARTMENT\n",
       "GROCERY           34331\n",
       "PRODUCE            3118\n",
       "NUTRITION          2914\n",
       "MEAT               2544\n",
       "MEAT-PCKGD         2427\n",
       "DELI               2354\n",
       "PASTRY             2149\n",
       "SEAFOOD-PCKGD       563\n",
       "SPIRITS             377\n",
       "SEAFOOD             369\n",
       "RESTAURANT          102\n",
       "SALAD BAR            48\n",
       "FROZEN GROCERY       23\n",
       "CHEF SHOPPE          14\n",
       "DAIRY DELI            3\n",
       "GRO BAKERY            2\n",
       "DELI/SNACK BAR        2\n",
       "PORK                  1\n",
       "Name: PRODUCT_ID, dtype: int64"
      ]
     },
     "execution_count": 119,
     "metadata": {},
     "output_type": "execute_result"
    }
   ],
   "source": [
    "non_food_groceries = ['AIR CARE', 'PAPER HOUSEWARES', 'HOUSEHOLD CLEANG NEEDS', 'FD WRAPS/BAGS/TRSH BG', 'FACIAL TISS/DNR NAPKIN',\\\n",
    "                     'LAUNDRY DETERGENTS', 'LAUNDRY ADDITIVES', 'CAT FOOD', 'BATH TISSUES', 'DOG FOODS', 'BLEACH', 'PAPER TOWELS',\\\n",
    "                     'DISHWASH DETERGENTS', 'CAT LITTER', 'COUPON/MISC ITEMS', 'PET CARE SUPPLIES', 'BIRD SEED', 'BOTTLE DEPOSITS']\n",
    "food_products = food_products[food_products['COMMODITY_DESC'].isin(non_food_groceries) == 0]\n",
    "print('There are {0} unique food products distributed in {1} different departments.'.format(len(food_products['PRODUCT_ID'].unique()), len(food_products['DEPARTMENT'].unique())))\n",
    "food_products.groupby(\"DEPARTMENT\")\\\n",
    "                                   .count()[\"PRODUCT_ID\"]\\\n",
    "                                   .sort_values(ascending=False)"
   ]
  },
  {
   "cell_type": "code",
   "execution_count": 152,
   "metadata": {},
   "outputs": [
    {
     "data": {
      "text/plain": [
       "array(['FRZN ICE', 'BREAD', 'FRUIT - SHELF STABLE', 'COOKIES/CONES',\n",
       "       'SPICES & EXTRACTS', 'BREAKFAST SWEETS', 'PNT BTR/JELLY/JAMS',\n",
       "       'ICE CREAM/MILK/SHERBTS', 'CHEESE', 'SHORTENING/OIL', 'COFFEE',\n",
       "       'BAKED BREAD/BUNS/ROLLS', 'VEGETABLES - SHELF STABLE', 'HISPANIC',\n",
       "       'DINNER MXS:DRY', 'CONDIMENTS/SAUCES', 'FRZN VEGETABLE/VEG DSH',\n",
       "       'BAKING NEEDS', 'DINNER SAUSAGE', 'FRZN FRUITS',\n",
       "       'SEAFOOD - FROZEN', 'DRY MIX DESSERTS', 'PICKLE/RELISH/PKLD VEG',\n",
       "       'CAKES', 'BAKING MIXES', 'POTATOES', 'FLUID MILK PRODUCTS', 'SOUP',\n",
       "       'BAKED SWEET GOODS', 'COOKIES', 'DRY BN/VEG/POTATO/RICE',\n",
       "       'FROZEN PIZZA', 'EGGS', 'REFRGRATD DOUGH PRODUCTS', 'HOT CEREAL',\n",
       "       'COLD CEREAL', 'SUGARS/SWEETNERS', 'SEAFOOD - SHELF STABLE',\n",
       "       'POPCORN', 'CANNED JUICES', 'BAG SNACKS',\n",
       "       'BEANS - CANNED GLASS & MW', 'FROZEN MEAT', 'ROLLS',\n",
       "       'NON-DAIRY BEVERAGES', 'CRACKERS/MISC BKD FD',\n",
       "       'CONVENIENT BRKFST/WHLSM SNACKS', 'CHIPS&SNACKS', 'SOFT DRINKS',\n",
       "       'BUTTER', 'FRZN MEAT/MEAT DINNERS',\n",
       "       'WATER - CARBONATED/FLVRD DRINK', 'FRZN BREAKFAST FOODS',\n",
       "       'MILK BY-PRODUCTS', 'SALADS/DIPS', 'ORGANICS FRUIT & VEGETABLES',\n",
       "       'JUICE', 'ISOTONIC DRINKS', 'FRZN JCE CONC/DRNKS', 'TEAS',\n",
       "       'DRY NOODLES/PASTA', 'PASTA SAUCE', 'PROCESSED',\n",
       "       'MOLASSES/SYRUP/PANCAKE MIXS', 'FROZEN PIE/DESSERTS',\n",
       "       'MEAT - SHELF STABLE', 'MEAT - MISC', 'LUNCHMEAT',\n",
       "       'BREAKFAST SAUSAGE/SANDWICHES', 'DRIED FRUIT',\n",
       "       'SALD DRSNG/SNDWCH SPRD', 'LIQUOR', 'FROZEN BREAD/DOUGH',\n",
       "       'SNACK NUTS', 'BEERS/ALES', 'REFRGRATD JUICES/DRNKS', 'YOGURT',\n",
       "       'BACON', 'FRZN NOVELTIES/WTR ICE', 'WAREHOUSE SNACKS',\n",
       "       'DRY SAUCES/GRAVY', 'MARGARINES', 'PWDR/CRYSTL DRNK MX', 'OLIVES',\n",
       "       'MISC. DAIRY', 'COCOA MIXES', 'SALAD MIX', 'HOT DOGS',\n",
       "       'FLOUR & MEALS', 'SYRUPS/TOPPINGS', 'STONE FRUIT', 'MELONS',\n",
       "       'BERRIES', 'CHICKEN', 'SANDWICHES', 'GRAPES', 'CARROTS', 'APPLES',\n",
       "       'HERBS', 'HEAT/SERVE', 'SQUASH', 'VEGETABLES - ALL OTHERS',\n",
       "       'DELI MEATS', 'BEEF', 'FRZN POTATOES', 'CORN', 'CHEESES',\n",
       "       'MISCELLANEOUS', 'CITRUS', 'FROZEN', 'SWEET GOODS & SNACKS',\n",
       "       'NUTS', 'TROPICAL FRUIT', 'CHICKEN/POULTRY',\n",
       "       'BROCCOLI/CAULIFLOWER', 'MUSHROOMS', 'CANNED MILK', 'ONIONS',\n",
       "       'TURKEY', 'WATER', 'SEAFOOD-FRESH', 'PIES', 'SEAFOOD - MISC',\n",
       "       'PEPPERS-ALL', 'CEREAL/BREAKFAST', 'VEGETABLES SALAD',\n",
       "       'REFRIGERATED', 'FROZEN CHICKEN', 'SMOKED MEATS',\n",
       "       'VALUE ADDED VEGETABLES', 'SNKS/CKYS/CRKR/CNDY', 'DOMESTIC WINE',\n",
       "       'MISC WINE', 'TOMATOES', 'PEARS', 'FITNESS&DIET', 'PORK',\n",
       "       'CONDIMENTS', 'BEVERAGE', 'SNACKS', 'VALUE ADDED FRUIT',\n",
       "       'SALAD BAR', 'PREPARED FOOD', 'COFFEE SHOP', '(CORP USE ONLY)',\n",
       "       'PROD SUPPLIES', 'RICE CAKES', 'LAMB', 'IMPORTED WINE',\n",
       "       'DELI SPECIALTIES (RETAIL PK)', 'PREPARED/PKGD FOODS',\n",
       "       'PACKAGED NATURAL SNACKS', 'MISCELLANEOUS CROUTONS', 'PARTY TRAYS',\n",
       "       'BAKING', 'RESTRICTED DIET', 'BAKERY PARTY TRAYS', 'BABYFOOD',\n",
       "       'COFFEE SHOP SWEET GOODS&RETAIL', 'DRY TEA/COFFEE/COCO MIX',\n",
       "       'VEAL', 'FROZEN - BOXED(GROCERY)', 'SERVICE BEVERAGE', 'SUSHI',\n",
       "       'FRZN SEAFOOD', 'NATURAL VITAMINS', 'DELI SUPPLIES', 'SEASONAL',\n",
       "       'UNKNOWN', 'RW FRESH PROCESSED MEAT', 'EXOTIC GAME/FOWL',\n",
       "       'NDAIRY/TEAS/JUICE/SOD', 'MEAT SUPPLIES', 'NEW AGE', 'BULK FOODS',\n",
       "       'NON EDIBLE PRODUCTS', 'QUICK SERVICE',\n",
       "       'MISCELLANEOUS(CORP USE ONLY)', 'PKG.SEAFOOD MISC',\n",
       "       'FROZEN PACKAGE MEAT'], dtype=object)"
      ]
     },
     "execution_count": 152,
     "metadata": {},
     "output_type": "execute_result"
    }
   ],
   "source": [
    "food_products.COMMODITY_DESC.unique()"
   ]
  },
  {
   "cell_type": "markdown",
   "metadata": {},
   "source": [
    "## Scrape some websites to create a list of meat-related words"
   ]
  },
  {
   "cell_type": "markdown",
   "metadata": {},
   "source": [
    "To find a maximum of meat related products, we have decided to refer to two different websites (https://www.listchallenges.com/types-of-meat and  https://www.manythings.org/vocabulary/lists/c/words.php) to get the words related to meat. These words are then used to select all the products whose DEPARTMENT, COMMODITY_DESC or SUB_COMMODITY_DESC contain one of these words."
   ]
  },
  {
   "cell_type": "code",
   "execution_count": 75,
   "metadata": {},
   "outputs": [],
   "source": [
    "meat_words = []"
   ]
  },
  {
   "cell_type": "code",
   "execution_count": 76,
   "metadata": {},
   "outputs": [],
   "source": [
    "# First Website\n",
    "urls = [\"https://www.listchallenges.com/types-of-meat\", \"https://www.listchallenges.com/types-of-meat/list/2\"]\n",
    "for url in urls:\n",
    "    r = get(url)\n",
    "    page_body = r.text\n",
    "    soup = BeautifulSoup(page_body, 'html.parser')\n",
    "    meat_divs = soup.findAll(\"div\", {\"class\": \"item-name\"})\n",
    "    meat_words.extend([div.text.upper().strip() for div in meat_divs])\n",
    "# Second Website   \n",
    "base_url = \"https://www.manythings.org/vocabulary/lists/c/words.php\"\n",
    "urls = [base_url + \"?f=meat\", base_url + \"?f=fish\"]\n",
    "for url in urls:\n",
    "    r = get(url)\n",
    "    page_body = r.text\n",
    "    soup = BeautifulSoup(page_body, 'html.parser')\n",
    "    meat_li = soup.findAll(\"li\")\n",
    "    meat_words.extend([li.text.upper().strip() for li in meat_li])"
   ]
  },
  {
   "cell_type": "code",
   "execution_count": 77,
   "metadata": {},
   "outputs": [
    {
     "name": "stdout",
     "output_type": "stream",
     "text": [
      "['ANCHOVY', 'BACON', 'BEEF', 'BUFFALO', 'CARIBOU', 'CATFISH', 'CHICKEN', 'CLAMS', 'COD', 'CORNISH GAME HEN', 'CRAB', 'DUCK', 'EEL', 'EMU', 'GOAT', 'GOOSE', 'GROUSE', 'HALIBUT', 'HAM', 'KANGAROO', 'LAMB', 'LOBSTER', 'MACKEREL', 'MAHI MAHI', 'OCTOPUS', 'OSTRICH', 'OYSTERS', 'PHEASANT', 'PORK', 'QUAIL', 'RABBIT', 'SALMON', 'SARDINES', 'SCALLOPS', 'SHARK', 'SHRIMP', 'SNAKE', 'SQUAB', 'SQUID', 'SWORDFISH', 'TILAPIA', 'TUNA', 'TURKEY', 'VEAL', 'VENISON', 'SALAMI', 'HAM', 'POULTRY', 'SEAFOOD', 'FISH', 'MEAT', 'MEATS']\n"
     ]
    }
   ],
   "source": [
    "# add particular words that are not in both websites\n",
    "meat_words.extend([\"SALAMI\", \"HAM\", \"POULTRY\", \"SEAFOOD\", \"FISH\",\"MEAT\",\"MEATS\"])\n",
    "print(meat_words)"
   ]
  },
  {
   "cell_type": "code",
   "execution_count": 138,
   "metadata": {},
   "outputs": [
    {
     "name": "stdout",
     "output_type": "stream",
     "text": [
      "There are 9035 meat products distributed in 9 different departments.\n"
     ]
    },
    {
     "data": {
      "text/plain": [
       "array(['DINNER SAUSAGE', 'SEAFOOD - FROZEN', 'SEAFOOD - SHELF STABLE',\n",
       "       'FROZEN MEAT', 'FRZN MEAT/MEAT DINNERS',\n",
       "       'BEANS - CANNED GLASS & MW', 'MEAT - SHELF STABLE', 'MEAT - MISC',\n",
       "       'LUNCHMEAT', 'BREAKFAST SAUSAGE/SANDWICHES', 'BACON', 'HOT DOGS',\n",
       "       'CHICKEN', 'HEAT/SERVE', 'DELI MEATS', 'BEEF', 'MISCELLANEOUS',\n",
       "       'WAREHOUSE SNACKS', 'CHICKEN/POULTRY', 'TURKEY', 'SEAFOOD-FRESH',\n",
       "       'SEAFOOD - MISC', 'MISC. DAIRY', 'FROZEN CHICKEN', 'SMOKED MEATS',\n",
       "       'DINNER MXS:DRY', 'PORK', 'SALADS/DIPS', '(CORP USE ONLY)',\n",
       "       'CONDIMENTS/SAUCES', 'LAMB', 'BAKING NEEDS', 'DRY SAUCES/GRAVY',\n",
       "       'PARTY TRAYS', 'FROZEN', 'REFRIGERATED', 'VEAL', 'PASTA SAUCE',\n",
       "       'FROZEN - BOXED(GROCERY)', 'FRZN SEAFOOD', 'SPICES & EXTRACTS',\n",
       "       'PREPARED/PKGD FOODS', 'PREPARED FOOD', 'RW FRESH PROCESSED MEAT',\n",
       "       'EXOTIC GAME/FOWL', 'MEAT SUPPLIES', 'DELI SUPPLIES',\n",
       "       'BAKING MIXES', 'BAG SNACKS', 'PKG.SEAFOOD MISC', 'HISPANIC',\n",
       "       'BREAKFAST SWEETS', 'DELI SPECIALTIES (RETAIL PK)',\n",
       "       'FROZEN PACKAGE MEAT'], dtype=object)"
      ]
     },
     "execution_count": 138,
     "metadata": {},
     "output_type": "execute_result"
    }
   ],
   "source": [
    "meat_words_regex = [r'\\b%s\\b' % word for word in meat_words]\n",
    "full_regex = re.compile('|'.join(meat_words_regex))\n",
    "meat_products = products[food_products.DEPARTMENT.str.contains(full_regex, regex=True)|\\\n",
    "                          food_products.COMMODITY_DESC.str.contains(full_regex, regex=True) |\\\n",
    "                          products.SUB_COMMODITY_DESC.str.contains(full_regex, regex=True)]\n",
    "print('There are {0} meat products distributed in {1} different departments.'.format(len(meat_products['PRODUCT_ID'].unique()), len(meat_products['DEPARTMENT'].unique())))\n",
    "meat_products['COMMODITY_DESC'].unique()"
   ]
  },
  {
   "cell_type": "markdown",
   "metadata": {},
   "source": [
    "As for food products, some products are incorrectly placed in the meat category. They have to be removed by hand as before."
   ]
  },
  {
   "cell_type": "code",
   "execution_count": 175,
   "metadata": {},
   "outputs": [
    {
     "name": "stdout",
     "output_type": "stream",
     "text": [
      "There are 8783 meat products distributed in 9 different departments.\n"
     ]
    },
    {
     "data": {
      "text/plain": [
       "DEPARTMENT\n",
       "MEAT             2527\n",
       "MEAT-PCKGD       2346\n",
       "GROCERY          2235\n",
       "DELI              720\n",
       "SEAFOOD-PCKGD     563\n",
       "SEAFOOD           369\n",
       "NUTRITION          21\n",
       "PORK                1\n",
       "PASTRY              1\n",
       "Name: PRODUCT_ID, dtype: int64"
      ]
     },
     "execution_count": 175,
     "metadata": {},
     "output_type": "execute_result"
    }
   ],
   "source": [
    "meat_drops_sub = [ 'FROZEN MEAT (VEGETARIAN)', 'VEGETARIAN MEATS', 'FRZN MEAT ALTERNATIVES', 'SAUERKRAUT', 'PICKLES',\\\n",
    "                  'SALADS', 'CHEESE', 'PICKLE ITEMS', 'SAL:OLIVES/PICKLES-BULK', 'POTATOES PROCESSED',\\\n",
    "                  'NON-MEATS - OTHER', 'MISC SALES TRANS', 'NON-MEATS - OTHER']\n",
    "meat_products = meat_products[meat_products['SUB_COMMODITY_DESC'].isin(meat_drops_sub) == 0]\n",
    "print('There are {0} meat products distributed in {1} different departments.'.format(len(meat_products['PRODUCT_ID'].unique()), len(meat_products['DEPARTMENT'].unique())))\n",
    "meat_products.groupby(\"DEPARTMENT\")\\\n",
    "                                   .count()[\"PRODUCT_ID\"]\\\n",
    "                                   .sort_values(ascending=False)"
   ]
  },
  {
   "cell_type": "code",
   "execution_count": 176,
   "metadata": {},
   "outputs": [
    {
     "data": {
      "text/plain": [
       "array(['DINNER SAUSAGE', 'SEAFOOD - FROZEN', 'SEAFOOD - SHELF STABLE',\n",
       "       'FROZEN MEAT', 'FRZN MEAT/MEAT DINNERS',\n",
       "       'BEANS - CANNED GLASS & MW', 'MEAT - SHELF STABLE', 'MEAT - MISC',\n",
       "       'LUNCHMEAT', 'BREAKFAST SAUSAGE/SANDWICHES', 'BACON', 'HOT DOGS',\n",
       "       'CHICKEN', 'HEAT/SERVE', 'DELI MEATS', 'BEEF', 'WAREHOUSE SNACKS',\n",
       "       'CHICKEN/POULTRY', 'TURKEY', 'SEAFOOD-FRESH', 'SEAFOOD - MISC',\n",
       "       'MISC. DAIRY', 'FROZEN CHICKEN', 'SMOKED MEATS', 'DINNER MXS:DRY',\n",
       "       'PORK', 'SALADS/DIPS', '(CORP USE ONLY)', 'CONDIMENTS/SAUCES',\n",
       "       'LAMB', 'BAKING NEEDS', 'DRY SAUCES/GRAVY', 'PARTY TRAYS', 'VEAL',\n",
       "       'PASTA SAUCE', 'FROZEN - BOXED(GROCERY)', 'FRZN SEAFOOD',\n",
       "       'SPICES & EXTRACTS', 'PREPARED/PKGD FOODS', 'PREPARED FOOD',\n",
       "       'RW FRESH PROCESSED MEAT', 'EXOTIC GAME/FOWL', 'MISCELLANEOUS',\n",
       "       'MEAT SUPPLIES', 'DELI SUPPLIES', 'BAKING MIXES', 'BAG SNACKS',\n",
       "       'PKG.SEAFOOD MISC', 'HISPANIC', 'BREAKFAST SWEETS', 'FROZEN',\n",
       "       'DELI SPECIALTIES (RETAIL PK)', 'FROZEN PACKAGE MEAT'],\n",
       "      dtype=object)"
      ]
     },
     "execution_count": 176,
     "metadata": {},
     "output_type": "execute_result"
    }
   ],
   "source": [
    "meat_products['COMMODITY_DESC'].unique()"
   ]
  },
  {
   "cell_type": "markdown",
   "metadata": {},
   "source": [
    "We can see that 17.6% of the food products are meat related products. In this part, we will make the distinction between two type of meat products. On one hand, we have all the products containing meat, a list we have just created. On other hand, we have meat and products that are mostly made of meat as sausages. The distinction must be made as the first contains all meat products but isn't exclusive while the second one only contains meat but does not contain it all."
   ]
  },
  {
   "cell_type": "code",
   "execution_count": 248,
   "metadata": {},
   "outputs": [],
   "source": [
    "drop_pure = [ 'DINNER MXS:DRY','PASTA SAUCE']\n",
    "notpurewords = [\"PIZZA\", \"SANDWICH\",\"SANDWICHES\",\"PASTA\",\"CHILI\", \"STEW\", \"HASH\",\"GRASS/SHRED\",\"KITES\",\"REGIONAL\",\"ENTREES\",\"BEANS\",\\\n",
    "               \"SAUCES\",\"NOODLES\",\"RICE\",\"DAIRY\",\"CONDIMENTS\",\"SAUS\",\"CHEESE\",\"SPICES\",\"BREADERS\"]\n",
    "pure_meat = meat_products[meat_products['COMMODITY_DESC'].isin(drop_pure) == 0].copy()\n",
    "notpure_regex = [r'\\b%s\\b' % word for word in notpurewords]\n",
    "full_regex = re.compile('|'.join(notpure_regex))\n",
    "pure_meat = pure_meat[pure_meat.SUB_COMMODITY_DESC.str.contains(full_regex, regex=True) == 0]\n"
   ]
  },
  {
   "cell_type": "markdown",
   "metadata": {},
   "source": [
    "After all this part of data scrapping and selecting pure meat products, we want to know which is the meat's proportion for each meat category. There are 5 main categories : pork meat, poultry, bovine meat, ovine meat and seafood. "
   ]
  },
  {
   "cell_type": "code",
   "execution_count": 279,
   "metadata": {},
   "outputs": [],
   "source": [
    "pork_words = ['BACON', 'HAM','HAMS', 'PORK', 'SALAMI', 'LINKS', 'SAUSAGE']\n",
    "bovine_words = ['BEEF', 'BUFFALO', 'VEAL']\n",
    "ovine_words = ['GOAT', 'LAMB']\n",
    "poultry_words = ['FOWL','THIGHS', 'DRUMS','CHICKEN','CHICK', 'CORNISH', 'DUCK', 'DUCKS', 'GOOSE', 'GROUSE', 'PHEASANT', 'TURKEY', 'POULTRY', 'HENS', 'BREAST','WINGS']\n",
    "seafood_words = ['ANCHOVY', 'CATFISH', 'CLAMS', 'COD', 'CRAB', 'EEL', 'HALIBUT', 'LOBSTER', 'MACKEREL', 'MAHI MAHI', 'OCTOPUS', 'OYSTERS', 'QUAIL', 'SALMON', 'SARDINES', 'SCALLOPS', 'SHARK', 'SHRIMP', 'SQUAB', 'SQUID', 'SWORDFISH', 'TILAPIA', 'TUNA', 'SEAFOOD', 'FISH']\n",
    "pork_regex = [r'\\b%s\\b' % word for word in pork_words]\n",
    "full_pork_regex = re.compile('|'.join(pork_regex))\n",
    "pork_products = pure_meat[pure_meat.SUB_COMMODITY_DESC.str.contains(full_pork_regex, regex=True) |\\\n",
    "                         pure_meat.COMMODITY_DESC.str.contains(full_pork_regex, regex=True) ]\n",
    "bovine_regex = [r'\\b%s\\b' % word for word in bovine_words]\n",
    "full_bovine_regex = re.compile('|'.join(bovine_regex))\n",
    "bovine_products = pure_meat[pure_meat.SUB_COMMODITY_DESC.str.contains(full_bovine_regex, regex=True) |\\\n",
    "                         pure_meat.COMMODITY_DESC.str.contains(full_bovine_regex, regex=True)]\n",
    "ovine_regex = [r'\\b%s\\b' % word for word in ovine_words]\n",
    "full_ovine_regex = re.compile('|'.join(ovine_regex))\n",
    "ovine_products = pure_meat[pure_meat.SUB_COMMODITY_DESC.str.contains(full_ovine_regex, regex=True)|\\\n",
    "                         pure_meat.COMMODITY_DESC.str.contains(full_ovine_regex, regex=True)]\n",
    "poultry_regex = [r'\\b%s\\b' % word for word in poultry_words]\n",
    "full_poultry_regex = re.compile('|'.join(poultry_regex))\n",
    "poultry_products = pure_meat[pure_meat.SUB_COMMODITY_DESC.str.contains(full_poultry_regex, regex=True)|\\\n",
    "                         pure_meat.COMMODITY_DESC.str.contains(full_poultry_regex, regex=True)]\n",
    "seafood_regex = [r'\\b%s\\b' % word for word in seafood_words]\n",
    "full_seafood_regex = re.compile('|'.join(seafood_regex))\n",
    "seafood_products = pure_meat[pure_meat.SUB_COMMODITY_DESC.str.contains(full_seafood_regex, regex=True)|\\\n",
    "                         pure_meat.COMMODITY_DESC.str.contains(full_seafood_regex, regex=True)]\n",
    "\n",
    "\n"
   ]
  },
  {
   "cell_type": "code",
   "execution_count": 280,
   "metadata": {},
   "outputs": [
    {
     "data": {
      "text/plain": [
       "5574"
      ]
     },
     "execution_count": 280,
     "metadata": {},
     "output_type": "execute_result"
    }
   ],
   "source": [
    "len(seafood_products)+len(ovine_products)+len(bovine_products)+len(poultry_products)+len(pork_products)"
   ]
  },
  {
   "cell_type": "code",
   "execution_count": 281,
   "metadata": {},
   "outputs": [],
   "source": [
    "other_meat = pure_meat[(pure_meat.PRODUCT_ID.isin(pork_products.PRODUCT_ID) | pure_meat.PRODUCT_ID.isin(bovine_products.PRODUCT_ID)|\\\n",
    "                      pure_meat.PRODUCT_ID.isin(ovine_products.PRODUCT_ID) | pure_meat.PRODUCT_ID.isin(poultry_products.PRODUCT_ID) |\\\n",
    "                      pure_meat.PRODUCT_ID.isin(seafood_products.PRODUCT_ID)) == 0]"
   ]
  },
  {
   "cell_type": "code",
   "execution_count": 288,
   "metadata": {},
   "outputs": [
    {
     "data": {
      "image/png": "[encoded data removed]",
      "text/plain": [
       "<Figure size 432x288 with 1 Axes>"
      ]
     },
     "metadata": {
      "needs_background": "light"
     },
     "output_type": "display_data"
    }
   ],
   "source": [
    "x = np.arange(6)\n",
    "y = [len(pork_products), len(poultry_products), len(bovine_products),  len(seafood_products), len(ovine_products), len(other_meat)]\n",
    "plt.bar(x, y)\n",
    "plt.xticks(x, ( 'Pork', 'Poultry', 'Bovine','Seafood', 'Ovine', 'Other'))\n",
    "plt.show()"
   ]
  },
  {
   "cell_type": "markdown",
   "metadata": {},
   "source": [
    "### In which departments is the meat ?"
   ]
  },
  {
   "cell_type": "code",
   "execution_count": 9,
   "metadata": {},
   "outputs": [
    {
     "data": {
      "text/plain": [
       "<matplotlib.axes._subplots.AxesSubplot at 0x7f02f5a96940>"
      ]
     },
     "execution_count": 9,
     "metadata": {},
     "output_type": "execute_result"
    },
    {
     "data": {
      "image/png": "[encoded data removed]",
      "text/plain": [
       "<Figure size 432x288 with 1 Axes>"
      ]
     },
     "metadata": {
      "needs_background": "light"
     },
     "output_type": "display_data"
    }
   ],
   "source": [
    "num_of_meat_per_dep = meat_products.groupby(\"DEPARTMENT\")\\\n",
    "                                   .count()[\"PRODUCT_ID\"]\\\n",
    "                                   .sort_values(ascending=False)\\\n",
    "                                   .reset_index(name=\"Number of meat product\")\n",
    "num_of_meat_per_dep.plot.bar(x=\"DEPARTMENT\", y=\"Number of meat product\")"
   ]
  },
  {
   "cell_type": "markdown",
   "metadata": {},
   "source": [
    "## Get only vegetables"
   ]
  },
  {
   "cell_type": "code",
   "execution_count": 153,
   "metadata": {},
   "outputs": [],
   "source": [
    "veggies = [\n",
    "    \"asparagus\",\n",
    "    \"beans\",\n",
    "    \"beet\",\n",
    "    \"broccoli\",\n",
    "    \"Brussels sprouts\",\n",
    "    \"cabbage\",\n",
    "    \"carrot\",\n",
    "    \"carrots\",\n",
    "    \"cauliflower\",\n",
    "    \"celery\",\n",
    "    \"Chinese cabbage\",\n",
    "    \"corn\",\n",
    "    \"cucumber\",\n",
    "    \"cucumbers\",\n",
    "    \"eggplant\",\n",
    "    \"eggplants\",\n",
    "    \"green pepper\",\n",
    "    \"Japanese radish\",\n",
    "    \"kale\",\n",
    "    \"lettuce\",\n",
    "    \"salad\",\n",
    "    \"okra\",\n",
    "    \"onion\",\n",
    "    \"onions\",\n",
    "    \"peas\",\n",
    "    \"pumpkins\",\n",
    "    \"radish\",\n",
    "    \"spinach\",\n",
    "    \"sweet potato\",\n",
    "    \"tomatoes\",\n",
    "    \"tomato\",\n",
    "    \"turnips\",\n",
    "    \"vegetables\"\n",
    "]\n",
    "veggies = [v.upper() for v in veggies]"
   ]
  },
  {
   "cell_type": "code",
   "execution_count": 154,
   "metadata": {},
   "outputs": [],
   "source": [
    "veggie_words_regex = [r'\\b%s\\b' % word for word in veggies]\n",
    "full_regex = re.compile('|'.join(veggie_words_regex))\n",
    "\n",
    "veggie_products = products[food_products.COMMODITY_DESC.str.contains(full_regex, regex=True) |\\\n",
    "                           products.SUB_COMMODITY_DESC.str.contains(full_regex, regex=True)]"
   ]
  },
  {
   "cell_type": "code",
   "execution_count": 155,
   "metadata": {},
   "outputs": [
    {
     "data": {
      "text/plain": [
       "array(['SHORTENING/OIL', 'VEGETABLES - SHELF STABLE', 'HISPANIC',\n",
       "       'FRZN VEGETABLE/VEG DSH', 'CANNED JUICES',\n",
       "       'BEANS - CANNED GLASS & MW', 'DRY BN/VEG/POTATO/RICE',\n",
       "       'ORGANICS FRUIT & VEGETABLES', 'CONDIMENTS/SAUCES',\n",
       "       'SALD DRSNG/SNDWCH SPRD', 'FROZEN MEAT', 'FRUIT - SHELF STABLE',\n",
       "       'SALAD MIX', 'CARROTS', 'VEGETABLES - ALL OTHERS', 'CORN',\n",
       "       'BAG SNACKS', 'BAKING MIXES', 'BROCCOLI/CAULIFLOWER', 'ONIONS',\n",
       "       'CRACKERS/MISC BKD FD', 'SPICES & EXTRACTS', 'VEGETABLES SALAD',\n",
       "       'VALUE ADDED VEGETABLES', 'TOMATOES', 'SALAD BAR', 'FROZEN',\n",
       "       'PREPARED/PKGD FOODS', 'HERBS', 'SALADS/DIPS', 'BAKING NEEDS',\n",
       "       'SOUP', 'SEASONAL', 'UNKNOWN', 'MEAT - SHELF STABLE',\n",
       "       'PROD SUPPLIES', 'DELI SPECIALTIES (RETAIL PK)', 'FROZEN PIZZA'],\n",
       "      dtype=object)"
      ]
     },
     "execution_count": 155,
     "metadata": {},
     "output_type": "execute_result"
    }
   ],
   "source": [
    "veggie_products.COMMODITY_DESC.unique()"
   ]
  },
  {
   "cell_type": "code",
   "execution_count": 168,
   "metadata": {},
   "outputs": [
    {
     "name": "stdout",
     "output_type": "stream",
     "text": [
      "There are 3209 veggetables products distributed in 7 different departments.\n"
     ]
    }
   ],
   "source": [
    "drops_vegg = ['SHORTENING/OIL','CONDIMENTS/SAUCES', 'SALD DRSNG/SNDWCH SPRD', 'FROZEN MEAT','BAG SNACKS', 'BAKING MIXES',\\\n",
    "             'CRACKERS/MISC BKD FD', 'SPICES & EXTRACTS','BAKING NEEDS','MEAT - SHELF STABLE','DELI SPECIALTIES (RETAIL PK)', 'FROZEN PIZZA']\n",
    "veggie_products = veggie_products[veggie_products['COMMODITY_DESC'].isin(drops_vegg) == 0]\n",
    "print('There are {0} veggetables products distributed in {1} different departments.'.format(len(veggie_products['PRODUCT_ID'].unique()), len(veggie_products['DEPARTMENT'].unique())))\n"
   ]
  },
  {
   "cell_type": "code",
   "execution_count": 169,
   "metadata": {},
   "outputs": [
    {
     "data": {
      "text/plain": [
       "26"
      ]
     },
     "execution_count": 169,
     "metadata": {},
     "output_type": "execute_result"
    }
   ],
   "source": [
    "len(veggie_products.COMMODITY_DESC.unique())"
   ]
  },
  {
   "cell_type": "code",
   "execution_count": 31,
   "metadata": {},
   "outputs": [],
   "source": [
    "transac_prod = pd.merge(transactions, food_products, on=\"PRODUCT_ID\", how=\"inner\")[[\"PRODUCT_ID\", \"PAID_PRICE\", \"DEPARTMENT\"]]"
   ]
  },
  {
   "cell_type": "code",
   "execution_count": 32,
   "metadata": {},
   "outputs": [
    {
     "data": {
      "text/plain": [
       "DEPARTMENT\n",
       "SPIRITS           10.226937\n",
       "PORK               7.850000\n",
       "SEAFOOD            5.678356\n",
       "MEAT               4.395866\n",
       "RESTAURANT         4.264215\n",
       "SEAFOOD-PCKGD      3.811378\n",
       "DELI               3.803988\n",
       "DELI/SNACK BAR     3.280000\n",
       "SALAD BAR          3.160173\n",
       "CHEF SHOPPE        2.869413\n",
       "PASTRY             2.780976\n",
       "MEAT-PCKGD         2.697060\n",
       "NUTRITION          2.659637\n",
       "FROZEN GROCERY     2.496056\n",
       "GROCERY            1.997943\n",
       "PRODUCE            1.912026\n",
       "DAIRY DELI         1.342642\n",
       "GRO BAKERY         1.090000\n",
       "Name: PAID_PRICE, dtype: float64"
      ]
     },
     "execution_count": 32,
     "metadata": {},
     "output_type": "execute_result"
    }
   ],
   "source": [
    "average_price_by_dep = transac_prod.groupby(\"DEPARTMENT\")[\"PAID_PRICE\"].mean().sort_values(ascending=False)\n",
    "average_price_by_dep"
   ]
  },
  {
   "cell_type": "markdown",
   "metadata": {},
   "source": [
    "### How does the basket price evolve over weeks ?"
   ]
  },
  {
   "cell_type": "code",
   "execution_count": 33,
   "metadata": {},
   "outputs": [
    {
     "data": {
      "text/plain": [
       "Text(0, 0.5, 'Average Basket Price')"
      ]
     },
     "execution_count": 33,
     "metadata": {},
     "output_type": "execute_result"
    },
    {
     "data": {
      "image/png": "[encoded data removed]",
      "text/plain": [
       "<Figure size 432x288 with 1 Axes>"
      ]
     },
     "metadata": {
      "needs_background": "light"
     },
     "output_type": "display_data"
    }
   ],
   "source": [
    "basket_values = transactions.groupby(\"BASKET_ID\").agg({\"PAID_PRICE\": sum, \"WEEK_NO\": \"first\"}).reset_index()\n",
    "avg_basket_value_per_week = basket_values.groupby(\"WEEK_NO\")[\"PAID_PRICE\"].mean()\n",
    "std_basket_value_per_week = basket_values.groupby(\"WEEK_NO\")[\"PAID_PRICE\"].std()\n",
    "\n",
    "avg_basket_value_per_week.plot(yerr=std_basket_value_per_week)\n",
    "plt.ylabel(\"Average Basket Price\")\n",
    "# basket_value_per_week.sort_values(ascending=False)"
   ]
  },
  {
   "cell_type": "markdown",
   "metadata": {},
   "source": [
    "## Which product pays the most ?"
   ]
  },
  {
   "cell_type": "code",
   "execution_count": 34,
   "metadata": {},
   "outputs": [
    {
     "data": {
      "text/html": [
       "<div>\n",
       "<style scoped>\n",
       "    .dataframe tbody tr th:only-of-type {\n",
       "        vertical-align: middle;\n",
       "    }\n",
       "\n",
       "    .dataframe tbody tr th {\n",
       "        vertical-align: top;\n",
       "    }\n",
       "\n",
       "    .dataframe thead th {\n",
       "        text-align: right;\n",
       "    }\n",
       "</style>\n",
       "<table border=\"1\" class=\"dataframe\">\n",
       "  <thead>\n",
       "    <tr style=\"text-align: right;\">\n",
       "      <th></th>\n",
       "      <th>PRODUCT_ID</th>\n",
       "      <th>COMMODITY_DESC</th>\n",
       "      <th>SUB_COMMODITY_DESC</th>\n",
       "      <th>PAID_PRICE</th>\n",
       "    </tr>\n",
       "  </thead>\n",
       "  <tbody>\n",
       "    <tr>\n",
       "      <th>19927</th>\n",
       "      <td>1029743</td>\n",
       "      <td>FLUID MILK PRODUCTS</td>\n",
       "      <td>FLUID MILK WHITE ONLY</td>\n",
       "      <td>38451.09</td>\n",
       "    </tr>\n",
       "    <tr>\n",
       "      <th>23632</th>\n",
       "      <td>1082185</td>\n",
       "      <td>TROPICAL FRUIT</td>\n",
       "      <td>BANANAS</td>\n",
       "      <td>27168.62</td>\n",
       "    </tr>\n",
       "    <tr>\n",
       "      <th>25330</th>\n",
       "      <td>1106523</td>\n",
       "      <td>FLUID MILK PRODUCTS</td>\n",
       "      <td>FLUID MILK WHITE ONLY</td>\n",
       "      <td>26147.93</td>\n",
       "    </tr>\n",
       "    <tr>\n",
       "      <th>6837</th>\n",
       "      <td>844179</td>\n",
       "      <td>BEEF</td>\n",
       "      <td>PRIMAL</td>\n",
       "      <td>14574.54</td>\n",
       "    </tr>\n",
       "    <tr>\n",
       "      <th>20969</th>\n",
       "      <td>1044078</td>\n",
       "      <td>BEEF</td>\n",
       "      <td>LEAN</td>\n",
       "      <td>12970.96</td>\n",
       "    </tr>\n",
       "    <tr>\n",
       "      <th>26680</th>\n",
       "      <td>1126899</td>\n",
       "      <td>FLUID MILK PRODUCTS</td>\n",
       "      <td>FLUID MILK WHITE ONLY</td>\n",
       "      <td>12652.43</td>\n",
       "    </tr>\n",
       "    <tr>\n",
       "      <th>18246</th>\n",
       "      <td>1005186</td>\n",
       "      <td>SALAD BAR</td>\n",
       "      <td>SALAD BAR FRESH FRUIT</td>\n",
       "      <td>12554.10</td>\n",
       "    </tr>\n",
       "    <tr>\n",
       "      <th>17520</th>\n",
       "      <td>995242</td>\n",
       "      <td>FLUID MILK PRODUCTS</td>\n",
       "      <td>FLUID MILK WHITE ONLY</td>\n",
       "      <td>12020.87</td>\n",
       "    </tr>\n",
       "    <tr>\n",
       "      <th>22806</th>\n",
       "      <td>1070820</td>\n",
       "      <td>FLUID MILK PRODUCTS</td>\n",
       "      <td>FLUID MILK WHITE ONLY</td>\n",
       "      <td>11645.41</td>\n",
       "    </tr>\n",
       "    <tr>\n",
       "      <th>26741</th>\n",
       "      <td>1127831</td>\n",
       "      <td>BERRIES</td>\n",
       "      <td>STRAWBERRIES</td>\n",
       "      <td>11353.37</td>\n",
       "    </tr>\n",
       "  </tbody>\n",
       "</table>\n",
       "</div>"
      ],
      "text/plain": [
       "       PRODUCT_ID       COMMODITY_DESC     SUB_COMMODITY_DESC  PAID_PRICE\n",
       "19927     1029743  FLUID MILK PRODUCTS  FLUID MILK WHITE ONLY    38451.09\n",
       "23632     1082185       TROPICAL FRUIT                BANANAS    27168.62\n",
       "25330     1106523  FLUID MILK PRODUCTS  FLUID MILK WHITE ONLY    26147.93\n",
       "6837       844179                 BEEF                 PRIMAL    14574.54\n",
       "20969     1044078                 BEEF                   LEAN    12970.96\n",
       "26680     1126899  FLUID MILK PRODUCTS  FLUID MILK WHITE ONLY    12652.43\n",
       "18246     1005186            SALAD BAR  SALAD BAR FRESH FRUIT    12554.10\n",
       "17520      995242  FLUID MILK PRODUCTS  FLUID MILK WHITE ONLY    12020.87\n",
       "22806     1070820  FLUID MILK PRODUCTS  FLUID MILK WHITE ONLY    11645.41\n",
       "26741     1127831              BERRIES           STRAWBERRIES    11353.37"
      ]
     },
     "execution_count": 34,
     "metadata": {},
     "output_type": "execute_result"
    }
   ],
   "source": [
    "transac_prod = pd.merge(transactions, food_products, on=\"PRODUCT_ID\", how=\"inner\")\n",
    "transac_prod.groupby(['PRODUCT_ID'], as_index=False)\\\n",
    "            .agg({'COMMODITY_DESC': 'first', 'SUB_COMMODITY_DESC': 'first', 'PAID_PRICE': 'sum'})\\\n",
    "            .sort_values(by=\"PAID_PRICE\", ascending=False)\\\n",
    "            .head(10)"
   ]
  },
  {
   "cell_type": "markdown",
   "metadata": {},
   "source": [
    "## Focus on meat consumption"
   ]
  },
  {
   "cell_type": "code",
   "execution_count": 35,
   "metadata": {},
   "outputs": [],
   "source": [
    "meat_transactions = pd.merge(meat_products, transactions, on=\"PRODUCT_ID\", how=\"inner\")\n",
    "# cont_meat_transactions = pd.merge(cont_meat, transactions, on=\"PRODUCT_ID\", how=\"inner\")\n",
    "# meat_transactions = pd.concat([meat_transactions, cont_meat_transactions])"
   ]
  },
  {
   "cell_type": "code",
   "execution_count": 36,
   "metadata": {},
   "outputs": [
    {
     "data": {
      "text/html": [
       "<div>\n",
       "<style scoped>\n",
       "    .dataframe tbody tr th:only-of-type {\n",
       "        vertical-align: middle;\n",
       "    }\n",
       "\n",
       "    .dataframe tbody tr th {\n",
       "        vertical-align: top;\n",
       "    }\n",
       "\n",
       "    .dataframe thead th {\n",
       "        text-align: right;\n",
       "    }\n",
       "</style>\n",
       "<table border=\"1\" class=\"dataframe\">\n",
       "  <thead>\n",
       "    <tr style=\"text-align: right;\">\n",
       "      <th></th>\n",
       "      <th>PRODUCT_ID</th>\n",
       "      <th>MANUFACTURER</th>\n",
       "      <th>DEPARTMENT</th>\n",
       "      <th>BRAND</th>\n",
       "      <th>COMMODITY_DESC</th>\n",
       "      <th>SUB_COMMODITY_DESC</th>\n",
       "      <th>CURR_SIZE_OF_PRODUCT</th>\n",
       "      <th>household_key</th>\n",
       "      <th>BASKET_ID</th>\n",
       "      <th>DAY</th>\n",
       "      <th>QUANTITY</th>\n",
       "      <th>SALES_VALUE</th>\n",
       "      <th>STORE_ID</th>\n",
       "      <th>RETAIL_DISC</th>\n",
       "      <th>TRANS_TIME</th>\n",
       "      <th>WEEK_NO</th>\n",
       "      <th>COUPON_DISC</th>\n",
       "      <th>COUPON_MATCH_DISC</th>\n",
       "      <th>PAID_PRICE</th>\n",
       "    </tr>\n",
       "  </thead>\n",
       "  <tbody>\n",
       "    <tr>\n",
       "      <th>143831</th>\n",
       "      <td>1118244</td>\n",
       "      <td>665</td>\n",
       "      <td>MEAT-PCKGD</td>\n",
       "      <td>National</td>\n",
       "      <td>DINNER SAUSAGE</td>\n",
       "      <td>SMOKED/COOKED</td>\n",
       "      <td></td>\n",
       "      <td>1379</td>\n",
       "      <td>42158881489</td>\n",
       "      <td>701</td>\n",
       "      <td>1</td>\n",
       "      <td>0.0</td>\n",
       "      <td>330</td>\n",
       "      <td>-2.99</td>\n",
       "      <td>1436</td>\n",
       "      <td>101</td>\n",
       "      <td>0.0</td>\n",
       "      <td>0.0</td>\n",
       "      <td>0.0</td>\n",
       "    </tr>\n",
       "    <tr>\n",
       "      <th>160259</th>\n",
       "      <td>6633273</td>\n",
       "      <td>1094</td>\n",
       "      <td>MEAT-PCKGD</td>\n",
       "      <td>National</td>\n",
       "      <td>LUNCHMEAT</td>\n",
       "      <td>POULTRY</td>\n",
       "      <td>9 OZ</td>\n",
       "      <td>989</td>\n",
       "      <td>32671151963</td>\n",
       "      <td>381</td>\n",
       "      <td>2</td>\n",
       "      <td>0.0</td>\n",
       "      <td>356</td>\n",
       "      <td>-6.98</td>\n",
       "      <td>1638</td>\n",
       "      <td>55</td>\n",
       "      <td>0.0</td>\n",
       "      <td>0.0</td>\n",
       "      <td>0.0</td>\n",
       "    </tr>\n",
       "    <tr>\n",
       "      <th>193131</th>\n",
       "      <td>12810436</td>\n",
       "      <td>3491</td>\n",
       "      <td>MEAT</td>\n",
       "      <td>National</td>\n",
       "      <td>PORK</td>\n",
       "      <td>ENHANCED</td>\n",
       "      <td></td>\n",
       "      <td>2039</td>\n",
       "      <td>41717473018</td>\n",
       "      <td>668</td>\n",
       "      <td>1</td>\n",
       "      <td>0.0</td>\n",
       "      <td>329</td>\n",
       "      <td>-11.85</td>\n",
       "      <td>1716</td>\n",
       "      <td>96</td>\n",
       "      <td>0.0</td>\n",
       "      <td>0.0</td>\n",
       "      <td>0.0</td>\n",
       "    </tr>\n",
       "    <tr>\n",
       "      <th>266321</th>\n",
       "      <td>1130666</td>\n",
       "      <td>69</td>\n",
       "      <td>SEAFOOD-PCKGD</td>\n",
       "      <td>Private</td>\n",
       "      <td>SEAFOOD - FROZEN</td>\n",
       "      <td>FRZN BRD STICK/PORTON</td>\n",
       "      <td>24 OZ</td>\n",
       "      <td>1255</td>\n",
       "      <td>27798625906</td>\n",
       "      <td>69</td>\n",
       "      <td>1</td>\n",
       "      <td>0.0</td>\n",
       "      <td>343</td>\n",
       "      <td>-4.79</td>\n",
       "      <td>956</td>\n",
       "      <td>11</td>\n",
       "      <td>0.0</td>\n",
       "      <td>0.0</td>\n",
       "      <td>0.0</td>\n",
       "    </tr>\n",
       "    <tr>\n",
       "      <th>49797</th>\n",
       "      <td>910032</td>\n",
       "      <td>1089</td>\n",
       "      <td>MEAT-PCKGD</td>\n",
       "      <td>National</td>\n",
       "      <td>HOT DOGS</td>\n",
       "      <td>PREMIUM - MEAT</td>\n",
       "      <td>1 LB</td>\n",
       "      <td>1279</td>\n",
       "      <td>33348278549</td>\n",
       "      <td>432</td>\n",
       "      <td>1</td>\n",
       "      <td>0.0</td>\n",
       "      <td>421</td>\n",
       "      <td>-3.29</td>\n",
       "      <td>1740</td>\n",
       "      <td>62</td>\n",
       "      <td>0.0</td>\n",
       "      <td>0.0</td>\n",
       "      <td>0.0</td>\n",
       "    </tr>\n",
       "    <tr>\n",
       "      <th>109272</th>\n",
       "      <td>1036249</td>\n",
       "      <td>1089</td>\n",
       "      <td>MEAT-PCKGD</td>\n",
       "      <td>National</td>\n",
       "      <td>HOT DOGS</td>\n",
       "      <td>PREMIUM - MEAT</td>\n",
       "      <td>1 LB</td>\n",
       "      <td>1899</td>\n",
       "      <td>35688405421</td>\n",
       "      <td>530</td>\n",
       "      <td>1</td>\n",
       "      <td>0.0</td>\n",
       "      <td>31782</td>\n",
       "      <td>-3.29</td>\n",
       "      <td>1105</td>\n",
       "      <td>76</td>\n",
       "      <td>0.0</td>\n",
       "      <td>0.0</td>\n",
       "      <td>0.0</td>\n",
       "    </tr>\n",
       "    <tr>\n",
       "      <th>234857</th>\n",
       "      <td>846417</td>\n",
       "      <td>544</td>\n",
       "      <td>GROCERY</td>\n",
       "      <td>National</td>\n",
       "      <td>BAG SNACKS</td>\n",
       "      <td>DIPS (NON-REFRIGERATED)</td>\n",
       "      <td>16 OZ</td>\n",
       "      <td>687</td>\n",
       "      <td>33363037032</td>\n",
       "      <td>433</td>\n",
       "      <td>0</td>\n",
       "      <td>0.0</td>\n",
       "      <td>363</td>\n",
       "      <td>0.00</td>\n",
       "      <td>1449</td>\n",
       "      <td>63</td>\n",
       "      <td>0.0</td>\n",
       "      <td>0.0</td>\n",
       "      <td>0.0</td>\n",
       "    </tr>\n",
       "    <tr>\n",
       "      <th>10883</th>\n",
       "      <td>835618</td>\n",
       "      <td>1094</td>\n",
       "      <td>MEAT-PCKGD</td>\n",
       "      <td>National</td>\n",
       "      <td>LUNCHMEAT</td>\n",
       "      <td>BOLOGNA</td>\n",
       "      <td>16 OZ</td>\n",
       "      <td>304</td>\n",
       "      <td>41730896635</td>\n",
       "      <td>669</td>\n",
       "      <td>1</td>\n",
       "      <td>0.0</td>\n",
       "      <td>322</td>\n",
       "      <td>-3.99</td>\n",
       "      <td>1712</td>\n",
       "      <td>96</td>\n",
       "      <td>0.0</td>\n",
       "      <td>0.0</td>\n",
       "      <td>0.0</td>\n",
       "    </tr>\n",
       "    <tr>\n",
       "      <th>252226</th>\n",
       "      <td>1000586</td>\n",
       "      <td>454</td>\n",
       "      <td>DELI</td>\n",
       "      <td>National</td>\n",
       "      <td>SALADS/DIPS</td>\n",
       "      <td>SAL:SALSA/DPS-PRPCK</td>\n",
       "      <td>7 OZ</td>\n",
       "      <td>2084</td>\n",
       "      <td>40097510622</td>\n",
       "      <td>551</td>\n",
       "      <td>0</td>\n",
       "      <td>0.0</td>\n",
       "      <td>354</td>\n",
       "      <td>0.00</td>\n",
       "      <td>1316</td>\n",
       "      <td>79</td>\n",
       "      <td>0.0</td>\n",
       "      <td>0.0</td>\n",
       "      <td>0.0</td>\n",
       "    </tr>\n",
       "    <tr>\n",
       "      <th>142973</th>\n",
       "      <td>1116242</td>\n",
       "      <td>1107</td>\n",
       "      <td>MEAT</td>\n",
       "      <td>National</td>\n",
       "      <td>TURKEY</td>\n",
       "      <td>TURKEY BREAST BONELESS</td>\n",
       "      <td></td>\n",
       "      <td>2097</td>\n",
       "      <td>27565955773</td>\n",
       "      <td>49</td>\n",
       "      <td>0</td>\n",
       "      <td>0.0</td>\n",
       "      <td>403</td>\n",
       "      <td>0.00</td>\n",
       "      <td>1253</td>\n",
       "      <td>8</td>\n",
       "      <td>0.0</td>\n",
       "      <td>0.0</td>\n",
       "      <td>0.0</td>\n",
       "    </tr>\n",
       "  </tbody>\n",
       "</table>\n",
       "</div>"
      ],
      "text/plain": [
       "        PRODUCT_ID  MANUFACTURER     DEPARTMENT     BRAND    COMMODITY_DESC  \\\n",
       "143831     1118244           665     MEAT-PCKGD  National    DINNER SAUSAGE   \n",
       "160259     6633273          1094     MEAT-PCKGD  National         LUNCHMEAT   \n",
       "193131    12810436          3491           MEAT  National              PORK   \n",
       "266321     1130666            69  SEAFOOD-PCKGD   Private  SEAFOOD - FROZEN   \n",
       "49797       910032          1089     MEAT-PCKGD  National          HOT DOGS   \n",
       "109272     1036249          1089     MEAT-PCKGD  National          HOT DOGS   \n",
       "234857      846417           544        GROCERY  National        BAG SNACKS   \n",
       "10883       835618          1094     MEAT-PCKGD  National         LUNCHMEAT   \n",
       "252226     1000586           454           DELI  National       SALADS/DIPS   \n",
       "142973     1116242          1107           MEAT  National            TURKEY   \n",
       "\n",
       "             SUB_COMMODITY_DESC CURR_SIZE_OF_PRODUCT  household_key  \\\n",
       "143831            SMOKED/COOKED                                1379   \n",
       "160259                  POULTRY                 9 OZ            989   \n",
       "193131                 ENHANCED                                2039   \n",
       "266321    FRZN BRD STICK/PORTON                24 OZ           1255   \n",
       "49797            PREMIUM - MEAT                 1 LB           1279   \n",
       "109272           PREMIUM - MEAT                 1 LB           1899   \n",
       "234857  DIPS (NON-REFRIGERATED)                16 OZ            687   \n",
       "10883                   BOLOGNA                16 OZ            304   \n",
       "252226      SAL:SALSA/DPS-PRPCK                 7 OZ           2084   \n",
       "142973   TURKEY BREAST BONELESS                                2097   \n",
       "\n",
       "          BASKET_ID  DAY  QUANTITY  SALES_VALUE  STORE_ID  RETAIL_DISC  \\\n",
       "143831  42158881489  701         1          0.0       330        -2.99   \n",
       "160259  32671151963  381         2          0.0       356        -6.98   \n",
       "193131  41717473018  668         1          0.0       329       -11.85   \n",
       "266321  27798625906   69         1          0.0       343        -4.79   \n",
       "49797   33348278549  432         1          0.0       421        -3.29   \n",
       "109272  35688405421  530         1          0.0     31782        -3.29   \n",
       "234857  33363037032  433         0          0.0       363         0.00   \n",
       "10883   41730896635  669         1          0.0       322        -3.99   \n",
       "252226  40097510622  551         0          0.0       354         0.00   \n",
       "142973  27565955773   49         0          0.0       403         0.00   \n",
       "\n",
       "        TRANS_TIME  WEEK_NO  COUPON_DISC  COUPON_MATCH_DISC  PAID_PRICE  \n",
       "143831        1436      101          0.0                0.0         0.0  \n",
       "160259        1638       55          0.0                0.0         0.0  \n",
       "193131        1716       96          0.0                0.0         0.0  \n",
       "266321         956       11          0.0                0.0         0.0  \n",
       "49797         1740       62          0.0                0.0         0.0  \n",
       "109272        1105       76          0.0                0.0         0.0  \n",
       "234857        1449       63          0.0                0.0         0.0  \n",
       "10883         1712       96          0.0                0.0         0.0  \n",
       "252226        1316       79          0.0                0.0         0.0  \n",
       "142973        1253        8          0.0                0.0         0.0  "
      ]
     },
     "execution_count": 36,
     "metadata": {},
     "output_type": "execute_result"
    }
   ],
   "source": [
    "# meat_transactions[[\"COMMODITY_DESC\", \"PAID_PRICE\", \"QUANTITY\", \"SALES_VALUE\",\"RETAIL_DISC\", \"COUPON_DISC\"]].sample(10)\n",
    "meat_transactions[meat_transactions.SALES_VALUE == 0].sample(10)"
   ]
  },
  {
   "cell_type": "code",
   "execution_count": 37,
   "metadata": {},
   "outputs": [
    {
     "name": "stdout",
     "output_type": "stream",
     "text": [
      "Number of transactions for meat : 278807\n"
     ]
    }
   ],
   "source": [
    "print(f\"Number of transactions for meat : {len(meat_transactions)}\")"
   ]
  },
  {
   "cell_type": "code",
   "execution_count": 38,
   "metadata": {},
   "outputs": [
    {
     "name": "stdout",
     "output_type": "stream",
     "text": [
      "Percentage of money spent for meat: 19.04 percent\n"
     ]
    }
   ],
   "source": [
    "total_spent_for_meat = meat_transactions.PAID_PRICE.sum()\n",
    "total_spent = transactions.PAID_PRICE.sum()\n",
    "\n",
    "print(\"Percentage of money spent for meat: %.2f percent\" % ((total_spent_for_meat / total_spent) * 100) )"
   ]
  },
  {
   "cell_type": "code",
   "execution_count": 39,
   "metadata": {},
   "outputs": [],
   "source": [
    "spent_for_meat_by_household = meat_transactions.groupby(\"household_key\").PAID_PRICE.sum()\n",
    "spent_by_household = transactions.groupby(\"household_key\").PAID_PRICE.sum()"
   ]
  },
  {
   "cell_type": "code",
   "execution_count": 40,
   "metadata": {},
   "outputs": [
    {
     "data": {
      "text/plain": [
       "<matplotlib.axes._subplots.AxesSubplot at 0x7f02f484b320>"
      ]
     },
     "execution_count": 40,
     "metadata": {},
     "output_type": "execute_result"
    },
    {
     "data": {
      "image/png": "[encoded data removed]",
      "text/plain": [
       "<Figure size 432x288 with 1 Axes>"
      ]
     },
     "metadata": {
      "needs_background": "light"
     },
     "output_type": "display_data"
    }
   ],
   "source": [
    "spent_for_meat_by_household.hist(bins=30)"
   ]
  },
  {
   "cell_type": "code",
   "execution_count": 41,
   "metadata": {},
   "outputs": [
    {
     "data": {
      "text/plain": [
       "2859.909999999989"
      ]
     },
     "execution_count": 41,
     "metadata": {},
     "output_type": "execute_result"
    }
   ],
   "source": [
    "max(spent_for_meat_by_household)"
   ]
  },
  {
   "cell_type": "markdown",
   "metadata": {},
   "source": [
    "### Looking at the spending by Department"
   ]
  },
  {
   "cell_type": "code",
   "execution_count": 42,
   "metadata": {},
   "outputs": [],
   "source": [
    "spent_by_dep = transac_prod.groupby('DEPARTMENT')\\\n",
    "                           .agg({'PAID_PRICE': 'sum'})\\\n",
    "                           .reset_index()\\\n",
    "                           .sort_values(by=\"PAID_PRICE\", ascending=False)"
   ]
  },
  {
   "cell_type": "code",
   "execution_count": 43,
   "metadata": {},
   "outputs": [
    {
     "data": {
      "text/plain": [
       "<matplotlib.axes._subplots.AxesSubplot at 0x7f02f477eeb8>"
      ]
     },
     "execution_count": 43,
     "metadata": {},
     "output_type": "execute_result"
    },
    {
     "data": {
      "image/png": "[encoded data removed]",
      "text/plain": [
       "<Figure size 432x288 with 1 Axes>"
      ]
     },
     "metadata": {
      "needs_background": "light"
     },
     "output_type": "display_data"
    }
   ],
   "source": [
    "spent_by_dep.plot.bar(x=\"DEPARTMENT\", y=\"PAID_PRICE\")"
   ]
  },
  {
   "cell_type": "code",
   "execution_count": null,
   "metadata": {},
   "outputs": [],
   "source": []
  }
 ],
 "metadata": {
  "kernelspec": {
   "display_name": "Python 3",
   "language": "python",
   "name": "python3"
  },
  "language_info": {
   "codemirror_mode": {
    "name": "ipython",
    "version": 3
   },
   "file_extension": ".py",
   "mimetype": "text/x-python",
   "name": "python",
   "nbconvert_exporter": "python",
   "pygments_lexer": "ipython3",
   "version": "3.6.5"
  }
 },
 "nbformat": 4,
 "nbformat_minor": 4
}
