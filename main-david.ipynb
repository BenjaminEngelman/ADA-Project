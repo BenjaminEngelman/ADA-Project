{
 "cells": [
  {
   "cell_type": "markdown",
   "metadata": {},
   "source": [
    "# Nice to Meat You: An Analysis on Meat Consumption\n",
    "\n",
    "## Introduction\n",
    "\n",
    "In this notebook, we familiarize ourselves with the Dunnhumby dataset. To do so, we first explore and anlayse the four files that are useful to answer our research questions; namely <em>hh_demographic.csv, product.csv, transacatctions_data.csc and coupon.csv</em>.\n",
    "\n",
    "For each of those, we first perform some basic exloratory analysis (size, missing, values, ...) and then create new colums and tables necessary to conduct our analysis. Finally, we look for more specific insights that are relevant for our project. We also combine the datasets to get more interesting findings.\n",
    "\n",
    "The goal is to get as familiar as possible with the dataset and all its subtleties to make sure it is possible to answer our research questions on the basis of the dataset. "
   ]
  },
  {
   "cell_type": "markdown",
   "metadata": {},
   "source": [
    "## Table of Contents"
   ]
  },
  {
   "cell_type": "markdown",
   "metadata": {},
   "source": [
    "## Environment Setup"
   ]
  },
  {
   "cell_type": "code",
   "execution_count": 1,
   "metadata": {},
   "outputs": [],
   "source": [
    "import pandas as pd\n",
    "import numpy as np\n",
    "import matplotlib.pyplot as plt\n",
    "import seaborn as sns\n",
    "from datetime import datetime, timedelta\n",
    "import plotly.express as px"
   ]
  },
  {
   "cell_type": "markdown",
   "metadata": {},
   "source": [
    "## Analysis of Household Demographics"
   ]
  },
  {
   "cell_type": "code",
   "execution_count": 2,
   "metadata": {},
   "outputs": [
    {
     "data": {
      "text/html": [
       "<div>\n",
       "<style scoped>\n",
       "    .dataframe tbody tr th:only-of-type {\n",
       "        vertical-align: middle;\n",
       "    }\n",
       "\n",
       "    .dataframe tbody tr th {\n",
       "        vertical-align: top;\n",
       "    }\n",
       "\n",
       "    .dataframe thead th {\n",
       "        text-align: right;\n",
       "    }\n",
       "</style>\n",
       "<table border=\"1\" class=\"dataframe\">\n",
       "  <thead>\n",
       "    <tr style=\"text-align: right;\">\n",
       "      <th></th>\n",
       "      <th>AGE_DESC</th>\n",
       "      <th>MARITAL_STATUS_CODE</th>\n",
       "      <th>INCOME_DESC</th>\n",
       "      <th>HOMEOWNER_DESC</th>\n",
       "      <th>HH_COMP_DESC</th>\n",
       "      <th>HOUSEHOLD_SIZE_DESC</th>\n",
       "      <th>KID_CATEGORY_DESC</th>\n",
       "      <th>household_key</th>\n",
       "    </tr>\n",
       "  </thead>\n",
       "  <tbody>\n",
       "    <tr>\n",
       "      <td>0</td>\n",
       "      <td>65+</td>\n",
       "      <td>A</td>\n",
       "      <td>35-49K</td>\n",
       "      <td>Homeowner</td>\n",
       "      <td>2 Adults No Kids</td>\n",
       "      <td>2</td>\n",
       "      <td>None/Unknown</td>\n",
       "      <td>1</td>\n",
       "    </tr>\n",
       "    <tr>\n",
       "      <td>1</td>\n",
       "      <td>45-54</td>\n",
       "      <td>A</td>\n",
       "      <td>50-74K</td>\n",
       "      <td>Homeowner</td>\n",
       "      <td>2 Adults No Kids</td>\n",
       "      <td>2</td>\n",
       "      <td>None/Unknown</td>\n",
       "      <td>7</td>\n",
       "    </tr>\n",
       "    <tr>\n",
       "      <td>2</td>\n",
       "      <td>25-34</td>\n",
       "      <td>U</td>\n",
       "      <td>25-34K</td>\n",
       "      <td>Unknown</td>\n",
       "      <td>2 Adults Kids</td>\n",
       "      <td>3</td>\n",
       "      <td>1</td>\n",
       "      <td>8</td>\n",
       "    </tr>\n",
       "    <tr>\n",
       "      <td>3</td>\n",
       "      <td>25-34</td>\n",
       "      <td>U</td>\n",
       "      <td>75-99K</td>\n",
       "      <td>Homeowner</td>\n",
       "      <td>2 Adults Kids</td>\n",
       "      <td>4</td>\n",
       "      <td>2</td>\n",
       "      <td>13</td>\n",
       "    </tr>\n",
       "    <tr>\n",
       "      <td>4</td>\n",
       "      <td>45-54</td>\n",
       "      <td>B</td>\n",
       "      <td>50-74K</td>\n",
       "      <td>Homeowner</td>\n",
       "      <td>Single Female</td>\n",
       "      <td>1</td>\n",
       "      <td>None/Unknown</td>\n",
       "      <td>16</td>\n",
       "    </tr>\n",
       "  </tbody>\n",
       "</table>\n",
       "</div>"
      ],
      "text/plain": [
       "  AGE_DESC MARITAL_STATUS_CODE INCOME_DESC HOMEOWNER_DESC      HH_COMP_DESC  \\\n",
       "0      65+                   A      35-49K      Homeowner  2 Adults No Kids   \n",
       "1    45-54                   A      50-74K      Homeowner  2 Adults No Kids   \n",
       "2    25-34                   U      25-34K        Unknown     2 Adults Kids   \n",
       "3    25-34                   U      75-99K      Homeowner     2 Adults Kids   \n",
       "4    45-54                   B      50-74K      Homeowner     Single Female   \n",
       "\n",
       "  HOUSEHOLD_SIZE_DESC KID_CATEGORY_DESC  household_key  \n",
       "0                   2      None/Unknown              1  \n",
       "1                   2      None/Unknown              7  \n",
       "2                   3                 1              8  \n",
       "3                   4                 2             13  \n",
       "4                   1      None/Unknown             16  "
      ]
     },
     "execution_count": 2,
     "metadata": {},
     "output_type": "execute_result"
    }
   ],
   "source": [
    "df_household = pd.read_csv('dunnhumby/hh_demographic.csv', sep = ',')\n",
    "df_household.head()"
   ]
  },
  {
   "cell_type": "code",
   "execution_count": 3,
   "metadata": {},
   "outputs": [
    {
     "data": {
      "text/plain": [
       "AGE_DESC               category\n",
       "MARITAL_STATUS_CODE    category\n",
       "INCOME_DESC            category\n",
       "HOMEOWNER_DESC         category\n",
       "HH_COMP_DESC           category\n",
       "HOUSEHOLD_SIZE_DESC    category\n",
       "KID_CATEGORY_DESC      category\n",
       "household_key             int64\n",
       "dtype: object"
      ]
     },
     "execution_count": 3,
     "metadata": {},
     "output_type": "execute_result"
    }
   ],
   "source": [
    "# correct dtypes\n",
    "df_household['AGE_DESC'] = pd.Categorical(df_household['AGE_DESC'].values, categories=['19-24', '25-34', '35-44', '45-54', '55-64', '65+'], ordered=True)\n",
    "df_household['MARITAL_STATUS_CODE'] = df_household['MARITAL_STATUS_CODE'].astype('category')\n",
    "df_household['INCOME_DESC'] = pd.Categorical(df_household['INCOME_DESC'].values, \\\n",
    "    categories=['Under 15K', '15-24K', '25-34K', '35-49K', '50-74K', '75-99K', '100-124K', '125-149K', '150-174K', '175-199K', '200-249K', '250K+'], \\\n",
    "    ordered=True)\n",
    "df_household['HOMEOWNER_DESC'] =  df_household['HOMEOWNER_DESC'].astype('category')\n",
    "df_household['HH_COMP_DESC'] = df_household['HH_COMP_DESC'].astype('category')\n",
    "df_household['HOUSEHOLD_SIZE_DESC'] = pd.Categorical(df_household['HOUSEHOLD_SIZE_DESC'].values, categories=['1', '2', '3', '4', '5+'], ordered=True)\n",
    "df_household['KID_CATEGORY_DESC'] = pd.Categorical(df_household['KID_CATEGORY_DESC'].values, categories=['None/Unknown', '1', '2', '3+'], ordered=True)\n",
    "df_household.dtypes"
   ]
  },
  {
   "cell_type": "markdown",
   "metadata": {},
   "source": [
    "### Exploratory Analysis"
   ]
  },
  {
   "cell_type": "code",
   "execution_count": 4,
   "metadata": {},
   "outputs": [
    {
     "name": "stdout",
     "output_type": "stream",
     "text": [
      "There are 801 rows and 8 columns in the dataset.\n"
     ]
    }
   ],
   "source": [
    "print('There are {0} rows and {1} columns in the dataset.'.format(len(df_household), len(df_household.columns))) "
   ]
  },
  {
   "cell_type": "code",
   "execution_count": 5,
   "metadata": {},
   "outputs": [
    {
     "name": "stdout",
     "output_type": "stream",
     "text": [
      "Number of columns with missing values is 0.\n"
     ]
    }
   ],
   "source": [
    "print('Number of columns with missing values is {0}.'.format(len(df_household.columns.to_numpy()[df_household.isna().any()])))"
   ]
  },
  {
   "cell_type": "code",
   "execution_count": 6,
   "metadata": {},
   "outputs": [
    {
     "name": "stdout",
     "output_type": "stream",
     "text": [
      "Columns:\n",
      "--------\n",
      "AGE_DESC\n",
      "MARITAL_STATUS_CODE\n",
      "INCOME_DESC\n",
      "HOMEOWNER_DESC\n",
      "HH_COMP_DESC\n",
      "HOUSEHOLD_SIZE_DESC\n",
      "KID_CATEGORY_DESC\n",
      "household_key\n"
     ]
    }
   ],
   "source": [
    "print('Columns:')\n",
    "print('--------')\n",
    "for col in df_household.columns:\n",
    "    print(col)"
   ]
  },
  {
   "cell_type": "code",
   "execution_count": 7,
   "metadata": {},
   "outputs": [
    {
     "data": {
      "image/png": "[encoded data removed]",
      "text/plain": [
       "<Figure size 1872x936 with 6 Axes>"
      ]
     },
     "metadata": {
      "needs_background": "light"
     },
     "output_type": "display_data"
    }
   ],
   "source": [
    "fig, axes = plt.subplots(nrows=2, ncols=3, figsize=(26,13))\n",
    "\n",
    "for i, n in enumerate(['AGE_DESC', 'MARITAL_STATUS_CODE', 'INCOME_DESC', 'HOMEOWNER_DESC', 'HOUSEHOLD_SIZE_DESC', 'KID_CATEGORY_DESC']):\n",
    "    df_household.groupby(n)['household_key'].count().plot.bar(ax=axes[i // 3,i % 3])\n",
    "    \n",
    "    if i in [0, 2, 3, 5]:\n",
    "        axes[i // 3,i % 3].set_xticklabels(axes[i // 3,i % 3].get_xticklabels(), rotation=45)\n",
    "    else:\n",
    "        axes[i // 3,i % 3].set_xticklabels(axes[i // 3,i % 3].get_xticklabels(), rotation=0)    "
   ]
  },
  {
   "cell_type": "code",
   "execution_count": 8,
   "metadata": {},
   "outputs": [
    {
     "data": {
      "text/plain": [
       "array(['35-49K', '50-74K', 'Under 35K', '75-99K', '100K+'], dtype=object)"
      ]
     },
     "execution_count": 8,
     "metadata": {},
     "output_type": "execute_result"
    }
   ],
   "source": [
    "# merge some categories to have more households in them\n",
    "cat_to_combine_over100K = [\"100-124K\", \"125-149K\", \"150-174K\", \"175-199K\", \"200-249K\", \"250K+\"]\n",
    "cat_to_combine_under35K = [\"Under 15K\", \"15-24K\", \"25-34K\"]\n",
    "def combine_cat(x):\n",
    "    if x in cat_to_combine_over100K:\n",
    "        return \"100K+\" \n",
    "    elif x in cat_to_combine_under35K:\n",
    "        return \"Under 35K\"\n",
    "    else: \n",
    "        return x\n",
    "    \n",
    "df_household['INCOME_DESC'] = df_household['INCOME_DESC'].apply(combine_cat)\n",
    "df_household.INCOME_DESC.unique()"
   ]
  },
  {
   "cell_type": "code",
   "execution_count": 9,
   "metadata": {},
   "outputs": [
    {
     "data": {
      "image/png": "[encoded data removed]",
      "text/plain": [
       "<Figure size 1872x936 with 12 Axes>"
      ]
     },
     "metadata": {
      "needs_background": "light"
     },
     "output_type": "display_data"
    }
   ],
   "source": [
    "tuples = [ ('MARITAL_STATUS_CODE', 'KID_CATEGORY_DESC'),\n",
    " ('HH_COMP_DESC', 'KID_CATEGORY_DESC'),\n",
    " ('HOUSEHOLD_SIZE_DESC', 'KID_CATEGORY_DESC'),\n",
    " ('AGE_DESC', 'INCOME_DESC'),\n",
    " ('AGE_DESC', 'MARITAL_STATUS_CODE'),\n",
    " ('MARITAL_STATUS_CODE', 'HH_COMP_DESC')]\n",
    "fig, axes = plt.subplots(nrows=2, ncols=3, figsize=(26,13))\n",
    "\n",
    "for i, t in enumerate(tuples):\n",
    "    df_dummy = df_household.groupby([t[0], t[1]]).count()\\\n",
    "        .reset_index().pivot(index= t[0], columns= t[1], values='household_key')\n",
    "    \n",
    "    sns.heatmap(df_dummy, annot=True, fmt=\".0f\", annot_kws={\"size\": 10}, cmap=\"YlGnBu\", ax=axes[i // 3,i % 3])\n",
    "    \n",
    "    b, t = axes[i // 3,i % 3].set_ylim() # discover the values for bottom and top\n",
    "    b += 0.5 # Add 0.5 to the bottom\n",
    "    t -= 0.5 # Subtract 0.5 from the top\n",
    "    axes[i // 3,i % 3].set_ylim(b, t) # update the ylim(bottom, top) values"
   ]
  },
  {
   "cell_type": "code",
   "execution_count": 10,
   "metadata": {},
   "outputs": [
    {
     "data": {
      "text/html": [
       "<div>\n",
       "<style scoped>\n",
       "    .dataframe tbody tr th:only-of-type {\n",
       "        vertical-align: middle;\n",
       "    }\n",
       "\n",
       "    .dataframe tbody tr th {\n",
       "        vertical-align: top;\n",
       "    }\n",
       "\n",
       "    .dataframe thead th {\n",
       "        text-align: right;\n",
       "    }\n",
       "</style>\n",
       "<table border=\"1\" class=\"dataframe\">\n",
       "  <thead>\n",
       "    <tr style=\"text-align: right;\">\n",
       "      <th></th>\n",
       "      <th>AGE_DESC</th>\n",
       "      <th>MARITAL_STATUS_CODE</th>\n",
       "      <th>INCOME_DESC</th>\n",
       "      <th>HOMEOWNER_DESC</th>\n",
       "      <th>HH_COMP_DESC</th>\n",
       "      <th>HOUSEHOLD_SIZE_DESC</th>\n",
       "      <th>KID_CATEGORY_DESC</th>\n",
       "      <th>household_key</th>\n",
       "      <th>GENDER</th>\n",
       "      <th>FAMILY_INFO_EXIST</th>\n",
       "    </tr>\n",
       "  </thead>\n",
       "  <tbody>\n",
       "    <tr>\n",
       "      <td>0</td>\n",
       "      <td>65+</td>\n",
       "      <td>A</td>\n",
       "      <td>35-49K</td>\n",
       "      <td>Homeowner</td>\n",
       "      <td>2 Adults No Kids</td>\n",
       "      <td>2</td>\n",
       "      <td>None/Unknown</td>\n",
       "      <td>1</td>\n",
       "      <td>None</td>\n",
       "      <td>True</td>\n",
       "    </tr>\n",
       "    <tr>\n",
       "      <td>1</td>\n",
       "      <td>45-54</td>\n",
       "      <td>A</td>\n",
       "      <td>50-74K</td>\n",
       "      <td>Homeowner</td>\n",
       "      <td>2 Adults No Kids</td>\n",
       "      <td>2</td>\n",
       "      <td>None/Unknown</td>\n",
       "      <td>7</td>\n",
       "      <td>None</td>\n",
       "      <td>True</td>\n",
       "    </tr>\n",
       "    <tr>\n",
       "      <td>2</td>\n",
       "      <td>25-34</td>\n",
       "      <td>U</td>\n",
       "      <td>Under 35K</td>\n",
       "      <td>Unknown</td>\n",
       "      <td>2 Adults Kids</td>\n",
       "      <td>3</td>\n",
       "      <td>1</td>\n",
       "      <td>8</td>\n",
       "      <td>None</td>\n",
       "      <td>True</td>\n",
       "    </tr>\n",
       "    <tr>\n",
       "      <td>3</td>\n",
       "      <td>25-34</td>\n",
       "      <td>U</td>\n",
       "      <td>75-99K</td>\n",
       "      <td>Homeowner</td>\n",
       "      <td>2 Adults Kids</td>\n",
       "      <td>4</td>\n",
       "      <td>2</td>\n",
       "      <td>13</td>\n",
       "      <td>None</td>\n",
       "      <td>True</td>\n",
       "    </tr>\n",
       "    <tr>\n",
       "      <td>4</td>\n",
       "      <td>45-54</td>\n",
       "      <td>B</td>\n",
       "      <td>50-74K</td>\n",
       "      <td>Homeowner</td>\n",
       "      <td>Single Female</td>\n",
       "      <td>1</td>\n",
       "      <td>None/Unknown</td>\n",
       "      <td>16</td>\n",
       "      <td>Female</td>\n",
       "      <td>True</td>\n",
       "    </tr>\n",
       "  </tbody>\n",
       "</table>\n",
       "</div>"
      ],
      "text/plain": [
       "  AGE_DESC MARITAL_STATUS_CODE INCOME_DESC HOMEOWNER_DESC      HH_COMP_DESC  \\\n",
       "0      65+                   A      35-49K      Homeowner  2 Adults No Kids   \n",
       "1    45-54                   A      50-74K      Homeowner  2 Adults No Kids   \n",
       "2    25-34                   U   Under 35K        Unknown     2 Adults Kids   \n",
       "3    25-34                   U      75-99K      Homeowner     2 Adults Kids   \n",
       "4    45-54                   B      50-74K      Homeowner     Single Female   \n",
       "\n",
       "  HOUSEHOLD_SIZE_DESC KID_CATEGORY_DESC  household_key  GENDER  \\\n",
       "0                   2      None/Unknown              1    None   \n",
       "1                   2      None/Unknown              7    None   \n",
       "2                   3                 1              8    None   \n",
       "3                   4                 2             13    None   \n",
       "4                   1      None/Unknown             16  Female   \n",
       "\n",
       "   FAMILY_INFO_EXIST  \n",
       "0               True  \n",
       "1               True  \n",
       "2               True  \n",
       "3               True  \n",
       "4               True  "
      ]
     },
     "execution_count": 10,
     "metadata": {},
     "output_type": "execute_result"
    }
   ],
   "source": [
    "# add new usefull columns\n",
    "\n",
    "# for gender column\n",
    "def create_gender_column(row):\n",
    "    if row['HH_COMP_DESC'] == 'Single Female':\n",
    "        return 'Female'\n",
    "    elif row['HH_COMP_DESC'] == 'Single Male':\n",
    "        return 'Male'\n",
    "    else:\n",
    "        return None\n",
    "\n",
    "# for faimly_info_exist column\n",
    "def create_family_info_column(row):\n",
    "    return not (row['HH_COMP_DESC'] == 'Unknown' and row['KID_CATEGORY_DESC'] == 'None/Unknown')\n",
    "\n",
    "# create columns\n",
    "df_household['GENDER'] = df_household.apply (lambda row: create_gender_column(row), axis=1)\n",
    "df_household['FAMILY_INFO_EXIST'] = df_household.apply (lambda row: create_family_info_column(row), axis=1)\n",
    "\n",
    "df_household.head()"
   ]
  },
  {
   "cell_type": "markdown",
   "metadata": {},
   "source": [
    "## Analysis of Products"
   ]
  },
  {
   "cell_type": "code",
   "execution_count": 11,
   "metadata": {},
   "outputs": [
    {
     "data": {
      "text/html": [
       "<div>\n",
       "<style scoped>\n",
       "    .dataframe tbody tr th:only-of-type {\n",
       "        vertical-align: middle;\n",
       "    }\n",
       "\n",
       "    .dataframe tbody tr th {\n",
       "        vertical-align: top;\n",
       "    }\n",
       "\n",
       "    .dataframe thead th {\n",
       "        text-align: right;\n",
       "    }\n",
       "</style>\n",
       "<table border=\"1\" class=\"dataframe\">\n",
       "  <thead>\n",
       "    <tr style=\"text-align: right;\">\n",
       "      <th></th>\n",
       "      <th>PRODUCT_ID</th>\n",
       "      <th>MANUFACTURER</th>\n",
       "      <th>DEPARTMENT</th>\n",
       "      <th>BRAND</th>\n",
       "      <th>COMMODITY_DESC</th>\n",
       "      <th>SUB_COMMODITY_DESC</th>\n",
       "      <th>CURR_SIZE_OF_PRODUCT</th>\n",
       "    </tr>\n",
       "  </thead>\n",
       "  <tbody>\n",
       "    <tr>\n",
       "      <td>0</td>\n",
       "      <td>25671</td>\n",
       "      <td>2</td>\n",
       "      <td>GROCERY</td>\n",
       "      <td>National</td>\n",
       "      <td>FRZN ICE</td>\n",
       "      <td>ICE - CRUSHED/CUBED</td>\n",
       "      <td>22 LB</td>\n",
       "    </tr>\n",
       "    <tr>\n",
       "      <td>1</td>\n",
       "      <td>26081</td>\n",
       "      <td>2</td>\n",
       "      <td>MISC. TRANS.</td>\n",
       "      <td>National</td>\n",
       "      <td>NO COMMODITY DESCRIPTION</td>\n",
       "      <td>NO SUBCOMMODITY DESCRIPTION</td>\n",
       "      <td></td>\n",
       "    </tr>\n",
       "    <tr>\n",
       "      <td>2</td>\n",
       "      <td>26093</td>\n",
       "      <td>69</td>\n",
       "      <td>PASTRY</td>\n",
       "      <td>Private</td>\n",
       "      <td>BREAD</td>\n",
       "      <td>BREAD:ITALIAN/FRENCH</td>\n",
       "      <td></td>\n",
       "    </tr>\n",
       "    <tr>\n",
       "      <td>3</td>\n",
       "      <td>26190</td>\n",
       "      <td>69</td>\n",
       "      <td>GROCERY</td>\n",
       "      <td>Private</td>\n",
       "      <td>FRUIT - SHELF STABLE</td>\n",
       "      <td>APPLE SAUCE</td>\n",
       "      <td>50 OZ</td>\n",
       "    </tr>\n",
       "    <tr>\n",
       "      <td>4</td>\n",
       "      <td>26355</td>\n",
       "      <td>69</td>\n",
       "      <td>GROCERY</td>\n",
       "      <td>Private</td>\n",
       "      <td>COOKIES/CONES</td>\n",
       "      <td>SPECIALTY COOKIES</td>\n",
       "      <td>14 OZ</td>\n",
       "    </tr>\n",
       "  </tbody>\n",
       "</table>\n",
       "</div>"
      ],
      "text/plain": [
       "   PRODUCT_ID  MANUFACTURER    DEPARTMENT     BRAND            COMMODITY_DESC  \\\n",
       "0       25671             2       GROCERY  National                  FRZN ICE   \n",
       "1       26081             2  MISC. TRANS.  National  NO COMMODITY DESCRIPTION   \n",
       "2       26093            69        PASTRY   Private                     BREAD   \n",
       "3       26190            69       GROCERY   Private      FRUIT - SHELF STABLE   \n",
       "4       26355            69       GROCERY   Private             COOKIES/CONES   \n",
       "\n",
       "            SUB_COMMODITY_DESC CURR_SIZE_OF_PRODUCT  \n",
       "0          ICE - CRUSHED/CUBED                22 LB  \n",
       "1  NO SUBCOMMODITY DESCRIPTION                       \n",
       "2         BREAD:ITALIAN/FRENCH                       \n",
       "3                  APPLE SAUCE                50 OZ  \n",
       "4            SPECIALTY COOKIES                14 OZ  "
      ]
     },
     "execution_count": 11,
     "metadata": {},
     "output_type": "execute_result"
    }
   ],
   "source": [
    "df_products = pd.read_csv('dunnhumby/product.csv', sep = ',')\n",
    "df_products.head()"
   ]
  },
  {
   "cell_type": "code",
   "execution_count": 12,
   "metadata": {},
   "outputs": [
    {
     "name": "stdout",
     "output_type": "stream",
     "text": [
      "There are 92353 rows and 7 columns in the dataset.\n"
     ]
    }
   ],
   "source": [
    "print('There are {0} rows and {1} columns in the dataset.'.format(len(df_products), len(df_products.columns))) "
   ]
  },
  {
   "cell_type": "code",
   "execution_count": 13,
   "metadata": {},
   "outputs": [
    {
     "name": "stdout",
     "output_type": "stream",
     "text": [
      "Number of columns with missing values is 0.\n"
     ]
    }
   ],
   "source": [
    "print('Number of columns with missing values is {0}.'.format(len(df_products.columns.to_numpy()[df_products.isna().any()])))"
   ]
  },
  {
   "cell_type": "code",
   "execution_count": 14,
   "metadata": {},
   "outputs": [
    {
     "name": "stdout",
     "output_type": "stream",
     "text": [
      "Columns:\n",
      "--------\n",
      "PRODUCT_ID\n",
      "MANUFACTURER\n",
      "DEPARTMENT\n",
      "BRAND\n",
      "COMMODITY_DESC\n",
      "SUB_COMMODITY_DESC\n",
      "CURR_SIZE_OF_PRODUCT\n"
     ]
    }
   ],
   "source": [
    "print('Columns:')\n",
    "print('--------')\n",
    "for col in df_products.columns:\n",
    "    print(col)"
   ]
  },
  {
   "cell_type": "code",
   "execution_count": 15,
   "metadata": {},
   "outputs": [
    {
     "name": "stdout",
     "output_type": "stream",
     "text": [
      "There are 92353 unique products distributed in 44 different departments.\n"
     ]
    }
   ],
   "source": [
    "print('There are {0} unique products distributed in {1} different departments.'.format(len(df_products['PRODUCT_ID'].unique()), len(df_products['DEPARTMENT'].unique())))"
   ]
  },
  {
   "cell_type": "code",
   "execution_count": 16,
   "metadata": {},
   "outputs": [
    {
     "data": {
      "image/png": "[encoded data removed]",
      "text/plain": [
       "<Figure size 576x432 with 1 Axes>"
      ]
     },
     "metadata": {
      "needs_background": "light"
     },
     "output_type": "display_data"
    }
   ],
   "source": [
    "df_products.groupby(\"DEPARTMENT\").count()[\"PRODUCT_ID\"].sort_values(ascending=False).plot.bar(figsize=(8, 6))\n",
    "plt.title('Number of Products per Department');"
   ]
  },
  {
   "cell_type": "markdown",
   "metadata": {},
   "source": [
    "### Food Products"
   ]
  },
  {
   "cell_type": "markdown",
   "metadata": {},
   "source": [
    "For this project, the main interest is food products. Therefore, a dataframe with only food-related departments is created."
   ]
  },
  {
   "cell_type": "code",
   "execution_count": 17,
   "metadata": {},
   "outputs": [],
   "source": [
    "df_food_products = pd.read_csv('data/food_products.csv')"
   ]
  },
  {
   "cell_type": "code",
   "execution_count": 18,
   "metadata": {},
   "outputs": [
    {
     "name": "stdout",
     "output_type": "stream",
     "text": [
      "There are 51341 unique food products distributed in 18 different departments.\n"
     ]
    }
   ],
   "source": [
    "print('There are {0} unique food products distributed in {1} different departments.'.format(len(df_food_products['PRODUCT_ID'].unique()), len(df_food_products['DEPARTMENT'].unique())))"
   ]
  },
  {
   "cell_type": "code",
   "execution_count": 19,
   "metadata": {},
   "outputs": [
    {
     "data": {
      "image/png": "[encoded data removed]",
      "text/plain": [
       "<Figure size 432x288 with 1 Axes>"
      ]
     },
     "metadata": {
      "needs_background": "light"
     },
     "output_type": "display_data"
    }
   ],
   "source": [
    "df_food_products.groupby(\"DEPARTMENT\").count()[\"PRODUCT_ID\"].sort_values(ascending=False).plot.bar()\n",
    "plt.title('Number of Food Products per Department');"
   ]
  },
  {
   "cell_type": "markdown",
   "metadata": {},
   "source": [
    "### Products Contain Only Meat"
   ]
  },
  {
   "cell_type": "code",
   "execution_count": 20,
   "metadata": {},
   "outputs": [],
   "source": [
    "df_meat_products = pd.read_csv('data/meat_products.csv')"
   ]
  },
  {
   "cell_type": "code",
   "execution_count": 21,
   "metadata": {},
   "outputs": [
    {
     "name": "stdout",
     "output_type": "stream",
     "text": [
      "There are 8785 unique meat products distributed in 10 different departments.\n"
     ]
    }
   ],
   "source": [
    "print('There are {0} unique meat products distributed in {1} different departments.'.format(len(df_meat_products['PRODUCT_ID'].unique()), len(df_meat_products['DEPARTMENT'].unique())))"
   ]
  },
  {
   "cell_type": "code",
   "execution_count": 22,
   "metadata": {},
   "outputs": [
    {
     "data": {
      "image/png": "[encoded data removed]",
      "text/plain": [
       "<Figure size 432x288 with 1 Axes>"
      ]
     },
     "metadata": {
      "needs_background": "light"
     },
     "output_type": "display_data"
    }
   ],
   "source": [
    "df_meat_products.groupby(\"DEPARTMENT\").count()[\"PRODUCT_ID\"].sort_values(ascending=False).plot.bar()\n",
    "plt.title('Number of Meat Products per Department');"
   ]
  },
  {
   "cell_type": "markdown",
   "metadata": {},
   "source": [
    "### Vegetables products"
   ]
  },
  {
   "cell_type": "code",
   "execution_count": 23,
   "metadata": {},
   "outputs": [],
   "source": [
    "df_veggies_prducts = pd.read_csv('data/vegetables_products.csv')"
   ]
  },
  {
   "cell_type": "code",
   "execution_count": 24,
   "metadata": {},
   "outputs": [
    {
     "name": "stdout",
     "output_type": "stream",
     "text": [
      "There are 3209 unique vegetable products distributed in 7 different departments.\n"
     ]
    }
   ],
   "source": [
    "print('There are {0} unique vegetable products distributed in {1} different departments.'.format(len(df_veggies_prducts['PRODUCT_ID'].unique()), len(df_veggies_prducts['DEPARTMENT'].unique())))"
   ]
  },
  {
   "cell_type": "code",
   "execution_count": 25,
   "metadata": {},
   "outputs": [
    {
     "data": {
      "image/png": "[encoded data removed]",
      "text/plain": [
       "<Figure size 432x288 with 1 Axes>"
      ]
     },
     "metadata": {
      "needs_background": "light"
     },
     "output_type": "display_data"
    }
   ],
   "source": [
    "df_veggies_prducts.groupby(\"DEPARTMENT\").count()[\"PRODUCT_ID\"].sort_values(ascending=False).plot.bar()\n",
    "plt.title('Number of Vegetables Products per Department');"
   ]
  },
  {
   "cell_type": "markdown",
   "metadata": {},
   "source": [
    "## Analysis of Transactions"
   ]
  },
  {
   "cell_type": "markdown",
   "metadata": {},
   "source": [
    "This csv file contains more than 2 million transactions. Each transactiction is identified by a household, a product id and a basket id."
   ]
  },
  {
   "cell_type": "code",
   "execution_count": 26,
   "metadata": {},
   "outputs": [
    {
     "data": {
      "text/html": [
       "<div>\n",
       "<style scoped>\n",
       "    .dataframe tbody tr th:only-of-type {\n",
       "        vertical-align: middle;\n",
       "    }\n",
       "\n",
       "    .dataframe tbody tr th {\n",
       "        vertical-align: top;\n",
       "    }\n",
       "\n",
       "    .dataframe thead th {\n",
       "        text-align: right;\n",
       "    }\n",
       "</style>\n",
       "<table border=\"1\" class=\"dataframe\">\n",
       "  <thead>\n",
       "    <tr style=\"text-align: right;\">\n",
       "      <th></th>\n",
       "      <th>household_key</th>\n",
       "      <th>BASKET_ID</th>\n",
       "      <th>DAY</th>\n",
       "      <th>PRODUCT_ID</th>\n",
       "      <th>QUANTITY</th>\n",
       "      <th>SALES_VALUE</th>\n",
       "      <th>STORE_ID</th>\n",
       "      <th>RETAIL_DISC</th>\n",
       "      <th>TRANS_TIME</th>\n",
       "      <th>WEEK_NO</th>\n",
       "      <th>COUPON_DISC</th>\n",
       "      <th>COUPON_MATCH_DISC</th>\n",
       "    </tr>\n",
       "  </thead>\n",
       "  <tbody>\n",
       "    <tr>\n",
       "      <td>0</td>\n",
       "      <td>2375</td>\n",
       "      <td>26984851472</td>\n",
       "      <td>1</td>\n",
       "      <td>1004906</td>\n",
       "      <td>1</td>\n",
       "      <td>1.39</td>\n",
       "      <td>364</td>\n",
       "      <td>-0.60</td>\n",
       "      <td>1631</td>\n",
       "      <td>1</td>\n",
       "      <td>0.0</td>\n",
       "      <td>0.0</td>\n",
       "    </tr>\n",
       "    <tr>\n",
       "      <td>1</td>\n",
       "      <td>2375</td>\n",
       "      <td>26984851472</td>\n",
       "      <td>1</td>\n",
       "      <td>1033142</td>\n",
       "      <td>1</td>\n",
       "      <td>0.82</td>\n",
       "      <td>364</td>\n",
       "      <td>0.00</td>\n",
       "      <td>1631</td>\n",
       "      <td>1</td>\n",
       "      <td>0.0</td>\n",
       "      <td>0.0</td>\n",
       "    </tr>\n",
       "    <tr>\n",
       "      <td>2</td>\n",
       "      <td>2375</td>\n",
       "      <td>26984851472</td>\n",
       "      <td>1</td>\n",
       "      <td>1036325</td>\n",
       "      <td>1</td>\n",
       "      <td>0.99</td>\n",
       "      <td>364</td>\n",
       "      <td>-0.30</td>\n",
       "      <td>1631</td>\n",
       "      <td>1</td>\n",
       "      <td>0.0</td>\n",
       "      <td>0.0</td>\n",
       "    </tr>\n",
       "    <tr>\n",
       "      <td>3</td>\n",
       "      <td>2375</td>\n",
       "      <td>26984851472</td>\n",
       "      <td>1</td>\n",
       "      <td>1082185</td>\n",
       "      <td>1</td>\n",
       "      <td>1.21</td>\n",
       "      <td>364</td>\n",
       "      <td>0.00</td>\n",
       "      <td>1631</td>\n",
       "      <td>1</td>\n",
       "      <td>0.0</td>\n",
       "      <td>0.0</td>\n",
       "    </tr>\n",
       "    <tr>\n",
       "      <td>4</td>\n",
       "      <td>2375</td>\n",
       "      <td>26984851472</td>\n",
       "      <td>1</td>\n",
       "      <td>8160430</td>\n",
       "      <td>1</td>\n",
       "      <td>1.50</td>\n",
       "      <td>364</td>\n",
       "      <td>-0.39</td>\n",
       "      <td>1631</td>\n",
       "      <td>1</td>\n",
       "      <td>0.0</td>\n",
       "      <td>0.0</td>\n",
       "    </tr>\n",
       "  </tbody>\n",
       "</table>\n",
       "</div>"
      ],
      "text/plain": [
       "   household_key    BASKET_ID  DAY  PRODUCT_ID  QUANTITY  SALES_VALUE  \\\n",
       "0           2375  26984851472    1     1004906         1         1.39   \n",
       "1           2375  26984851472    1     1033142         1         0.82   \n",
       "2           2375  26984851472    1     1036325         1         0.99   \n",
       "3           2375  26984851472    1     1082185         1         1.21   \n",
       "4           2375  26984851472    1     8160430         1         1.50   \n",
       "\n",
       "   STORE_ID  RETAIL_DISC  TRANS_TIME  WEEK_NO  COUPON_DISC  COUPON_MATCH_DISC  \n",
       "0       364        -0.60        1631        1          0.0                0.0  \n",
       "1       364         0.00        1631        1          0.0                0.0  \n",
       "2       364        -0.30        1631        1          0.0                0.0  \n",
       "3       364         0.00        1631        1          0.0                0.0  \n",
       "4       364        -0.39        1631        1          0.0                0.0  "
      ]
     },
     "execution_count": 26,
     "metadata": {},
     "output_type": "execute_result"
    }
   ],
   "source": [
    "# Load the dataset\n",
    "df_transactions = pd.read_csv('dunnhumby/transaction_data.csv', sep = ',')\n",
    "df_transactions.head()"
   ]
  },
  {
   "cell_type": "code",
   "execution_count": 27,
   "metadata": {},
   "outputs": [
    {
     "name": "stdout",
     "output_type": "stream",
     "text": [
      "There are 2595732 rows and 12 columns in the dataset.\n"
     ]
    }
   ],
   "source": [
    "print('There are {0} rows and {1} columns in the dataset.'.format(len(df_transactions), len(df_transactions.columns))) "
   ]
  },
  {
   "cell_type": "code",
   "execution_count": 28,
   "metadata": {},
   "outputs": [
    {
     "name": "stdout",
     "output_type": "stream",
     "text": [
      "Number of columns with missing values is 0.\n"
     ]
    }
   ],
   "source": [
    "print('Number of columns with missing values is {0}.'.format(len(df_transactions.columns.to_numpy()[df_transactions.isna().any()])))"
   ]
  },
  {
   "cell_type": "code",
   "execution_count": 29,
   "metadata": {},
   "outputs": [
    {
     "name": "stdout",
     "output_type": "stream",
     "text": [
      "Columns:\n",
      "--------\n",
      "household_key\n",
      "BASKET_ID\n",
      "DAY\n",
      "PRODUCT_ID\n",
      "QUANTITY\n",
      "SALES_VALUE\n",
      "STORE_ID\n",
      "RETAIL_DISC\n",
      "TRANS_TIME\n",
      "WEEK_NO\n",
      "COUPON_DISC\n",
      "COUPON_MATCH_DISC\n"
     ]
    }
   ],
   "source": [
    "print('Columns:')\n",
    "print('--------')\n",
    "for col in df_transactions.columns:\n",
    "    print(col)"
   ]
  },
  {
   "cell_type": "markdown",
   "metadata": {},
   "source": [
    "### Exploratory Analysis"
   ]
  },
  {
   "cell_type": "markdown",
   "metadata": {},
   "source": [
    "#### Create PAID_PRICE column"
   ]
  },
  {
   "cell_type": "markdown",
   "metadata": {},
   "source": [
    "The column named SALES_VALUE does not represent what a client paid for a product. It represents the raw value of a product that does not take into account the potential discounts. To be able to analyse the expenses of the customers we want to create a column PAID_PRICE that contains the actual amount that the customer paid. \n",
    "\n",
    "The paid price is calculated as follows :\n",
    "\n",
    "PAID_PRICE = (SALES_VALUE - ( |RETAIL_DISC| + |COUPON_MATCH_DISC|)) "
   ]
  },
  {
   "cell_type": "code",
   "execution_count": 30,
   "metadata": {},
   "outputs": [
    {
     "data": {
      "text/html": [
       "<div>\n",
       "<style scoped>\n",
       "    .dataframe tbody tr th:only-of-type {\n",
       "        vertical-align: middle;\n",
       "    }\n",
       "\n",
       "    .dataframe tbody tr th {\n",
       "        vertical-align: top;\n",
       "    }\n",
       "\n",
       "    .dataframe thead th {\n",
       "        text-align: right;\n",
       "    }\n",
       "</style>\n",
       "<table border=\"1\" class=\"dataframe\">\n",
       "  <thead>\n",
       "    <tr style=\"text-align: right;\">\n",
       "      <th></th>\n",
       "      <th>household_key</th>\n",
       "      <th>BASKET_ID</th>\n",
       "      <th>DAY</th>\n",
       "      <th>PRODUCT_ID</th>\n",
       "      <th>QUANTITY</th>\n",
       "      <th>SALES_VALUE</th>\n",
       "      <th>STORE_ID</th>\n",
       "      <th>RETAIL_DISC</th>\n",
       "      <th>TRANS_TIME</th>\n",
       "      <th>WEEK_NO</th>\n",
       "      <th>COUPON_DISC</th>\n",
       "      <th>COUPON_MATCH_DISC</th>\n",
       "      <th>PAID_PRICE</th>\n",
       "    </tr>\n",
       "  </thead>\n",
       "  <tbody>\n",
       "    <tr>\n",
       "      <td>0</td>\n",
       "      <td>2375</td>\n",
       "      <td>26984851472</td>\n",
       "      <td>1</td>\n",
       "      <td>1004906</td>\n",
       "      <td>1</td>\n",
       "      <td>1.39</td>\n",
       "      <td>364</td>\n",
       "      <td>-0.60</td>\n",
       "      <td>1631</td>\n",
       "      <td>1</td>\n",
       "      <td>0.0</td>\n",
       "      <td>0.0</td>\n",
       "      <td>0.79</td>\n",
       "    </tr>\n",
       "    <tr>\n",
       "      <td>1</td>\n",
       "      <td>2375</td>\n",
       "      <td>26984851472</td>\n",
       "      <td>1</td>\n",
       "      <td>1033142</td>\n",
       "      <td>1</td>\n",
       "      <td>0.82</td>\n",
       "      <td>364</td>\n",
       "      <td>0.00</td>\n",
       "      <td>1631</td>\n",
       "      <td>1</td>\n",
       "      <td>0.0</td>\n",
       "      <td>0.0</td>\n",
       "      <td>0.82</td>\n",
       "    </tr>\n",
       "    <tr>\n",
       "      <td>2</td>\n",
       "      <td>2375</td>\n",
       "      <td>26984851472</td>\n",
       "      <td>1</td>\n",
       "      <td>1036325</td>\n",
       "      <td>1</td>\n",
       "      <td>0.99</td>\n",
       "      <td>364</td>\n",
       "      <td>-0.30</td>\n",
       "      <td>1631</td>\n",
       "      <td>1</td>\n",
       "      <td>0.0</td>\n",
       "      <td>0.0</td>\n",
       "      <td>0.69</td>\n",
       "    </tr>\n",
       "    <tr>\n",
       "      <td>3</td>\n",
       "      <td>2375</td>\n",
       "      <td>26984851472</td>\n",
       "      <td>1</td>\n",
       "      <td>1082185</td>\n",
       "      <td>1</td>\n",
       "      <td>1.21</td>\n",
       "      <td>364</td>\n",
       "      <td>0.00</td>\n",
       "      <td>1631</td>\n",
       "      <td>1</td>\n",
       "      <td>0.0</td>\n",
       "      <td>0.0</td>\n",
       "      <td>1.21</td>\n",
       "    </tr>\n",
       "    <tr>\n",
       "      <td>4</td>\n",
       "      <td>2375</td>\n",
       "      <td>26984851472</td>\n",
       "      <td>1</td>\n",
       "      <td>8160430</td>\n",
       "      <td>1</td>\n",
       "      <td>1.50</td>\n",
       "      <td>364</td>\n",
       "      <td>-0.39</td>\n",
       "      <td>1631</td>\n",
       "      <td>1</td>\n",
       "      <td>0.0</td>\n",
       "      <td>0.0</td>\n",
       "      <td>1.11</td>\n",
       "    </tr>\n",
       "  </tbody>\n",
       "</table>\n",
       "</div>"
      ],
      "text/plain": [
       "   household_key    BASKET_ID  DAY  PRODUCT_ID  QUANTITY  SALES_VALUE  \\\n",
       "0           2375  26984851472    1     1004906         1         1.39   \n",
       "1           2375  26984851472    1     1033142         1         0.82   \n",
       "2           2375  26984851472    1     1036325         1         0.99   \n",
       "3           2375  26984851472    1     1082185         1         1.21   \n",
       "4           2375  26984851472    1     8160430         1         1.50   \n",
       "\n",
       "   STORE_ID  RETAIL_DISC  TRANS_TIME  WEEK_NO  COUPON_DISC  COUPON_MATCH_DISC  \\\n",
       "0       364        -0.60        1631        1          0.0                0.0   \n",
       "1       364         0.00        1631        1          0.0                0.0   \n",
       "2       364        -0.30        1631        1          0.0                0.0   \n",
       "3       364         0.00        1631        1          0.0                0.0   \n",
       "4       364        -0.39        1631        1          0.0                0.0   \n",
       "\n",
       "   PAID_PRICE  \n",
       "0        0.79  \n",
       "1        0.82  \n",
       "2        0.69  \n",
       "3        1.21  \n",
       "4        1.11  "
      ]
     },
     "execution_count": 30,
     "metadata": {},
     "output_type": "execute_result"
    }
   ],
   "source": [
    "df_transactions[\"PAID_PRICE\"] = (df_transactions.SALES_VALUE - (df_transactions.RETAIL_DISC.abs() + df_transactions.COUPON_MATCH_DISC.abs()))\n",
    "df_transactions[\"PAID_PRICE\"] = df_transactions[\"PAID_PRICE\"].clip(lower=0)\n",
    "df_transactions.head()"
   ]
  },
  {
   "cell_type": "markdown",
   "metadata": {},
   "source": [
    "#### Transform DAY column to DATE"
   ]
  },
  {
   "cell_type": "markdown",
   "metadata": {},
   "source": [
    "We found [a github project](https://github.com/Lanbig/CSC465-visualization-project) in which the author makes a calendar visualization of the Dunnhumby dataset. According to him, the day 1 corresponds to 24th of march 2010."
   ]
  },
  {
   "cell_type": "code",
   "execution_count": 31,
   "metadata": {},
   "outputs": [],
   "source": [
    "start_date = datetime(2010, 3, 24)\n",
    "def convert_day_to_date(day):\n",
    "    date = start_date + timedelta(days=day-1)\n",
    "    return date\n",
    "\n",
    "df_transactions[\"DATE\"] = df_transactions.DAY.apply(convert_day_to_date)"
   ]
  },
  {
   "cell_type": "code",
   "execution_count": 32,
   "metadata": {},
   "outputs": [
    {
     "data": {
      "text/html": [
       "<div>\n",
       "<style scoped>\n",
       "    .dataframe tbody tr th:only-of-type {\n",
       "        vertical-align: middle;\n",
       "    }\n",
       "\n",
       "    .dataframe tbody tr th {\n",
       "        vertical-align: top;\n",
       "    }\n",
       "\n",
       "    .dataframe thead th {\n",
       "        text-align: right;\n",
       "    }\n",
       "</style>\n",
       "<table border=\"1\" class=\"dataframe\">\n",
       "  <thead>\n",
       "    <tr style=\"text-align: right;\">\n",
       "      <th></th>\n",
       "      <th>index</th>\n",
       "      <th>DATE</th>\n",
       "      <th>count</th>\n",
       "    </tr>\n",
       "  </thead>\n",
       "  <tbody>\n",
       "    <tr>\n",
       "      <td>0</td>\n",
       "      <td>0</td>\n",
       "      <td>2010-03-24</td>\n",
       "      <td>238</td>\n",
       "    </tr>\n",
       "    <tr>\n",
       "      <td>1</td>\n",
       "      <td>1</td>\n",
       "      <td>2010-03-25</td>\n",
       "      <td>137</td>\n",
       "    </tr>\n",
       "    <tr>\n",
       "      <td>2</td>\n",
       "      <td>2</td>\n",
       "      <td>2010-03-26</td>\n",
       "      <td>524</td>\n",
       "    </tr>\n",
       "    <tr>\n",
       "      <td>3</td>\n",
       "      <td>3</td>\n",
       "      <td>2010-03-27</td>\n",
       "      <td>675</td>\n",
       "    </tr>\n",
       "    <tr>\n",
       "      <td>4</td>\n",
       "      <td>4</td>\n",
       "      <td>2010-03-28</td>\n",
       "      <td>307</td>\n",
       "    </tr>\n",
       "  </tbody>\n",
       "</table>\n",
       "</div>"
      ],
      "text/plain": [
       "   index       DATE  count\n",
       "0      0 2010-03-24    238\n",
       "1      1 2010-03-25    137\n",
       "2      2 2010-03-26    524\n",
       "3      3 2010-03-27    675\n",
       "4      4 2010-03-28    307"
      ]
     },
     "execution_count": 32,
     "metadata": {},
     "output_type": "execute_result"
    }
   ],
   "source": [
    "trans_per_day = df_transactions.groupby(\"DATE\")[\"household_key\"].count().reset_index(name=\"count\").reset_index()\n",
    "trans_per_day.head()"
   ]
  },
  {
   "cell_type": "code",
   "execution_count": 34,
   "metadata": {},
   "outputs": [],
   "source": [
    "fig = px.line(trans_per_day, x='DATE', y='count')\n",
    "fig.show()"
   ]
  },
  {
   "cell_type": "markdown",
   "metadata": {},
   "source": [
    "#### Time column"
   ]
  },
  {
   "cell_type": "code",
   "execution_count": null,
   "metadata": {},
   "outputs": [],
   "source": [
    "print(f\"Minimum value for the TRANS_TIME: {df_transactions.TRANS_TIME.min()}\")\n",
    "print(f\"Maximum value for the TRANS_TIME: {df_transactions.TRANS_TIME.max()}\")"
   ]
  },
  {
   "cell_type": "markdown",
   "metadata": {},
   "source": [
    "This column actually contains the time a which the transaction took place. The time is represented by an integer between 0 and 2359 that respectively corresponds to midnight and 23:59.  "
   ]
  },
  {
   "cell_type": "markdown",
   "metadata": {},
   "source": [
    "We only keep the transactions related to food prodcuts for the rest of the analysis."
   ]
  },
  {
   "cell_type": "code",
   "execution_count": null,
   "metadata": {},
   "outputs": [],
   "source": [
    "food_products_IDs = df_food_products.PRODUCT_ID.values\n",
    "df_food_transactions = df_transactions[df_transactions.PRODUCT_ID.isin(food_products_IDs)]"
   ]
  },
  {
   "cell_type": "code",
   "execution_count": null,
   "metadata": {},
   "outputs": [],
   "source": [
    "print(f\"The dataframe contains {len(df_food_transactions)} transactions.\")"
   ]
  },
  {
   "cell_type": "code",
   "execution_count": null,
   "metadata": {},
   "outputs": [],
   "source": [
    "print(f\"The dataframe contains {len(df_food_transactions.BASKET_ID.unique())} baskets.\")"
   ]
  },
  {
   "cell_type": "markdown",
   "metadata": {},
   "source": [
    "### Basket Prices"
   ]
  },
  {
   "cell_type": "markdown",
   "metadata": {},
   "source": [
    "To get an idea of how the people consume in the dataset, we are interested in knowing what is the distribution of the basket prices."
   ]
  },
  {
   "cell_type": "code",
   "execution_count": null,
   "metadata": {},
   "outputs": [],
   "source": [
    "df_food_transactions.groupby(\"BASKET_ID\").PAID_PRICE.sum().hist(bins=100)\n",
    "plt.xlabel('basket prices')\n",
    "plt.ylabel('count')\n",
    "plt.title('Histogram of Basket Prices');"
   ]
  },
  {
   "cell_type": "code",
   "execution_count": null,
   "metadata": {},
   "outputs": [],
   "source": [
    "basket_prices = df_transactions.groupby(\"BASKET_ID\").PAID_PRICE.sum()\n",
    "print(f\"The median basket price is {round(basket_prices.median(), 2)} $.\")"
   ]
  },
  {
   "cell_type": "markdown",
   "metadata": {},
   "source": [
    "It seems that the basket price follows a exponential distribution. We can plot it on a semi-log scale :"
   ]
  },
  {
   "cell_type": "code",
   "execution_count": null,
   "metadata": {},
   "outputs": [],
   "source": [
    "df_food_transactions.groupby(\"BASKET_ID\").PAID_PRICE.sum().hist(bins=100)\n",
    "plt.yscale(\"log\")\n",
    "plt.xlabel('basket prices')\n",
    "plt.ylabel('count')\n",
    "plt.title('Log-scaled Histogram of Basket Prices');"
   ]
  },
  {
   "cell_type": "markdown",
   "metadata": {},
   "source": [
    "We see that there are some baskets that cost 0 dollars. Let's have a look at one of those baskets :"
   ]
  },
  {
   "cell_type": "code",
   "execution_count": null,
   "metadata": {},
   "outputs": [],
   "source": [
    "free_products = len(df_food_transactions[df_food_transactions.PAID_PRICE == 0])\n",
    "percent_free_products = round(free_products * 100 / len(df_food_transactions), 2)\n",
    "print(f\"There are {free_products} products that were bought for free which is {percent_free_products}% of food related transcations.\")"
   ]
  },
  {
   "cell_type": "code",
   "execution_count": null,
   "metadata": {},
   "outputs": [],
   "source": [
    "df_food_transactions[df_food_transactions.PAID_PRICE == 0].sample(5)"
   ]
  },
  {
   "cell_type": "markdown",
   "metadata": {},
   "source": [
    "For these products, we observe that the discount is bigger than the sales value. This explains why some transactions do not cost anything to the buyer."
   ]
  },
  {
   "cell_type": "markdown",
   "metadata": {},
   "source": [
    "### Basket Sizes"
   ]
  },
  {
   "cell_type": "markdown",
   "metadata": {},
   "source": [
    "We are also interested in the quantity of products that the consumers buy."
   ]
  },
  {
   "cell_type": "code",
   "execution_count": null,
   "metadata": {},
   "outputs": [],
   "source": [
    "df_food_transactions.groupby(\"BASKET_ID\")[\"QUANTITY\"].sum().hist(bins=100)\n",
    "plt.yscale(\"log\")\n",
    "plt.xlabel('basket size')\n",
    "plt.ylabel('count')\n",
    "plt.title('Log-scaled Histogram of Basket Sizes');"
   ]
  },
  {
   "cell_type": "code",
   "execution_count": null,
   "metadata": {},
   "outputs": [],
   "source": [
    "basket_size = df_food_transactions.groupby(\"BASKET_ID\")[\"QUANTITY\"].sum()\n",
    "print(f\"The median basket size is {int(basket_size.median())}.\")"
   ]
  },
  {
   "cell_type": "markdown",
   "metadata": {},
   "source": [
    "It seems that people have relatively small baskets in general. A possible exaplanation is that they do not make their \"heavy\" groceries in the stores in which the data were collected."
   ]
  },
  {
   "cell_type": "markdown",
   "metadata": {},
   "source": [
    "### Department-level Analysis"
   ]
  },
  {
   "cell_type": "markdown",
   "metadata": {},
   "source": [
    "To understand what people buy, we look at the distribution of the food related transactions across the departments. "
   ]
  },
  {
   "cell_type": "code",
   "execution_count": null,
   "metadata": {},
   "outputs": [],
   "source": [
    "transac_prod = pd.merge(df_food_transactions, df_food_products, on=\"PRODUCT_ID\", how=\"inner\")[[\"PRODUCT_ID\", \"PAID_PRICE\", \"DEPARTMENT\"]]"
   ]
  },
  {
   "cell_type": "code",
   "execution_count": null,
   "metadata": {},
   "outputs": [],
   "source": [
    "fig, axes = plt.subplots(nrows=1, ncols=2, figsize=(20,4))\n",
    "transac_prod.groupby(\"DEPARTMENT\")[\"PAID_PRICE\"].count().sort_values(ascending=False).plot.bar(title='Number of  Transactions per Department', ax = axes[0])\n",
    "transac_prod.groupby(\"DEPARTMENT\")[\"PAID_PRICE\"].sum().sort_values(ascending=False).plot.bar(title='Total income per Department', ax = axes[1]);"
   ]
  },
  {
   "cell_type": "markdown",
   "metadata": {},
   "source": [
    "We observe that most of the transactions concern products of the GROCERY department which is not surprising as this is the biggest food-related department and it contains a bit of everything."
   ]
  },
  {
   "cell_type": "markdown",
   "metadata": {},
   "source": [
    "### Most sold ans most profitable products"
   ]
  },
  {
   "cell_type": "markdown",
   "metadata": {},
   "source": [
    "In continuity, we would also like to find out what are the most sold and most profitable products."
   ]
  },
  {
   "cell_type": "code",
   "execution_count": null,
   "metadata": {},
   "outputs": [],
   "source": [
    "transac_prod = pd.merge(df_food_transactions, df_food_products, on=\"PRODUCT_ID\", how=\"inner\")"
   ]
  },
  {
   "cell_type": "code",
   "execution_count": null,
   "metadata": {},
   "outputs": [],
   "source": [
    "ranking_sells = transac_prod.groupby(['PRODUCT_ID'], as_index=False)\\\n",
    "            .agg({'COMMODITY_DESC': 'first', 'SUB_COMMODITY_DESC': 'first', 'PAID_PRICE': 'count'})\\\n",
    "            .rename(columns={\"PAID_PRICE\": \"NUM_SOLD\"})\\\n",
    "            .sort_values(by=\"NUM_SOLD\", ascending=False)\\\n",
    "            .head(10)\n",
    "ranking_sells[\"RANK\"] = ranking_sells[\"NUM_SOLD\"].rank(ascending=False)\n",
    "ranking_sells = ranking_sells.set_index(\"RANK\")\n",
    "print(\"Ranking of the Most sold products: \")\n",
    "ranking_sells.head(10)"
   ]
  },
  {
   "cell_type": "code",
   "execution_count": null,
   "metadata": {},
   "outputs": [],
   "source": [
    "ranking_profit = transac_prod.groupby(['PRODUCT_ID'], as_index=False)\\\n",
    "            .agg({'COMMODITY_DESC': 'first', 'SUB_COMMODITY_DESC': 'first', 'PAID_PRICE': 'sum'})\\\n",
    "            .sort_values(by=\"PAID_PRICE\", ascending=False)\\\n",
    "            .head(10)\n",
    "ranking_profit[\"RANK\"] = ranking_profit[\"PAID_PRICE\"].rank(ascending=False)\n",
    "ranking_profit = ranking_profit.set_index(\"RANK\")\n",
    "print(\"Ranking of the Most profitable products: \")\n",
    "ranking.head(10)"
   ]
  },
  {
   "cell_type": "markdown",
   "metadata": {},
   "source": [
    "We did not really expect Bananas to be at the the top of the ranking. As for the other products in the top 10 this was fairly predictable."
   ]
  },
  {
   "cell_type": "markdown",
   "metadata": {},
   "source": [
    "### Analysis of Weekly spending per Household"
   ]
  },
  {
   "cell_type": "markdown",
   "metadata": {},
   "source": [
    "The analysis of the spending per household will be very important to answer our research questions.\n",
    "\n",
    "In this section, we will focus on spending for meat and vegetables andfood in general. The goal is to get an idea of what are the average spending for each of them and to discover the ratio of the spendings allocated to meat and vegetables.  "
   ]
  },
  {
   "cell_type": "code",
   "execution_count": null,
   "metadata": {},
   "outputs": [],
   "source": [
    "def get_stats_meat_veggies(df_meat, df_veggies):\n",
    "    \"\"\"\n",
    "    Returns a dataframe containg the :\n",
    "      - % of transactions\n",
    "      - % of spendings\n",
    "    for meat and vegetables related products\n",
    "    \"\"\"\n",
    "    indexes = [\"MEAT\", \"VEGGIES\"]\n",
    "    total_spent = df_food_transactions.PAID_PRICE.sum()\n",
    "\n",
    "    _dict = {\n",
    "        \"TRANSACTIONS_%\": [],\n",
    "        \"SPENDING_%\": [],\n",
    "    }\n",
    "    for df in df_meat, df_veggies:\n",
    "        _dict[\"TRANSACTIONS_%\"].append(int(len(df) * 100/len(df_food_transactions)))\n",
    "        \n",
    "        total_spent_for_cat = df.PAID_PRICE.sum()\n",
    "        _dict[\"SPENDING_%\"].append(int(((total_spent_for_cat / total_spent) * 100)))\n",
    "        \n",
    "    return pd.DataFrame(_dict, index=indexes)  "
   ]
  },
  {
   "cell_type": "markdown",
   "metadata": {},
   "source": [
    "When looking at the average spending for a household we only consider weeks in which they bought something."
   ]
  },
  {
   "cell_type": "code",
   "execution_count": null,
   "metadata": {},
   "outputs": [],
   "source": [
    "# find active weeks  and total spendings per household\n",
    "weeks_activity_by_household = df_food_transactions.groupby(\"household_key\").agg({\"WEEK_NO\": set, \"PAID_PRICE\": sum})\n",
    "# create new columns\n",
    "weeks_activity_by_household[\"number_of_active_weeks\"] = weeks_activity_by_household[\"WEEK_NO\"].apply(lambda x: len(x))\n",
    "weeks_activity_by_household[\"avg_spending_per_week\"] = weeks_activity_by_household[\"PAID_PRICE\"] / weeks_activity_by_household[\"number_of_active_weeks\"]\n",
    "# drop week_no and sort\n",
    "weeks_activity_by_household = weeks_activity_by_household.drop(columns=\"WEEK_NO\")\n",
    "weeks_activity_by_household = weeks_activity_by_household.sort_values(by=\"number_of_active_weeks\", ascending=False)"
   ]
  },
  {
   "cell_type": "markdown",
   "metadata": {},
   "source": [
    "We construct dataframes containing only meat related transactions as well as vegetables related transactions."
   ]
  },
  {
   "cell_type": "code",
   "execution_count": null,
   "metadata": {},
   "outputs": [],
   "source": [
    "df_meat_transactions = pd.merge(df_meat_products, df_food_transactions, on=\"PRODUCT_ID\", how=\"inner\")\n",
    "df_veggies_transactions = pd.merge(df_veggies_prducts, df_food_transactions, on=\"PRODUCT_ID\", how=\"inner\")"
   ]
  },
  {
   "cell_type": "code",
   "execution_count": null,
   "metadata": {},
   "outputs": [],
   "source": [
    "get_stats_meat_veggies(df_meat_transactions, df_veggies_transactions)"
   ]
  },
  {
   "cell_type": "markdown",
   "metadata": {},
   "source": [
    "We observe that 16% of the food related transactions are for meat products and this represnts 23% of the spendings. As for the vegetables those represent respectively 9% and 7% of the transactions and the spendings. "
   ]
  },
  {
   "cell_type": "markdown",
   "metadata": {},
   "source": [
    "We will now construct a new dataframe containing for each houselhod :\n",
    "- The total amount paid for meat, vegetables and food in general\n",
    "- The average spending per active week for meat, vegetables and food in general\n",
    "- The ratio spend for meat and vegetables (e.g. ratio_for_meat = avg.  weekly spending for meat / avg. weekly spending for food)"
   ]
  },
  {
   "cell_type": "code",
   "execution_count": null,
   "metadata": {},
   "outputs": [],
   "source": [
    "# compute total spending for meat per household\n",
    "spent_for_meat_by_household = df_meat_transactions.groupby(\"household_key\").agg({\"PAID_PRICE\": sum}).reset_index()\n",
    "# compute total spending for meat per household\n",
    "spent_for_veggies_by_household = df_veggies_transactions.groupby(\"household_key\").agg({\"PAID_PRICE\": sum}).reset_index()\n",
    "# compute totatl spending for food per househould\n",
    "spent_by_household = df_food_transactions.groupby(\"household_key\").PAID_PRICE.sum()\n",
    "\n",
    "# calculate avg. meat spending, avg. veggies, avg food spending and the ratio of meat over food spending per week\n",
    "\n",
    "# Merge spent_for_meat and weeks_activity\n",
    "spent_by_household = pd.merge(spent_for_meat_by_household, weeks_activity_by_household, on=\"household_key\")\n",
    "spent_by_household = spent_by_household.rename(columns={\"PAID_PRICE_x\": \"paid_meat\", \"PAID_PRICE_y\": \"paid_food\"})\n",
    "\n",
    "# Merge spent_by_household and spent_for_veggie\n",
    "spent_by_household = pd.merge(spent_by_household, spent_for_veggies_by_household, on=\"household_key\")\n",
    "spent_by_household = spent_by_household.rename(columns={\"PAID_PRICE\": \"paid_veggies\"})\n",
    "\n",
    "# Compute stats for meat\n",
    "spent_by_household[\"avg_spending_meat_per_week\"] = spent_by_household.paid_meat / spent_by_household.number_of_active_weeks\n",
    "spent_by_household[\"ratio_spent_for_meat\"] = spent_by_household.avg_spending_meat_per_week / spent_by_household.avg_spending_per_week\n",
    "\n",
    "# Compute stats for veggies\n",
    "spent_by_household[\"avg_spending_veggies_per_week\"] = spent_by_household.paid_veggies / spent_by_household.number_of_active_weeks\n",
    "spent_by_household[\"ratio_spent_for_veggies\"] = spent_by_household.avg_spending_veggies_per_week / spent_by_household.avg_spending_per_week"
   ]
  },
  {
   "cell_type": "code",
   "execution_count": null,
   "metadata": {},
   "outputs": [],
   "source": [
    "spent_by_household.head()"
   ]
  },
  {
   "cell_type": "markdown",
   "metadata": {},
   "source": [
    "We can look at the distribution of the average spending per week :"
   ]
  },
  {
   "cell_type": "code",
   "execution_count": null,
   "metadata": {},
   "outputs": [],
   "source": [
    "spent_by_household.avg_spending_per_week.hist(bins=100)\n",
    "plt.title(\"Average Spending for Food by Household per Week\")\n",
    "plt.show();"
   ]
  },
  {
   "cell_type": "markdown",
   "metadata": {},
   "source": [
    "We can also compare the spendings for meat with the spending for vegetables :"
   ]
  },
  {
   "cell_type": "code",
   "execution_count": null,
   "metadata": {},
   "outputs": [],
   "source": [
    "fig, axes = plt.subplots(nrows=2, ncols=2, figsize=(17,12))\n",
    "to_plot = {\n",
    "    \"Average Spending for Meat by Household per Week\": spent_by_household.avg_spending_meat_per_week,\n",
    "    \"Average Spending for Veggies by Household per Week\": spent_by_household.avg_spending_veggies_per_week,\n",
    "    \"Ratio Between the Avg. Meat and  Avg.Food Spending by Household per Week\": spent_by_household.ratio_spent_for_meat,\n",
    "    \"Ratio Between the Avg. Veggies and  Avg.Food Spending by Household per Week\": spent_by_household.ratio_spent_for_veggies\n",
    "}\n",
    "\n",
    "for i, (title, data) in enumerate(to_plot.items()):\n",
    "    color = \"tab:orange\" if i > 1 else \"tab:blue\" \n",
    "    ax =  axes[i // 2][i % 2]\n",
    "    median = data.median()\n",
    "    _max = data.max()\n",
    "    \n",
    "    data.hist(bins=100, ax=ax, color=color)\n",
    "    min_ylim, max_ylim = ax.get_ylim()\n",
    "    ax.set_title(title)\n",
    "    ax.axvline(median, color='k', linestyle='dashed', linewidth=1)\n",
    "    ax.axvline(_max, color='k', linestyle='dashed', linewidth=1)\n",
    "    ax.text(median*1.1, max_ylim*0.9, 'Median: {:.2f}'.format(median))\n",
    "    ax.text(_max*0.85, max_ylim*0.9, 'Max: {:.2f}'.format(_max))\n",
    "    \n",
    "st = fig.suptitle(\"Meat Spendings VS Veggies Spendings (in $)\", fontsize=\"x-large\")\n",
    "plt.show();"
   ]
  },
  {
   "cell_type": "code",
   "execution_count": null,
   "metadata": {},
   "outputs": [],
   "source": [
    "spent_by_household.plot.scatter(x=\"ratio_spent_for_meat\", y=\"ratio_spent_for_veggies\")"
   ]
  },
  {
   "cell_type": "markdown",
   "metadata": {},
   "source": [
    "There seems to be no linear correlation between the spending for meat and vegetables."
   ]
  },
  {
   "cell_type": "markdown",
   "metadata": {},
   "source": [
    "### Biggest meat consumers VS biggest veggies consumer"
   ]
  },
  {
   "cell_type": "markdown",
   "metadata": {},
   "source": [
    "We are also interested in looking at the consumption of the big meat and vegetables spenders. What are the other types of products that they buy ?\n",
    "\n",
    "To do this analysis, we consider households as big meat/vegeatables if  they are in the 4th quartile of meat/vegetables spendings."
   ]
  },
  {
   "cell_type": "code",
   "execution_count": null,
   "metadata": {},
   "outputs": [],
   "source": [
    "def get_transactions(spending_type, quantile):\n",
    "    # Get the transactions of the biggest meat consumers\n",
    "    quantile = spending_type.quantile(quantile)\n",
    "    households = spent_by_household[spending_type > quantile].household_key.values\n",
    "    transactions = df_food_transactions[df_food_transactions.household_key.isin(households)]\n",
    "    transactions_with_prod_info = pd.merge(transactions, df_products, how=\"inner\")    \n",
    "    return list(households), transactions_with_prod_info\n",
    "\n",
    "biggest_meat_buyers, biggest_meat_consumers_transactions = get_transactions(spent_by_household.ratio_spent_for_meat, quantile=0.75)\n",
    "biggest_veggies_buyers, biggest_veggie_consumers_transactions = get_transactions(spent_by_household.ratio_spent_for_veggies, quantile=0.75)\n",
    "\n",
    "print(f\"The 4th quartile corresponds to {len(biggest_veggies_buyers)} households\")\n",
    "\n",
    "households_in_both = list(set(biggest_meat_buyers).intersection(biggest_veggies_buyers))\n",
    "print(f\"Out of those {len(biggest_veggies_buyers)} household, {len(households_in_both)} of them (={round((len(households_in_both) / len(biggest_meat_buyers)) * 100, 2)}%) are both bigh meat buyers and big veggies buyers.\")"
   ]
  },
  {
   "cell_type": "markdown",
   "metadata": {},
   "source": [
    "We only consider households that appear in one of the two groups. Doing that we have two disting groups of people."
   ]
  },
  {
   "cell_type": "code",
   "execution_count": null,
   "metadata": {},
   "outputs": [],
   "source": [
    "# Remove houselds that are in the two groups\n",
    "biggest_meat_consumers_transactions = biggest_meat_consumers_transactions[~biggest_meat_consumers_transactions.household_key.isin(households_in_both)]\n",
    "biggest_veggie_consumers_transactions = biggest_veggie_consumers_transactions[~biggest_veggie_consumers_transactions.household_key.isin(households_in_both)]"
   ]
  },
  {
   "cell_type": "code",
   "execution_count": null,
   "metadata": {},
   "outputs": [],
   "source": [
    "# Look at the 15 most common commodities for each group\n",
    "top_15_meat = biggest_meat_consumers_transactions.groupby(\"COMMODITY_DESC\")[\"household_key\"]\\\n",
    "                                   .count()\\\n",
    "                                   .sort_values(ascending=False)[:20]\n",
    "top_15_veggies = biggest_veggie_consumers_transactions.groupby(\"COMMODITY_DESC\")[\"household_key\"]\\\n",
    "                                     .count()\\\n",
    "                                     .sort_values(ascending=False)[:20]\n",
    "\n",
    "fig, axes = plt.subplots(nrows=1, ncols=2, figsize=(20,4))\n",
    "top_15_meat.plot.bar(ax=axes[0]);\n",
    "top_15_veggies.plot.bar(ax=axes[1]);\n",
    "axes[0].set_title(\"Most Common Commodities for Big Meat Buyers\");\n",
    "axes[1].set_title(\"Most Common Commodities for Big Veggies Buyers\");"
   ]
  },
  {
   "cell_type": "markdown",
   "metadata": {},
   "source": [
    "We observe in the two plots that although there are some similiraties we also notice some differences. For example, big veggies spenders buy way more yoghourt than big meat buyers."
   ]
  },
  {
   "cell_type": "markdown",
   "metadata": {},
   "source": [
    "We can compare the 2 groups on some selected commodities :"
   ]
  },
  {
   "cell_type": "code",
   "execution_count": null,
   "metadata": {},
   "outputs": [],
   "source": [
    "# Compare the 2 groups on some selected commodities\n",
    "selected_commodities = [\n",
    "    \"FRUIT - SHELF STABLE\",\n",
    "    \"SOFT DRINKS\",\n",
    "    \"BAG SNACKS\",\n",
    "    \"YOGURT\",\n",
    "    \"CHEESE\",\n",
    "    \"FLUID MILK PRODUCTS\",\n",
    "    \"COFFEE\",\n",
    "    \"TEAS\",\n",
    "    \"VEGETABLES - SHELF STABLE\",\n",
    "    \"BEEF\",\n",
    "    \"LIQUOR\",\n",
    "    \"WATER\",\n",
    "]\n",
    "\n",
    "def get_count_by_commodity(df, commodities):\n",
    "    filtered = df[df.COMMODITY_DESC.isin(commodities)]\n",
    "    return filtered[[\"COMMODITY_DESC\"]].reset_index().groupby(\"COMMODITY_DESC\")[\"index\"].count().reset_index(name=\"count\")\n",
    "\n",
    "counts_per_commodity_meat = get_count_by_commodity(biggest_meat_consumers_transactions, selected_commodities)\n",
    "counts_per_commodity_veggies = get_count_by_commodity(biggest_veggie_consumers_transactions, selected_commodities)\n",
    "\n",
    "counts_per_commodity_meat['hue']=\"Big meat buyers\"\n",
    "counts_per_commodity_veggies['hue']=\"Big Veggies buyers\"\n",
    "res=pd.concat([counts_per_commodity_meat, counts_per_commodity_veggies])\n",
    "\n",
    "plt.figure(figsize=(20,5))\n",
    "plt.title (\"Big meat buyers vs big Veggies buyers\")\n",
    "plot = sns.barplot(x='COMMODITY_DESC',y='count',data=res,hue='hue')\n",
    "plot.set_xticklabels(plot.get_xticklabels(), rotation=90)\n",
    "plt.show()"
   ]
  },
  {
   "cell_type": "markdown",
   "metadata": {},
   "source": [
    "## Analysis of Coupons"
   ]
  },
  {
   "cell_type": "code",
   "execution_count": null,
   "metadata": {},
   "outputs": [],
   "source": [
    "df_coupon = pd.read_csv('dunnhumby/coupon.csv', sep = ',')\n",
    "df_coupon.head()"
   ]
  },
  {
   "cell_type": "code",
   "execution_count": null,
   "metadata": {},
   "outputs": [],
   "source": [
    "df_coupon_redempt = pd.read_csv('dunnhumby/coupon_redempt.csv', sep = ',')\n",
    "df_coupon_redempt.head()"
   ]
  },
  {
   "cell_type": "code",
   "execution_count": null,
   "metadata": {},
   "outputs": [],
   "source": [
    "print('There are {0} rows and {1} columns in the df_coupon.'.format(len(df_coupon), len(df_coupon.columns)))\n",
    "print('There are {0} rows and {1} columns in the df_coupon_redempt.'.format(len(df_coupon_redempt), len(df_coupon_redempt.columns)))\n",
    "print('Number of columns with missing values for df_coupon is {0}.'.format(len(df_coupon.columns.to_numpy()[df_coupon.isna().any()])))\n",
    "print('Number of columns with missing values for df_coupon_redempt is {0}.'.format(len(df_coupon_redempt.columns.to_numpy()[df_coupon_redempt.isna().any()])))"
   ]
  },
  {
   "cell_type": "code",
   "execution_count": null,
   "metadata": {},
   "outputs": [],
   "source": [
    "fig, axes = plt.subplots(nrows=1, ncols=3, figsize=(24,4))\n",
    "df_coupon.groupby('CAMPAIGN')['COUPON_UPC'].count().sort_values(ascending=False).plot.bar(ax=axes[0])\n",
    "axes[0].set_title(\"Number of Products per Campaign\")\n",
    "\n",
    "df_coupon_redempt.groupby('DAY')['household_key'].count().plot(ax=axes[1])\n",
    "axes[1].set_title(\"Coupon redemptions per time\")\n",
    "df_coupon_redempt.groupby(['CAMPAIGN', 'DAY'])['household_key'].count().reset_index().pivot('DAY', 'CAMPAIGN', 'household_key').plot(ax=axes[2])\n",
    "axes[2].set_title(\"Coupon redemptions per time per campaign\")\n",
    "plt.legend(prop={'size': 4});"
   ]
  },
  {
   "cell_type": "code",
   "execution_count": null,
   "metadata": {},
   "outputs": [],
   "source": [
    "# merge coupon dataframes and filter by food products\n",
    "df_coupon_and_redempt = pd.merge(df_coupon, df_coupon_redempt, on='COUPON_UPC')\n",
    "df_coupon_and_redempt_for_food = df_coupon_and_redempt[df_coupon_and_redempt.PRODUCT_ID.isin(df_food_products.PRODUCT_ID)]\\\n",
    "    .drop('CAMPAIGN_y', axis=1).rename(columns={'CAMPAIGN_x': 'CAMPAIGN'})\n",
    "\n",
    "fig, axes = plt.subplots(nrows=1, ncols=3, figsize=(24,4))\n",
    "df_coupon_and_redempt_for_food.groupby('CAMPAIGN')['COUPON_UPC'].count().sort_values(ascending=False).plot.bar(ax=axes[0])\n",
    "axes[0].set_title(\"Number of Products per Campaign\")\n",
    "\n",
    "df_coupon_and_redempt_for_food.groupby('DAY')['household_key'].count().plot(ax=axes[1])\n",
    "axes[1].set_title(\"Coupon redemptions per time\")\n",
    "df_coupon_and_redempt_for_food.groupby(['CAMPAIGN', 'DAY'])['household_key'].count().reset_index().pivot('DAY', 'CAMPAIGN', 'household_key').plot(ax=axes[2])\n",
    "axes[2].set_title(\"Coupon redemptions per time per campaign\")\n",
    "plt.legend(prop={'size': 4});"
   ]
  },
  {
   "cell_type": "markdown",
   "metadata": {},
   "source": [
    "## Combined Analysis"
   ]
  },
  {
   "cell_type": "code",
   "execution_count": null,
   "metadata": {},
   "outputs": [],
   "source": [
    "df_spent_and_demog=pd.merge(df_household, spent_by_household, on='household_key', how='inner')"
   ]
  },
  {
   "cell_type": "code",
   "execution_count": null,
   "metadata": {},
   "outputs": [],
   "source": [
    "def plot_weekly_spending(df, demographic_feature, feature_name, order=None):\n",
    "    fig, axes = plt.subplots(nrows=1, ncols=3, figsize=(20,4))\n",
    "    chart = sns.barplot(x = demographic_feature, y ='avg_spending_per_week', data = df, ax = axes[0], order=order)\n",
    "    chart.set_xticklabels(chart.get_xticklabels(), rotation=45)\n",
    "    axes[0].set_title(f'Average Weekly Spending on Food a.t. {feature_name}')\n",
    "    chart = sns.barplot(x = demographic_feature, y ='avg_spending_meat_per_week', data = df, ax = axes[1], order=order)\n",
    "    chart.set_xticklabels(chart.get_xticklabels(), rotation=45)\n",
    "    axes[1].set_title(f'Average Weekly Spending on Meat a.t. {feature_name}')\n",
    "    chart = sns.barplot(x = demographic_feature, y ='ratio_spent_for_meat', data = df, ax = axes[2], order=order)\n",
    "    chart.set_xticklabels(chart.get_xticklabels(), rotation=45)\n",
    "    axes[2].set_title(f'Ratio Between weekly Avg. Meat and  Avg.Food Spending a.t. {feature_name}');"
   ]
  },
  {
   "cell_type": "code",
   "execution_count": null,
   "metadata": {},
   "outputs": [],
   "source": [
    "plot_weekly_spending(df_spent_and_demog, 'INCOME_DESC', 'Income', order=[\"Under 35K\", \"35-49K\", \"50-74K\", \"75-99K\", \"100K+\"])"
   ]
  },
  {
   "cell_type": "code",
   "execution_count": null,
   "metadata": {},
   "outputs": [],
   "source": [
    "plot_weekly_spending(df_spent_and_demog, 'HOUSEHOLD_SIZE_DESC', 'House Size')"
   ]
  },
  {
   "cell_type": "code",
   "execution_count": null,
   "metadata": {},
   "outputs": [],
   "source": [
    "plot_weekly_spending(df_spent_and_demog, 'GENDER', 'House Size')"
   ]
  },
  {
   "cell_type": "code",
   "execution_count": null,
   "metadata": {},
   "outputs": [],
   "source": [
    "plot_weekly_spending(df_spent_and_demog, 'MARITAL_STATUS_CODE', 'House Size')"
   ]
  },
  {
   "cell_type": "code",
   "execution_count": null,
   "metadata": {},
   "outputs": [],
   "source": [
    "plot_weekly_spending(df_spent_and_demog, 'HH_COMP_DESC', 'House Size')"
   ]
  },
  {
   "cell_type": "code",
   "execution_count": null,
   "metadata": {},
   "outputs": [],
   "source": [
    "plot_weekly_spending(df_spent_and_demog, 'KID_CATEGORY_DESC', 'House Size')"
   ]
  },
  {
   "cell_type": "markdown",
   "metadata": {},
   "source": [
    "## Future Work"
   ]
  },
  {
   "cell_type": "code",
   "execution_count": null,
   "metadata": {},
   "outputs": [],
   "source": []
  },
  {
   "cell_type": "code",
   "execution_count": null,
   "metadata": {},
   "outputs": [],
   "source": []
  }
 ],
 "metadata": {
  "kernelspec": {
   "display_name": "Python [conda env:ada] *",
   "language": "python",
   "name": "conda-env-ada-py"
  },
  "language_info": {
   "codemirror_mode": {
    "name": "ipython",
    "version": 3
   },
   "file_extension": ".py",
   "mimetype": "text/x-python",
   "name": "python",
   "nbconvert_exporter": "python",
   "pygments_lexer": "ipython3",
   "version": "3.7.4"
  },
  "toc-autonumbering": false,
  "toc-showcode": false,
  "toc-showmarkdowntxt": false,
  "toc-showtags": false
 },
 "nbformat": 4,
 "nbformat_minor": 4
}
