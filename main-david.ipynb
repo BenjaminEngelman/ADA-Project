{
 "cells": [
  {
   "cell_type": "markdown",
   "metadata": {},
   "source": [
    "# Nice to Meat You: An Analysis on Meat Consumption\n",
    "\n",
    "## Introduction\n",
    "\n",
    "In this notebook, we familiarize ourselves with the Dunnhumby dataset. To do so, we first explore and anlayse the four files that are useful to answer our research questions; namely <em>hh_demographic.csv, product.csv, transacatctions_data.csc and coupon.csv</em>.\n",
    "\n",
    "For each of those, we first perform some basic exloratory analysis (size, missing, values, ...) and then create new colums and tables necessary to conduct our analysis. Finally, we look for more specific insights that are relevant for our project. We also combine the datasets to get more interesting findings.\n",
    "\n",
    "The goal is to get as familiar as possible with the dataset and all its subtleties to make sure it is possible to answer our research questions on the basis of the dataset. "
   ]
  },
  {
   "cell_type": "markdown",
   "metadata": {},
   "source": [
    "## Table of Contents"
   ]
  },
  {
   "cell_type": "markdown",
   "metadata": {},
   "source": [
    "## Environment Setup"
   ]
  },
  {
   "cell_type": "code",
   "execution_count": 1,
   "metadata": {},
   "outputs": [],
   "source": [
    "import pandas as pd\n",
    "import numpy as np\n",
    "import matplotlib.pyplot as plt\n",
    "import seaborn as sns\n",
    "from datetime import datetime, timedelta\n",
    "import plotly.express as px "
   ]
  },
  {
   "cell_type": "markdown",
   "metadata": {},
   "source": [
    "## Analysis of Household Demographics"
   ]
  },
  {
   "cell_type": "code",
   "execution_count": 2,
   "metadata": {},
   "outputs": [
    {
     "data": {
      "text/html": [
       "<div>\n",
       "<style scoped>\n",
       "    .dataframe tbody tr th:only-of-type {\n",
       "        vertical-align: middle;\n",
       "    }\n",
       "\n",
       "    .dataframe tbody tr th {\n",
       "        vertical-align: top;\n",
       "    }\n",
       "\n",
       "    .dataframe thead th {\n",
       "        text-align: right;\n",
       "    }\n",
       "</style>\n",
       "<table border=\"1\" class=\"dataframe\">\n",
       "  <thead>\n",
       "    <tr style=\"text-align: right;\">\n",
       "      <th></th>\n",
       "      <th>AGE_DESC</th>\n",
       "      <th>MARITAL_STATUS_CODE</th>\n",
       "      <th>INCOME_DESC</th>\n",
       "      <th>HOMEOWNER_DESC</th>\n",
       "      <th>HH_COMP_DESC</th>\n",
       "      <th>HOUSEHOLD_SIZE_DESC</th>\n",
       "      <th>KID_CATEGORY_DESC</th>\n",
       "      <th>household_key</th>\n",
       "    </tr>\n",
       "  </thead>\n",
       "  <tbody>\n",
       "    <tr>\n",
       "      <td>0</td>\n",
       "      <td>65+</td>\n",
       "      <td>A</td>\n",
       "      <td>35-49K</td>\n",
       "      <td>Homeowner</td>\n",
       "      <td>2 Adults No Kids</td>\n",
       "      <td>2</td>\n",
       "      <td>None/Unknown</td>\n",
       "      <td>1</td>\n",
       "    </tr>\n",
       "    <tr>\n",
       "      <td>1</td>\n",
       "      <td>45-54</td>\n",
       "      <td>A</td>\n",
       "      <td>50-74K</td>\n",
       "      <td>Homeowner</td>\n",
       "      <td>2 Adults No Kids</td>\n",
       "      <td>2</td>\n",
       "      <td>None/Unknown</td>\n",
       "      <td>7</td>\n",
       "    </tr>\n",
       "    <tr>\n",
       "      <td>2</td>\n",
       "      <td>25-34</td>\n",
       "      <td>U</td>\n",
       "      <td>25-34K</td>\n",
       "      <td>Unknown</td>\n",
       "      <td>2 Adults Kids</td>\n",
       "      <td>3</td>\n",
       "      <td>1</td>\n",
       "      <td>8</td>\n",
       "    </tr>\n",
       "    <tr>\n",
       "      <td>3</td>\n",
       "      <td>25-34</td>\n",
       "      <td>U</td>\n",
       "      <td>75-99K</td>\n",
       "      <td>Homeowner</td>\n",
       "      <td>2 Adults Kids</td>\n",
       "      <td>4</td>\n",
       "      <td>2</td>\n",
       "      <td>13</td>\n",
       "    </tr>\n",
       "    <tr>\n",
       "      <td>4</td>\n",
       "      <td>45-54</td>\n",
       "      <td>B</td>\n",
       "      <td>50-74K</td>\n",
       "      <td>Homeowner</td>\n",
       "      <td>Single Female</td>\n",
       "      <td>1</td>\n",
       "      <td>None/Unknown</td>\n",
       "      <td>16</td>\n",
       "    </tr>\n",
       "  </tbody>\n",
       "</table>\n",
       "</div>"
      ],
      "text/plain": [
       "  AGE_DESC MARITAL_STATUS_CODE INCOME_DESC HOMEOWNER_DESC      HH_COMP_DESC  \\\n",
       "0      65+                   A      35-49K      Homeowner  2 Adults No Kids   \n",
       "1    45-54                   A      50-74K      Homeowner  2 Adults No Kids   \n",
       "2    25-34                   U      25-34K        Unknown     2 Adults Kids   \n",
       "3    25-34                   U      75-99K      Homeowner     2 Adults Kids   \n",
       "4    45-54                   B      50-74K      Homeowner     Single Female   \n",
       "\n",
       "  HOUSEHOLD_SIZE_DESC KID_CATEGORY_DESC  household_key  \n",
       "0                   2      None/Unknown              1  \n",
       "1                   2      None/Unknown              7  \n",
       "2                   3                 1              8  \n",
       "3                   4                 2             13  \n",
       "4                   1      None/Unknown             16  "
      ]
     },
     "execution_count": 2,
     "metadata": {},
     "output_type": "execute_result"
    }
   ],
   "source": [
    "df_household = pd.read_csv('dunnhumby/hh_demographic.csv', sep = ',')\n",
    "df_household.head()"
   ]
  },
  {
   "cell_type": "code",
   "execution_count": 3,
   "metadata": {},
   "outputs": [
    {
     "data": {
      "text/plain": [
       "AGE_DESC               category\n",
       "MARITAL_STATUS_CODE    category\n",
       "INCOME_DESC            category\n",
       "HOMEOWNER_DESC         category\n",
       "HH_COMP_DESC           category\n",
       "HOUSEHOLD_SIZE_DESC    category\n",
       "KID_CATEGORY_DESC      category\n",
       "household_key             int64\n",
       "dtype: object"
      ]
     },
     "execution_count": 3,
     "metadata": {},
     "output_type": "execute_result"
    }
   ],
   "source": [
    "# correct dtypes\n",
    "df_household['AGE_DESC'] = pd.Categorical(df_household['AGE_DESC'].values, categories=['19-24', '25-34', '35-44', '45-54', '55-64', '65+'], ordered=True)\n",
    "df_household['MARITAL_STATUS_CODE'] = df_household['MARITAL_STATUS_CODE'].astype('category')\n",
    "df_household['INCOME_DESC'] = pd.Categorical(df_household['INCOME_DESC'].values, \\\n",
    "    categories=['Under 15K', '15-24K', '25-34K', '35-49K', '50-74K', '75-99K', '100-124K', '125-149K', '150-174K', '175-199K', '200-249K', '250K+'], \\\n",
    "    ordered=True)\n",
    "df_household['HOMEOWNER_DESC'] =  df_household['HOMEOWNER_DESC'].astype('category')\n",
    "df_household['HH_COMP_DESC'] = df_household['HH_COMP_DESC'].astype('category')\n",
    "df_household['HOUSEHOLD_SIZE_DESC'] = pd.Categorical(df_household['HOUSEHOLD_SIZE_DESC'].values, categories=['1', '2', '3', '4', '5+'], ordered=True)\n",
    "df_household['KID_CATEGORY_DESC'] = pd.Categorical(df_household['KID_CATEGORY_DESC'].values, categories=['None/Unknown', '1', '2', '3+'], ordered=True)\n",
    "df_household.dtypes"
   ]
  },
  {
   "cell_type": "markdown",
   "metadata": {},
   "source": [
    "### Exploratory Analysis"
   ]
  },
  {
   "cell_type": "code",
   "execution_count": 4,
   "metadata": {},
   "outputs": [
    {
     "name": "stdout",
     "output_type": "stream",
     "text": [
      "There are 801 rows and 8 columns in the dataset.\n"
     ]
    }
   ],
   "source": [
    "print('There are {0} rows and {1} columns in the dataset.'.format(len(df_household), len(df_household.columns))) "
   ]
  },
  {
   "cell_type": "code",
   "execution_count": 5,
   "metadata": {},
   "outputs": [
    {
     "name": "stdout",
     "output_type": "stream",
     "text": [
      "Number of columns with missing values is 0.\n"
     ]
    }
   ],
   "source": [
    "print('Number of columns with missing values is {0}.'.format(len(df_household.columns.to_numpy()[df_household.isna().any()])))"
   ]
  },
  {
   "cell_type": "code",
   "execution_count": 6,
   "metadata": {},
   "outputs": [
    {
     "name": "stdout",
     "output_type": "stream",
     "text": [
      "Columns:\n",
      "--------\n",
      "AGE_DESC\n",
      "MARITAL_STATUS_CODE\n",
      "INCOME_DESC\n",
      "HOMEOWNER_DESC\n",
      "HH_COMP_DESC\n",
      "HOUSEHOLD_SIZE_DESC\n",
      "KID_CATEGORY_DESC\n",
      "household_key\n"
     ]
    }
   ],
   "source": [
    "print('Columns:')\n",
    "print('--------')\n",
    "for col in df_household.columns:\n",
    "    print(col)"
   ]
  },
  {
   "cell_type": "code",
   "execution_count": 7,
   "metadata": {},
   "outputs": [
    {
     "data": {
      "image/png": "[encoded data removed]",
      "text/plain": [
       "<Figure size 1872x936 with 6 Axes>"
      ]
     },
     "metadata": {
      "needs_background": "light"
     },
     "output_type": "display_data"
    }
   ],
   "source": [
    "fig, axes = plt.subplots(nrows=2, ncols=3, figsize=(26,13))\n",
    "\n",
    "for i, n in enumerate(['AGE_DESC', 'MARITAL_STATUS_CODE', 'INCOME_DESC', 'HOMEOWNER_DESC', 'HOUSEHOLD_SIZE_DESC', 'KID_CATEGORY_DESC']):\n",
    "    df_household.groupby(n)['household_key'].count().plot.bar(ax=axes[i // 3,i % 3])\n",
    "    \n",
    "    if i in [0, 2, 3, 5]:\n",
    "        axes[i // 3,i % 3].set_xticklabels(axes[i // 3,i % 3].get_xticklabels(), rotation=45)\n",
    "    else:\n",
    "        axes[i // 3,i % 3].set_xticklabels(axes[i // 3,i % 3].get_xticklabels(), rotation=0)    "
   ]
  },
  {
   "cell_type": "code",
   "execution_count": 8,
   "metadata": {},
   "outputs": [
    {
     "data": {
      "text/plain": [
       "array(['35-49K', '50-74K', 'Under 35K', '75-99K', '100K+'], dtype=object)"
      ]
     },
     "execution_count": 8,
     "metadata": {},
     "output_type": "execute_result"
    }
   ],
   "source": [
    "# merge some categories to have more households in them\n",
    "cat_to_combine_over100K = [\"100-124K\", \"125-149K\", \"150-174K\", \"175-199K\", \"200-249K\", \"250K+\"]\n",
    "cat_to_combine_under35K = [\"Under 15K\", \"15-24K\", \"25-34K\"]\n",
    "def combine_cat(x):\n",
    "    if x in cat_to_combine_over100K:\n",
    "        return \"100K+\" \n",
    "    elif x in cat_to_combine_under35K:\n",
    "        return \"Under 35K\"\n",
    "    else: \n",
    "        return x\n",
    "    \n",
    "df_household['INCOME_DESC'] = df_household['INCOME_DESC'].apply(combine_cat)\n",
    "df_household.INCOME_DESC.unique()"
   ]
  },
  {
   "cell_type": "code",
   "execution_count": 9,
   "metadata": {},
   "outputs": [
    {
     "data": {
      "image/png": "[encoded data removed]",
      "text/plain": [
       "<Figure size 1872x936 with 12 Axes>"
      ]
     },
     "metadata": {
      "needs_background": "light"
     },
     "output_type": "display_data"
    }
   ],
   "source": [
    "tuples = [ ('MARITAL_STATUS_CODE', 'KID_CATEGORY_DESC'),\n",
    " ('HH_COMP_DESC', 'KID_CATEGORY_DESC'),\n",
    " ('HOUSEHOLD_SIZE_DESC', 'KID_CATEGORY_DESC'),\n",
    " ('AGE_DESC', 'INCOME_DESC'),\n",
    " ('AGE_DESC', 'MARITAL_STATUS_CODE'),\n",
    " ('MARITAL_STATUS_CODE', 'HH_COMP_DESC')]\n",
    "fig, axes = plt.subplots(nrows=2, ncols=3, figsize=(26,13))\n",
    "\n",
    "for i, t in enumerate(tuples):\n",
    "    df_dummy = df_household.groupby([t[0], t[1]]).count()\\\n",
    "        .reset_index().pivot(index= t[0], columns= t[1], values='household_key')\n",
    "    \n",
    "    sns.heatmap(df_dummy, annot=True, fmt=\".0f\", annot_kws={\"size\": 10}, cmap=\"YlGnBu\", ax=axes[i // 3,i % 3])\n",
    "    \n",
    "    b, t = axes[i // 3,i % 3].set_ylim() # discover the values for bottom and top\n",
    "    b += 0.5 # Add 0.5 to the bottom\n",
    "    t -= 0.5 # Subtract 0.5 from the top\n",
    "    axes[i // 3,i % 3].set_ylim(b, t) # update the ylim(bottom, top) values"
   ]
  },
  {
   "cell_type": "code",
   "execution_count": 10,
   "metadata": {},
   "outputs": [
    {
     "data": {
      "text/html": [
       "<div>\n",
       "<style scoped>\n",
       "    .dataframe tbody tr th:only-of-type {\n",
       "        vertical-align: middle;\n",
       "    }\n",
       "\n",
       "    .dataframe tbody tr th {\n",
       "        vertical-align: top;\n",
       "    }\n",
       "\n",
       "    .dataframe thead th {\n",
       "        text-align: right;\n",
       "    }\n",
       "</style>\n",
       "<table border=\"1\" class=\"dataframe\">\n",
       "  <thead>\n",
       "    <tr style=\"text-align: right;\">\n",
       "      <th></th>\n",
       "      <th>AGE_DESC</th>\n",
       "      <th>MARITAL_STATUS_CODE</th>\n",
       "      <th>INCOME_DESC</th>\n",
       "      <th>HOMEOWNER_DESC</th>\n",
       "      <th>HH_COMP_DESC</th>\n",
       "      <th>HOUSEHOLD_SIZE_DESC</th>\n",
       "      <th>KID_CATEGORY_DESC</th>\n",
       "      <th>household_key</th>\n",
       "      <th>GENDER</th>\n",
       "      <th>FAMILY_INFO_EXIST</th>\n",
       "    </tr>\n",
       "  </thead>\n",
       "  <tbody>\n",
       "    <tr>\n",
       "      <td>0</td>\n",
       "      <td>65+</td>\n",
       "      <td>A</td>\n",
       "      <td>35-49K</td>\n",
       "      <td>Homeowner</td>\n",
       "      <td>2 Adults No Kids</td>\n",
       "      <td>2</td>\n",
       "      <td>None/Unknown</td>\n",
       "      <td>1</td>\n",
       "      <td>None</td>\n",
       "      <td>True</td>\n",
       "    </tr>\n",
       "    <tr>\n",
       "      <td>1</td>\n",
       "      <td>45-54</td>\n",
       "      <td>A</td>\n",
       "      <td>50-74K</td>\n",
       "      <td>Homeowner</td>\n",
       "      <td>2 Adults No Kids</td>\n",
       "      <td>2</td>\n",
       "      <td>None/Unknown</td>\n",
       "      <td>7</td>\n",
       "      <td>None</td>\n",
       "      <td>True</td>\n",
       "    </tr>\n",
       "    <tr>\n",
       "      <td>2</td>\n",
       "      <td>25-34</td>\n",
       "      <td>U</td>\n",
       "      <td>Under 35K</td>\n",
       "      <td>Unknown</td>\n",
       "      <td>2 Adults Kids</td>\n",
       "      <td>3</td>\n",
       "      <td>1</td>\n",
       "      <td>8</td>\n",
       "      <td>None</td>\n",
       "      <td>True</td>\n",
       "    </tr>\n",
       "    <tr>\n",
       "      <td>3</td>\n",
       "      <td>25-34</td>\n",
       "      <td>U</td>\n",
       "      <td>75-99K</td>\n",
       "      <td>Homeowner</td>\n",
       "      <td>2 Adults Kids</td>\n",
       "      <td>4</td>\n",
       "      <td>2</td>\n",
       "      <td>13</td>\n",
       "      <td>None</td>\n",
       "      <td>True</td>\n",
       "    </tr>\n",
       "    <tr>\n",
       "      <td>4</td>\n",
       "      <td>45-54</td>\n",
       "      <td>B</td>\n",
       "      <td>50-74K</td>\n",
       "      <td>Homeowner</td>\n",
       "      <td>Single Female</td>\n",
       "      <td>1</td>\n",
       "      <td>None/Unknown</td>\n",
       "      <td>16</td>\n",
       "      <td>Female</td>\n",
       "      <td>True</td>\n",
       "    </tr>\n",
       "  </tbody>\n",
       "</table>\n",
       "</div>"
      ],
      "text/plain": [
       "  AGE_DESC MARITAL_STATUS_CODE INCOME_DESC HOMEOWNER_DESC      HH_COMP_DESC  \\\n",
       "0      65+                   A      35-49K      Homeowner  2 Adults No Kids   \n",
       "1    45-54                   A      50-74K      Homeowner  2 Adults No Kids   \n",
       "2    25-34                   U   Under 35K        Unknown     2 Adults Kids   \n",
       "3    25-34                   U      75-99K      Homeowner     2 Adults Kids   \n",
       "4    45-54                   B      50-74K      Homeowner     Single Female   \n",
       "\n",
       "  HOUSEHOLD_SIZE_DESC KID_CATEGORY_DESC  household_key  GENDER  \\\n",
       "0                   2      None/Unknown              1    None   \n",
       "1                   2      None/Unknown              7    None   \n",
       "2                   3                 1              8    None   \n",
       "3                   4                 2             13    None   \n",
       "4                   1      None/Unknown             16  Female   \n",
       "\n",
       "   FAMILY_INFO_EXIST  \n",
       "0               True  \n",
       "1               True  \n",
       "2               True  \n",
       "3               True  \n",
       "4               True  "
      ]
     },
     "execution_count": 10,
     "metadata": {},
     "output_type": "execute_result"
    }
   ],
   "source": [
    "# add new usefull columns\n",
    "\n",
    "# for gender column\n",
    "def create_gender_column(row):\n",
    "    if row['HH_COMP_DESC'] == 'Single Female':\n",
    "        return 'Female'\n",
    "    elif row['HH_COMP_DESC'] == 'Single Male':\n",
    "        return 'Male'\n",
    "    else:\n",
    "        return None\n",
    "\n",
    "# for faimly_info_exist column\n",
    "def create_family_info_column(row):\n",
    "    return not (row['HH_COMP_DESC'] == 'Unknown' and row['KID_CATEGORY_DESC'] == 'None/Unknown')\n",
    "\n",
    "# create columns\n",
    "df_household['GENDER'] = df_household.apply (lambda row: create_gender_column(row), axis=1)\n",
    "df_household['FAMILY_INFO_EXIST'] = df_household.apply (lambda row: create_family_info_column(row), axis=1)\n",
    "\n",
    "df_household.head()"
   ]
  },
  {
   "cell_type": "markdown",
   "metadata": {},
   "source": [
    "## Analysis of Products"
   ]
  },
  {
   "cell_type": "code",
   "execution_count": 11,
   "metadata": {},
   "outputs": [
    {
     "data": {
      "text/html": [
       "<div>\n",
       "<style scoped>\n",
       "    .dataframe tbody tr th:only-of-type {\n",
       "        vertical-align: middle;\n",
       "    }\n",
       "\n",
       "    .dataframe tbody tr th {\n",
       "        vertical-align: top;\n",
       "    }\n",
       "\n",
       "    .dataframe thead th {\n",
       "        text-align: right;\n",
       "    }\n",
       "</style>\n",
       "<table border=\"1\" class=\"dataframe\">\n",
       "  <thead>\n",
       "    <tr style=\"text-align: right;\">\n",
       "      <th></th>\n",
       "      <th>PRODUCT_ID</th>\n",
       "      <th>MANUFACTURER</th>\n",
       "      <th>DEPARTMENT</th>\n",
       "      <th>BRAND</th>\n",
       "      <th>COMMODITY_DESC</th>\n",
       "      <th>SUB_COMMODITY_DESC</th>\n",
       "      <th>CURR_SIZE_OF_PRODUCT</th>\n",
       "    </tr>\n",
       "  </thead>\n",
       "  <tbody>\n",
       "    <tr>\n",
       "      <td>0</td>\n",
       "      <td>25671</td>\n",
       "      <td>2</td>\n",
       "      <td>GROCERY</td>\n",
       "      <td>National</td>\n",
       "      <td>FRZN ICE</td>\n",
       "      <td>ICE - CRUSHED/CUBED</td>\n",
       "      <td>22 LB</td>\n",
       "    </tr>\n",
       "    <tr>\n",
       "      <td>1</td>\n",
       "      <td>26081</td>\n",
       "      <td>2</td>\n",
       "      <td>MISC. TRANS.</td>\n",
       "      <td>National</td>\n",
       "      <td>NO COMMODITY DESCRIPTION</td>\n",
       "      <td>NO SUBCOMMODITY DESCRIPTION</td>\n",
       "      <td></td>\n",
       "    </tr>\n",
       "    <tr>\n",
       "      <td>2</td>\n",
       "      <td>26093</td>\n",
       "      <td>69</td>\n",
       "      <td>PASTRY</td>\n",
       "      <td>Private</td>\n",
       "      <td>BREAD</td>\n",
       "      <td>BREAD:ITALIAN/FRENCH</td>\n",
       "      <td></td>\n",
       "    </tr>\n",
       "    <tr>\n",
       "      <td>3</td>\n",
       "      <td>26190</td>\n",
       "      <td>69</td>\n",
       "      <td>GROCERY</td>\n",
       "      <td>Private</td>\n",
       "      <td>FRUIT - SHELF STABLE</td>\n",
       "      <td>APPLE SAUCE</td>\n",
       "      <td>50 OZ</td>\n",
       "    </tr>\n",
       "    <tr>\n",
       "      <td>4</td>\n",
       "      <td>26355</td>\n",
       "      <td>69</td>\n",
       "      <td>GROCERY</td>\n",
       "      <td>Private</td>\n",
       "      <td>COOKIES/CONES</td>\n",
       "      <td>SPECIALTY COOKIES</td>\n",
       "      <td>14 OZ</td>\n",
       "    </tr>\n",
       "  </tbody>\n",
       "</table>\n",
       "</div>"
      ],
      "text/plain": [
       "   PRODUCT_ID  MANUFACTURER    DEPARTMENT     BRAND            COMMODITY_DESC  \\\n",
       "0       25671             2       GROCERY  National                  FRZN ICE   \n",
       "1       26081             2  MISC. TRANS.  National  NO COMMODITY DESCRIPTION   \n",
       "2       26093            69        PASTRY   Private                     BREAD   \n",
       "3       26190            69       GROCERY   Private      FRUIT - SHELF STABLE   \n",
       "4       26355            69       GROCERY   Private             COOKIES/CONES   \n",
       "\n",
       "            SUB_COMMODITY_DESC CURR_SIZE_OF_PRODUCT  \n",
       "0          ICE - CRUSHED/CUBED                22 LB  \n",
       "1  NO SUBCOMMODITY DESCRIPTION                       \n",
       "2         BREAD:ITALIAN/FRENCH                       \n",
       "3                  APPLE SAUCE                50 OZ  \n",
       "4            SPECIALTY COOKIES                14 OZ  "
      ]
     },
     "execution_count": 11,
     "metadata": {},
     "output_type": "execute_result"
    }
   ],
   "source": [
    "df_products = pd.read_csv('dunnhumby/product.csv', sep = ',')\n",
    "df_products.head()"
   ]
  },
  {
   "cell_type": "code",
   "execution_count": 12,
   "metadata": {},
   "outputs": [
    {
     "name": "stdout",
     "output_type": "stream",
     "text": [
      "There are 92353 rows and 7 columns in the dataset.\n"
     ]
    }
   ],
   "source": [
    "print('There are {0} rows and {1} columns in the dataset.'.format(len(df_products), len(df_products.columns))) "
   ]
  },
  {
   "cell_type": "code",
   "execution_count": 13,
   "metadata": {},
   "outputs": [
    {
     "name": "stdout",
     "output_type": "stream",
     "text": [
      "Number of columns with missing values is 0.\n"
     ]
    }
   ],
   "source": [
    "print('Number of columns with missing values is {0}.'.format(len(df_products.columns.to_numpy()[df_products.isna().any()])))"
   ]
  },
  {
   "cell_type": "code",
   "execution_count": 14,
   "metadata": {},
   "outputs": [
    {
     "name": "stdout",
     "output_type": "stream",
     "text": [
      "Columns:\n",
      "--------\n",
      "PRODUCT_ID\n",
      "MANUFACTURER\n",
      "DEPARTMENT\n",
      "BRAND\n",
      "COMMODITY_DESC\n",
      "SUB_COMMODITY_DESC\n",
      "CURR_SIZE_OF_PRODUCT\n"
     ]
    }
   ],
   "source": [
    "print('Columns:')\n",
    "print('--------')\n",
    "for col in df_products.columns:\n",
    "    print(col)"
   ]
  },
  {
   "cell_type": "code",
   "execution_count": 15,
   "metadata": {},
   "outputs": [
    {
     "name": "stdout",
     "output_type": "stream",
     "text": [
      "There are 92353 unique products distributed in 44 different departments.\n"
     ]
    }
   ],
   "source": [
    "print('There are {0} unique products distributed in {1} different departments.'.format(len(df_products['PRODUCT_ID'].unique()), len(df_products['DEPARTMENT'].unique())))"
   ]
  },
  {
   "cell_type": "code",
   "execution_count": 16,
   "metadata": {},
   "outputs": [
    {
     "data": {
      "image/png": "[encoded data removed]",
      "text/plain": [
       "<Figure size 576x432 with 1 Axes>"
      ]
     },
     "metadata": {
      "needs_background": "light"
     },
     "output_type": "display_data"
    }
   ],
   "source": [
    "df_products.groupby(\"DEPARTMENT\").count()[\"PRODUCT_ID\"].sort_values(ascending=False).plot.bar(figsize=(8, 6))\n",
    "plt.title('Number of Products per Department');"
   ]
  },
  {
   "cell_type": "markdown",
   "metadata": {},
   "source": [
    "### Food Products"
   ]
  },
  {
   "cell_type": "markdown",
   "metadata": {},
   "source": [
    "For this project, the main interest is food products. Therefore, a dataframe with only food-related departments is created."
   ]
  },
  {
   "cell_type": "code",
   "execution_count": 17,
   "metadata": {},
   "outputs": [],
   "source": [
    "df_food_products = pd.read_csv('data/food_products.csv')"
   ]
  },
  {
   "cell_type": "code",
   "execution_count": 18,
   "metadata": {},
   "outputs": [
    {
     "name": "stdout",
     "output_type": "stream",
     "text": [
      "There are 51341 unique food products distributed in 18 different departments.\n"
     ]
    }
   ],
   "source": [
    "print('There are {0} unique food products distributed in {1} different departments.'.format(len(df_food_products['PRODUCT_ID'].unique()), len(df_food_products['DEPARTMENT'].unique())))"
   ]
  },
  {
   "cell_type": "code",
   "execution_count": 19,
   "metadata": {},
   "outputs": [
    {
     "data": {
      "image/png": "[encoded data removed]",
      "text/plain": [
       "<Figure size 432x288 with 1 Axes>"
      ]
     },
     "metadata": {
      "needs_background": "light"
     },
     "output_type": "display_data"
    }
   ],
   "source": [
    "df_food_products.groupby(\"DEPARTMENT\").count()[\"PRODUCT_ID\"].sort_values(ascending=False).plot.bar()\n",
    "plt.title('Number of Food Products per Department');"
   ]
  },
  {
   "cell_type": "markdown",
   "metadata": {},
   "source": [
    "### Products Contain Only Meat"
   ]
  },
  {
   "cell_type": "code",
   "execution_count": 20,
   "metadata": {},
   "outputs": [],
   "source": [
    "df_meat_products = pd.read_csv('data/meat_products.csv')"
   ]
  },
  {
   "cell_type": "code",
   "execution_count": 21,
   "metadata": {},
   "outputs": [
    {
     "name": "stdout",
     "output_type": "stream",
     "text": [
      "There are 8785 unique meat products distributed in 10 different departments.\n"
     ]
    }
   ],
   "source": [
    "print('There are {0} unique meat products distributed in {1} different departments.'.format(len(df_meat_products['PRODUCT_ID'].unique()), len(df_meat_products['DEPARTMENT'].unique())))"
   ]
  },
  {
   "cell_type": "code",
   "execution_count": 22,
   "metadata": {},
   "outputs": [
    {
     "data": {
      "image/png": "[encoded data removed]",
      "text/plain": [
       "<Figure size 432x288 with 1 Axes>"
      ]
     },
     "metadata": {
      "needs_background": "light"
     },
     "output_type": "display_data"
    }
   ],
   "source": [
    "df_meat_products.groupby(\"DEPARTMENT\").count()[\"PRODUCT_ID\"].sort_values(ascending=False).plot.bar()\n",
    "plt.title('Number of Meat Products per Department');"
   ]
  },
  {
   "cell_type": "markdown",
   "metadata": {},
   "source": [
    "### Vegetables products"
   ]
  },
  {
   "cell_type": "code",
   "execution_count": 23,
   "metadata": {},
   "outputs": [],
   "source": [
    "df_veggies_prducts = pd.read_csv('data/vegetables_products.csv')"
   ]
  },
  {
   "cell_type": "code",
   "execution_count": 24,
   "metadata": {},
   "outputs": [
    {
     "name": "stdout",
     "output_type": "stream",
     "text": [
      "There are 3209 unique vegetable products distributed in 7 different departments.\n"
     ]
    }
   ],
   "source": [
    "print('There are {0} unique vegetable products distributed in {1} different departments.'.format(len(df_veggies_prducts['PRODUCT_ID'].unique()), len(df_veggies_prducts['DEPARTMENT'].unique())))"
   ]
  },
  {
   "cell_type": "code",
   "execution_count": 25,
   "metadata": {},
   "outputs": [
    {
     "data": {
      "image/png": "[encoded data removed]",
      "text/plain": [
       "<Figure size 432x288 with 1 Axes>"
      ]
     },
     "metadata": {
      "needs_background": "light"
     },
     "output_type": "display_data"
    }
   ],
   "source": [
    "df_veggies_prducts.groupby(\"DEPARTMENT\").count()[\"PRODUCT_ID\"].sort_values(ascending=False).plot.bar()\n",
    "plt.title('Number of Vegetables Products per Department');"
   ]
  },
  {
   "cell_type": "markdown",
   "metadata": {},
   "source": [
    "## Analysis of Transactions"
   ]
  },
  {
   "cell_type": "markdown",
   "metadata": {},
   "source": [
    "This csv file contains more than 2 million transactions. Each transactiction is identified by a household, a product id and a basket id."
   ]
  },
  {
   "cell_type": "code",
   "execution_count": 26,
   "metadata": {},
   "outputs": [
    {
     "data": {
      "text/html": [
       "<div>\n",
       "<style scoped>\n",
       "    .dataframe tbody tr th:only-of-type {\n",
       "        vertical-align: middle;\n",
       "    }\n",
       "\n",
       "    .dataframe tbody tr th {\n",
       "        vertical-align: top;\n",
       "    }\n",
       "\n",
       "    .dataframe thead th {\n",
       "        text-align: right;\n",
       "    }\n",
       "</style>\n",
       "<table border=\"1\" class=\"dataframe\">\n",
       "  <thead>\n",
       "    <tr style=\"text-align: right;\">\n",
       "      <th></th>\n",
       "      <th>household_key</th>\n",
       "      <th>BASKET_ID</th>\n",
       "      <th>DAY</th>\n",
       "      <th>PRODUCT_ID</th>\n",
       "      <th>QUANTITY</th>\n",
       "      <th>SALES_VALUE</th>\n",
       "      <th>STORE_ID</th>\n",
       "      <th>RETAIL_DISC</th>\n",
       "      <th>TRANS_TIME</th>\n",
       "      <th>WEEK_NO</th>\n",
       "      <th>COUPON_DISC</th>\n",
       "      <th>COUPON_MATCH_DISC</th>\n",
       "    </tr>\n",
       "  </thead>\n",
       "  <tbody>\n",
       "    <tr>\n",
       "      <td>0</td>\n",
       "      <td>2375</td>\n",
       "      <td>26984851472</td>\n",
       "      <td>1</td>\n",
       "      <td>1004906</td>\n",
       "      <td>1</td>\n",
       "      <td>1.39</td>\n",
       "      <td>364</td>\n",
       "      <td>-0.60</td>\n",
       "      <td>1631</td>\n",
       "      <td>1</td>\n",
       "      <td>0.0</td>\n",
       "      <td>0.0</td>\n",
       "    </tr>\n",
       "    <tr>\n",
       "      <td>1</td>\n",
       "      <td>2375</td>\n",
       "      <td>26984851472</td>\n",
       "      <td>1</td>\n",
       "      <td>1033142</td>\n",
       "      <td>1</td>\n",
       "      <td>0.82</td>\n",
       "      <td>364</td>\n",
       "      <td>0.00</td>\n",
       "      <td>1631</td>\n",
       "      <td>1</td>\n",
       "      <td>0.0</td>\n",
       "      <td>0.0</td>\n",
       "    </tr>\n",
       "    <tr>\n",
       "      <td>2</td>\n",
       "      <td>2375</td>\n",
       "      <td>26984851472</td>\n",
       "      <td>1</td>\n",
       "      <td>1036325</td>\n",
       "      <td>1</td>\n",
       "      <td>0.99</td>\n",
       "      <td>364</td>\n",
       "      <td>-0.30</td>\n",
       "      <td>1631</td>\n",
       "      <td>1</td>\n",
       "      <td>0.0</td>\n",
       "      <td>0.0</td>\n",
       "    </tr>\n",
       "    <tr>\n",
       "      <td>3</td>\n",
       "      <td>2375</td>\n",
       "      <td>26984851472</td>\n",
       "      <td>1</td>\n",
       "      <td>1082185</td>\n",
       "      <td>1</td>\n",
       "      <td>1.21</td>\n",
       "      <td>364</td>\n",
       "      <td>0.00</td>\n",
       "      <td>1631</td>\n",
       "      <td>1</td>\n",
       "      <td>0.0</td>\n",
       "      <td>0.0</td>\n",
       "    </tr>\n",
       "    <tr>\n",
       "      <td>4</td>\n",
       "      <td>2375</td>\n",
       "      <td>26984851472</td>\n",
       "      <td>1</td>\n",
       "      <td>8160430</td>\n",
       "      <td>1</td>\n",
       "      <td>1.50</td>\n",
       "      <td>364</td>\n",
       "      <td>-0.39</td>\n",
       "      <td>1631</td>\n",
       "      <td>1</td>\n",
       "      <td>0.0</td>\n",
       "      <td>0.0</td>\n",
       "    </tr>\n",
       "  </tbody>\n",
       "</table>\n",
       "</div>"
      ],
      "text/plain": [
       "   household_key    BASKET_ID  DAY  PRODUCT_ID  QUANTITY  SALES_VALUE  \\\n",
       "0           2375  26984851472    1     1004906         1         1.39   \n",
       "1           2375  26984851472    1     1033142         1         0.82   \n",
       "2           2375  26984851472    1     1036325         1         0.99   \n",
       "3           2375  26984851472    1     1082185         1         1.21   \n",
       "4           2375  26984851472    1     8160430         1         1.50   \n",
       "\n",
       "   STORE_ID  RETAIL_DISC  TRANS_TIME  WEEK_NO  COUPON_DISC  COUPON_MATCH_DISC  \n",
       "0       364        -0.60        1631        1          0.0                0.0  \n",
       "1       364         0.00        1631        1          0.0                0.0  \n",
       "2       364        -0.30        1631        1          0.0                0.0  \n",
       "3       364         0.00        1631        1          0.0                0.0  \n",
       "4       364        -0.39        1631        1          0.0                0.0  "
      ]
     },
     "execution_count": 26,
     "metadata": {},
     "output_type": "execute_result"
    }
   ],
   "source": [
    "# Load the dataset\n",
    "df_transactions = pd.read_csv('dunnhumby/transaction_data.csv', sep = ',')\n",
    "df_transactions.head()"
   ]
  },
  {
   "cell_type": "code",
   "execution_count": 27,
   "metadata": {},
   "outputs": [
    {
     "name": "stdout",
     "output_type": "stream",
     "text": [
      "There are 2595732 rows and 12 columns in the dataset.\n"
     ]
    }
   ],
   "source": [
    "print('There are {0} rows and {1} columns in the dataset.'.format(len(df_transactions), len(df_transactions.columns))) "
   ]
  },
  {
   "cell_type": "code",
   "execution_count": 28,
   "metadata": {},
   "outputs": [
    {
     "name": "stdout",
     "output_type": "stream",
     "text": [
      "Number of columns with missing values is 0.\n"
     ]
    }
   ],
   "source": [
    "print('Number of columns with missing values is {0}.'.format(len(df_transactions.columns.to_numpy()[df_transactions.isna().any()])))"
   ]
  },
  {
   "cell_type": "code",
   "execution_count": 29,
   "metadata": {},
   "outputs": [
    {
     "name": "stdout",
     "output_type": "stream",
     "text": [
      "Columns:\n",
      "--------\n",
      "household_key\n",
      "BASKET_ID\n",
      "DAY\n",
      "PRODUCT_ID\n",
      "QUANTITY\n",
      "SALES_VALUE\n",
      "STORE_ID\n",
      "RETAIL_DISC\n",
      "TRANS_TIME\n",
      "WEEK_NO\n",
      "COUPON_DISC\n",
      "COUPON_MATCH_DISC\n"
     ]
    }
   ],
   "source": [
    "print('Columns:')\n",
    "print('--------')\n",
    "for col in df_transactions.columns:\n",
    "    print(col)"
   ]
  },
  {
   "cell_type": "markdown",
   "metadata": {},
   "source": [
    "### Exploratory Analysis"
   ]
  },
  {
   "cell_type": "markdown",
   "metadata": {},
   "source": [
    "#### Create PAID_PRICE column"
   ]
  },
  {
   "cell_type": "markdown",
   "metadata": {},
   "source": [
    "The column named SALES_VALUE does not represent what a client paid for a product. It represents the raw value of a product that does not take into account the potential discounts. To be able to analyse the expenses of the customers we want to create a column PAID_PRICE that contains the actual amount that the customer paid. \n",
    "\n",
    "The paid price is calculated as follows :\n",
    "\n",
    "PAID_PRICE = (SALES_VALUE - ( |RETAIL_DISC| + |COUPON_MATCH_DISC|)) "
   ]
  },
  {
   "cell_type": "code",
   "execution_count": 30,
   "metadata": {},
   "outputs": [
    {
     "data": {
      "text/html": [
       "<div>\n",
       "<style scoped>\n",
       "    .dataframe tbody tr th:only-of-type {\n",
       "        vertical-align: middle;\n",
       "    }\n",
       "\n",
       "    .dataframe tbody tr th {\n",
       "        vertical-align: top;\n",
       "    }\n",
       "\n",
       "    .dataframe thead th {\n",
       "        text-align: right;\n",
       "    }\n",
       "</style>\n",
       "<table border=\"1\" class=\"dataframe\">\n",
       "  <thead>\n",
       "    <tr style=\"text-align: right;\">\n",
       "      <th></th>\n",
       "      <th>household_key</th>\n",
       "      <th>BASKET_ID</th>\n",
       "      <th>DAY</th>\n",
       "      <th>PRODUCT_ID</th>\n",
       "      <th>QUANTITY</th>\n",
       "      <th>SALES_VALUE</th>\n",
       "      <th>STORE_ID</th>\n",
       "      <th>RETAIL_DISC</th>\n",
       "      <th>TRANS_TIME</th>\n",
       "      <th>WEEK_NO</th>\n",
       "      <th>COUPON_DISC</th>\n",
       "      <th>COUPON_MATCH_DISC</th>\n",
       "      <th>PAID_PRICE</th>\n",
       "    </tr>\n",
       "  </thead>\n",
       "  <tbody>\n",
       "    <tr>\n",
       "      <td>0</td>\n",
       "      <td>2375</td>\n",
       "      <td>26984851472</td>\n",
       "      <td>1</td>\n",
       "      <td>1004906</td>\n",
       "      <td>1</td>\n",
       "      <td>1.39</td>\n",
       "      <td>364</td>\n",
       "      <td>-0.60</td>\n",
       "      <td>1631</td>\n",
       "      <td>1</td>\n",
       "      <td>0.0</td>\n",
       "      <td>0.0</td>\n",
       "      <td>0.79</td>\n",
       "    </tr>\n",
       "    <tr>\n",
       "      <td>1</td>\n",
       "      <td>2375</td>\n",
       "      <td>26984851472</td>\n",
       "      <td>1</td>\n",
       "      <td>1033142</td>\n",
       "      <td>1</td>\n",
       "      <td>0.82</td>\n",
       "      <td>364</td>\n",
       "      <td>0.00</td>\n",
       "      <td>1631</td>\n",
       "      <td>1</td>\n",
       "      <td>0.0</td>\n",
       "      <td>0.0</td>\n",
       "      <td>0.82</td>\n",
       "    </tr>\n",
       "    <tr>\n",
       "      <td>2</td>\n",
       "      <td>2375</td>\n",
       "      <td>26984851472</td>\n",
       "      <td>1</td>\n",
       "      <td>1036325</td>\n",
       "      <td>1</td>\n",
       "      <td>0.99</td>\n",
       "      <td>364</td>\n",
       "      <td>-0.30</td>\n",
       "      <td>1631</td>\n",
       "      <td>1</td>\n",
       "      <td>0.0</td>\n",
       "      <td>0.0</td>\n",
       "      <td>0.69</td>\n",
       "    </tr>\n",
       "    <tr>\n",
       "      <td>3</td>\n",
       "      <td>2375</td>\n",
       "      <td>26984851472</td>\n",
       "      <td>1</td>\n",
       "      <td>1082185</td>\n",
       "      <td>1</td>\n",
       "      <td>1.21</td>\n",
       "      <td>364</td>\n",
       "      <td>0.00</td>\n",
       "      <td>1631</td>\n",
       "      <td>1</td>\n",
       "      <td>0.0</td>\n",
       "      <td>0.0</td>\n",
       "      <td>1.21</td>\n",
       "    </tr>\n",
       "    <tr>\n",
       "      <td>4</td>\n",
       "      <td>2375</td>\n",
       "      <td>26984851472</td>\n",
       "      <td>1</td>\n",
       "      <td>8160430</td>\n",
       "      <td>1</td>\n",
       "      <td>1.50</td>\n",
       "      <td>364</td>\n",
       "      <td>-0.39</td>\n",
       "      <td>1631</td>\n",
       "      <td>1</td>\n",
       "      <td>0.0</td>\n",
       "      <td>0.0</td>\n",
       "      <td>1.11</td>\n",
       "    </tr>\n",
       "  </tbody>\n",
       "</table>\n",
       "</div>"
      ],
      "text/plain": [
       "   household_key    BASKET_ID  DAY  PRODUCT_ID  QUANTITY  SALES_VALUE  \\\n",
       "0           2375  26984851472    1     1004906         1         1.39   \n",
       "1           2375  26984851472    1     1033142         1         0.82   \n",
       "2           2375  26984851472    1     1036325         1         0.99   \n",
       "3           2375  26984851472    1     1082185         1         1.21   \n",
       "4           2375  26984851472    1     8160430         1         1.50   \n",
       "\n",
       "   STORE_ID  RETAIL_DISC  TRANS_TIME  WEEK_NO  COUPON_DISC  COUPON_MATCH_DISC  \\\n",
       "0       364        -0.60        1631        1          0.0                0.0   \n",
       "1       364         0.00        1631        1          0.0                0.0   \n",
       "2       364        -0.30        1631        1          0.0                0.0   \n",
       "3       364         0.00        1631        1          0.0                0.0   \n",
       "4       364        -0.39        1631        1          0.0                0.0   \n",
       "\n",
       "   PAID_PRICE  \n",
       "0        0.79  \n",
       "1        0.82  \n",
       "2        0.69  \n",
       "3        1.21  \n",
       "4        1.11  "
      ]
     },
     "execution_count": 30,
     "metadata": {},
     "output_type": "execute_result"
    }
   ],
   "source": [
    "df_transactions[\"PAID_PRICE\"] = (df_transactions.SALES_VALUE - (df_transactions.RETAIL_DISC.abs() + df_transactions.COUPON_MATCH_DISC.abs()))\n",
    "df_transactions[\"PAID_PRICE\"] = df_transactions[\"PAID_PRICE\"].clip(lower=0)\n",
    "df_transactions.head()"
   ]
  },
  {
   "cell_type": "markdown",
   "metadata": {},
   "source": [
    "#### Create DATE column"
   ]
  },
  {
   "cell_type": "markdown",
   "metadata": {},
   "source": [
    "We found [a github project](https://github.com/Lanbig/CSC465-visualization-project) in which the author makes a calendar visualization of the Dunnhumby dataset. According to him, the day 1 corresponds to 24th of march 2010.\n",
    "\n",
    "We create a new column containing the date in the dataframe :"
   ]
  },
  {
   "cell_type": "code",
   "execution_count": 31,
   "metadata": {},
   "outputs": [],
   "source": [
    "start_date = datetime(2010, 3, 24)\n",
    "def convert_day_to_date(day):\n",
    "    date = start_date + timedelta(days=day-1)\n",
    "    return date\n",
    "\n",
    "df_transactions[\"DATE\"] = df_transactions.DAY.apply(convert_day_to_date)"
   ]
  },
  {
   "cell_type": "code",
   "execution_count": 45,
   "metadata": {},
   "outputs": [
    {
     "data": {
      "application/vnd.plotly.v1+json": {
       "config": {
        "plotlyServerURL": "https://plot.ly"
       },
       "data": [
        {
         "hoverlabel": {
          "namelength": 0
         },
         "hovertemplate": "DATE=%{x}<br>count=%{y}",
         "legendgroup": "",
         "line": {
          "color": "#636efa",
          "dash": "solid"
         },
         "mode": "lines",
         "name": "",
         "showlegend": false,
         "type": "scatter",
         "x": [
          "2010-03-24T00:00:00",
          "2010-03-25T00:00:00",
          "2010-03-26T00:00:00",
          "2010-03-27T00:00:00",
          "2010-03-28T00:00:00",
          "2010-03-29T00:00:00",
          "2010-03-30T00:00:00",
          "2010-03-31T00:00:00",
          "2010-04-01T00:00:00",
          "2010-04-02T00:00:00",
          "2010-04-03T00:00:00",
          "2010-04-04T00:00:00",
          "2010-04-05T00:00:00",
          "2010-04-06T00:00:00",
          "2010-04-07T00:00:00",
          "2010-04-08T00:00:00",
          "2010-04-09T00:00:00",
          "2010-04-10T00:00:00",
          "2010-04-11T00:00:00",
          "2010-04-12T00:00:00",
          "2010-04-13T00:00:00",
          "2010-04-14T00:00:00",
          "2010-04-15T00:00:00",
          "2010-04-16T00:00:00",
          "2010-04-17T00:00:00",
          "2010-04-18T00:00:00",
          "2010-04-19T00:00:00",
          "2010-04-20T00:00:00",
          "2010-04-21T00:00:00",
          "2010-04-22T00:00:00",
          "2010-04-23T00:00:00",
          "2010-04-24T00:00:00",
          "2010-04-25T00:00:00",
          "2010-04-26T00:00:00",
          "2010-04-27T00:00:00",
          "2010-04-28T00:00:00",
          "2010-04-29T00:00:00",
          "2010-04-30T00:00:00",
          "2010-05-01T00:00:00",
          "2010-05-02T00:00:00",
          "2010-05-03T00:00:00",
          "2010-05-04T00:00:00",
          "2010-05-05T00:00:00",
          "2010-05-06T00:00:00",
          "2010-05-07T00:00:00",
          "2010-05-08T00:00:00",
          "2010-05-09T00:00:00",
          "2010-05-10T00:00:00",
          "2010-05-11T00:00:00",
          "2010-05-12T00:00:00",
          "2010-05-13T00:00:00",
          "2010-05-14T00:00:00",
          "2010-05-15T00:00:00",
          "2010-05-16T00:00:00",
          "2010-05-17T00:00:00",
          "2010-05-18T00:00:00",
          "2010-05-19T00:00:00",
          "2010-05-20T00:00:00",
          "2010-05-21T00:00:00",
          "2010-05-22T00:00:00",
          "2010-05-23T00:00:00",
          "2010-05-24T00:00:00",
          "2010-05-25T00:00:00",
          "2010-05-26T00:00:00",
          "2010-05-27T00:00:00",
          "2010-05-28T00:00:00",
          "2010-05-29T00:00:00",
          "2010-05-30T00:00:00",
          "2010-05-31T00:00:00",
          "2010-06-01T00:00:00",
          "2010-06-02T00:00:00",
          "2010-06-03T00:00:00",
          "2010-06-04T00:00:00",
          "2010-06-05T00:00:00",
          "2010-06-06T00:00:00",
          "2010-06-07T00:00:00",
          "2010-06-08T00:00:00",
          "2010-06-09T00:00:00",
          "2010-06-10T00:00:00",
          "2010-06-11T00:00:00",
          "2010-06-12T00:00:00",
          "2010-06-13T00:00:00",
          "2010-06-14T00:00:00",
          "2010-06-15T00:00:00",
          "2010-06-16T00:00:00",
          "2010-06-17T00:00:00",
          "2010-06-18T00:00:00",
          "2010-06-19T00:00:00",
          "2010-06-20T00:00:00",
          "2010-06-21T00:00:00",
          "2010-06-22T00:00:00",
          "2010-06-23T00:00:00",
          "2010-06-24T00:00:00",
          "2010-06-25T00:00:00",
          "2010-06-26T00:00:00",
          "2010-06-27T00:00:00",
          "2010-06-28T00:00:00",
          "2010-06-29T00:00:00",
          "2010-06-30T00:00:00",
          "2010-07-01T00:00:00",
          "2010-07-02T00:00:00",
          "2010-07-03T00:00:00",
          "2010-07-04T00:00:00",
          "2010-07-05T00:00:00",
          "2010-07-06T00:00:00",
          "2010-07-07T00:00:00",
          "2010-07-08T00:00:00",
          "2010-07-09T00:00:00",
          "2010-07-10T00:00:00",
          "2010-07-11T00:00:00",
          "2010-07-12T00:00:00",
          "2010-07-13T00:00:00",
          "2010-07-14T00:00:00",
          "2010-07-15T00:00:00",
          "2010-07-16T00:00:00",
          "2010-07-17T00:00:00",
          "2010-07-18T00:00:00",
          "2010-07-19T00:00:00",
          "2010-07-20T00:00:00",
          "2010-07-21T00:00:00",
          "2010-07-22T00:00:00",
          "2010-07-23T00:00:00",
          "2010-07-24T00:00:00",
          "2010-07-25T00:00:00",
          "2010-07-26T00:00:00",
          "2010-07-27T00:00:00",
          "2010-07-28T00:00:00",
          "2010-07-29T00:00:00",
          "2010-07-30T00:00:00",
          "2010-07-31T00:00:00",
          "2010-08-01T00:00:00",
          "2010-08-02T00:00:00",
          "2010-08-03T00:00:00",
          "2010-08-04T00:00:00",
          "2010-08-05T00:00:00",
          "2010-08-06T00:00:00",
          "2010-08-07T00:00:00",
          "2010-08-08T00:00:00",
          "2010-08-09T00:00:00",
          "2010-08-10T00:00:00",
          "2010-08-11T00:00:00",
          "2010-08-12T00:00:00",
          "2010-08-13T00:00:00",
          "2010-08-14T00:00:00",
          "2010-08-15T00:00:00",
          "2010-08-16T00:00:00",
          "2010-08-17T00:00:00",
          "2010-08-18T00:00:00",
          "2010-08-19T00:00:00",
          "2010-08-20T00:00:00",
          "2010-08-21T00:00:00",
          "2010-08-22T00:00:00",
          "2010-08-23T00:00:00",
          "2010-08-24T00:00:00",
          "2010-08-25T00:00:00",
          "2010-08-26T00:00:00",
          "2010-08-27T00:00:00",
          "2010-08-28T00:00:00",
          "2010-08-29T00:00:00",
          "2010-08-30T00:00:00",
          "2010-08-31T00:00:00",
          "2010-09-01T00:00:00",
          "2010-09-02T00:00:00",
          "2010-09-03T00:00:00",
          "2010-09-04T00:00:00",
          "2010-09-05T00:00:00",
          "2010-09-06T00:00:00",
          "2010-09-07T00:00:00",
          "2010-09-08T00:00:00",
          "2010-09-09T00:00:00",
          "2010-09-10T00:00:00",
          "2010-09-11T00:00:00",
          "2010-09-12T00:00:00",
          "2010-09-13T00:00:00",
          "2010-09-14T00:00:00",
          "2010-09-15T00:00:00",
          "2010-09-16T00:00:00",
          "2010-09-17T00:00:00",
          "2010-09-18T00:00:00",
          "2010-09-19T00:00:00",
          "2010-09-20T00:00:00",
          "2010-09-21T00:00:00",
          "2010-09-22T00:00:00",
          "2010-09-23T00:00:00",
          "2010-09-24T00:00:00",
          "2010-09-25T00:00:00",
          "2010-09-26T00:00:00",
          "2010-09-27T00:00:00",
          "2010-09-28T00:00:00",
          "2010-09-29T00:00:00",
          "2010-09-30T00:00:00",
          "2010-10-01T00:00:00",
          "2010-10-02T00:00:00",
          "2010-10-03T00:00:00",
          "2010-10-04T00:00:00",
          "2010-10-05T00:00:00",
          "2010-10-06T00:00:00",
          "2010-10-07T00:00:00",
          "2010-10-08T00:00:00",
          "2010-10-09T00:00:00",
          "2010-10-10T00:00:00",
          "2010-10-11T00:00:00",
          "2010-10-12T00:00:00",
          "2010-10-13T00:00:00",
          "2010-10-14T00:00:00",
          "2010-10-15T00:00:00",
          "2010-10-16T00:00:00",
          "2010-10-17T00:00:00",
          "2010-10-18T00:00:00",
          "2010-10-19T00:00:00",
          "2010-10-20T00:00:00",
          "2010-10-21T00:00:00",
          "2010-10-22T00:00:00",
          "2010-10-23T00:00:00",
          "2010-10-24T00:00:00",
          "2010-10-25T00:00:00",
          "2010-10-26T00:00:00",
          "2010-10-27T00:00:00",
          "2010-10-28T00:00:00",
          "2010-10-29T00:00:00",
          "2010-10-30T00:00:00",
          "2010-10-31T00:00:00",
          "2010-11-01T00:00:00",
          "2010-11-02T00:00:00",
          "2010-11-03T00:00:00",
          "2010-11-04T00:00:00",
          "2010-11-05T00:00:00",
          "2010-11-06T00:00:00",
          "2010-11-07T00:00:00",
          "2010-11-08T00:00:00",
          "2010-11-09T00:00:00",
          "2010-11-10T00:00:00",
          "2010-11-11T00:00:00",
          "2010-11-12T00:00:00",
          "2010-11-13T00:00:00",
          "2010-11-14T00:00:00",
          "2010-11-15T00:00:00",
          "2010-11-16T00:00:00",
          "2010-11-17T00:00:00",
          "2010-11-18T00:00:00",
          "2010-11-19T00:00:00",
          "2010-11-20T00:00:00",
          "2010-11-21T00:00:00",
          "2010-11-22T00:00:00",
          "2010-11-23T00:00:00",
          "2010-11-24T00:00:00",
          "2010-11-25T00:00:00",
          "2010-11-26T00:00:00",
          "2010-11-27T00:00:00",
          "2010-11-28T00:00:00",
          "2010-11-29T00:00:00",
          "2010-11-30T00:00:00",
          "2010-12-01T00:00:00",
          "2010-12-02T00:00:00",
          "2010-12-03T00:00:00",
          "2010-12-04T00:00:00",
          "2010-12-05T00:00:00",
          "2010-12-06T00:00:00",
          "2010-12-07T00:00:00",
          "2010-12-08T00:00:00",
          "2010-12-09T00:00:00",
          "2010-12-10T00:00:00",
          "2010-12-11T00:00:00",
          "2010-12-12T00:00:00",
          "2010-12-13T00:00:00",
          "2010-12-14T00:00:00",
          "2010-12-15T00:00:00",
          "2010-12-16T00:00:00",
          "2010-12-17T00:00:00",
          "2010-12-18T00:00:00",
          "2010-12-19T00:00:00",
          "2010-12-20T00:00:00",
          "2010-12-21T00:00:00",
          "2010-12-22T00:00:00",
          "2010-12-23T00:00:00",
          "2010-12-24T00:00:00",
          "2010-12-25T00:00:00",
          "2010-12-26T00:00:00",
          "2010-12-27T00:00:00",
          "2010-12-28T00:00:00",
          "2010-12-29T00:00:00",
          "2010-12-30T00:00:00",
          "2010-12-31T00:00:00",
          "2011-01-01T00:00:00",
          "2011-01-02T00:00:00",
          "2011-01-03T00:00:00",
          "2011-01-04T00:00:00",
          "2011-01-05T00:00:00",
          "2011-01-06T00:00:00",
          "2011-01-07T00:00:00",
          "2011-01-08T00:00:00",
          "2011-01-09T00:00:00",
          "2011-01-10T00:00:00",
          "2011-01-11T00:00:00",
          "2011-01-12T00:00:00",
          "2011-01-13T00:00:00",
          "2011-01-14T00:00:00",
          "2011-01-15T00:00:00",
          "2011-01-16T00:00:00",
          "2011-01-17T00:00:00",
          "2011-01-18T00:00:00",
          "2011-01-19T00:00:00",
          "2011-01-20T00:00:00",
          "2011-01-21T00:00:00",
          "2011-01-22T00:00:00",
          "2011-01-23T00:00:00",
          "2011-01-24T00:00:00",
          "2011-01-25T00:00:00",
          "2011-01-26T00:00:00",
          "2011-01-27T00:00:00",
          "2011-01-28T00:00:00",
          "2011-01-29T00:00:00",
          "2011-01-30T00:00:00",
          "2011-01-31T00:00:00",
          "2011-02-01T00:00:00",
          "2011-02-02T00:00:00",
          "2011-02-03T00:00:00",
          "2011-02-04T00:00:00",
          "2011-02-05T00:00:00",
          "2011-02-06T00:00:00",
          "2011-02-07T00:00:00",
          "2011-02-08T00:00:00",
          "2011-02-09T00:00:00",
          "2011-02-10T00:00:00",
          "2011-02-11T00:00:00",
          "2011-02-12T00:00:00",
          "2011-02-13T00:00:00",
          "2011-02-14T00:00:00",
          "2011-02-15T00:00:00",
          "2011-02-16T00:00:00",
          "2011-02-17T00:00:00",
          "2011-02-18T00:00:00",
          "2011-02-19T00:00:00",
          "2011-02-20T00:00:00",
          "2011-02-21T00:00:00",
          "2011-02-22T00:00:00",
          "2011-02-23T00:00:00",
          "2011-02-24T00:00:00",
          "2011-02-25T00:00:00",
          "2011-02-26T00:00:00",
          "2011-02-27T00:00:00",
          "2011-02-28T00:00:00",
          "2011-03-01T00:00:00",
          "2011-03-02T00:00:00",
          "2011-03-03T00:00:00",
          "2011-03-04T00:00:00",
          "2011-03-05T00:00:00",
          "2011-03-06T00:00:00",
          "2011-03-07T00:00:00",
          "2011-03-08T00:00:00",
          "2011-03-09T00:00:00",
          "2011-03-10T00:00:00",
          "2011-03-11T00:00:00",
          "2011-03-12T00:00:00",
          "2011-03-13T00:00:00",
          "2011-03-14T00:00:00",
          "2011-03-15T00:00:00",
          "2011-03-16T00:00:00",
          "2011-03-17T00:00:00",
          "2011-03-18T00:00:00",
          "2011-03-19T00:00:00",
          "2011-03-20T00:00:00",
          "2011-03-21T00:00:00",
          "2011-03-22T00:00:00",
          "2011-03-23T00:00:00",
          "2011-03-24T00:00:00",
          "2011-03-25T00:00:00",
          "2011-03-26T00:00:00",
          "2011-03-27T00:00:00",
          "2011-03-28T00:00:00",
          "2011-03-29T00:00:00",
          "2011-03-30T00:00:00",
          "2011-03-31T00:00:00",
          "2011-04-01T00:00:00",
          "2011-04-02T00:00:00",
          "2011-04-03T00:00:00",
          "2011-04-04T00:00:00",
          "2011-04-05T00:00:00",
          "2011-04-06T00:00:00",
          "2011-04-07T00:00:00",
          "2011-04-08T00:00:00",
          "2011-04-09T00:00:00",
          "2011-04-10T00:00:00",
          "2011-04-11T00:00:00",
          "2011-04-12T00:00:00",
          "2011-04-13T00:00:00",
          "2011-04-14T00:00:00",
          "2011-04-15T00:00:00",
          "2011-04-16T00:00:00",
          "2011-04-17T00:00:00",
          "2011-04-18T00:00:00",
          "2011-04-19T00:00:00",
          "2011-04-20T00:00:00",
          "2011-04-21T00:00:00",
          "2011-04-22T00:00:00",
          "2011-04-23T00:00:00",
          "2011-04-24T00:00:00",
          "2011-04-25T00:00:00",
          "2011-04-26T00:00:00",
          "2011-04-27T00:00:00",
          "2011-04-28T00:00:00",
          "2011-04-29T00:00:00",
          "2011-04-30T00:00:00",
          "2011-05-01T00:00:00",
          "2011-05-02T00:00:00",
          "2011-05-03T00:00:00",
          "2011-05-04T00:00:00",
          "2011-05-05T00:00:00",
          "2011-05-06T00:00:00",
          "2011-05-07T00:00:00",
          "2011-05-08T00:00:00",
          "2011-05-09T00:00:00",
          "2011-05-10T00:00:00",
          "2011-05-11T00:00:00",
          "2011-05-12T00:00:00",
          "2011-05-13T00:00:00",
          "2011-05-14T00:00:00",
          "2011-05-15T00:00:00",
          "2011-05-16T00:00:00",
          "2011-05-17T00:00:00",
          "2011-05-18T00:00:00",
          "2011-05-19T00:00:00",
          "2011-05-20T00:00:00",
          "2011-05-21T00:00:00",
          "2011-05-22T00:00:00",
          "2011-05-23T00:00:00",
          "2011-05-24T00:00:00",
          "2011-05-25T00:00:00",
          "2011-05-26T00:00:00",
          "2011-05-27T00:00:00",
          "2011-05-28T00:00:00",
          "2011-05-29T00:00:00",
          "2011-05-30T00:00:00",
          "2011-05-31T00:00:00",
          "2011-06-01T00:00:00",
          "2011-06-02T00:00:00",
          "2011-06-03T00:00:00",
          "2011-06-04T00:00:00",
          "2011-06-05T00:00:00",
          "2011-06-06T00:00:00",
          "2011-06-07T00:00:00",
          "2011-06-08T00:00:00",
          "2011-06-09T00:00:00",
          "2011-06-10T00:00:00",
          "2011-06-11T00:00:00",
          "2011-06-12T00:00:00",
          "2011-06-13T00:00:00",
          "2011-06-14T00:00:00",
          "2011-06-15T00:00:00",
          "2011-06-16T00:00:00",
          "2011-06-17T00:00:00",
          "2011-06-18T00:00:00",
          "2011-06-19T00:00:00",
          "2011-06-20T00:00:00",
          "2011-06-21T00:00:00",
          "2011-06-22T00:00:00",
          "2011-06-23T00:00:00",
          "2011-06-24T00:00:00",
          "2011-06-25T00:00:00",
          "2011-06-26T00:00:00",
          "2011-06-27T00:00:00",
          "2011-06-28T00:00:00",
          "2011-06-29T00:00:00",
          "2011-06-30T00:00:00",
          "2011-07-01T00:00:00",
          "2011-07-02T00:00:00",
          "2011-07-03T00:00:00",
          "2011-07-04T00:00:00",
          "2011-07-05T00:00:00",
          "2011-07-06T00:00:00",
          "2011-07-07T00:00:00",
          "2011-07-08T00:00:00",
          "2011-07-09T00:00:00",
          "2011-07-10T00:00:00",
          "2011-07-11T00:00:00",
          "2011-07-12T00:00:00",
          "2011-07-13T00:00:00",
          "2011-07-14T00:00:00",
          "2011-07-15T00:00:00",
          "2011-07-16T00:00:00",
          "2011-07-17T00:00:00",
          "2011-07-18T00:00:00",
          "2011-07-19T00:00:00",
          "2011-07-20T00:00:00",
          "2011-07-21T00:00:00",
          "2011-07-22T00:00:00",
          "2011-07-23T00:00:00",
          "2011-07-24T00:00:00",
          "2011-07-25T00:00:00",
          "2011-07-26T00:00:00",
          "2011-07-27T00:00:00",
          "2011-07-28T00:00:00",
          "2011-07-29T00:00:00",
          "2011-07-30T00:00:00",
          "2011-07-31T00:00:00",
          "2011-08-01T00:00:00",
          "2011-08-02T00:00:00",
          "2011-08-03T00:00:00",
          "2011-08-04T00:00:00",
          "2011-08-05T00:00:00",
          "2011-08-06T00:00:00",
          "2011-08-07T00:00:00",
          "2011-08-08T00:00:00",
          "2011-08-09T00:00:00",
          "2011-08-10T00:00:00",
          "2011-08-11T00:00:00",
          "2011-08-12T00:00:00",
          "2011-08-13T00:00:00",
          "2011-08-14T00:00:00",
          "2011-08-15T00:00:00",
          "2011-08-16T00:00:00",
          "2011-08-17T00:00:00",
          "2011-08-18T00:00:00",
          "2011-08-19T00:00:00",
          "2011-08-20T00:00:00",
          "2011-08-21T00:00:00",
          "2011-08-22T00:00:00",
          "2011-08-23T00:00:00",
          "2011-08-24T00:00:00",
          "2011-08-25T00:00:00",
          "2011-08-26T00:00:00",
          "2011-08-27T00:00:00",
          "2011-08-28T00:00:00",
          "2011-08-29T00:00:00",
          "2011-08-30T00:00:00",
          "2011-08-31T00:00:00",
          "2011-09-01T00:00:00",
          "2011-09-02T00:00:00",
          "2011-09-03T00:00:00",
          "2011-09-04T00:00:00",
          "2011-09-05T00:00:00",
          "2011-09-06T00:00:00",
          "2011-09-07T00:00:00",
          "2011-09-08T00:00:00",
          "2011-09-09T00:00:00",
          "2011-09-10T00:00:00",
          "2011-09-11T00:00:00",
          "2011-09-12T00:00:00",
          "2011-09-13T00:00:00",
          "2011-09-14T00:00:00",
          "2011-09-15T00:00:00",
          "2011-09-16T00:00:00",
          "2011-09-17T00:00:00",
          "2011-09-18T00:00:00",
          "2011-09-19T00:00:00",
          "2011-09-20T00:00:00",
          "2011-09-21T00:00:00",
          "2011-09-22T00:00:00",
          "2011-09-23T00:00:00",
          "2011-09-24T00:00:00",
          "2011-09-25T00:00:00",
          "2011-09-26T00:00:00",
          "2011-09-27T00:00:00",
          "2011-09-28T00:00:00",
          "2011-09-29T00:00:00",
          "2011-09-30T00:00:00",
          "2011-10-01T00:00:00",
          "2011-10-02T00:00:00",
          "2011-10-03T00:00:00",
          "2011-10-04T00:00:00",
          "2011-10-05T00:00:00",
          "2011-10-06T00:00:00",
          "2011-10-07T00:00:00",
          "2011-10-08T00:00:00",
          "2011-10-09T00:00:00",
          "2011-10-10T00:00:00",
          "2011-10-11T00:00:00",
          "2011-10-12T00:00:00",
          "2011-10-13T00:00:00",
          "2011-10-14T00:00:00",
          "2011-10-15T00:00:00",
          "2011-10-16T00:00:00",
          "2011-10-17T00:00:00",
          "2011-10-18T00:00:00",
          "2011-10-19T00:00:00",
          "2011-10-20T00:00:00",
          "2011-10-21T00:00:00",
          "2011-10-22T00:00:00",
          "2011-10-23T00:00:00",
          "2011-10-24T00:00:00",
          "2011-10-25T00:00:00",
          "2011-10-26T00:00:00",
          "2011-10-27T00:00:00",
          "2011-10-28T00:00:00",
          "2011-10-29T00:00:00",
          "2011-10-30T00:00:00",
          "2011-10-31T00:00:00",
          "2011-11-01T00:00:00",
          "2011-11-02T00:00:00",
          "2011-11-03T00:00:00",
          "2011-11-04T00:00:00",
          "2011-11-05T00:00:00",
          "2011-11-06T00:00:00",
          "2011-11-07T00:00:00",
          "2011-11-08T00:00:00",
          "2011-11-09T00:00:00",
          "2011-11-10T00:00:00",
          "2011-11-11T00:00:00",
          "2011-11-12T00:00:00",
          "2011-11-13T00:00:00",
          "2011-11-14T00:00:00",
          "2011-11-15T00:00:00",
          "2011-11-16T00:00:00",
          "2011-11-17T00:00:00",
          "2011-11-18T00:00:00",
          "2011-11-19T00:00:00",
          "2011-11-20T00:00:00",
          "2011-11-21T00:00:00",
          "2011-11-22T00:00:00",
          "2011-11-23T00:00:00",
          "2011-11-24T00:00:00",
          "2011-11-25T00:00:00",
          "2011-11-26T00:00:00",
          "2011-11-27T00:00:00",
          "2011-11-28T00:00:00",
          "2011-11-29T00:00:00",
          "2011-11-30T00:00:00",
          "2011-12-01T00:00:00",
          "2011-12-02T00:00:00",
          "2011-12-03T00:00:00",
          "2011-12-04T00:00:00",
          "2011-12-05T00:00:00",
          "2011-12-06T00:00:00",
          "2011-12-07T00:00:00",
          "2011-12-08T00:00:00",
          "2011-12-09T00:00:00",
          "2011-12-10T00:00:00",
          "2011-12-11T00:00:00",
          "2011-12-12T00:00:00",
          "2011-12-13T00:00:00",
          "2011-12-14T00:00:00",
          "2011-12-15T00:00:00",
          "2011-12-16T00:00:00",
          "2011-12-17T00:00:00",
          "2011-12-18T00:00:00",
          "2011-12-19T00:00:00",
          "2011-12-20T00:00:00",
          "2011-12-21T00:00:00",
          "2011-12-22T00:00:00",
          "2011-12-23T00:00:00",
          "2011-12-24T00:00:00",
          "2011-12-25T00:00:00",
          "2011-12-26T00:00:00",
          "2011-12-27T00:00:00",
          "2011-12-28T00:00:00",
          "2011-12-29T00:00:00",
          "2011-12-30T00:00:00",
          "2011-12-31T00:00:00",
          "2012-01-01T00:00:00",
          "2012-01-02T00:00:00",
          "2012-01-03T00:00:00",
          "2012-01-04T00:00:00",
          "2012-01-05T00:00:00",
          "2012-01-06T00:00:00",
          "2012-01-07T00:00:00",
          "2012-01-08T00:00:00",
          "2012-01-09T00:00:00",
          "2012-01-10T00:00:00",
          "2012-01-11T00:00:00",
          "2012-01-12T00:00:00",
          "2012-01-13T00:00:00",
          "2012-01-14T00:00:00",
          "2012-01-15T00:00:00",
          "2012-01-16T00:00:00",
          "2012-01-17T00:00:00",
          "2012-01-18T00:00:00",
          "2012-01-19T00:00:00",
          "2012-01-20T00:00:00",
          "2012-01-21T00:00:00",
          "2012-01-22T00:00:00",
          "2012-01-23T00:00:00",
          "2012-01-24T00:00:00",
          "2012-01-25T00:00:00",
          "2012-01-26T00:00:00",
          "2012-01-27T00:00:00",
          "2012-01-28T00:00:00",
          "2012-01-29T00:00:00",
          "2012-01-30T00:00:00",
          "2012-01-31T00:00:00",
          "2012-02-01T00:00:00",
          "2012-02-02T00:00:00",
          "2012-02-03T00:00:00",
          "2012-02-04T00:00:00",
          "2012-02-05T00:00:00",
          "2012-02-06T00:00:00",
          "2012-02-07T00:00:00",
          "2012-02-08T00:00:00",
          "2012-02-09T00:00:00",
          "2012-02-10T00:00:00",
          "2012-02-11T00:00:00",
          "2012-02-12T00:00:00",
          "2012-02-13T00:00:00",
          "2012-02-14T00:00:00",
          "2012-02-15T00:00:00",
          "2012-02-16T00:00:00",
          "2012-02-17T00:00:00",
          "2012-02-18T00:00:00",
          "2012-02-19T00:00:00",
          "2012-02-20T00:00:00",
          "2012-02-21T00:00:00",
          "2012-02-22T00:00:00",
          "2012-02-23T00:00:00",
          "2012-02-24T00:00:00",
          "2012-02-25T00:00:00",
          "2012-02-26T00:00:00",
          "2012-02-27T00:00:00",
          "2012-02-28T00:00:00",
          "2012-02-29T00:00:00",
          "2012-03-01T00:00:00",
          "2012-03-02T00:00:00",
          "2012-03-03T00:00:00"
         ],
         "xaxis": "x",
         "y": [
          238,
          137,
          524,
          675,
          307,
          338,
          465,
          434,
          362,
          490,
          814,
          772,
          690,
          637,
          494,
          534,
          788,
          755,
          905,
          603,
          844,
          577,
          637,
          655,
          1193,
          870,
          840,
          656,
          1136,
          1120,
          941,
          1048,
          1427,
          1289,
          1080,
          1423,
          809,
          947,
          1703,
          1645,
          1321,
          1137,
          1066,
          1042,
          1131,
          1501,
          1782,
          1406,
          1287,
          1287,
          1492,
          1505,
          1680,
          1771,
          1233,
          1218,
          1332,
          1504,
          1519,
          2020,
          1759,
          1605,
          1536,
          1333,
          1925,
          2053,
          2629,
          2462,
          2648,
          1720,
          2187,
          2105,
          2116,
          2763,
          3167,
          2383,
          2339,
          2227,
          2227,
          2227,
          2780,
          3329,
          2383,
          2453,
          2438,
          2354,
          3072,
          2781,
          3153,
          2579,
          3156,
          2646,
          2871,
          2776,
          3817,
          4039,
          2734,
          2398,
          3099,
          2737,
          3790,
          4179,
          4653,
          3592,
          3887,
          3375,
          3499,
          3407,
          4019,
          5080,
          3148,
          3020,
          4029,
          3924,
          3513,
          4086,
          4605,
          3573,
          3142,
          3327,
          2972,
          3758,
          3863,
          4897,
          3509,
          2691,
          2998,
          3342,
          2849,
          4187,
          4658,
          4194,
          3908,
          3932,
          4497,
          3596,
          4671,
          5074,
          3937,
          3534,
          3777,
          3221,
          3818,
          4025,
          4699,
          3856,
          3407,
          3145,
          2958,
          3892,
          3883,
          4653,
          2914,
          3673,
          2745,
          3123,
          3986,
          3782,
          4935,
          3804,
          2742,
          3264,
          3690,
          4263,
          5337,
          4762,
          4389,
          3928,
          4320,
          3374,
          3379,
          4169,
          5163,
          3144,
          3028,
          3211,
          3156,
          3658,
          4174,
          5271,
          3325,
          3254,
          3420,
          3232,
          3838,
          4803,
          5072,
          3152,
          2943,
          2703,
          3496,
          3288,
          4768,
          4829,
          3823,
          4196,
          3562,
          3724,
          3512,
          4357,
          5294,
          3753,
          3260,
          2840,
          3415,
          2932,
          4240,
          5412,
          3435,
          3224,
          3625,
          3295,
          3510,
          4509,
          4352,
          3262,
          2865,
          3052,
          2978,
          2978,
          4293,
          5537,
          3694,
          3634,
          3665,
          3086,
          4112,
          4247,
          5125,
          3790,
          3260,
          3640,
          3178,
          3476,
          4139,
          5050,
          3344,
          3322,
          3212,
          3044,
          4230,
          5235,
          4990,
          4638,
          4995,
          6746,
          1689,
          2246,
          3130,
          3602,
          3581,
          3257,
          3085,
          3689,
          3784,
          5757,
          5242,
          5194,
          3977,
          4394,
          4760,
          3168,
          4420,
          4326,
          3167,
          4243,
          3737,
          2981,
          3328,
          4064,
          4949,
          4018,
          3685,
          3535,
          4425,
          6715,
          4160,
          6,
          3188,
          3814,
          2940,
          3331,
          4183,
          5540,
          3722,
          4251,
          4462,
          4125,
          4093,
          3946,
          5052,
          5525,
          4043,
          3128,
          3506,
          3730,
          3471,
          5212,
          4308,
          4439,
          3303,
          3065,
          3077,
          3760,
          4975,
          5584,
          4233,
          3093,
          3352,
          3151,
          2909,
          4402,
          5171,
          4108,
          3548,
          3533,
          4033,
          4563,
          6025,
          5295,
          4263,
          3335,
          3321,
          3562,
          4674,
          4351,
          5587,
          4065,
          2871,
          3458,
          3291,
          3418,
          4159,
          4452,
          3870,
          3875,
          3899,
          2980,
          3845,
          5162,
          5435,
          3394,
          3293,
          4030,
          4369,
          3703,
          5276,
          5402,
          3984,
          3158,
          3608,
          3181,
          3762,
          4622,
          5577,
          3540,
          3344,
          3718,
          3269,
          3998,
          4691,
          5175,
          5201,
          2865,
          3102,
          2995,
          4112,
          4676,
          5104,
          4463,
          3613,
          3554,
          2934,
          3539,
          4650,
          5476,
          4709,
          4089,
          3424,
          3159,
          3406,
          4917,
          5558,
          4033,
          2954,
          3301,
          3671,
          5095,
          5767,
          3806,
          3421,
          3635,
          3515,
          3181,
          3523,
          4200,
          4856,
          3384,
          3818,
          3282,
          3199,
          3144,
          4509,
          5141,
          4612,
          3888,
          3677,
          4344,
          4226,
          4853,
          5676,
          4030,
          3964,
          3718,
          3639,
          3693,
          4223,
          4870,
          4108,
          3740,
          3653,
          3847,
          3685,
          4225,
          5531,
          3863,
          3158,
          3354,
          2964,
          4035,
          4819,
          4552,
          4104,
          3269,
          3499,
          3594,
          4250,
          4853,
          5585,
          4724,
          3456,
          4152,
          3302,
          3782,
          4199,
          5440,
          3887,
          3618,
          3365,
          3887,
          3668,
          4242,
          5048,
          3770,
          3398,
          3260,
          2975,
          3773,
          4363,
          4087,
          4096,
          3300,
          2932,
          3934,
          4071,
          5130,
          4438,
          4373,
          5578,
          3667,
          4456,
          3864,
          4247,
          5238,
          4255,
          3237,
          3507,
          3451,
          3713,
          3987,
          4873,
          3761,
          3195,
          2711,
          3710,
          3725,
          4537,
          5350,
          3731,
          3414,
          2993,
          3589,
          3687,
          4184,
          4836,
          3740,
          4457,
          3590,
          4643,
          4207,
          4859,
          5589,
          4619,
          3551,
          3847,
          3953,
          3318,
          4378,
          4249,
          4399,
          3438,
          3397,
          3286,
          3772,
          4768,
          4569,
          3611,
          3717,
          3312,
          3380,
          3386,
          4759,
          4670,
          3327,
          3355,
          2993,
          3472,
          4461,
          5107,
          4582,
          4874,
          4402,
          3325,
          3994,
          3849,
          4621,
          4813,
          3602,
          3524,
          3213,
          3003,
          3428,
          4313,
          4780,
          4573,
          3669,
          3207,
          3232,
          3280,
          4696,
          5139,
          3747,
          2831,
          3306,
          3163,
          3695,
          4116,
          5610,
          4080,
          3475,
          3474,
          3843,
          4277,
          4323,
          5307,
          4221,
          4278,
          3435,
          2998,
          2974,
          4152,
          5050,
          3721,
          3173,
          3252,
          2852,
          3282,
          4228,
          5645,
          4464,
          3567,
          3548,
          3037,
          3392,
          4665,
          4674,
          4074,
          3499,
          3513,
          3910,
          3998,
          5839,
          6190,
          3848,
          3477,
          3565,
          3114,
          3836,
          4620,
          5489,
          3800,
          3755,
          3182,
          3535,
          4185,
          4690,
          5186,
          4998,
          5393,
          6352,
          1994,
          2476,
          3102,
          4139,
          3567,
          3801,
          3256,
          2911,
          3799,
          4849,
          6551,
          3757,
          4251,
          3819,
          3764,
          3827,
          4741,
          5109,
          3526,
          3640,
          2860,
          3553,
          3932,
          4842,
          4620,
          4096,
          4096,
          3863,
          4092,
          5355,
          7066,
          4558,
          2,
          3845,
          3446,
          3286,
          3920,
          5439,
          4950,
          3386,
          4355,
          4531,
          3775,
          4048,
          5444,
          5694,
          3528,
          3642,
          3866,
          3717,
          3725,
          5149,
          5440,
          4012,
          3440,
          3157,
          3205,
          3808,
          6260,
          4491,
          4066,
          3777,
          3030,
          3730,
          4115,
          5161,
          5329,
          3366,
          3392,
          4141,
          4158,
          3940,
          5475,
          6681,
          4432,
          4441,
          3408,
          3962,
          3138,
          5449,
          7426,
          7493,
          2351,
          2582,
          3022,
          3784,
          4590,
          5080,
          3541,
          2898,
          3779,
          2926,
          3640,
          4557,
          5272,
          3709,
          3176,
          3154,
          3567,
          3843,
          4974
         ],
         "yaxis": "y"
        }
       ],
       "layout": {
        "autosize": true,
        "legend": {
         "tracegroupgap": 0
        },
        "margin": {
         "t": 60
        },
        "template": {
         "data": {
          "bar": [
           {
            "error_x": {
             "color": "#2a3f5f"
            },
            "error_y": {
             "color": "#2a3f5f"
            },
            "marker": {
             "line": {
              "color": "#E5ECF6",
              "width": 0.5
             }
            },
            "type": "bar"
           }
          ],
          "barpolar": [
           {
            "marker": {
             "line": {
              "color": "#E5ECF6",
              "width": 0.5
             }
            },
            "type": "barpolar"
           }
          ],
          "carpet": [
           {
            "aaxis": {
             "endlinecolor": "#2a3f5f",
             "gridcolor": "white",
             "linecolor": "white",
             "minorgridcolor": "white",
             "startlinecolor": "#2a3f5f"
            },
            "baxis": {
             "endlinecolor": "#2a3f5f",
             "gridcolor": "white",
             "linecolor": "white",
             "minorgridcolor": "white",
             "startlinecolor": "#2a3f5f"
            },
            "type": "carpet"
           }
          ],
          "choropleth": [
           {
            "colorbar": {
             "outlinewidth": 0,
             "ticks": ""
            },
            "type": "choropleth"
           }
          ],
          "contour": [
           {
            "colorbar": {
             "outlinewidth": 0,
             "ticks": ""
            },
            "colorscale": [
             [
              0,
              "#0d0887"
             ],
             [
              0.1111111111111111,
              "#46039f"
             ],
             [
              0.2222222222222222,
              "#7201a8"
             ],
             [
              0.3333333333333333,
              "#9c179e"
             ],
             [
              0.4444444444444444,
              "#bd3786"
             ],
             [
              0.5555555555555556,
              "#d8576b"
             ],
             [
              0.6666666666666666,
              "#ed7953"
             ],
             [
              0.7777777777777778,
              "#fb9f3a"
             ],
             [
              0.8888888888888888,
              "#fdca26"
             ],
             [
              1,
              "#f0f921"
             ]
            ],
            "type": "contour"
           }
          ],
          "contourcarpet": [
           {
            "colorbar": {
             "outlinewidth": 0,
             "ticks": ""
            },
            "type": "contourcarpet"
           }
          ],
          "heatmap": [
           {
            "colorbar": {
             "outlinewidth": 0,
             "ticks": ""
            },
            "colorscale": [
             [
              0,
              "#0d0887"
             ],
             [
              0.1111111111111111,
              "#46039f"
             ],
             [
              0.2222222222222222,
              "#7201a8"
             ],
             [
              0.3333333333333333,
              "#9c179e"
             ],
             [
              0.4444444444444444,
              "#bd3786"
             ],
             [
              0.5555555555555556,
              "#d8576b"
             ],
             [
              0.6666666666666666,
              "#ed7953"
             ],
             [
              0.7777777777777778,
              "#fb9f3a"
             ],
             [
              0.8888888888888888,
              "#fdca26"
             ],
             [
              1,
              "#f0f921"
             ]
            ],
            "type": "heatmap"
           }
          ],
          "heatmapgl": [
           {
            "colorbar": {
             "outlinewidth": 0,
             "ticks": ""
            },
            "colorscale": [
             [
              0,
              "#0d0887"
             ],
             [
              0.1111111111111111,
              "#46039f"
             ],
             [
              0.2222222222222222,
              "#7201a8"
             ],
             [
              0.3333333333333333,
              "#9c179e"
             ],
             [
              0.4444444444444444,
              "#bd3786"
             ],
             [
              0.5555555555555556,
              "#d8576b"
             ],
             [
              0.6666666666666666,
              "#ed7953"
             ],
             [
              0.7777777777777778,
              "#fb9f3a"
             ],
             [
              0.8888888888888888,
              "#fdca26"
             ],
             [
              1,
              "#f0f921"
             ]
            ],
            "type": "heatmapgl"
           }
          ],
          "histogram": [
           {
            "marker": {
             "colorbar": {
              "outlinewidth": 0,
              "ticks": ""
             }
            },
            "type": "histogram"
           }
          ],
          "histogram2d": [
           {
            "colorbar": {
             "outlinewidth": 0,
             "ticks": ""
            },
            "colorscale": [
             [
              0,
              "#0d0887"
             ],
             [
              0.1111111111111111,
              "#46039f"
             ],
             [
              0.2222222222222222,
              "#7201a8"
             ],
             [
              0.3333333333333333,
              "#9c179e"
             ],
             [
              0.4444444444444444,
              "#bd3786"
             ],
             [
              0.5555555555555556,
              "#d8576b"
             ],
             [
              0.6666666666666666,
              "#ed7953"
             ],
             [
              0.7777777777777778,
              "#fb9f3a"
             ],
             [
              0.8888888888888888,
              "#fdca26"
             ],
             [
              1,
              "#f0f921"
             ]
            ],
            "type": "histogram2d"
           }
          ],
          "histogram2dcontour": [
           {
            "colorbar": {
             "outlinewidth": 0,
             "ticks": ""
            },
            "colorscale": [
             [
              0,
              "#0d0887"
             ],
             [
              0.1111111111111111,
              "#46039f"
             ],
             [
              0.2222222222222222,
              "#7201a8"
             ],
             [
              0.3333333333333333,
              "#9c179e"
             ],
             [
              0.4444444444444444,
              "#bd3786"
             ],
             [
              0.5555555555555556,
              "#d8576b"
             ],
             [
              0.6666666666666666,
              "#ed7953"
             ],
             [
              0.7777777777777778,
              "#fb9f3a"
             ],
             [
              0.8888888888888888,
              "#fdca26"
             ],
             [
              1,
              "#f0f921"
             ]
            ],
            "type": "histogram2dcontour"
           }
          ],
          "mesh3d": [
           {
            "colorbar": {
             "outlinewidth": 0,
             "ticks": ""
            },
            "type": "mesh3d"
           }
          ],
          "parcoords": [
           {
            "line": {
             "colorbar": {
              "outlinewidth": 0,
              "ticks": ""
             }
            },
            "type": "parcoords"
           }
          ],
          "pie": [
           {
            "automargin": true,
            "type": "pie"
           }
          ],
          "scatter": [
           {
            "marker": {
             "colorbar": {
              "outlinewidth": 0,
              "ticks": ""
             }
            },
            "type": "scatter"
           }
          ],
          "scatter3d": [
           {
            "line": {
             "colorbar": {
              "outlinewidth": 0,
              "ticks": ""
             }
            },
            "marker": {
             "colorbar": {
              "outlinewidth": 0,
              "ticks": ""
             }
            },
            "type": "scatter3d"
           }
          ],
          "scattercarpet": [
           {
            "marker": {
             "colorbar": {
              "outlinewidth": 0,
              "ticks": ""
             }
            },
            "type": "scattercarpet"
           }
          ],
          "scattergeo": [
           {
            "marker": {
             "colorbar": {
              "outlinewidth": 0,
              "ticks": ""
             }
            },
            "type": "scattergeo"
           }
          ],
          "scattergl": [
           {
            "marker": {
             "colorbar": {
              "outlinewidth": 0,
              "ticks": ""
             }
            },
            "type": "scattergl"
           }
          ],
          "scattermapbox": [
           {
            "marker": {
             "colorbar": {
              "outlinewidth": 0,
              "ticks": ""
             }
            },
            "type": "scattermapbox"
           }
          ],
          "scatterpolar": [
           {
            "marker": {
             "colorbar": {
              "outlinewidth": 0,
              "ticks": ""
             }
            },
            "type": "scatterpolar"
           }
          ],
          "scatterpolargl": [
           {
            "marker": {
             "colorbar": {
              "outlinewidth": 0,
              "ticks": ""
             }
            },
            "type": "scatterpolargl"
           }
          ],
          "scatterternary": [
           {
            "marker": {
             "colorbar": {
              "outlinewidth": 0,
              "ticks": ""
             }
            },
            "type": "scatterternary"
           }
          ],
          "surface": [
           {
            "colorbar": {
             "outlinewidth": 0,
             "ticks": ""
            },
            "colorscale": [
             [
              0,
              "#0d0887"
             ],
             [
              0.1111111111111111,
              "#46039f"
             ],
             [
              0.2222222222222222,
              "#7201a8"
             ],
             [
              0.3333333333333333,
              "#9c179e"
             ],
             [
              0.4444444444444444,
              "#bd3786"
             ],
             [
              0.5555555555555556,
              "#d8576b"
             ],
             [
              0.6666666666666666,
              "#ed7953"
             ],
             [
              0.7777777777777778,
              "#fb9f3a"
             ],
             [
              0.8888888888888888,
              "#fdca26"
             ],
             [
              1,
              "#f0f921"
             ]
            ],
            "type": "surface"
           }
          ],
          "table": [
           {
            "cells": {
             "fill": {
              "color": "#EBF0F8"
             },
             "line": {
              "color": "white"
             }
            },
            "header": {
             "fill": {
              "color": "#C8D4E3"
             },
             "line": {
              "color": "white"
             }
            },
            "type": "table"
           }
          ]
         },
         "layout": {
          "annotationdefaults": {
           "arrowcolor": "#2a3f5f",
           "arrowhead": 0,
           "arrowwidth": 1
          },
          "coloraxis": {
           "colorbar": {
            "outlinewidth": 0,
            "ticks": ""
           }
          },
          "colorscale": {
           "diverging": [
            [
             0,
             "#8e0152"
            ],
            [
             0.1,
             "#c51b7d"
            ],
            [
             0.2,
             "#de77ae"
            ],
            [
             0.3,
             "#f1b6da"
            ],
            [
             0.4,
             "#fde0ef"
            ],
            [
             0.5,
             "#f7f7f7"
            ],
            [
             0.6,
             "#e6f5d0"
            ],
            [
             0.7,
             "#b8e186"
            ],
            [
             0.8,
             "#7fbc41"
            ],
            [
             0.9,
             "#4d9221"
            ],
            [
             1,
             "#276419"
            ]
           ],
           "sequential": [
            [
             0,
             "#0d0887"
            ],
            [
             0.1111111111111111,
             "#46039f"
            ],
            [
             0.2222222222222222,
             "#7201a8"
            ],
            [
             0.3333333333333333,
             "#9c179e"
            ],
            [
             0.4444444444444444,
             "#bd3786"
            ],
            [
             0.5555555555555556,
             "#d8576b"
            ],
            [
             0.6666666666666666,
             "#ed7953"
            ],
            [
             0.7777777777777778,
             "#fb9f3a"
            ],
            [
             0.8888888888888888,
             "#fdca26"
            ],
            [
             1,
             "#f0f921"
            ]
           ],
           "sequentialminus": [
            [
             0,
             "#0d0887"
            ],
            [
             0.1111111111111111,
             "#46039f"
            ],
            [
             0.2222222222222222,
             "#7201a8"
            ],
            [
             0.3333333333333333,
             "#9c179e"
            ],
            [
             0.4444444444444444,
             "#bd3786"
            ],
            [
             0.5555555555555556,
             "#d8576b"
            ],
            [
             0.6666666666666666,
             "#ed7953"
            ],
            [
             0.7777777777777778,
             "#fb9f3a"
            ],
            [
             0.8888888888888888,
             "#fdca26"
            ],
            [
             1,
             "#f0f921"
            ]
           ]
          },
          "colorway": [
           "#636efa",
           "#EF553B",
           "#00cc96",
           "#ab63fa",
           "#FFA15A",
           "#19d3f3",
           "#FF6692",
           "#B6E880",
           "#FF97FF",
           "#FECB52"
          ],
          "font": {
           "color": "#2a3f5f"
          },
          "geo": {
           "bgcolor": "white",
           "lakecolor": "white",
           "landcolor": "#E5ECF6",
           "showlakes": true,
           "showland": true,
           "subunitcolor": "white"
          },
          "hoverlabel": {
           "align": "left"
          },
          "hovermode": "closest",
          "mapbox": {
           "style": "light"
          },
          "paper_bgcolor": "white",
          "plot_bgcolor": "#E5ECF6",
          "polar": {
           "angularaxis": {
            "gridcolor": "white",
            "linecolor": "white",
            "ticks": ""
           },
           "bgcolor": "#E5ECF6",
           "radialaxis": {
            "gridcolor": "white",
            "linecolor": "white",
            "ticks": ""
           }
          },
          "scene": {
           "xaxis": {
            "backgroundcolor": "#E5ECF6",
            "gridcolor": "white",
            "gridwidth": 2,
            "linecolor": "white",
            "showbackground": true,
            "ticks": "",
            "zerolinecolor": "white"
           },
           "yaxis": {
            "backgroundcolor": "#E5ECF6",
            "gridcolor": "white",
            "gridwidth": 2,
            "linecolor": "white",
            "showbackground": true,
            "ticks": "",
            "zerolinecolor": "white"
           },
           "zaxis": {
            "backgroundcolor": "#E5ECF6",
            "gridcolor": "white",
            "gridwidth": 2,
            "linecolor": "white",
            "showbackground": true,
            "ticks": "",
            "zerolinecolor": "white"
           }
          },
          "shapedefaults": {
           "line": {
            "color": "#2a3f5f"
           }
          },
          "ternary": {
           "aaxis": {
            "gridcolor": "white",
            "linecolor": "white",
            "ticks": ""
           },
           "baxis": {
            "gridcolor": "white",
            "linecolor": "white",
            "ticks": ""
           },
           "bgcolor": "#E5ECF6",
           "caxis": {
            "gridcolor": "white",
            "linecolor": "white",
            "ticks": ""
           }
          },
          "title": {
           "x": 0.05
          },
          "xaxis": {
           "automargin": true,
           "gridcolor": "white",
           "linecolor": "white",
           "ticks": "",
           "title": {
            "standoff": 15
           },
           "zerolinecolor": "white",
           "zerolinewidth": 2
          },
          "yaxis": {
           "automargin": true,
           "gridcolor": "white",
           "linecolor": "white",
           "ticks": "",
           "title": {
            "standoff": 15
           },
           "zerolinecolor": "white",
           "zerolinewidth": 2
          }
         }
        },
        "title": {
         "text": "Transactions"
        },
        "xaxis": {
         "anchor": "y",
         "autorange": true,
         "domain": [
          0,
          1
         ],
         "range": [
          "2010-03-24",
          "2012-03-03"
         ],
         "title": {
          "text": "DATE"
         },
         "type": "date"
        },
        "yaxis": {
         "anchor": "x",
         "autorange": true,
         "domain": [
          0,
          1
         ],
         "range": [
          -414.1666666666667,
          7909.166666666667
         ],
         "title": {
          "text": "count"
         },
         "type": "linear"
        }
       }
      },
      "image/png": "[encoded data removed]",
      "text/html": [
       "<div>\n",
       "        \n",
       "        \n",
       "            <div id=\"93b41434-f550-409b-ac14-b3d7051f00f3\" class=\"plotly-graph-div\" style=\"height:600px; width:100%;\"></div>\n",
       "            <script type=\"text/javascript\">\n",
       "                require([\"plotly\"], function(Plotly) {\n",
       "                    window.PLOTLYENV=window.PLOTLYENV || {};\n",
       "                    \n",
       "                if (document.getElementById(\"93b41434-f550-409b-ac14-b3d7051f00f3\")) {\n",
       "                    Plotly.newPlot(\n",
       "                        '93b41434-f550-409b-ac14-b3d7051f00f3',\n",
       "                        [{\"hoverlabel\": {\"namelength\": 0}, \"hovertemplate\": \"DATE=%{x}<br>count=%{y}\", \"legendgroup\": \"\", \"line\": {\"color\": \"#636efa\", \"dash\": \"solid\"}, \"mode\": \"lines\", \"name\": \"\", \"showlegend\": false, \"type\": \"scatter\", \"x\": [\"2010-03-24T00:00:00\", \"2010-03-25T00:00:00\", \"2010-03-26T00:00:00\", \"2010-03-27T00:00:00\", \"2010-03-28T00:00:00\", \"2010-03-29T00:00:00\", \"2010-03-30T00:00:00\", \"2010-03-31T00:00:00\", \"2010-04-01T00:00:00\", \"2010-04-02T00:00:00\", \"2010-04-03T00:00:00\", \"2010-04-04T00:00:00\", \"2010-04-05T00:00:00\", \"2010-04-06T00:00:00\", \"2010-04-07T00:00:00\", \"2010-04-08T00:00:00\", \"2010-04-09T00:00:00\", \"2010-04-10T00:00:00\", \"2010-04-11T00:00:00\", \"2010-04-12T00:00:00\", \"2010-04-13T00:00:00\", \"2010-04-14T00:00:00\", \"2010-04-15T00:00:00\", \"2010-04-16T00:00:00\", \"2010-04-17T00:00:00\", \"2010-04-18T00:00:00\", \"2010-04-19T00:00:00\", \"2010-04-20T00:00:00\", \"2010-04-21T00:00:00\", \"2010-04-22T00:00:00\", \"2010-04-23T00:00:00\", \"2010-04-24T00:00:00\", \"2010-04-25T00:00:00\", \"2010-04-26T00:00:00\", \"2010-04-27T00:00:00\", \"2010-04-28T00:00:00\", \"2010-04-29T00:00:00\", \"2010-04-30T00:00:00\", \"2010-05-01T00:00:00\", \"2010-05-02T00:00:00\", \"2010-05-03T00:00:00\", \"2010-05-04T00:00:00\", \"2010-05-05T00:00:00\", \"2010-05-06T00:00:00\", \"2010-05-07T00:00:00\", \"2010-05-08T00:00:00\", \"2010-05-09T00:00:00\", \"2010-05-10T00:00:00\", \"2010-05-11T00:00:00\", \"2010-05-12T00:00:00\", \"2010-05-13T00:00:00\", \"2010-05-14T00:00:00\", \"2010-05-15T00:00:00\", \"2010-05-16T00:00:00\", \"2010-05-17T00:00:00\", \"2010-05-18T00:00:00\", \"2010-05-19T00:00:00\", \"2010-05-20T00:00:00\", \"2010-05-21T00:00:00\", \"2010-05-22T00:00:00\", \"2010-05-23T00:00:00\", \"2010-05-24T00:00:00\", \"2010-05-25T00:00:00\", \"2010-05-26T00:00:00\", \"2010-05-27T00:00:00\", \"2010-05-28T00:00:00\", \"2010-05-29T00:00:00\", \"2010-05-30T00:00:00\", \"2010-05-31T00:00:00\", \"2010-06-01T00:00:00\", \"2010-06-02T00:00:00\", \"2010-06-03T00:00:00\", \"2010-06-04T00:00:00\", \"2010-06-05T00:00:00\", \"2010-06-06T00:00:00\", \"2010-06-07T00:00:00\", \"2010-06-08T00:00:00\", \"2010-06-09T00:00:00\", \"2010-06-10T00:00:00\", \"2010-06-11T00:00:00\", \"2010-06-12T00:00:00\", \"2010-06-13T00:00:00\", \"2010-06-14T00:00:00\", \"2010-06-15T00:00:00\", \"2010-06-16T00:00:00\", \"2010-06-17T00:00:00\", \"2010-06-18T00:00:00\", \"2010-06-19T00:00:00\", \"2010-06-20T00:00:00\", \"2010-06-21T00:00:00\", \"2010-06-22T00:00:00\", \"2010-06-23T00:00:00\", \"2010-06-24T00:00:00\", \"2010-06-25T00:00:00\", \"2010-06-26T00:00:00\", \"2010-06-27T00:00:00\", \"2010-06-28T00:00:00\", \"2010-06-29T00:00:00\", \"2010-06-30T00:00:00\", \"2010-07-01T00:00:00\", \"2010-07-02T00:00:00\", \"2010-07-03T00:00:00\", \"2010-07-04T00:00:00\", \"2010-07-05T00:00:00\", \"2010-07-06T00:00:00\", \"2010-07-07T00:00:00\", \"2010-07-08T00:00:00\", \"2010-07-09T00:00:00\", \"2010-07-10T00:00:00\", \"2010-07-11T00:00:00\", \"2010-07-12T00:00:00\", \"2010-07-13T00:00:00\", \"2010-07-14T00:00:00\", \"2010-07-15T00:00:00\", \"2010-07-16T00:00:00\", \"2010-07-17T00:00:00\", \"2010-07-18T00:00:00\", \"2010-07-19T00:00:00\", \"2010-07-20T00:00:00\", \"2010-07-21T00:00:00\", \"2010-07-22T00:00:00\", \"2010-07-23T00:00:00\", \"2010-07-24T00:00:00\", \"2010-07-25T00:00:00\", \"2010-07-26T00:00:00\", \"2010-07-27T00:00:00\", \"2010-07-28T00:00:00\", \"2010-07-29T00:00:00\", \"2010-07-30T00:00:00\", \"2010-07-31T00:00:00\", \"2010-08-01T00:00:00\", \"2010-08-02T00:00:00\", \"2010-08-03T00:00:00\", \"2010-08-04T00:00:00\", \"2010-08-05T00:00:00\", \"2010-08-06T00:00:00\", \"2010-08-07T00:00:00\", \"2010-08-08T00:00:00\", \"2010-08-09T00:00:00\", \"2010-08-10T00:00:00\", \"2010-08-11T00:00:00\", \"2010-08-12T00:00:00\", \"2010-08-13T00:00:00\", \"2010-08-14T00:00:00\", \"2010-08-15T00:00:00\", \"2010-08-16T00:00:00\", \"2010-08-17T00:00:00\", \"2010-08-18T00:00:00\", \"2010-08-19T00:00:00\", \"2010-08-20T00:00:00\", \"2010-08-21T00:00:00\", \"2010-08-22T00:00:00\", \"2010-08-23T00:00:00\", \"2010-08-24T00:00:00\", \"2010-08-25T00:00:00\", \"2010-08-26T00:00:00\", \"2010-08-27T00:00:00\", \"2010-08-28T00:00:00\", \"2010-08-29T00:00:00\", \"2010-08-30T00:00:00\", \"2010-08-31T00:00:00\", \"2010-09-01T00:00:00\", \"2010-09-02T00:00:00\", \"2010-09-03T00:00:00\", \"2010-09-04T00:00:00\", \"2010-09-05T00:00:00\", \"2010-09-06T00:00:00\", \"2010-09-07T00:00:00\", \"2010-09-08T00:00:00\", \"2010-09-09T00:00:00\", \"2010-09-10T00:00:00\", \"2010-09-11T00:00:00\", \"2010-09-12T00:00:00\", \"2010-09-13T00:00:00\", \"2010-09-14T00:00:00\", \"2010-09-15T00:00:00\", \"2010-09-16T00:00:00\", \"2010-09-17T00:00:00\", \"2010-09-18T00:00:00\", \"2010-09-19T00:00:00\", \"2010-09-20T00:00:00\", \"2010-09-21T00:00:00\", \"2010-09-22T00:00:00\", \"2010-09-23T00:00:00\", \"2010-09-24T00:00:00\", \"2010-09-25T00:00:00\", \"2010-09-26T00:00:00\", \"2010-09-27T00:00:00\", \"2010-09-28T00:00:00\", \"2010-09-29T00:00:00\", \"2010-09-30T00:00:00\", \"2010-10-01T00:00:00\", \"2010-10-02T00:00:00\", \"2010-10-03T00:00:00\", \"2010-10-04T00:00:00\", \"2010-10-05T00:00:00\", \"2010-10-06T00:00:00\", \"2010-10-07T00:00:00\", \"2010-10-08T00:00:00\", \"2010-10-09T00:00:00\", \"2010-10-10T00:00:00\", \"2010-10-11T00:00:00\", \"2010-10-12T00:00:00\", \"2010-10-13T00:00:00\", \"2010-10-14T00:00:00\", \"2010-10-15T00:00:00\", \"2010-10-16T00:00:00\", \"2010-10-17T00:00:00\", \"2010-10-18T00:00:00\", \"2010-10-19T00:00:00\", \"2010-10-20T00:00:00\", \"2010-10-21T00:00:00\", \"2010-10-22T00:00:00\", \"2010-10-23T00:00:00\", \"2010-10-24T00:00:00\", \"2010-10-25T00:00:00\", \"2010-10-26T00:00:00\", \"2010-10-27T00:00:00\", \"2010-10-28T00:00:00\", \"2010-10-29T00:00:00\", \"2010-10-30T00:00:00\", \"2010-10-31T00:00:00\", \"2010-11-01T00:00:00\", \"2010-11-02T00:00:00\", \"2010-11-03T00:00:00\", \"2010-11-04T00:00:00\", \"2010-11-05T00:00:00\", \"2010-11-06T00:00:00\", \"2010-11-07T00:00:00\", \"2010-11-08T00:00:00\", \"2010-11-09T00:00:00\", \"2010-11-10T00:00:00\", \"2010-11-11T00:00:00\", \"2010-11-12T00:00:00\", \"2010-11-13T00:00:00\", \"2010-11-14T00:00:00\", \"2010-11-15T00:00:00\", \"2010-11-16T00:00:00\", \"2010-11-17T00:00:00\", \"2010-11-18T00:00:00\", \"2010-11-19T00:00:00\", \"2010-11-20T00:00:00\", \"2010-11-21T00:00:00\", \"2010-11-22T00:00:00\", \"2010-11-23T00:00:00\", \"2010-11-24T00:00:00\", \"2010-11-25T00:00:00\", \"2010-11-26T00:00:00\", \"2010-11-27T00:00:00\", \"2010-11-28T00:00:00\", \"2010-11-29T00:00:00\", \"2010-11-30T00:00:00\", \"2010-12-01T00:00:00\", \"2010-12-02T00:00:00\", \"2010-12-03T00:00:00\", \"2010-12-04T00:00:00\", \"2010-12-05T00:00:00\", \"2010-12-06T00:00:00\", \"2010-12-07T00:00:00\", \"2010-12-08T00:00:00\", \"2010-12-09T00:00:00\", \"2010-12-10T00:00:00\", \"2010-12-11T00:00:00\", \"2010-12-12T00:00:00\", \"2010-12-13T00:00:00\", \"2010-12-14T00:00:00\", \"2010-12-15T00:00:00\", \"2010-12-16T00:00:00\", \"2010-12-17T00:00:00\", \"2010-12-18T00:00:00\", \"2010-12-19T00:00:00\", \"2010-12-20T00:00:00\", \"2010-12-21T00:00:00\", \"2010-12-22T00:00:00\", \"2010-12-23T00:00:00\", \"2010-12-24T00:00:00\", \"2010-12-25T00:00:00\", \"2010-12-26T00:00:00\", \"2010-12-27T00:00:00\", \"2010-12-28T00:00:00\", \"2010-12-29T00:00:00\", \"2010-12-30T00:00:00\", \"2010-12-31T00:00:00\", \"2011-01-01T00:00:00\", \"2011-01-02T00:00:00\", \"2011-01-03T00:00:00\", \"2011-01-04T00:00:00\", \"2011-01-05T00:00:00\", \"2011-01-06T00:00:00\", \"2011-01-07T00:00:00\", \"2011-01-08T00:00:00\", \"2011-01-09T00:00:00\", \"2011-01-10T00:00:00\", \"2011-01-11T00:00:00\", \"2011-01-12T00:00:00\", \"2011-01-13T00:00:00\", \"2011-01-14T00:00:00\", \"2011-01-15T00:00:00\", \"2011-01-16T00:00:00\", \"2011-01-17T00:00:00\", \"2011-01-18T00:00:00\", \"2011-01-19T00:00:00\", \"2011-01-20T00:00:00\", \"2011-01-21T00:00:00\", \"2011-01-22T00:00:00\", \"2011-01-23T00:00:00\", \"2011-01-24T00:00:00\", \"2011-01-25T00:00:00\", \"2011-01-26T00:00:00\", \"2011-01-27T00:00:00\", \"2011-01-28T00:00:00\", \"2011-01-29T00:00:00\", \"2011-01-30T00:00:00\", \"2011-01-31T00:00:00\", \"2011-02-01T00:00:00\", \"2011-02-02T00:00:00\", \"2011-02-03T00:00:00\", \"2011-02-04T00:00:00\", \"2011-02-05T00:00:00\", \"2011-02-06T00:00:00\", \"2011-02-07T00:00:00\", \"2011-02-08T00:00:00\", \"2011-02-09T00:00:00\", \"2011-02-10T00:00:00\", \"2011-02-11T00:00:00\", \"2011-02-12T00:00:00\", \"2011-02-13T00:00:00\", \"2011-02-14T00:00:00\", \"2011-02-15T00:00:00\", \"2011-02-16T00:00:00\", \"2011-02-17T00:00:00\", \"2011-02-18T00:00:00\", \"2011-02-19T00:00:00\", \"2011-02-20T00:00:00\", \"2011-02-21T00:00:00\", \"2011-02-22T00:00:00\", \"2011-02-23T00:00:00\", \"2011-02-24T00:00:00\", \"2011-02-25T00:00:00\", \"2011-02-26T00:00:00\", \"2011-02-27T00:00:00\", \"2011-02-28T00:00:00\", \"2011-03-01T00:00:00\", \"2011-03-02T00:00:00\", \"2011-03-03T00:00:00\", \"2011-03-04T00:00:00\", \"2011-03-05T00:00:00\", \"2011-03-06T00:00:00\", \"2011-03-07T00:00:00\", \"2011-03-08T00:00:00\", \"2011-03-09T00:00:00\", \"2011-03-10T00:00:00\", \"2011-03-11T00:00:00\", \"2011-03-12T00:00:00\", \"2011-03-13T00:00:00\", \"2011-03-14T00:00:00\", \"2011-03-15T00:00:00\", \"2011-03-16T00:00:00\", \"2011-03-17T00:00:00\", \"2011-03-18T00:00:00\", \"2011-03-19T00:00:00\", \"2011-03-20T00:00:00\", \"2011-03-21T00:00:00\", \"2011-03-22T00:00:00\", \"2011-03-23T00:00:00\", \"2011-03-24T00:00:00\", \"2011-03-25T00:00:00\", \"2011-03-26T00:00:00\", \"2011-03-27T00:00:00\", \"2011-03-28T00:00:00\", \"2011-03-29T00:00:00\", \"2011-03-30T00:00:00\", \"2011-03-31T00:00:00\", \"2011-04-01T00:00:00\", \"2011-04-02T00:00:00\", \"2011-04-03T00:00:00\", \"2011-04-04T00:00:00\", \"2011-04-05T00:00:00\", \"2011-04-06T00:00:00\", \"2011-04-07T00:00:00\", \"2011-04-08T00:00:00\", \"2011-04-09T00:00:00\", \"2011-04-10T00:00:00\", \"2011-04-11T00:00:00\", \"2011-04-12T00:00:00\", \"2011-04-13T00:00:00\", \"2011-04-14T00:00:00\", \"2011-04-15T00:00:00\", \"2011-04-16T00:00:00\", \"2011-04-17T00:00:00\", \"2011-04-18T00:00:00\", \"2011-04-19T00:00:00\", \"2011-04-20T00:00:00\", \"2011-04-21T00:00:00\", \"2011-04-22T00:00:00\", \"2011-04-23T00:00:00\", \"2011-04-24T00:00:00\", \"2011-04-25T00:00:00\", \"2011-04-26T00:00:00\", \"2011-04-27T00:00:00\", \"2011-04-28T00:00:00\", \"2011-04-29T00:00:00\", \"2011-04-30T00:00:00\", \"2011-05-01T00:00:00\", \"2011-05-02T00:00:00\", \"2011-05-03T00:00:00\", \"2011-05-04T00:00:00\", \"2011-05-05T00:00:00\", \"2011-05-06T00:00:00\", \"2011-05-07T00:00:00\", \"2011-05-08T00:00:00\", \"2011-05-09T00:00:00\", \"2011-05-10T00:00:00\", \"2011-05-11T00:00:00\", \"2011-05-12T00:00:00\", \"2011-05-13T00:00:00\", \"2011-05-14T00:00:00\", \"2011-05-15T00:00:00\", \"2011-05-16T00:00:00\", \"2011-05-17T00:00:00\", \"2011-05-18T00:00:00\", \"2011-05-19T00:00:00\", \"2011-05-20T00:00:00\", \"2011-05-21T00:00:00\", \"2011-05-22T00:00:00\", \"2011-05-23T00:00:00\", \"2011-05-24T00:00:00\", \"2011-05-25T00:00:00\", \"2011-05-26T00:00:00\", \"2011-05-27T00:00:00\", \"2011-05-28T00:00:00\", \"2011-05-29T00:00:00\", \"2011-05-30T00:00:00\", \"2011-05-31T00:00:00\", \"2011-06-01T00:00:00\", \"2011-06-02T00:00:00\", \"2011-06-03T00:00:00\", \"2011-06-04T00:00:00\", \"2011-06-05T00:00:00\", \"2011-06-06T00:00:00\", \"2011-06-07T00:00:00\", \"2011-06-08T00:00:00\", \"2011-06-09T00:00:00\", \"2011-06-10T00:00:00\", \"2011-06-11T00:00:00\", \"2011-06-12T00:00:00\", \"2011-06-13T00:00:00\", \"2011-06-14T00:00:00\", \"2011-06-15T00:00:00\", \"2011-06-16T00:00:00\", \"2011-06-17T00:00:00\", \"2011-06-18T00:00:00\", \"2011-06-19T00:00:00\", \"2011-06-20T00:00:00\", \"2011-06-21T00:00:00\", \"2011-06-22T00:00:00\", \"2011-06-23T00:00:00\", \"2011-06-24T00:00:00\", \"2011-06-25T00:00:00\", \"2011-06-26T00:00:00\", \"2011-06-27T00:00:00\", \"2011-06-28T00:00:00\", \"2011-06-29T00:00:00\", \"2011-06-30T00:00:00\", \"2011-07-01T00:00:00\", \"2011-07-02T00:00:00\", \"2011-07-03T00:00:00\", \"2011-07-04T00:00:00\", \"2011-07-05T00:00:00\", \"2011-07-06T00:00:00\", \"2011-07-07T00:00:00\", \"2011-07-08T00:00:00\", \"2011-07-09T00:00:00\", \"2011-07-10T00:00:00\", \"2011-07-11T00:00:00\", \"2011-07-12T00:00:00\", \"2011-07-13T00:00:00\", \"2011-07-14T00:00:00\", \"2011-07-15T00:00:00\", \"2011-07-16T00:00:00\", \"2011-07-17T00:00:00\", \"2011-07-18T00:00:00\", \"2011-07-19T00:00:00\", \"2011-07-20T00:00:00\", \"2011-07-21T00:00:00\", \"2011-07-22T00:00:00\", \"2011-07-23T00:00:00\", \"2011-07-24T00:00:00\", \"2011-07-25T00:00:00\", \"2011-07-26T00:00:00\", \"2011-07-27T00:00:00\", \"2011-07-28T00:00:00\", \"2011-07-29T00:00:00\", \"2011-07-30T00:00:00\", \"2011-07-31T00:00:00\", \"2011-08-01T00:00:00\", \"2011-08-02T00:00:00\", \"2011-08-03T00:00:00\", \"2011-08-04T00:00:00\", \"2011-08-05T00:00:00\", \"2011-08-06T00:00:00\", \"2011-08-07T00:00:00\", \"2011-08-08T00:00:00\", \"2011-08-09T00:00:00\", \"2011-08-10T00:00:00\", \"2011-08-11T00:00:00\", \"2011-08-12T00:00:00\", \"2011-08-13T00:00:00\", \"2011-08-14T00:00:00\", \"2011-08-15T00:00:00\", \"2011-08-16T00:00:00\", \"2011-08-17T00:00:00\", \"2011-08-18T00:00:00\", \"2011-08-19T00:00:00\", \"2011-08-20T00:00:00\", \"2011-08-21T00:00:00\", \"2011-08-22T00:00:00\", \"2011-08-23T00:00:00\", \"2011-08-24T00:00:00\", \"2011-08-25T00:00:00\", \"2011-08-26T00:00:00\", \"2011-08-27T00:00:00\", \"2011-08-28T00:00:00\", \"2011-08-29T00:00:00\", \"2011-08-30T00:00:00\", \"2011-08-31T00:00:00\", \"2011-09-01T00:00:00\", \"2011-09-02T00:00:00\", \"2011-09-03T00:00:00\", \"2011-09-04T00:00:00\", \"2011-09-05T00:00:00\", \"2011-09-06T00:00:00\", \"2011-09-07T00:00:00\", \"2011-09-08T00:00:00\", \"2011-09-09T00:00:00\", \"2011-09-10T00:00:00\", \"2011-09-11T00:00:00\", \"2011-09-12T00:00:00\", \"2011-09-13T00:00:00\", \"2011-09-14T00:00:00\", \"2011-09-15T00:00:00\", \"2011-09-16T00:00:00\", \"2011-09-17T00:00:00\", \"2011-09-18T00:00:00\", \"2011-09-19T00:00:00\", \"2011-09-20T00:00:00\", \"2011-09-21T00:00:00\", \"2011-09-22T00:00:00\", \"2011-09-23T00:00:00\", \"2011-09-24T00:00:00\", \"2011-09-25T00:00:00\", \"2011-09-26T00:00:00\", \"2011-09-27T00:00:00\", \"2011-09-28T00:00:00\", \"2011-09-29T00:00:00\", \"2011-09-30T00:00:00\", \"2011-10-01T00:00:00\", \"2011-10-02T00:00:00\", \"2011-10-03T00:00:00\", \"2011-10-04T00:00:00\", \"2011-10-05T00:00:00\", \"2011-10-06T00:00:00\", \"2011-10-07T00:00:00\", \"2011-10-08T00:00:00\", \"2011-10-09T00:00:00\", \"2011-10-10T00:00:00\", \"2011-10-11T00:00:00\", \"2011-10-12T00:00:00\", \"2011-10-13T00:00:00\", \"2011-10-14T00:00:00\", \"2011-10-15T00:00:00\", \"2011-10-16T00:00:00\", \"2011-10-17T00:00:00\", \"2011-10-18T00:00:00\", \"2011-10-19T00:00:00\", \"2011-10-20T00:00:00\", \"2011-10-21T00:00:00\", \"2011-10-22T00:00:00\", \"2011-10-23T00:00:00\", \"2011-10-24T00:00:00\", \"2011-10-25T00:00:00\", \"2011-10-26T00:00:00\", \"2011-10-27T00:00:00\", \"2011-10-28T00:00:00\", \"2011-10-29T00:00:00\", \"2011-10-30T00:00:00\", \"2011-10-31T00:00:00\", \"2011-11-01T00:00:00\", \"2011-11-02T00:00:00\", \"2011-11-03T00:00:00\", \"2011-11-04T00:00:00\", \"2011-11-05T00:00:00\", \"2011-11-06T00:00:00\", \"2011-11-07T00:00:00\", \"2011-11-08T00:00:00\", \"2011-11-09T00:00:00\", \"2011-11-10T00:00:00\", \"2011-11-11T00:00:00\", \"2011-11-12T00:00:00\", \"2011-11-13T00:00:00\", \"2011-11-14T00:00:00\", \"2011-11-15T00:00:00\", \"2011-11-16T00:00:00\", \"2011-11-17T00:00:00\", \"2011-11-18T00:00:00\", \"2011-11-19T00:00:00\", \"2011-11-20T00:00:00\", \"2011-11-21T00:00:00\", \"2011-11-22T00:00:00\", \"2011-11-23T00:00:00\", \"2011-11-24T00:00:00\", \"2011-11-25T00:00:00\", \"2011-11-26T00:00:00\", \"2011-11-27T00:00:00\", \"2011-11-28T00:00:00\", \"2011-11-29T00:00:00\", \"2011-11-30T00:00:00\", \"2011-12-01T00:00:00\", \"2011-12-02T00:00:00\", \"2011-12-03T00:00:00\", \"2011-12-04T00:00:00\", \"2011-12-05T00:00:00\", \"2011-12-06T00:00:00\", \"2011-12-07T00:00:00\", \"2011-12-08T00:00:00\", \"2011-12-09T00:00:00\", \"2011-12-10T00:00:00\", \"2011-12-11T00:00:00\", \"2011-12-12T00:00:00\", \"2011-12-13T00:00:00\", \"2011-12-14T00:00:00\", \"2011-12-15T00:00:00\", \"2011-12-16T00:00:00\", \"2011-12-17T00:00:00\", \"2011-12-18T00:00:00\", \"2011-12-19T00:00:00\", \"2011-12-20T00:00:00\", \"2011-12-21T00:00:00\", \"2011-12-22T00:00:00\", \"2011-12-23T00:00:00\", \"2011-12-24T00:00:00\", \"2011-12-25T00:00:00\", \"2011-12-26T00:00:00\", \"2011-12-27T00:00:00\", \"2011-12-28T00:00:00\", \"2011-12-29T00:00:00\", \"2011-12-30T00:00:00\", \"2011-12-31T00:00:00\", \"2012-01-01T00:00:00\", \"2012-01-02T00:00:00\", \"2012-01-03T00:00:00\", \"2012-01-04T00:00:00\", \"2012-01-05T00:00:00\", \"2012-01-06T00:00:00\", \"2012-01-07T00:00:00\", \"2012-01-08T00:00:00\", \"2012-01-09T00:00:00\", \"2012-01-10T00:00:00\", \"2012-01-11T00:00:00\", \"2012-01-12T00:00:00\", \"2012-01-13T00:00:00\", \"2012-01-14T00:00:00\", \"2012-01-15T00:00:00\", \"2012-01-16T00:00:00\", \"2012-01-17T00:00:00\", \"2012-01-18T00:00:00\", \"2012-01-19T00:00:00\", \"2012-01-20T00:00:00\", \"2012-01-21T00:00:00\", \"2012-01-22T00:00:00\", \"2012-01-23T00:00:00\", \"2012-01-24T00:00:00\", \"2012-01-25T00:00:00\", \"2012-01-26T00:00:00\", \"2012-01-27T00:00:00\", \"2012-01-28T00:00:00\", \"2012-01-29T00:00:00\", \"2012-01-30T00:00:00\", \"2012-01-31T00:00:00\", \"2012-02-01T00:00:00\", \"2012-02-02T00:00:00\", \"2012-02-03T00:00:00\", \"2012-02-04T00:00:00\", \"2012-02-05T00:00:00\", \"2012-02-06T00:00:00\", \"2012-02-07T00:00:00\", \"2012-02-08T00:00:00\", \"2012-02-09T00:00:00\", \"2012-02-10T00:00:00\", \"2012-02-11T00:00:00\", \"2012-02-12T00:00:00\", \"2012-02-13T00:00:00\", \"2012-02-14T00:00:00\", \"2012-02-15T00:00:00\", \"2012-02-16T00:00:00\", \"2012-02-17T00:00:00\", \"2012-02-18T00:00:00\", \"2012-02-19T00:00:00\", \"2012-02-20T00:00:00\", \"2012-02-21T00:00:00\", \"2012-02-22T00:00:00\", \"2012-02-23T00:00:00\", \"2012-02-24T00:00:00\", \"2012-02-25T00:00:00\", \"2012-02-26T00:00:00\", \"2012-02-27T00:00:00\", \"2012-02-28T00:00:00\", \"2012-02-29T00:00:00\", \"2012-03-01T00:00:00\", \"2012-03-02T00:00:00\", \"2012-03-03T00:00:00\"], \"xaxis\": \"x\", \"y\": [238, 137, 524, 675, 307, 338, 465, 434, 362, 490, 814, 772, 690, 637, 494, 534, 788, 755, 905, 603, 844, 577, 637, 655, 1193, 870, 840, 656, 1136, 1120, 941, 1048, 1427, 1289, 1080, 1423, 809, 947, 1703, 1645, 1321, 1137, 1066, 1042, 1131, 1501, 1782, 1406, 1287, 1287, 1492, 1505, 1680, 1771, 1233, 1218, 1332, 1504, 1519, 2020, 1759, 1605, 1536, 1333, 1925, 2053, 2629, 2462, 2648, 1720, 2187, 2105, 2116, 2763, 3167, 2383, 2339, 2227, 2227, 2227, 2780, 3329, 2383, 2453, 2438, 2354, 3072, 2781, 3153, 2579, 3156, 2646, 2871, 2776, 3817, 4039, 2734, 2398, 3099, 2737, 3790, 4179, 4653, 3592, 3887, 3375, 3499, 3407, 4019, 5080, 3148, 3020, 4029, 3924, 3513, 4086, 4605, 3573, 3142, 3327, 2972, 3758, 3863, 4897, 3509, 2691, 2998, 3342, 2849, 4187, 4658, 4194, 3908, 3932, 4497, 3596, 4671, 5074, 3937, 3534, 3777, 3221, 3818, 4025, 4699, 3856, 3407, 3145, 2958, 3892, 3883, 4653, 2914, 3673, 2745, 3123, 3986, 3782, 4935, 3804, 2742, 3264, 3690, 4263, 5337, 4762, 4389, 3928, 4320, 3374, 3379, 4169, 5163, 3144, 3028, 3211, 3156, 3658, 4174, 5271, 3325, 3254, 3420, 3232, 3838, 4803, 5072, 3152, 2943, 2703, 3496, 3288, 4768, 4829, 3823, 4196, 3562, 3724, 3512, 4357, 5294, 3753, 3260, 2840, 3415, 2932, 4240, 5412, 3435, 3224, 3625, 3295, 3510, 4509, 4352, 3262, 2865, 3052, 2978, 2978, 4293, 5537, 3694, 3634, 3665, 3086, 4112, 4247, 5125, 3790, 3260, 3640, 3178, 3476, 4139, 5050, 3344, 3322, 3212, 3044, 4230, 5235, 4990, 4638, 4995, 6746, 1689, 2246, 3130, 3602, 3581, 3257, 3085, 3689, 3784, 5757, 5242, 5194, 3977, 4394, 4760, 3168, 4420, 4326, 3167, 4243, 3737, 2981, 3328, 4064, 4949, 4018, 3685, 3535, 4425, 6715, 4160, 6, 3188, 3814, 2940, 3331, 4183, 5540, 3722, 4251, 4462, 4125, 4093, 3946, 5052, 5525, 4043, 3128, 3506, 3730, 3471, 5212, 4308, 4439, 3303, 3065, 3077, 3760, 4975, 5584, 4233, 3093, 3352, 3151, 2909, 4402, 5171, 4108, 3548, 3533, 4033, 4563, 6025, 5295, 4263, 3335, 3321, 3562, 4674, 4351, 5587, 4065, 2871, 3458, 3291, 3418, 4159, 4452, 3870, 3875, 3899, 2980, 3845, 5162, 5435, 3394, 3293, 4030, 4369, 3703, 5276, 5402, 3984, 3158, 3608, 3181, 3762, 4622, 5577, 3540, 3344, 3718, 3269, 3998, 4691, 5175, 5201, 2865, 3102, 2995, 4112, 4676, 5104, 4463, 3613, 3554, 2934, 3539, 4650, 5476, 4709, 4089, 3424, 3159, 3406, 4917, 5558, 4033, 2954, 3301, 3671, 5095, 5767, 3806, 3421, 3635, 3515, 3181, 3523, 4200, 4856, 3384, 3818, 3282, 3199, 3144, 4509, 5141, 4612, 3888, 3677, 4344, 4226, 4853, 5676, 4030, 3964, 3718, 3639, 3693, 4223, 4870, 4108, 3740, 3653, 3847, 3685, 4225, 5531, 3863, 3158, 3354, 2964, 4035, 4819, 4552, 4104, 3269, 3499, 3594, 4250, 4853, 5585, 4724, 3456, 4152, 3302, 3782, 4199, 5440, 3887, 3618, 3365, 3887, 3668, 4242, 5048, 3770, 3398, 3260, 2975, 3773, 4363, 4087, 4096, 3300, 2932, 3934, 4071, 5130, 4438, 4373, 5578, 3667, 4456, 3864, 4247, 5238, 4255, 3237, 3507, 3451, 3713, 3987, 4873, 3761, 3195, 2711, 3710, 3725, 4537, 5350, 3731, 3414, 2993, 3589, 3687, 4184, 4836, 3740, 4457, 3590, 4643, 4207, 4859, 5589, 4619, 3551, 3847, 3953, 3318, 4378, 4249, 4399, 3438, 3397, 3286, 3772, 4768, 4569, 3611, 3717, 3312, 3380, 3386, 4759, 4670, 3327, 3355, 2993, 3472, 4461, 5107, 4582, 4874, 4402, 3325, 3994, 3849, 4621, 4813, 3602, 3524, 3213, 3003, 3428, 4313, 4780, 4573, 3669, 3207, 3232, 3280, 4696, 5139, 3747, 2831, 3306, 3163, 3695, 4116, 5610, 4080, 3475, 3474, 3843, 4277, 4323, 5307, 4221, 4278, 3435, 2998, 2974, 4152, 5050, 3721, 3173, 3252, 2852, 3282, 4228, 5645, 4464, 3567, 3548, 3037, 3392, 4665, 4674, 4074, 3499, 3513, 3910, 3998, 5839, 6190, 3848, 3477, 3565, 3114, 3836, 4620, 5489, 3800, 3755, 3182, 3535, 4185, 4690, 5186, 4998, 5393, 6352, 1994, 2476, 3102, 4139, 3567, 3801, 3256, 2911, 3799, 4849, 6551, 3757, 4251, 3819, 3764, 3827, 4741, 5109, 3526, 3640, 2860, 3553, 3932, 4842, 4620, 4096, 4096, 3863, 4092, 5355, 7066, 4558, 2, 3845, 3446, 3286, 3920, 5439, 4950, 3386, 4355, 4531, 3775, 4048, 5444, 5694, 3528, 3642, 3866, 3717, 3725, 5149, 5440, 4012, 3440, 3157, 3205, 3808, 6260, 4491, 4066, 3777, 3030, 3730, 4115, 5161, 5329, 3366, 3392, 4141, 4158, 3940, 5475, 6681, 4432, 4441, 3408, 3962, 3138, 5449, 7426, 7493, 2351, 2582, 3022, 3784, 4590, 5080, 3541, 2898, 3779, 2926, 3640, 4557, 5272, 3709, 3176, 3154, 3567, 3843, 4974], \"yaxis\": \"y\"}],\n",
       "                        {\"height\": 600, \"legend\": {\"tracegroupgap\": 0}, \"margin\": {\"t\": 60}, \"template\": {\"data\": {\"bar\": [{\"error_x\": {\"color\": \"#2a3f5f\"}, \"error_y\": {\"color\": \"#2a3f5f\"}, \"marker\": {\"line\": {\"color\": \"#E5ECF6\", \"width\": 0.5}}, \"type\": \"bar\"}], \"barpolar\": [{\"marker\": {\"line\": {\"color\": \"#E5ECF6\", \"width\": 0.5}}, \"type\": \"barpolar\"}], \"carpet\": [{\"aaxis\": {\"endlinecolor\": \"#2a3f5f\", \"gridcolor\": \"white\", \"linecolor\": \"white\", \"minorgridcolor\": \"white\", \"startlinecolor\": \"#2a3f5f\"}, \"baxis\": {\"endlinecolor\": \"#2a3f5f\", \"gridcolor\": \"white\", \"linecolor\": \"white\", \"minorgridcolor\": \"white\", \"startlinecolor\": \"#2a3f5f\"}, \"type\": \"carpet\"}], \"choropleth\": [{\"colorbar\": {\"outlinewidth\": 0, \"ticks\": \"\"}, \"type\": \"choropleth\"}], \"contour\": [{\"colorbar\": {\"outlinewidth\": 0, \"ticks\": \"\"}, \"colorscale\": [[0.0, \"#0d0887\"], [0.1111111111111111, \"#46039f\"], [0.2222222222222222, \"#7201a8\"], [0.3333333333333333, \"#9c179e\"], [0.4444444444444444, \"#bd3786\"], [0.5555555555555556, \"#d8576b\"], [0.6666666666666666, \"#ed7953\"], [0.7777777777777778, \"#fb9f3a\"], [0.8888888888888888, \"#fdca26\"], [1.0, \"#f0f921\"]], \"type\": \"contour\"}], \"contourcarpet\": [{\"colorbar\": {\"outlinewidth\": 0, \"ticks\": \"\"}, \"type\": \"contourcarpet\"}], \"heatmap\": [{\"colorbar\": {\"outlinewidth\": 0, \"ticks\": \"\"}, \"colorscale\": [[0.0, \"#0d0887\"], [0.1111111111111111, \"#46039f\"], [0.2222222222222222, \"#7201a8\"], [0.3333333333333333, \"#9c179e\"], [0.4444444444444444, \"#bd3786\"], [0.5555555555555556, \"#d8576b\"], [0.6666666666666666, \"#ed7953\"], [0.7777777777777778, \"#fb9f3a\"], [0.8888888888888888, \"#fdca26\"], [1.0, \"#f0f921\"]], \"type\": \"heatmap\"}], \"heatmapgl\": [{\"colorbar\": {\"outlinewidth\": 0, \"ticks\": \"\"}, \"colorscale\": [[0.0, \"#0d0887\"], [0.1111111111111111, \"#46039f\"], [0.2222222222222222, \"#7201a8\"], [0.3333333333333333, \"#9c179e\"], [0.4444444444444444, \"#bd3786\"], [0.5555555555555556, \"#d8576b\"], [0.6666666666666666, \"#ed7953\"], [0.7777777777777778, \"#fb9f3a\"], [0.8888888888888888, \"#fdca26\"], [1.0, \"#f0f921\"]], \"type\": \"heatmapgl\"}], \"histogram\": [{\"marker\": {\"colorbar\": {\"outlinewidth\": 0, \"ticks\": \"\"}}, \"type\": \"histogram\"}], \"histogram2d\": [{\"colorbar\": {\"outlinewidth\": 0, \"ticks\": \"\"}, \"colorscale\": [[0.0, \"#0d0887\"], [0.1111111111111111, \"#46039f\"], [0.2222222222222222, \"#7201a8\"], [0.3333333333333333, \"#9c179e\"], [0.4444444444444444, \"#bd3786\"], [0.5555555555555556, \"#d8576b\"], [0.6666666666666666, \"#ed7953\"], [0.7777777777777778, \"#fb9f3a\"], [0.8888888888888888, \"#fdca26\"], [1.0, \"#f0f921\"]], \"type\": \"histogram2d\"}], \"histogram2dcontour\": [{\"colorbar\": {\"outlinewidth\": 0, \"ticks\": \"\"}, \"colorscale\": [[0.0, \"#0d0887\"], [0.1111111111111111, \"#46039f\"], [0.2222222222222222, \"#7201a8\"], [0.3333333333333333, \"#9c179e\"], [0.4444444444444444, \"#bd3786\"], [0.5555555555555556, \"#d8576b\"], [0.6666666666666666, \"#ed7953\"], [0.7777777777777778, \"#fb9f3a\"], [0.8888888888888888, \"#fdca26\"], [1.0, \"#f0f921\"]], \"type\": \"histogram2dcontour\"}], \"mesh3d\": [{\"colorbar\": {\"outlinewidth\": 0, \"ticks\": \"\"}, \"type\": \"mesh3d\"}], \"parcoords\": [{\"line\": {\"colorbar\": {\"outlinewidth\": 0, \"ticks\": \"\"}}, \"type\": \"parcoords\"}], \"pie\": [{\"automargin\": true, \"type\": \"pie\"}], \"scatter\": [{\"marker\": {\"colorbar\": {\"outlinewidth\": 0, \"ticks\": \"\"}}, \"type\": \"scatter\"}], \"scatter3d\": [{\"line\": {\"colorbar\": {\"outlinewidth\": 0, \"ticks\": \"\"}}, \"marker\": {\"colorbar\": {\"outlinewidth\": 0, \"ticks\": \"\"}}, \"type\": \"scatter3d\"}], \"scattercarpet\": [{\"marker\": {\"colorbar\": {\"outlinewidth\": 0, \"ticks\": \"\"}}, \"type\": \"scattercarpet\"}], \"scattergeo\": [{\"marker\": {\"colorbar\": {\"outlinewidth\": 0, \"ticks\": \"\"}}, \"type\": \"scattergeo\"}], \"scattergl\": [{\"marker\": {\"colorbar\": {\"outlinewidth\": 0, \"ticks\": \"\"}}, \"type\": \"scattergl\"}], \"scattermapbox\": [{\"marker\": {\"colorbar\": {\"outlinewidth\": 0, \"ticks\": \"\"}}, \"type\": \"scattermapbox\"}], \"scatterpolar\": [{\"marker\": {\"colorbar\": {\"outlinewidth\": 0, \"ticks\": \"\"}}, \"type\": \"scatterpolar\"}], \"scatterpolargl\": [{\"marker\": {\"colorbar\": {\"outlinewidth\": 0, \"ticks\": \"\"}}, \"type\": \"scatterpolargl\"}], \"scatterternary\": [{\"marker\": {\"colorbar\": {\"outlinewidth\": 0, \"ticks\": \"\"}}, \"type\": \"scatterternary\"}], \"surface\": [{\"colorbar\": {\"outlinewidth\": 0, \"ticks\": \"\"}, \"colorscale\": [[0.0, \"#0d0887\"], [0.1111111111111111, \"#46039f\"], [0.2222222222222222, \"#7201a8\"], [0.3333333333333333, \"#9c179e\"], [0.4444444444444444, \"#bd3786\"], [0.5555555555555556, \"#d8576b\"], [0.6666666666666666, \"#ed7953\"], [0.7777777777777778, \"#fb9f3a\"], [0.8888888888888888, \"#fdca26\"], [1.0, \"#f0f921\"]], \"type\": \"surface\"}], \"table\": [{\"cells\": {\"fill\": {\"color\": \"#EBF0F8\"}, \"line\": {\"color\": \"white\"}}, \"header\": {\"fill\": {\"color\": \"#C8D4E3\"}, \"line\": {\"color\": \"white\"}}, \"type\": \"table\"}]}, \"layout\": {\"annotationdefaults\": {\"arrowcolor\": \"#2a3f5f\", \"arrowhead\": 0, \"arrowwidth\": 1}, \"coloraxis\": {\"colorbar\": {\"outlinewidth\": 0, \"ticks\": \"\"}}, \"colorscale\": {\"diverging\": [[0, \"#8e0152\"], [0.1, \"#c51b7d\"], [0.2, \"#de77ae\"], [0.3, \"#f1b6da\"], [0.4, \"#fde0ef\"], [0.5, \"#f7f7f7\"], [0.6, \"#e6f5d0\"], [0.7, \"#b8e186\"], [0.8, \"#7fbc41\"], [0.9, \"#4d9221\"], [1, \"#276419\"]], \"sequential\": [[0.0, \"#0d0887\"], [0.1111111111111111, \"#46039f\"], [0.2222222222222222, \"#7201a8\"], [0.3333333333333333, \"#9c179e\"], [0.4444444444444444, \"#bd3786\"], [0.5555555555555556, \"#d8576b\"], [0.6666666666666666, \"#ed7953\"], [0.7777777777777778, \"#fb9f3a\"], [0.8888888888888888, \"#fdca26\"], [1.0, \"#f0f921\"]], \"sequentialminus\": [[0.0, \"#0d0887\"], [0.1111111111111111, \"#46039f\"], [0.2222222222222222, \"#7201a8\"], [0.3333333333333333, \"#9c179e\"], [0.4444444444444444, \"#bd3786\"], [0.5555555555555556, \"#d8576b\"], [0.6666666666666666, \"#ed7953\"], [0.7777777777777778, \"#fb9f3a\"], [0.8888888888888888, \"#fdca26\"], [1.0, \"#f0f921\"]]}, \"colorway\": [\"#636efa\", \"#EF553B\", \"#00cc96\", \"#ab63fa\", \"#FFA15A\", \"#19d3f3\", \"#FF6692\", \"#B6E880\", \"#FF97FF\", \"#FECB52\"], \"font\": {\"color\": \"#2a3f5f\"}, \"geo\": {\"bgcolor\": \"white\", \"lakecolor\": \"white\", \"landcolor\": \"#E5ECF6\", \"showlakes\": true, \"showland\": true, \"subunitcolor\": \"white\"}, \"hoverlabel\": {\"align\": \"left\"}, \"hovermode\": \"closest\", \"mapbox\": {\"style\": \"light\"}, \"paper_bgcolor\": \"white\", \"plot_bgcolor\": \"#E5ECF6\", \"polar\": {\"angularaxis\": {\"gridcolor\": \"white\", \"linecolor\": \"white\", \"ticks\": \"\"}, \"bgcolor\": \"#E5ECF6\", \"radialaxis\": {\"gridcolor\": \"white\", \"linecolor\": \"white\", \"ticks\": \"\"}}, \"scene\": {\"xaxis\": {\"backgroundcolor\": \"#E5ECF6\", \"gridcolor\": \"white\", \"gridwidth\": 2, \"linecolor\": \"white\", \"showbackground\": true, \"ticks\": \"\", \"zerolinecolor\": \"white\"}, \"yaxis\": {\"backgroundcolor\": \"#E5ECF6\", \"gridcolor\": \"white\", \"gridwidth\": 2, \"linecolor\": \"white\", \"showbackground\": true, \"ticks\": \"\", \"zerolinecolor\": \"white\"}, \"zaxis\": {\"backgroundcolor\": \"#E5ECF6\", \"gridcolor\": \"white\", \"gridwidth\": 2, \"linecolor\": \"white\", \"showbackground\": true, \"ticks\": \"\", \"zerolinecolor\": \"white\"}}, \"shapedefaults\": {\"line\": {\"color\": \"#2a3f5f\"}}, \"ternary\": {\"aaxis\": {\"gridcolor\": \"white\", \"linecolor\": \"white\", \"ticks\": \"\"}, \"baxis\": {\"gridcolor\": \"white\", \"linecolor\": \"white\", \"ticks\": \"\"}, \"bgcolor\": \"#E5ECF6\", \"caxis\": {\"gridcolor\": \"white\", \"linecolor\": \"white\", \"ticks\": \"\"}}, \"title\": {\"x\": 0.05}, \"xaxis\": {\"automargin\": true, \"gridcolor\": \"white\", \"linecolor\": \"white\", \"ticks\": \"\", \"title\": {\"standoff\": 15}, \"zerolinecolor\": \"white\", \"zerolinewidth\": 2}, \"yaxis\": {\"automargin\": true, \"gridcolor\": \"white\", \"linecolor\": \"white\", \"ticks\": \"\", \"title\": {\"standoff\": 15}, \"zerolinecolor\": \"white\", \"zerolinewidth\": 2}}}, \"title\": {\"text\": \"Transactions\"}, \"xaxis\": {\"anchor\": \"y\", \"domain\": [0.0, 1.0], \"title\": {\"text\": \"DATE\"}}, \"yaxis\": {\"anchor\": \"x\", \"domain\": [0.0, 1.0], \"title\": {\"text\": \"count\"}}},\n",
       "                        {\"responsive\": true}\n",
       "                    ).then(function(){\n",
       "                            \n",
       "var gd = document.getElementById('93b41434-f550-409b-ac14-b3d7051f00f3');\n",
       "var x = new MutationObserver(function (mutations, observer) {{\n",
       "        var display = window.getComputedStyle(gd).display;\n",
       "        if (!display || display === 'none') {{\n",
       "            console.log([gd, 'removed!']);\n",
       "            Plotly.purge(gd);\n",
       "            observer.disconnect();\n",
       "        }}\n",
       "}});\n",
       "\n",
       "// Listen for the removal of the full notebook cells\n",
       "var notebookContainer = gd.closest('#notebook-container');\n",
       "if (notebookContainer) {{\n",
       "    x.observe(notebookContainer, {childList: true});\n",
       "}}\n",
       "\n",
       "// Listen for the clearing of the current output cell\n",
       "var outputEl = gd.closest('.output');\n",
       "if (outputEl) {{\n",
       "    x.observe(outputEl, {childList: true});\n",
       "}}\n",
       "\n",
       "                        })\n",
       "                };\n",
       "                });\n",
       "            </script>\n",
       "        </div>"
      ]
     },
     "metadata": {},
     "output_type": "display_data"
    }
   ],
   "source": [
    "trans_per_day = df_transactions.groupby(\"DATE\")[\"household_key\"].count().reset_index(name=\"count\").reset_index()\n",
    "fig = px.line(trans_per_day, x='DATE', y='count')\n",
    "fig.update_layout(title=\"Transactions\")\n",
    "fig.show()"
   ]
  },
  {
   "cell_type": "markdown",
   "metadata": {},
   "source": [
    "We observe a peak in the number of transactions on 24th of December and a low on the 26th which is a holiday. This makes us confident that  the start date that we found is correct."
   ]
  },
  {
   "cell_type": "markdown",
   "metadata": {},
   "source": [
    "If we look only at the transactions for Turkey meat (see below), we observe two peaks around the 20th of November which corresponds to Thanksgiving. As this is a US specific holiday. We think that the dataset might have been collected in the US."
   ]
  },
  {
   "cell_type": "code",
   "execution_count": 42,
   "metadata": {},
   "outputs": [
    {
     "data": {
      "application/vnd.plotly.v1+json": {
       "config": {
        "plotlyServerURL": "https://plot.ly"
       },
       "data": [
        {
         "hoverlabel": {
          "namelength": 0
         },
         "hovertemplate": "DATE=%{x}<br>count=%{y}",
         "legendgroup": "",
         "line": {
          "color": "#636efa",
          "dash": "solid"
         },
         "mode": "lines",
         "name": "",
         "showlegend": false,
         "type": "scatter",
         "x": [
          "2010-03-26T00:00:00",
          "2010-03-31T00:00:00",
          "2010-04-01T00:00:00",
          "2010-04-03T00:00:00",
          "2010-04-05T00:00:00",
          "2010-04-07T00:00:00",
          "2010-04-10T00:00:00",
          "2010-04-11T00:00:00",
          "2010-04-18T00:00:00",
          "2010-04-19T00:00:00",
          "2010-04-20T00:00:00",
          "2010-04-22T00:00:00",
          "2010-04-23T00:00:00",
          "2010-04-24T00:00:00",
          "2010-04-25T00:00:00",
          "2010-04-26T00:00:00",
          "2010-04-27T00:00:00",
          "2010-04-30T00:00:00",
          "2010-05-01T00:00:00",
          "2010-05-02T00:00:00",
          "2010-05-04T00:00:00",
          "2010-05-05T00:00:00",
          "2010-05-06T00:00:00",
          "2010-05-07T00:00:00",
          "2010-05-08T00:00:00",
          "2010-05-11T00:00:00",
          "2010-05-14T00:00:00",
          "2010-05-16T00:00:00",
          "2010-05-17T00:00:00",
          "2010-05-18T00:00:00",
          "2010-05-20T00:00:00",
          "2010-05-21T00:00:00",
          "2010-05-22T00:00:00",
          "2010-05-23T00:00:00",
          "2010-05-24T00:00:00",
          "2010-05-25T00:00:00",
          "2010-05-26T00:00:00",
          "2010-05-27T00:00:00",
          "2010-05-28T00:00:00",
          "2010-05-29T00:00:00",
          "2010-05-30T00:00:00",
          "2010-06-02T00:00:00",
          "2010-06-03T00:00:00",
          "2010-06-04T00:00:00",
          "2010-06-05T00:00:00",
          "2010-06-06T00:00:00",
          "2010-06-07T00:00:00",
          "2010-06-08T00:00:00",
          "2010-06-10T00:00:00",
          "2010-06-11T00:00:00",
          "2010-06-12T00:00:00",
          "2010-06-13T00:00:00",
          "2010-06-15T00:00:00",
          "2010-06-16T00:00:00",
          "2010-06-18T00:00:00",
          "2010-06-20T00:00:00",
          "2010-06-21T00:00:00",
          "2010-06-23T00:00:00",
          "2010-06-25T00:00:00",
          "2010-06-26T00:00:00",
          "2010-06-27T00:00:00",
          "2010-06-28T00:00:00",
          "2010-06-29T00:00:00",
          "2010-06-30T00:00:00",
          "2010-07-01T00:00:00",
          "2010-07-02T00:00:00",
          "2010-07-05T00:00:00",
          "2010-07-06T00:00:00",
          "2010-07-07T00:00:00",
          "2010-07-08T00:00:00",
          "2010-07-09T00:00:00",
          "2010-07-10T00:00:00",
          "2010-07-11T00:00:00",
          "2010-07-12T00:00:00",
          "2010-07-13T00:00:00",
          "2010-07-14T00:00:00",
          "2010-07-15T00:00:00",
          "2010-07-17T00:00:00",
          "2010-07-18T00:00:00",
          "2010-07-19T00:00:00",
          "2010-07-20T00:00:00",
          "2010-07-22T00:00:00",
          "2010-07-23T00:00:00",
          "2010-07-24T00:00:00",
          "2010-07-25T00:00:00",
          "2010-07-26T00:00:00",
          "2010-07-28T00:00:00",
          "2010-07-29T00:00:00",
          "2010-07-30T00:00:00",
          "2010-07-31T00:00:00",
          "2010-08-01T00:00:00",
          "2010-08-02T00:00:00",
          "2010-08-03T00:00:00",
          "2010-08-04T00:00:00",
          "2010-08-05T00:00:00",
          "2010-08-06T00:00:00",
          "2010-08-07T00:00:00",
          "2010-08-08T00:00:00",
          "2010-08-09T00:00:00",
          "2010-08-10T00:00:00",
          "2010-08-11T00:00:00",
          "2010-08-12T00:00:00",
          "2010-08-13T00:00:00",
          "2010-08-14T00:00:00",
          "2010-08-15T00:00:00",
          "2010-08-16T00:00:00",
          "2010-08-17T00:00:00",
          "2010-08-18T00:00:00",
          "2010-08-19T00:00:00",
          "2010-08-20T00:00:00",
          "2010-08-21T00:00:00",
          "2010-08-22T00:00:00",
          "2010-08-23T00:00:00",
          "2010-08-24T00:00:00",
          "2010-08-26T00:00:00",
          "2010-08-27T00:00:00",
          "2010-08-28T00:00:00",
          "2010-08-29T00:00:00",
          "2010-08-30T00:00:00",
          "2010-08-31T00:00:00",
          "2010-09-01T00:00:00",
          "2010-09-02T00:00:00",
          "2010-09-03T00:00:00",
          "2010-09-04T00:00:00",
          "2010-09-05T00:00:00",
          "2010-09-06T00:00:00",
          "2010-09-07T00:00:00",
          "2010-09-08T00:00:00",
          "2010-09-09T00:00:00",
          "2010-09-10T00:00:00",
          "2010-09-11T00:00:00",
          "2010-09-12T00:00:00",
          "2010-09-13T00:00:00",
          "2010-09-14T00:00:00",
          "2010-09-15T00:00:00",
          "2010-09-16T00:00:00",
          "2010-09-17T00:00:00",
          "2010-09-18T00:00:00",
          "2010-09-19T00:00:00",
          "2010-09-20T00:00:00",
          "2010-09-21T00:00:00",
          "2010-09-22T00:00:00",
          "2010-09-23T00:00:00",
          "2010-09-24T00:00:00",
          "2010-09-25T00:00:00",
          "2010-09-26T00:00:00",
          "2010-09-27T00:00:00",
          "2010-09-28T00:00:00",
          "2010-09-29T00:00:00",
          "2010-09-30T00:00:00",
          "2010-10-01T00:00:00",
          "2010-10-02T00:00:00",
          "2010-10-03T00:00:00",
          "2010-10-04T00:00:00",
          "2010-10-05T00:00:00",
          "2010-10-06T00:00:00",
          "2010-10-07T00:00:00",
          "2010-10-08T00:00:00",
          "2010-10-09T00:00:00",
          "2010-10-10T00:00:00",
          "2010-10-11T00:00:00",
          "2010-10-12T00:00:00",
          "2010-10-13T00:00:00",
          "2010-10-14T00:00:00",
          "2010-10-15T00:00:00",
          "2010-10-16T00:00:00",
          "2010-10-17T00:00:00",
          "2010-10-18T00:00:00",
          "2010-10-19T00:00:00",
          "2010-10-20T00:00:00",
          "2010-10-21T00:00:00",
          "2010-10-22T00:00:00",
          "2010-10-23T00:00:00",
          "2010-10-24T00:00:00",
          "2010-10-26T00:00:00",
          "2010-10-27T00:00:00",
          "2010-10-28T00:00:00",
          "2010-10-29T00:00:00",
          "2010-10-30T00:00:00",
          "2010-10-31T00:00:00",
          "2010-11-01T00:00:00",
          "2010-11-02T00:00:00",
          "2010-11-03T00:00:00",
          "2010-11-04T00:00:00",
          "2010-11-05T00:00:00",
          "2010-11-06T00:00:00",
          "2010-11-07T00:00:00",
          "2010-11-08T00:00:00",
          "2010-11-09T00:00:00",
          "2010-11-10T00:00:00",
          "2010-11-11T00:00:00",
          "2010-11-12T00:00:00",
          "2010-11-13T00:00:00",
          "2010-11-14T00:00:00",
          "2010-11-15T00:00:00",
          "2010-11-16T00:00:00",
          "2010-11-17T00:00:00",
          "2010-11-18T00:00:00",
          "2010-11-19T00:00:00",
          "2010-11-20T00:00:00",
          "2010-11-21T00:00:00",
          "2010-11-22T00:00:00",
          "2010-11-23T00:00:00",
          "2010-11-24T00:00:00",
          "2010-11-25T00:00:00",
          "2010-11-26T00:00:00",
          "2010-11-27T00:00:00",
          "2010-11-28T00:00:00",
          "2010-11-29T00:00:00",
          "2010-11-30T00:00:00",
          "2010-12-01T00:00:00",
          "2010-12-02T00:00:00",
          "2010-12-03T00:00:00",
          "2010-12-04T00:00:00",
          "2010-12-05T00:00:00",
          "2010-12-06T00:00:00",
          "2010-12-07T00:00:00",
          "2010-12-09T00:00:00",
          "2010-12-10T00:00:00",
          "2010-12-11T00:00:00",
          "2010-12-12T00:00:00",
          "2010-12-13T00:00:00",
          "2010-12-14T00:00:00",
          "2010-12-15T00:00:00",
          "2010-12-16T00:00:00",
          "2010-12-17T00:00:00",
          "2010-12-18T00:00:00",
          "2010-12-19T00:00:00",
          "2010-12-20T00:00:00",
          "2010-12-21T00:00:00",
          "2010-12-22T00:00:00",
          "2010-12-23T00:00:00",
          "2010-12-24T00:00:00",
          "2010-12-25T00:00:00",
          "2010-12-27T00:00:00",
          "2010-12-28T00:00:00",
          "2010-12-29T00:00:00",
          "2010-12-30T00:00:00",
          "2010-12-31T00:00:00",
          "2011-01-01T00:00:00",
          "2011-01-02T00:00:00",
          "2011-01-03T00:00:00",
          "2011-01-04T00:00:00",
          "2011-01-05T00:00:00",
          "2011-01-06T00:00:00",
          "2011-01-07T00:00:00",
          "2011-01-08T00:00:00",
          "2011-01-09T00:00:00",
          "2011-01-10T00:00:00",
          "2011-01-11T00:00:00",
          "2011-01-12T00:00:00",
          "2011-01-13T00:00:00",
          "2011-01-14T00:00:00",
          "2011-01-15T00:00:00",
          "2011-01-16T00:00:00",
          "2011-01-17T00:00:00",
          "2011-01-18T00:00:00",
          "2011-01-19T00:00:00",
          "2011-01-20T00:00:00",
          "2011-01-21T00:00:00",
          "2011-01-22T00:00:00",
          "2011-01-23T00:00:00",
          "2011-01-24T00:00:00",
          "2011-01-25T00:00:00",
          "2011-01-26T00:00:00",
          "2011-01-27T00:00:00",
          "2011-01-28T00:00:00",
          "2011-01-29T00:00:00",
          "2011-01-30T00:00:00",
          "2011-01-31T00:00:00",
          "2011-02-01T00:00:00",
          "2011-02-02T00:00:00",
          "2011-02-03T00:00:00",
          "2011-02-05T00:00:00",
          "2011-02-06T00:00:00",
          "2011-02-07T00:00:00",
          "2011-02-08T00:00:00",
          "2011-02-09T00:00:00",
          "2011-02-10T00:00:00",
          "2011-02-11T00:00:00",
          "2011-02-12T00:00:00",
          "2011-02-13T00:00:00",
          "2011-02-14T00:00:00",
          "2011-02-17T00:00:00",
          "2011-02-18T00:00:00",
          "2011-02-19T00:00:00",
          "2011-02-20T00:00:00",
          "2011-02-21T00:00:00",
          "2011-02-22T00:00:00",
          "2011-02-23T00:00:00",
          "2011-02-24T00:00:00",
          "2011-02-25T00:00:00",
          "2011-02-26T00:00:00",
          "2011-02-27T00:00:00",
          "2011-02-28T00:00:00",
          "2011-03-01T00:00:00",
          "2011-03-02T00:00:00",
          "2011-03-03T00:00:00",
          "2011-03-04T00:00:00",
          "2011-03-05T00:00:00",
          "2011-03-06T00:00:00",
          "2011-03-07T00:00:00",
          "2011-03-08T00:00:00",
          "2011-03-09T00:00:00",
          "2011-03-10T00:00:00",
          "2011-03-11T00:00:00",
          "2011-03-12T00:00:00",
          "2011-03-13T00:00:00",
          "2011-03-14T00:00:00",
          "2011-03-15T00:00:00",
          "2011-03-16T00:00:00",
          "2011-03-17T00:00:00",
          "2011-03-18T00:00:00",
          "2011-03-19T00:00:00",
          "2011-03-20T00:00:00",
          "2011-03-21T00:00:00",
          "2011-03-22T00:00:00",
          "2011-03-23T00:00:00",
          "2011-03-24T00:00:00",
          "2011-03-25T00:00:00",
          "2011-03-26T00:00:00",
          "2011-03-27T00:00:00",
          "2011-03-28T00:00:00",
          "2011-03-29T00:00:00",
          "2011-03-30T00:00:00",
          "2011-03-31T00:00:00",
          "2011-04-01T00:00:00",
          "2011-04-02T00:00:00",
          "2011-04-03T00:00:00",
          "2011-04-04T00:00:00",
          "2011-04-05T00:00:00",
          "2011-04-06T00:00:00",
          "2011-04-07T00:00:00",
          "2011-04-08T00:00:00",
          "2011-04-09T00:00:00",
          "2011-04-10T00:00:00",
          "2011-04-11T00:00:00",
          "2011-04-12T00:00:00",
          "2011-04-14T00:00:00",
          "2011-04-15T00:00:00",
          "2011-04-16T00:00:00",
          "2011-04-17T00:00:00",
          "2011-04-18T00:00:00",
          "2011-04-19T00:00:00",
          "2011-04-20T00:00:00",
          "2011-04-21T00:00:00",
          "2011-04-22T00:00:00",
          "2011-04-23T00:00:00",
          "2011-04-24T00:00:00",
          "2011-04-26T00:00:00",
          "2011-04-27T00:00:00",
          "2011-04-28T00:00:00",
          "2011-04-29T00:00:00",
          "2011-04-30T00:00:00",
          "2011-05-01T00:00:00",
          "2011-05-02T00:00:00",
          "2011-05-03T00:00:00",
          "2011-05-05T00:00:00",
          "2011-05-06T00:00:00",
          "2011-05-07T00:00:00",
          "2011-05-08T00:00:00",
          "2011-05-09T00:00:00",
          "2011-05-10T00:00:00",
          "2011-05-12T00:00:00",
          "2011-05-13T00:00:00",
          "2011-05-14T00:00:00",
          "2011-05-15T00:00:00",
          "2011-05-16T00:00:00",
          "2011-05-17T00:00:00",
          "2011-05-18T00:00:00",
          "2011-05-19T00:00:00",
          "2011-05-21T00:00:00",
          "2011-05-22T00:00:00",
          "2011-05-23T00:00:00",
          "2011-05-24T00:00:00",
          "2011-05-25T00:00:00",
          "2011-05-26T00:00:00",
          "2011-05-27T00:00:00",
          "2011-05-28T00:00:00",
          "2011-05-29T00:00:00",
          "2011-05-30T00:00:00",
          "2011-05-31T00:00:00",
          "2011-06-01T00:00:00",
          "2011-06-02T00:00:00",
          "2011-06-03T00:00:00",
          "2011-06-04T00:00:00",
          "2011-06-05T00:00:00",
          "2011-06-06T00:00:00",
          "2011-06-07T00:00:00",
          "2011-06-08T00:00:00",
          "2011-06-10T00:00:00",
          "2011-06-11T00:00:00",
          "2011-06-12T00:00:00",
          "2011-06-13T00:00:00",
          "2011-06-14T00:00:00",
          "2011-06-15T00:00:00",
          "2011-06-16T00:00:00",
          "2011-06-17T00:00:00",
          "2011-06-18T00:00:00",
          "2011-06-19T00:00:00",
          "2011-06-20T00:00:00",
          "2011-06-22T00:00:00",
          "2011-06-23T00:00:00",
          "2011-06-24T00:00:00",
          "2011-06-25T00:00:00",
          "2011-06-26T00:00:00",
          "2011-06-27T00:00:00",
          "2011-06-28T00:00:00",
          "2011-06-29T00:00:00",
          "2011-06-30T00:00:00",
          "2011-07-01T00:00:00",
          "2011-07-02T00:00:00",
          "2011-07-03T00:00:00",
          "2011-07-04T00:00:00",
          "2011-07-05T00:00:00",
          "2011-07-06T00:00:00",
          "2011-07-07T00:00:00",
          "2011-07-10T00:00:00",
          "2011-07-11T00:00:00",
          "2011-07-12T00:00:00",
          "2011-07-13T00:00:00",
          "2011-07-14T00:00:00",
          "2011-07-15T00:00:00",
          "2011-07-16T00:00:00",
          "2011-07-17T00:00:00",
          "2011-07-18T00:00:00",
          "2011-07-19T00:00:00",
          "2011-07-20T00:00:00",
          "2011-07-21T00:00:00",
          "2011-07-22T00:00:00",
          "2011-07-23T00:00:00",
          "2011-07-24T00:00:00",
          "2011-07-25T00:00:00",
          "2011-07-26T00:00:00",
          "2011-07-27T00:00:00",
          "2011-07-28T00:00:00",
          "2011-07-29T00:00:00",
          "2011-07-30T00:00:00",
          "2011-07-31T00:00:00",
          "2011-08-01T00:00:00",
          "2011-08-02T00:00:00",
          "2011-08-03T00:00:00",
          "2011-08-04T00:00:00",
          "2011-08-05T00:00:00",
          "2011-08-06T00:00:00",
          "2011-08-07T00:00:00",
          "2011-08-08T00:00:00",
          "2011-08-09T00:00:00",
          "2011-08-10T00:00:00",
          "2011-08-11T00:00:00",
          "2011-08-12T00:00:00",
          "2011-08-13T00:00:00",
          "2011-08-14T00:00:00",
          "2011-08-15T00:00:00",
          "2011-08-16T00:00:00",
          "2011-08-17T00:00:00",
          "2011-08-18T00:00:00",
          "2011-08-19T00:00:00",
          "2011-08-20T00:00:00",
          "2011-08-21T00:00:00",
          "2011-08-22T00:00:00",
          "2011-08-23T00:00:00",
          "2011-08-24T00:00:00",
          "2011-08-26T00:00:00",
          "2011-08-27T00:00:00",
          "2011-08-28T00:00:00",
          "2011-08-29T00:00:00",
          "2011-08-30T00:00:00",
          "2011-08-31T00:00:00",
          "2011-09-01T00:00:00",
          "2011-09-02T00:00:00",
          "2011-09-03T00:00:00",
          "2011-09-04T00:00:00",
          "2011-09-05T00:00:00",
          "2011-09-06T00:00:00",
          "2011-09-07T00:00:00",
          "2011-09-08T00:00:00",
          "2011-09-09T00:00:00",
          "2011-09-10T00:00:00",
          "2011-09-11T00:00:00",
          "2011-09-12T00:00:00",
          "2011-09-13T00:00:00",
          "2011-09-14T00:00:00",
          "2011-09-15T00:00:00",
          "2011-09-16T00:00:00",
          "2011-09-17T00:00:00",
          "2011-09-18T00:00:00",
          "2011-09-19T00:00:00",
          "2011-09-20T00:00:00",
          "2011-09-21T00:00:00",
          "2011-09-22T00:00:00",
          "2011-09-23T00:00:00",
          "2011-09-24T00:00:00",
          "2011-09-25T00:00:00",
          "2011-09-26T00:00:00",
          "2011-09-27T00:00:00",
          "2011-09-28T00:00:00",
          "2011-09-30T00:00:00",
          "2011-10-01T00:00:00",
          "2011-10-02T00:00:00",
          "2011-10-03T00:00:00",
          "2011-10-04T00:00:00",
          "2011-10-05T00:00:00",
          "2011-10-06T00:00:00",
          "2011-10-07T00:00:00",
          "2011-10-08T00:00:00",
          "2011-10-09T00:00:00",
          "2011-10-10T00:00:00",
          "2011-10-11T00:00:00",
          "2011-10-12T00:00:00",
          "2011-10-13T00:00:00",
          "2011-10-14T00:00:00",
          "2011-10-15T00:00:00",
          "2011-10-16T00:00:00",
          "2011-10-17T00:00:00",
          "2011-10-18T00:00:00",
          "2011-10-19T00:00:00",
          "2011-10-20T00:00:00",
          "2011-10-21T00:00:00",
          "2011-10-22T00:00:00",
          "2011-10-23T00:00:00",
          "2011-10-24T00:00:00",
          "2011-10-25T00:00:00",
          "2011-10-26T00:00:00",
          "2011-10-27T00:00:00",
          "2011-10-28T00:00:00",
          "2011-10-29T00:00:00",
          "2011-10-30T00:00:00",
          "2011-10-31T00:00:00",
          "2011-11-01T00:00:00",
          "2011-11-02T00:00:00",
          "2011-11-03T00:00:00",
          "2011-11-04T00:00:00",
          "2011-11-05T00:00:00",
          "2011-11-06T00:00:00",
          "2011-11-07T00:00:00",
          "2011-11-08T00:00:00",
          "2011-11-09T00:00:00",
          "2011-11-10T00:00:00",
          "2011-11-11T00:00:00",
          "2011-11-12T00:00:00",
          "2011-11-13T00:00:00",
          "2011-11-14T00:00:00",
          "2011-11-15T00:00:00",
          "2011-11-16T00:00:00",
          "2011-11-17T00:00:00",
          "2011-11-18T00:00:00",
          "2011-11-19T00:00:00",
          "2011-11-20T00:00:00",
          "2011-11-21T00:00:00",
          "2011-11-22T00:00:00",
          "2011-11-23T00:00:00",
          "2011-11-24T00:00:00",
          "2011-11-25T00:00:00",
          "2011-11-26T00:00:00",
          "2011-11-27T00:00:00",
          "2011-11-28T00:00:00",
          "2011-11-29T00:00:00",
          "2011-11-30T00:00:00",
          "2011-12-01T00:00:00",
          "2011-12-02T00:00:00",
          "2011-12-03T00:00:00",
          "2011-12-04T00:00:00",
          "2011-12-05T00:00:00",
          "2011-12-06T00:00:00",
          "2011-12-07T00:00:00",
          "2011-12-08T00:00:00",
          "2011-12-09T00:00:00",
          "2011-12-10T00:00:00",
          "2011-12-11T00:00:00",
          "2011-12-12T00:00:00",
          "2011-12-13T00:00:00",
          "2011-12-14T00:00:00",
          "2011-12-15T00:00:00",
          "2011-12-16T00:00:00",
          "2011-12-17T00:00:00",
          "2011-12-18T00:00:00",
          "2011-12-19T00:00:00",
          "2011-12-20T00:00:00",
          "2011-12-21T00:00:00",
          "2011-12-22T00:00:00",
          "2011-12-23T00:00:00",
          "2011-12-24T00:00:00",
          "2011-12-25T00:00:00",
          "2011-12-27T00:00:00",
          "2011-12-28T00:00:00",
          "2011-12-29T00:00:00",
          "2011-12-30T00:00:00",
          "2011-12-31T00:00:00",
          "2012-01-01T00:00:00",
          "2012-01-02T00:00:00",
          "2012-01-03T00:00:00",
          "2012-01-04T00:00:00",
          "2012-01-05T00:00:00",
          "2012-01-06T00:00:00",
          "2012-01-07T00:00:00",
          "2012-01-08T00:00:00",
          "2012-01-09T00:00:00",
          "2012-01-10T00:00:00",
          "2012-01-11T00:00:00",
          "2012-01-12T00:00:00",
          "2012-01-13T00:00:00",
          "2012-01-14T00:00:00",
          "2012-01-15T00:00:00",
          "2012-01-16T00:00:00",
          "2012-01-17T00:00:00",
          "2012-01-18T00:00:00",
          "2012-01-19T00:00:00",
          "2012-01-20T00:00:00",
          "2012-01-21T00:00:00",
          "2012-01-22T00:00:00",
          "2012-01-23T00:00:00",
          "2012-01-24T00:00:00",
          "2012-01-25T00:00:00",
          "2012-01-26T00:00:00",
          "2012-01-27T00:00:00",
          "2012-01-28T00:00:00",
          "2012-01-29T00:00:00",
          "2012-01-30T00:00:00",
          "2012-01-31T00:00:00",
          "2012-02-01T00:00:00",
          "2012-02-02T00:00:00",
          "2012-02-03T00:00:00",
          "2012-02-04T00:00:00",
          "2012-02-05T00:00:00",
          "2012-02-06T00:00:00",
          "2012-02-07T00:00:00",
          "2012-02-08T00:00:00",
          "2012-02-09T00:00:00",
          "2012-02-10T00:00:00",
          "2012-02-11T00:00:00",
          "2012-02-12T00:00:00",
          "2012-02-13T00:00:00",
          "2012-02-15T00:00:00",
          "2012-02-16T00:00:00",
          "2012-02-17T00:00:00",
          "2012-02-18T00:00:00",
          "2012-02-19T00:00:00",
          "2012-02-20T00:00:00",
          "2012-02-21T00:00:00",
          "2012-02-22T00:00:00",
          "2012-02-23T00:00:00",
          "2012-02-24T00:00:00",
          "2012-02-25T00:00:00",
          "2012-02-26T00:00:00",
          "2012-02-27T00:00:00",
          "2012-02-28T00:00:00",
          "2012-02-29T00:00:00",
          "2012-03-01T00:00:00",
          "2012-03-02T00:00:00",
          "2012-03-03T00:00:00"
         ],
         "xaxis": "x",
         "y": [
          1,
          1,
          1,
          1,
          1,
          1,
          1,
          2,
          2,
          1,
          1,
          2,
          2,
          2,
          2,
          1,
          1,
          2,
          2,
          1,
          2,
          1,
          1,
          1,
          2,
          1,
          3,
          3,
          1,
          2,
          1,
          2,
          1,
          1,
          1,
          1,
          3,
          2,
          2,
          3,
          1,
          4,
          1,
          4,
          5,
          4,
          1,
          4,
          1,
          1,
          3,
          5,
          2,
          1,
          4,
          5,
          2,
          2,
          4,
          1,
          2,
          2,
          4,
          1,
          3,
          2,
          1,
          4,
          3,
          5,
          5,
          1,
          3,
          11,
          3,
          3,
          5,
          4,
          3,
          2,
          1,
          1,
          2,
          5,
          1,
          4,
          2,
          3,
          1,
          3,
          2,
          1,
          3,
          4,
          2,
          1,
          6,
          2,
          1,
          1,
          3,
          3,
          2,
          3,
          3,
          2,
          3,
          1,
          1,
          5,
          3,
          2,
          1,
          1,
          3,
          4,
          1,
          7,
          1,
          3,
          3,
          3,
          2,
          6,
          3,
          4,
          1,
          3,
          1,
          1,
          4,
          3,
          1,
          2,
          2,
          4,
          1,
          5,
          4,
          4,
          1,
          5,
          4,
          10,
          2,
          8,
          6,
          4,
          3,
          4,
          8,
          6,
          5,
          1,
          4,
          3,
          2,
          3,
          4,
          4,
          1,
          5,
          2,
          6,
          3,
          2,
          3,
          2,
          4,
          3,
          3,
          2,
          8,
          4,
          2,
          5,
          5,
          11,
          7,
          9,
          9,
          8,
          7,
          6,
          10,
          20,
          15,
          3,
          5,
          4,
          2,
          5,
          4,
          8,
          8,
          13,
          11,
          13,
          26,
          36,
          33,
          32,
          48,
          42,
          2,
          2,
          2,
          3,
          5,
          2,
          2,
          7,
          2,
          5,
          5,
          3,
          3,
          4,
          2,
          2,
          6,
          6,
          1,
          3,
          2,
          5,
          10,
          11,
          6,
          7,
          10,
          10,
          10,
          9,
          2,
          5,
          3,
          1,
          4,
          4,
          4,
          4,
          3,
          4,
          6,
          4,
          3,
          3,
          5,
          6,
          9,
          8,
          1,
          4,
          6,
          5,
          4,
          3,
          3,
          3,
          1,
          2,
          3,
          1,
          4,
          5,
          2,
          2,
          6,
          6,
          3,
          2,
          6,
          6,
          1,
          1,
          2,
          1,
          2,
          2,
          7,
          2,
          4,
          2,
          2,
          8,
          6,
          4,
          1,
          4,
          7,
          3,
          9,
          2,
          2,
          3,
          4,
          4,
          1,
          3,
          3,
          3,
          2,
          4,
          4,
          3,
          4,
          7,
          4,
          5,
          1,
          4,
          1,
          4,
          4,
          2,
          1,
          2,
          2,
          2,
          1,
          5,
          2,
          5,
          2,
          2,
          2,
          8,
          3,
          6,
          3,
          1,
          2,
          1,
          6,
          7,
          5,
          3,
          5,
          4,
          7,
          2,
          3,
          1,
          2,
          4,
          5,
          9,
          1,
          4,
          2,
          1,
          1,
          4,
          3,
          3,
          3,
          5,
          2,
          3,
          5,
          4,
          6,
          5,
          3,
          4,
          2,
          3,
          4,
          1,
          1,
          2,
          8,
          5,
          3,
          3,
          3,
          1,
          2,
          2,
          4,
          2,
          3,
          3,
          7,
          1,
          5,
          3,
          1,
          2,
          3,
          9,
          1,
          3,
          5,
          1,
          4,
          3,
          2,
          4,
          1,
          7,
          2,
          1,
          4,
          2,
          2,
          4,
          3,
          2,
          1,
          3,
          3,
          2,
          3,
          3,
          3,
          8,
          5,
          3,
          3,
          1,
          2,
          3,
          1,
          1,
          2,
          1,
          2,
          1,
          3,
          3,
          4,
          2,
          5,
          3,
          4,
          4,
          7,
          6,
          7,
          5,
          2,
          3,
          4,
          3,
          4,
          2,
          1,
          1,
          3,
          4,
          4,
          4,
          2,
          2,
          2,
          5,
          2,
          6,
          3,
          1,
          4,
          1,
          2,
          5,
          4,
          2,
          1,
          1,
          1,
          3,
          3,
          4,
          1,
          3,
          6,
          2,
          5,
          2,
          5,
          5,
          4,
          1,
          1,
          5,
          9,
          5,
          6,
          3,
          2,
          2,
          4,
          1,
          4,
          3,
          3,
          2,
          5,
          9,
          9,
          1,
          2,
          2,
          5,
          7,
          6,
          4,
          1,
          3,
          5,
          6,
          3,
          5,
          2,
          2,
          4,
          4,
          5,
          2,
          1,
          6,
          7,
          4,
          4,
          10,
          10,
          17,
          15,
          7,
          14,
          13,
          15,
          16,
          14,
          2,
          7,
          3,
          5,
          6,
          8,
          16,
          15,
          10,
          12,
          9,
          22,
          31,
          33,
          39,
          37,
          31,
          6,
          4,
          4,
          1,
          3,
          3,
          1,
          4,
          2,
          4,
          11,
          2,
          3,
          5,
          1,
          3,
          2,
          11,
          3,
          4,
          5,
          2,
          6,
          11,
          7,
          7,
          14,
          10,
          13,
          12,
          14,
          12,
          10,
          9,
          4,
          1,
          10,
          4,
          5,
          5,
          6,
          3,
          4,
          3,
          7,
          2,
          5,
          7,
          5,
          5,
          3,
          7,
          8,
          8,
          9,
          7,
          2,
          11,
          7,
          3,
          10,
          3,
          4,
          4,
          2,
          11,
          1,
          3,
          1,
          3,
          2,
          2,
          6,
          6,
          4,
          4,
          4,
          6,
          3,
          12,
          7,
          3,
          3,
          5,
          7,
          3,
          6,
          5,
          3,
          4,
          2,
          3,
          7,
          2,
          3,
          3,
          7,
          4,
          3
         ],
         "yaxis": "y"
        }
       ],
       "layout": {
        "autosize": true,
        "legend": {
         "tracegroupgap": 0
        },
        "margin": {
         "t": 60
        },
        "template": {
         "data": {
          "bar": [
           {
            "error_x": {
             "color": "#2a3f5f"
            },
            "error_y": {
             "color": "#2a3f5f"
            },
            "marker": {
             "line": {
              "color": "#E5ECF6",
              "width": 0.5
             }
            },
            "type": "bar"
           }
          ],
          "barpolar": [
           {
            "marker": {
             "line": {
              "color": "#E5ECF6",
              "width": 0.5
             }
            },
            "type": "barpolar"
           }
          ],
          "carpet": [
           {
            "aaxis": {
             "endlinecolor": "#2a3f5f",
             "gridcolor": "white",
             "linecolor": "white",
             "minorgridcolor": "white",
             "startlinecolor": "#2a3f5f"
            },
            "baxis": {
             "endlinecolor": "#2a3f5f",
             "gridcolor": "white",
             "linecolor": "white",
             "minorgridcolor": "white",
             "startlinecolor": "#2a3f5f"
            },
            "type": "carpet"
           }
          ],
          "choropleth": [
           {
            "colorbar": {
             "outlinewidth": 0,
             "ticks": ""
            },
            "type": "choropleth"
           }
          ],
          "contour": [
           {
            "colorbar": {
             "outlinewidth": 0,
             "ticks": ""
            },
            "colorscale": [
             [
              0,
              "#0d0887"
             ],
             [
              0.1111111111111111,
              "#46039f"
             ],
             [
              0.2222222222222222,
              "#7201a8"
             ],
             [
              0.3333333333333333,
              "#9c179e"
             ],
             [
              0.4444444444444444,
              "#bd3786"
             ],
             [
              0.5555555555555556,
              "#d8576b"
             ],
             [
              0.6666666666666666,
              "#ed7953"
             ],
             [
              0.7777777777777778,
              "#fb9f3a"
             ],
             [
              0.8888888888888888,
              "#fdca26"
             ],
             [
              1,
              "#f0f921"
             ]
            ],
            "type": "contour"
           }
          ],
          "contourcarpet": [
           {
            "colorbar": {
             "outlinewidth": 0,
             "ticks": ""
            },
            "type": "contourcarpet"
           }
          ],
          "heatmap": [
           {
            "colorbar": {
             "outlinewidth": 0,
             "ticks": ""
            },
            "colorscale": [
             [
              0,
              "#0d0887"
             ],
             [
              0.1111111111111111,
              "#46039f"
             ],
             [
              0.2222222222222222,
              "#7201a8"
             ],
             [
              0.3333333333333333,
              "#9c179e"
             ],
             [
              0.4444444444444444,
              "#bd3786"
             ],
             [
              0.5555555555555556,
              "#d8576b"
             ],
             [
              0.6666666666666666,
              "#ed7953"
             ],
             [
              0.7777777777777778,
              "#fb9f3a"
             ],
             [
              0.8888888888888888,
              "#fdca26"
             ],
             [
              1,
              "#f0f921"
             ]
            ],
            "type": "heatmap"
           }
          ],
          "heatmapgl": [
           {
            "colorbar": {
             "outlinewidth": 0,
             "ticks": ""
            },
            "colorscale": [
             [
              0,
              "#0d0887"
             ],
             [
              0.1111111111111111,
              "#46039f"
             ],
             [
              0.2222222222222222,
              "#7201a8"
             ],
             [
              0.3333333333333333,
              "#9c179e"
             ],
             [
              0.4444444444444444,
              "#bd3786"
             ],
             [
              0.5555555555555556,
              "#d8576b"
             ],
             [
              0.6666666666666666,
              "#ed7953"
             ],
             [
              0.7777777777777778,
              "#fb9f3a"
             ],
             [
              0.8888888888888888,
              "#fdca26"
             ],
             [
              1,
              "#f0f921"
             ]
            ],
            "type": "heatmapgl"
           }
          ],
          "histogram": [
           {
            "marker": {
             "colorbar": {
              "outlinewidth": 0,
              "ticks": ""
             }
            },
            "type": "histogram"
           }
          ],
          "histogram2d": [
           {
            "colorbar": {
             "outlinewidth": 0,
             "ticks": ""
            },
            "colorscale": [
             [
              0,
              "#0d0887"
             ],
             [
              0.1111111111111111,
              "#46039f"
             ],
             [
              0.2222222222222222,
              "#7201a8"
             ],
             [
              0.3333333333333333,
              "#9c179e"
             ],
             [
              0.4444444444444444,
              "#bd3786"
             ],
             [
              0.5555555555555556,
              "#d8576b"
             ],
             [
              0.6666666666666666,
              "#ed7953"
             ],
             [
              0.7777777777777778,
              "#fb9f3a"
             ],
             [
              0.8888888888888888,
              "#fdca26"
             ],
             [
              1,
              "#f0f921"
             ]
            ],
            "type": "histogram2d"
           }
          ],
          "histogram2dcontour": [
           {
            "colorbar": {
             "outlinewidth": 0,
             "ticks": ""
            },
            "colorscale": [
             [
              0,
              "#0d0887"
             ],
             [
              0.1111111111111111,
              "#46039f"
             ],
             [
              0.2222222222222222,
              "#7201a8"
             ],
             [
              0.3333333333333333,
              "#9c179e"
             ],
             [
              0.4444444444444444,
              "#bd3786"
             ],
             [
              0.5555555555555556,
              "#d8576b"
             ],
             [
              0.6666666666666666,
              "#ed7953"
             ],
             [
              0.7777777777777778,
              "#fb9f3a"
             ],
             [
              0.8888888888888888,
              "#fdca26"
             ],
             [
              1,
              "#f0f921"
             ]
            ],
            "type": "histogram2dcontour"
           }
          ],
          "mesh3d": [
           {
            "colorbar": {
             "outlinewidth": 0,
             "ticks": ""
            },
            "type": "mesh3d"
           }
          ],
          "parcoords": [
           {
            "line": {
             "colorbar": {
              "outlinewidth": 0,
              "ticks": ""
             }
            },
            "type": "parcoords"
           }
          ],
          "pie": [
           {
            "automargin": true,
            "type": "pie"
           }
          ],
          "scatter": [
           {
            "marker": {
             "colorbar": {
              "outlinewidth": 0,
              "ticks": ""
             }
            },
            "type": "scatter"
           }
          ],
          "scatter3d": [
           {
            "line": {
             "colorbar": {
              "outlinewidth": 0,
              "ticks": ""
             }
            },
            "marker": {
             "colorbar": {
              "outlinewidth": 0,
              "ticks": ""
             }
            },
            "type": "scatter3d"
           }
          ],
          "scattercarpet": [
           {
            "marker": {
             "colorbar": {
              "outlinewidth": 0,
              "ticks": ""
             }
            },
            "type": "scattercarpet"
           }
          ],
          "scattergeo": [
           {
            "marker": {
             "colorbar": {
              "outlinewidth": 0,
              "ticks": ""
             }
            },
            "type": "scattergeo"
           }
          ],
          "scattergl": [
           {
            "marker": {
             "colorbar": {
              "outlinewidth": 0,
              "ticks": ""
             }
            },
            "type": "scattergl"
           }
          ],
          "scattermapbox": [
           {
            "marker": {
             "colorbar": {
              "outlinewidth": 0,
              "ticks": ""
             }
            },
            "type": "scattermapbox"
           }
          ],
          "scatterpolar": [
           {
            "marker": {
             "colorbar": {
              "outlinewidth": 0,
              "ticks": ""
             }
            },
            "type": "scatterpolar"
           }
          ],
          "scatterpolargl": [
           {
            "marker": {
             "colorbar": {
              "outlinewidth": 0,
              "ticks": ""
             }
            },
            "type": "scatterpolargl"
           }
          ],
          "scatterternary": [
           {
            "marker": {
             "colorbar": {
              "outlinewidth": 0,
              "ticks": ""
             }
            },
            "type": "scatterternary"
           }
          ],
          "surface": [
           {
            "colorbar": {
             "outlinewidth": 0,
             "ticks": ""
            },
            "colorscale": [
             [
              0,
              "#0d0887"
             ],
             [
              0.1111111111111111,
              "#46039f"
             ],
             [
              0.2222222222222222,
              "#7201a8"
             ],
             [
              0.3333333333333333,
              "#9c179e"
             ],
             [
              0.4444444444444444,
              "#bd3786"
             ],
             [
              0.5555555555555556,
              "#d8576b"
             ],
             [
              0.6666666666666666,
              "#ed7953"
             ],
             [
              0.7777777777777778,
              "#fb9f3a"
             ],
             [
              0.8888888888888888,
              "#fdca26"
             ],
             [
              1,
              "#f0f921"
             ]
            ],
            "type": "surface"
           }
          ],
          "table": [
           {
            "cells": {
             "fill": {
              "color": "#EBF0F8"
             },
             "line": {
              "color": "white"
             }
            },
            "header": {
             "fill": {
              "color": "#C8D4E3"
             },
             "line": {
              "color": "white"
             }
            },
            "type": "table"
           }
          ]
         },
         "layout": {
          "annotationdefaults": {
           "arrowcolor": "#2a3f5f",
           "arrowhead": 0,
           "arrowwidth": 1
          },
          "coloraxis": {
           "colorbar": {
            "outlinewidth": 0,
            "ticks": ""
           }
          },
          "colorscale": {
           "diverging": [
            [
             0,
             "#8e0152"
            ],
            [
             0.1,
             "#c51b7d"
            ],
            [
             0.2,
             "#de77ae"
            ],
            [
             0.3,
             "#f1b6da"
            ],
            [
             0.4,
             "#fde0ef"
            ],
            [
             0.5,
             "#f7f7f7"
            ],
            [
             0.6,
             "#e6f5d0"
            ],
            [
             0.7,
             "#b8e186"
            ],
            [
             0.8,
             "#7fbc41"
            ],
            [
             0.9,
             "#4d9221"
            ],
            [
             1,
             "#276419"
            ]
           ],
           "sequential": [
            [
             0,
             "#0d0887"
            ],
            [
             0.1111111111111111,
             "#46039f"
            ],
            [
             0.2222222222222222,
             "#7201a8"
            ],
            [
             0.3333333333333333,
             "#9c179e"
            ],
            [
             0.4444444444444444,
             "#bd3786"
            ],
            [
             0.5555555555555556,
             "#d8576b"
            ],
            [
             0.6666666666666666,
             "#ed7953"
            ],
            [
             0.7777777777777778,
             "#fb9f3a"
            ],
            [
             0.8888888888888888,
             "#fdca26"
            ],
            [
             1,
             "#f0f921"
            ]
           ],
           "sequentialminus": [
            [
             0,
             "#0d0887"
            ],
            [
             0.1111111111111111,
             "#46039f"
            ],
            [
             0.2222222222222222,
             "#7201a8"
            ],
            [
             0.3333333333333333,
             "#9c179e"
            ],
            [
             0.4444444444444444,
             "#bd3786"
            ],
            [
             0.5555555555555556,
             "#d8576b"
            ],
            [
             0.6666666666666666,
             "#ed7953"
            ],
            [
             0.7777777777777778,
             "#fb9f3a"
            ],
            [
             0.8888888888888888,
             "#fdca26"
            ],
            [
             1,
             "#f0f921"
            ]
           ]
          },
          "colorway": [
           "#636efa",
           "#EF553B",
           "#00cc96",
           "#ab63fa",
           "#FFA15A",
           "#19d3f3",
           "#FF6692",
           "#B6E880",
           "#FF97FF",
           "#FECB52"
          ],
          "font": {
           "color": "#2a3f5f"
          },
          "geo": {
           "bgcolor": "white",
           "lakecolor": "white",
           "landcolor": "#E5ECF6",
           "showlakes": true,
           "showland": true,
           "subunitcolor": "white"
          },
          "hoverlabel": {
           "align": "left"
          },
          "hovermode": "closest",
          "mapbox": {
           "style": "light"
          },
          "paper_bgcolor": "white",
          "plot_bgcolor": "#E5ECF6",
          "polar": {
           "angularaxis": {
            "gridcolor": "white",
            "linecolor": "white",
            "ticks": ""
           },
           "bgcolor": "#E5ECF6",
           "radialaxis": {
            "gridcolor": "white",
            "linecolor": "white",
            "ticks": ""
           }
          },
          "scene": {
           "xaxis": {
            "backgroundcolor": "#E5ECF6",
            "gridcolor": "white",
            "gridwidth": 2,
            "linecolor": "white",
            "showbackground": true,
            "ticks": "",
            "zerolinecolor": "white"
           },
           "yaxis": {
            "backgroundcolor": "#E5ECF6",
            "gridcolor": "white",
            "gridwidth": 2,
            "linecolor": "white",
            "showbackground": true,
            "ticks": "",
            "zerolinecolor": "white"
           },
           "zaxis": {
            "backgroundcolor": "#E5ECF6",
            "gridcolor": "white",
            "gridwidth": 2,
            "linecolor": "white",
            "showbackground": true,
            "ticks": "",
            "zerolinecolor": "white"
           }
          },
          "shapedefaults": {
           "line": {
            "color": "#2a3f5f"
           }
          },
          "ternary": {
           "aaxis": {
            "gridcolor": "white",
            "linecolor": "white",
            "ticks": ""
           },
           "baxis": {
            "gridcolor": "white",
            "linecolor": "white",
            "ticks": ""
           },
           "bgcolor": "#E5ECF6",
           "caxis": {
            "gridcolor": "white",
            "linecolor": "white",
            "ticks": ""
           }
          },
          "title": {
           "x": 0.05
          },
          "xaxis": {
           "automargin": true,
           "gridcolor": "white",
           "linecolor": "white",
           "ticks": "",
           "title": {
            "standoff": 15
           },
           "zerolinecolor": "white",
           "zerolinewidth": 2
          },
          "yaxis": {
           "automargin": true,
           "gridcolor": "white",
           "linecolor": "white",
           "ticks": "",
           "title": {
            "standoff": 15
           },
           "zerolinecolor": "white",
           "zerolinewidth": 2
          }
         }
        },
        "title": {
         "text": "Transactions for turkey meat"
        },
        "xaxis": {
         "anchor": "y",
         "autorange": true,
         "domain": [
          0,
          1
         ],
         "range": [
          "2010-03-26",
          "2012-03-03"
         ],
         "title": {
          "text": "DATE"
         },
         "type": "date"
        },
        "yaxis": {
         "anchor": "x",
         "autorange": true,
         "domain": [
          0,
          1
         ],
         "range": [
          -1.6111111111111112,
          50.611111111111114
         ],
         "title": {
          "text": "count"
         },
         "type": "linear"
        }
       }
      },
      "image/png": "[encoded data removed]",
      "text/html": [
       "<div>\n",
       "        \n",
       "        \n",
       "            <div id=\"8098c5ad-cf44-4b9c-8937-e3263eb10c85\" class=\"plotly-graph-div\" style=\"height:600px; width:100%;\"></div>\n",
       "            <script type=\"text/javascript\">\n",
       "                require([\"plotly\"], function(Plotly) {\n",
       "                    window.PLOTLYENV=window.PLOTLYENV || {};\n",
       "                    \n",
       "                if (document.getElementById(\"8098c5ad-cf44-4b9c-8937-e3263eb10c85\")) {\n",
       "                    Plotly.newPlot(\n",
       "                        '8098c5ad-cf44-4b9c-8937-e3263eb10c85',\n",
       "                        [{\"hoverlabel\": {\"namelength\": 0}, \"hovertemplate\": \"DATE=%{x}<br>count=%{y}\", \"legendgroup\": \"\", \"line\": {\"color\": \"#636efa\", \"dash\": \"solid\"}, \"mode\": \"lines\", \"name\": \"\", \"showlegend\": false, \"type\": \"scatter\", \"x\": [\"2010-03-26T00:00:00\", \"2010-03-31T00:00:00\", \"2010-04-01T00:00:00\", \"2010-04-03T00:00:00\", \"2010-04-05T00:00:00\", \"2010-04-07T00:00:00\", \"2010-04-10T00:00:00\", \"2010-04-11T00:00:00\", \"2010-04-18T00:00:00\", \"2010-04-19T00:00:00\", \"2010-04-20T00:00:00\", \"2010-04-22T00:00:00\", \"2010-04-23T00:00:00\", \"2010-04-24T00:00:00\", \"2010-04-25T00:00:00\", \"2010-04-26T00:00:00\", \"2010-04-27T00:00:00\", \"2010-04-30T00:00:00\", \"2010-05-01T00:00:00\", \"2010-05-02T00:00:00\", \"2010-05-04T00:00:00\", \"2010-05-05T00:00:00\", \"2010-05-06T00:00:00\", \"2010-05-07T00:00:00\", \"2010-05-08T00:00:00\", \"2010-05-11T00:00:00\", \"2010-05-14T00:00:00\", \"2010-05-16T00:00:00\", \"2010-05-17T00:00:00\", \"2010-05-18T00:00:00\", \"2010-05-20T00:00:00\", \"2010-05-21T00:00:00\", \"2010-05-22T00:00:00\", \"2010-05-23T00:00:00\", \"2010-05-24T00:00:00\", \"2010-05-25T00:00:00\", \"2010-05-26T00:00:00\", \"2010-05-27T00:00:00\", \"2010-05-28T00:00:00\", \"2010-05-29T00:00:00\", \"2010-05-30T00:00:00\", \"2010-06-02T00:00:00\", \"2010-06-03T00:00:00\", \"2010-06-04T00:00:00\", \"2010-06-05T00:00:00\", \"2010-06-06T00:00:00\", \"2010-06-07T00:00:00\", \"2010-06-08T00:00:00\", \"2010-06-10T00:00:00\", \"2010-06-11T00:00:00\", \"2010-06-12T00:00:00\", \"2010-06-13T00:00:00\", \"2010-06-15T00:00:00\", \"2010-06-16T00:00:00\", \"2010-06-18T00:00:00\", \"2010-06-20T00:00:00\", \"2010-06-21T00:00:00\", \"2010-06-23T00:00:00\", \"2010-06-25T00:00:00\", \"2010-06-26T00:00:00\", \"2010-06-27T00:00:00\", \"2010-06-28T00:00:00\", \"2010-06-29T00:00:00\", \"2010-06-30T00:00:00\", \"2010-07-01T00:00:00\", \"2010-07-02T00:00:00\", \"2010-07-05T00:00:00\", \"2010-07-06T00:00:00\", \"2010-07-07T00:00:00\", \"2010-07-08T00:00:00\", \"2010-07-09T00:00:00\", \"2010-07-10T00:00:00\", \"2010-07-11T00:00:00\", \"2010-07-12T00:00:00\", \"2010-07-13T00:00:00\", \"2010-07-14T00:00:00\", \"2010-07-15T00:00:00\", \"2010-07-17T00:00:00\", \"2010-07-18T00:00:00\", \"2010-07-19T00:00:00\", \"2010-07-20T00:00:00\", \"2010-07-22T00:00:00\", \"2010-07-23T00:00:00\", \"2010-07-24T00:00:00\", \"2010-07-25T00:00:00\", \"2010-07-26T00:00:00\", \"2010-07-28T00:00:00\", \"2010-07-29T00:00:00\", \"2010-07-30T00:00:00\", \"2010-07-31T00:00:00\", \"2010-08-01T00:00:00\", \"2010-08-02T00:00:00\", \"2010-08-03T00:00:00\", \"2010-08-04T00:00:00\", \"2010-08-05T00:00:00\", \"2010-08-06T00:00:00\", \"2010-08-07T00:00:00\", \"2010-08-08T00:00:00\", \"2010-08-09T00:00:00\", \"2010-08-10T00:00:00\", \"2010-08-11T00:00:00\", \"2010-08-12T00:00:00\", \"2010-08-13T00:00:00\", \"2010-08-14T00:00:00\", \"2010-08-15T00:00:00\", \"2010-08-16T00:00:00\", \"2010-08-17T00:00:00\", \"2010-08-18T00:00:00\", \"2010-08-19T00:00:00\", \"2010-08-20T00:00:00\", \"2010-08-21T00:00:00\", \"2010-08-22T00:00:00\", \"2010-08-23T00:00:00\", \"2010-08-24T00:00:00\", \"2010-08-26T00:00:00\", \"2010-08-27T00:00:00\", \"2010-08-28T00:00:00\", \"2010-08-29T00:00:00\", \"2010-08-30T00:00:00\", \"2010-08-31T00:00:00\", \"2010-09-01T00:00:00\", \"2010-09-02T00:00:00\", \"2010-09-03T00:00:00\", \"2010-09-04T00:00:00\", \"2010-09-05T00:00:00\", \"2010-09-06T00:00:00\", \"2010-09-07T00:00:00\", \"2010-09-08T00:00:00\", \"2010-09-09T00:00:00\", \"2010-09-10T00:00:00\", \"2010-09-11T00:00:00\", \"2010-09-12T00:00:00\", \"2010-09-13T00:00:00\", \"2010-09-14T00:00:00\", \"2010-09-15T00:00:00\", \"2010-09-16T00:00:00\", \"2010-09-17T00:00:00\", \"2010-09-18T00:00:00\", \"2010-09-19T00:00:00\", \"2010-09-20T00:00:00\", \"2010-09-21T00:00:00\", \"2010-09-22T00:00:00\", \"2010-09-23T00:00:00\", \"2010-09-24T00:00:00\", \"2010-09-25T00:00:00\", \"2010-09-26T00:00:00\", \"2010-09-27T00:00:00\", \"2010-09-28T00:00:00\", \"2010-09-29T00:00:00\", \"2010-09-30T00:00:00\", \"2010-10-01T00:00:00\", \"2010-10-02T00:00:00\", \"2010-10-03T00:00:00\", \"2010-10-04T00:00:00\", \"2010-10-05T00:00:00\", \"2010-10-06T00:00:00\", \"2010-10-07T00:00:00\", \"2010-10-08T00:00:00\", \"2010-10-09T00:00:00\", \"2010-10-10T00:00:00\", \"2010-10-11T00:00:00\", \"2010-10-12T00:00:00\", \"2010-10-13T00:00:00\", \"2010-10-14T00:00:00\", \"2010-10-15T00:00:00\", \"2010-10-16T00:00:00\", \"2010-10-17T00:00:00\", \"2010-10-18T00:00:00\", \"2010-10-19T00:00:00\", \"2010-10-20T00:00:00\", \"2010-10-21T00:00:00\", \"2010-10-22T00:00:00\", \"2010-10-23T00:00:00\", \"2010-10-24T00:00:00\", \"2010-10-26T00:00:00\", \"2010-10-27T00:00:00\", \"2010-10-28T00:00:00\", \"2010-10-29T00:00:00\", \"2010-10-30T00:00:00\", \"2010-10-31T00:00:00\", \"2010-11-01T00:00:00\", \"2010-11-02T00:00:00\", \"2010-11-03T00:00:00\", \"2010-11-04T00:00:00\", \"2010-11-05T00:00:00\", \"2010-11-06T00:00:00\", \"2010-11-07T00:00:00\", \"2010-11-08T00:00:00\", \"2010-11-09T00:00:00\", \"2010-11-10T00:00:00\", \"2010-11-11T00:00:00\", \"2010-11-12T00:00:00\", \"2010-11-13T00:00:00\", \"2010-11-14T00:00:00\", \"2010-11-15T00:00:00\", \"2010-11-16T00:00:00\", \"2010-11-17T00:00:00\", \"2010-11-18T00:00:00\", \"2010-11-19T00:00:00\", \"2010-11-20T00:00:00\", \"2010-11-21T00:00:00\", \"2010-11-22T00:00:00\", \"2010-11-23T00:00:00\", \"2010-11-24T00:00:00\", \"2010-11-25T00:00:00\", \"2010-11-26T00:00:00\", \"2010-11-27T00:00:00\", \"2010-11-28T00:00:00\", \"2010-11-29T00:00:00\", \"2010-11-30T00:00:00\", \"2010-12-01T00:00:00\", \"2010-12-02T00:00:00\", \"2010-12-03T00:00:00\", \"2010-12-04T00:00:00\", \"2010-12-05T00:00:00\", \"2010-12-06T00:00:00\", \"2010-12-07T00:00:00\", \"2010-12-09T00:00:00\", \"2010-12-10T00:00:00\", \"2010-12-11T00:00:00\", \"2010-12-12T00:00:00\", \"2010-12-13T00:00:00\", \"2010-12-14T00:00:00\", \"2010-12-15T00:00:00\", \"2010-12-16T00:00:00\", \"2010-12-17T00:00:00\", \"2010-12-18T00:00:00\", \"2010-12-19T00:00:00\", \"2010-12-20T00:00:00\", \"2010-12-21T00:00:00\", \"2010-12-22T00:00:00\", \"2010-12-23T00:00:00\", \"2010-12-24T00:00:00\", \"2010-12-25T00:00:00\", \"2010-12-27T00:00:00\", \"2010-12-28T00:00:00\", \"2010-12-29T00:00:00\", \"2010-12-30T00:00:00\", \"2010-12-31T00:00:00\", \"2011-01-01T00:00:00\", \"2011-01-02T00:00:00\", \"2011-01-03T00:00:00\", \"2011-01-04T00:00:00\", \"2011-01-05T00:00:00\", \"2011-01-06T00:00:00\", \"2011-01-07T00:00:00\", \"2011-01-08T00:00:00\", \"2011-01-09T00:00:00\", \"2011-01-10T00:00:00\", \"2011-01-11T00:00:00\", \"2011-01-12T00:00:00\", \"2011-01-13T00:00:00\", \"2011-01-14T00:00:00\", \"2011-01-15T00:00:00\", \"2011-01-16T00:00:00\", \"2011-01-17T00:00:00\", \"2011-01-18T00:00:00\", \"2011-01-19T00:00:00\", \"2011-01-20T00:00:00\", \"2011-01-21T00:00:00\", \"2011-01-22T00:00:00\", \"2011-01-23T00:00:00\", \"2011-01-24T00:00:00\", \"2011-01-25T00:00:00\", \"2011-01-26T00:00:00\", \"2011-01-27T00:00:00\", \"2011-01-28T00:00:00\", \"2011-01-29T00:00:00\", \"2011-01-30T00:00:00\", \"2011-01-31T00:00:00\", \"2011-02-01T00:00:00\", \"2011-02-02T00:00:00\", \"2011-02-03T00:00:00\", \"2011-02-05T00:00:00\", \"2011-02-06T00:00:00\", \"2011-02-07T00:00:00\", \"2011-02-08T00:00:00\", \"2011-02-09T00:00:00\", \"2011-02-10T00:00:00\", \"2011-02-11T00:00:00\", \"2011-02-12T00:00:00\", \"2011-02-13T00:00:00\", \"2011-02-14T00:00:00\", \"2011-02-17T00:00:00\", \"2011-02-18T00:00:00\", \"2011-02-19T00:00:00\", \"2011-02-20T00:00:00\", \"2011-02-21T00:00:00\", \"2011-02-22T00:00:00\", \"2011-02-23T00:00:00\", \"2011-02-24T00:00:00\", \"2011-02-25T00:00:00\", \"2011-02-26T00:00:00\", \"2011-02-27T00:00:00\", \"2011-02-28T00:00:00\", \"2011-03-01T00:00:00\", \"2011-03-02T00:00:00\", \"2011-03-03T00:00:00\", \"2011-03-04T00:00:00\", \"2011-03-05T00:00:00\", \"2011-03-06T00:00:00\", \"2011-03-07T00:00:00\", \"2011-03-08T00:00:00\", \"2011-03-09T00:00:00\", \"2011-03-10T00:00:00\", \"2011-03-11T00:00:00\", \"2011-03-12T00:00:00\", \"2011-03-13T00:00:00\", \"2011-03-14T00:00:00\", \"2011-03-15T00:00:00\", \"2011-03-16T00:00:00\", \"2011-03-17T00:00:00\", \"2011-03-18T00:00:00\", \"2011-03-19T00:00:00\", \"2011-03-20T00:00:00\", \"2011-03-21T00:00:00\", \"2011-03-22T00:00:00\", \"2011-03-23T00:00:00\", \"2011-03-24T00:00:00\", \"2011-03-25T00:00:00\", \"2011-03-26T00:00:00\", \"2011-03-27T00:00:00\", \"2011-03-28T00:00:00\", \"2011-03-29T00:00:00\", \"2011-03-30T00:00:00\", \"2011-03-31T00:00:00\", \"2011-04-01T00:00:00\", \"2011-04-02T00:00:00\", \"2011-04-03T00:00:00\", \"2011-04-04T00:00:00\", \"2011-04-05T00:00:00\", \"2011-04-06T00:00:00\", \"2011-04-07T00:00:00\", \"2011-04-08T00:00:00\", \"2011-04-09T00:00:00\", \"2011-04-10T00:00:00\", \"2011-04-11T00:00:00\", \"2011-04-12T00:00:00\", \"2011-04-14T00:00:00\", \"2011-04-15T00:00:00\", \"2011-04-16T00:00:00\", \"2011-04-17T00:00:00\", \"2011-04-18T00:00:00\", \"2011-04-19T00:00:00\", \"2011-04-20T00:00:00\", \"2011-04-21T00:00:00\", \"2011-04-22T00:00:00\", \"2011-04-23T00:00:00\", \"2011-04-24T00:00:00\", \"2011-04-26T00:00:00\", \"2011-04-27T00:00:00\", \"2011-04-28T00:00:00\", \"2011-04-29T00:00:00\", \"2011-04-30T00:00:00\", \"2011-05-01T00:00:00\", \"2011-05-02T00:00:00\", \"2011-05-03T00:00:00\", \"2011-05-05T00:00:00\", \"2011-05-06T00:00:00\", \"2011-05-07T00:00:00\", \"2011-05-08T00:00:00\", \"2011-05-09T00:00:00\", \"2011-05-10T00:00:00\", \"2011-05-12T00:00:00\", \"2011-05-13T00:00:00\", \"2011-05-14T00:00:00\", \"2011-05-15T00:00:00\", \"2011-05-16T00:00:00\", \"2011-05-17T00:00:00\", \"2011-05-18T00:00:00\", \"2011-05-19T00:00:00\", \"2011-05-21T00:00:00\", \"2011-05-22T00:00:00\", \"2011-05-23T00:00:00\", \"2011-05-24T00:00:00\", \"2011-05-25T00:00:00\", \"2011-05-26T00:00:00\", \"2011-05-27T00:00:00\", \"2011-05-28T00:00:00\", \"2011-05-29T00:00:00\", \"2011-05-30T00:00:00\", \"2011-05-31T00:00:00\", \"2011-06-01T00:00:00\", \"2011-06-02T00:00:00\", \"2011-06-03T00:00:00\", \"2011-06-04T00:00:00\", \"2011-06-05T00:00:00\", \"2011-06-06T00:00:00\", \"2011-06-07T00:00:00\", \"2011-06-08T00:00:00\", \"2011-06-10T00:00:00\", \"2011-06-11T00:00:00\", \"2011-06-12T00:00:00\", \"2011-06-13T00:00:00\", \"2011-06-14T00:00:00\", \"2011-06-15T00:00:00\", \"2011-06-16T00:00:00\", \"2011-06-17T00:00:00\", \"2011-06-18T00:00:00\", \"2011-06-19T00:00:00\", \"2011-06-20T00:00:00\", \"2011-06-22T00:00:00\", \"2011-06-23T00:00:00\", \"2011-06-24T00:00:00\", \"2011-06-25T00:00:00\", \"2011-06-26T00:00:00\", \"2011-06-27T00:00:00\", \"2011-06-28T00:00:00\", \"2011-06-29T00:00:00\", \"2011-06-30T00:00:00\", \"2011-07-01T00:00:00\", \"2011-07-02T00:00:00\", \"2011-07-03T00:00:00\", \"2011-07-04T00:00:00\", \"2011-07-05T00:00:00\", \"2011-07-06T00:00:00\", \"2011-07-07T00:00:00\", \"2011-07-10T00:00:00\", \"2011-07-11T00:00:00\", \"2011-07-12T00:00:00\", \"2011-07-13T00:00:00\", \"2011-07-14T00:00:00\", \"2011-07-15T00:00:00\", \"2011-07-16T00:00:00\", \"2011-07-17T00:00:00\", \"2011-07-18T00:00:00\", \"2011-07-19T00:00:00\", \"2011-07-20T00:00:00\", \"2011-07-21T00:00:00\", \"2011-07-22T00:00:00\", \"2011-07-23T00:00:00\", \"2011-07-24T00:00:00\", \"2011-07-25T00:00:00\", \"2011-07-26T00:00:00\", \"2011-07-27T00:00:00\", \"2011-07-28T00:00:00\", \"2011-07-29T00:00:00\", \"2011-07-30T00:00:00\", \"2011-07-31T00:00:00\", \"2011-08-01T00:00:00\", \"2011-08-02T00:00:00\", \"2011-08-03T00:00:00\", \"2011-08-04T00:00:00\", \"2011-08-05T00:00:00\", \"2011-08-06T00:00:00\", \"2011-08-07T00:00:00\", \"2011-08-08T00:00:00\", \"2011-08-09T00:00:00\", \"2011-08-10T00:00:00\", \"2011-08-11T00:00:00\", \"2011-08-12T00:00:00\", \"2011-08-13T00:00:00\", \"2011-08-14T00:00:00\", \"2011-08-15T00:00:00\", \"2011-08-16T00:00:00\", \"2011-08-17T00:00:00\", \"2011-08-18T00:00:00\", \"2011-08-19T00:00:00\", \"2011-08-20T00:00:00\", \"2011-08-21T00:00:00\", \"2011-08-22T00:00:00\", \"2011-08-23T00:00:00\", \"2011-08-24T00:00:00\", \"2011-08-26T00:00:00\", \"2011-08-27T00:00:00\", \"2011-08-28T00:00:00\", \"2011-08-29T00:00:00\", \"2011-08-30T00:00:00\", \"2011-08-31T00:00:00\", \"2011-09-01T00:00:00\", \"2011-09-02T00:00:00\", \"2011-09-03T00:00:00\", \"2011-09-04T00:00:00\", \"2011-09-05T00:00:00\", \"2011-09-06T00:00:00\", \"2011-09-07T00:00:00\", \"2011-09-08T00:00:00\", \"2011-09-09T00:00:00\", \"2011-09-10T00:00:00\", \"2011-09-11T00:00:00\", \"2011-09-12T00:00:00\", \"2011-09-13T00:00:00\", \"2011-09-14T00:00:00\", \"2011-09-15T00:00:00\", \"2011-09-16T00:00:00\", \"2011-09-17T00:00:00\", \"2011-09-18T00:00:00\", \"2011-09-19T00:00:00\", \"2011-09-20T00:00:00\", \"2011-09-21T00:00:00\", \"2011-09-22T00:00:00\", \"2011-09-23T00:00:00\", \"2011-09-24T00:00:00\", \"2011-09-25T00:00:00\", \"2011-09-26T00:00:00\", \"2011-09-27T00:00:00\", \"2011-09-28T00:00:00\", \"2011-09-30T00:00:00\", \"2011-10-01T00:00:00\", \"2011-10-02T00:00:00\", \"2011-10-03T00:00:00\", \"2011-10-04T00:00:00\", \"2011-10-05T00:00:00\", \"2011-10-06T00:00:00\", \"2011-10-07T00:00:00\", \"2011-10-08T00:00:00\", \"2011-10-09T00:00:00\", \"2011-10-10T00:00:00\", \"2011-10-11T00:00:00\", \"2011-10-12T00:00:00\", \"2011-10-13T00:00:00\", \"2011-10-14T00:00:00\", \"2011-10-15T00:00:00\", \"2011-10-16T00:00:00\", \"2011-10-17T00:00:00\", \"2011-10-18T00:00:00\", \"2011-10-19T00:00:00\", \"2011-10-20T00:00:00\", \"2011-10-21T00:00:00\", \"2011-10-22T00:00:00\", \"2011-10-23T00:00:00\", \"2011-10-24T00:00:00\", \"2011-10-25T00:00:00\", \"2011-10-26T00:00:00\", \"2011-10-27T00:00:00\", \"2011-10-28T00:00:00\", \"2011-10-29T00:00:00\", \"2011-10-30T00:00:00\", \"2011-10-31T00:00:00\", \"2011-11-01T00:00:00\", \"2011-11-02T00:00:00\", \"2011-11-03T00:00:00\", \"2011-11-04T00:00:00\", \"2011-11-05T00:00:00\", \"2011-11-06T00:00:00\", \"2011-11-07T00:00:00\", \"2011-11-08T00:00:00\", \"2011-11-09T00:00:00\", \"2011-11-10T00:00:00\", \"2011-11-11T00:00:00\", \"2011-11-12T00:00:00\", \"2011-11-13T00:00:00\", \"2011-11-14T00:00:00\", \"2011-11-15T00:00:00\", \"2011-11-16T00:00:00\", \"2011-11-17T00:00:00\", \"2011-11-18T00:00:00\", \"2011-11-19T00:00:00\", \"2011-11-20T00:00:00\", \"2011-11-21T00:00:00\", \"2011-11-22T00:00:00\", \"2011-11-23T00:00:00\", \"2011-11-24T00:00:00\", \"2011-11-25T00:00:00\", \"2011-11-26T00:00:00\", \"2011-11-27T00:00:00\", \"2011-11-28T00:00:00\", \"2011-11-29T00:00:00\", \"2011-11-30T00:00:00\", \"2011-12-01T00:00:00\", \"2011-12-02T00:00:00\", \"2011-12-03T00:00:00\", \"2011-12-04T00:00:00\", \"2011-12-05T00:00:00\", \"2011-12-06T00:00:00\", \"2011-12-07T00:00:00\", \"2011-12-08T00:00:00\", \"2011-12-09T00:00:00\", \"2011-12-10T00:00:00\", \"2011-12-11T00:00:00\", \"2011-12-12T00:00:00\", \"2011-12-13T00:00:00\", \"2011-12-14T00:00:00\", \"2011-12-15T00:00:00\", \"2011-12-16T00:00:00\", \"2011-12-17T00:00:00\", \"2011-12-18T00:00:00\", \"2011-12-19T00:00:00\", \"2011-12-20T00:00:00\", \"2011-12-21T00:00:00\", \"2011-12-22T00:00:00\", \"2011-12-23T00:00:00\", \"2011-12-24T00:00:00\", \"2011-12-25T00:00:00\", \"2011-12-27T00:00:00\", \"2011-12-28T00:00:00\", \"2011-12-29T00:00:00\", \"2011-12-30T00:00:00\", \"2011-12-31T00:00:00\", \"2012-01-01T00:00:00\", \"2012-01-02T00:00:00\", \"2012-01-03T00:00:00\", \"2012-01-04T00:00:00\", \"2012-01-05T00:00:00\", \"2012-01-06T00:00:00\", \"2012-01-07T00:00:00\", \"2012-01-08T00:00:00\", \"2012-01-09T00:00:00\", \"2012-01-10T00:00:00\", \"2012-01-11T00:00:00\", \"2012-01-12T00:00:00\", \"2012-01-13T00:00:00\", \"2012-01-14T00:00:00\", \"2012-01-15T00:00:00\", \"2012-01-16T00:00:00\", \"2012-01-17T00:00:00\", \"2012-01-18T00:00:00\", \"2012-01-19T00:00:00\", \"2012-01-20T00:00:00\", \"2012-01-21T00:00:00\", \"2012-01-22T00:00:00\", \"2012-01-23T00:00:00\", \"2012-01-24T00:00:00\", \"2012-01-25T00:00:00\", \"2012-01-26T00:00:00\", \"2012-01-27T00:00:00\", \"2012-01-28T00:00:00\", \"2012-01-29T00:00:00\", \"2012-01-30T00:00:00\", \"2012-01-31T00:00:00\", \"2012-02-01T00:00:00\", \"2012-02-02T00:00:00\", \"2012-02-03T00:00:00\", \"2012-02-04T00:00:00\", \"2012-02-05T00:00:00\", \"2012-02-06T00:00:00\", \"2012-02-07T00:00:00\", \"2012-02-08T00:00:00\", \"2012-02-09T00:00:00\", \"2012-02-10T00:00:00\", \"2012-02-11T00:00:00\", \"2012-02-12T00:00:00\", \"2012-02-13T00:00:00\", \"2012-02-15T00:00:00\", \"2012-02-16T00:00:00\", \"2012-02-17T00:00:00\", \"2012-02-18T00:00:00\", \"2012-02-19T00:00:00\", \"2012-02-20T00:00:00\", \"2012-02-21T00:00:00\", \"2012-02-22T00:00:00\", \"2012-02-23T00:00:00\", \"2012-02-24T00:00:00\", \"2012-02-25T00:00:00\", \"2012-02-26T00:00:00\", \"2012-02-27T00:00:00\", \"2012-02-28T00:00:00\", \"2012-02-29T00:00:00\", \"2012-03-01T00:00:00\", \"2012-03-02T00:00:00\", \"2012-03-03T00:00:00\"], \"xaxis\": \"x\", \"y\": [1, 1, 1, 1, 1, 1, 1, 2, 2, 1, 1, 2, 2, 2, 2, 1, 1, 2, 2, 1, 2, 1, 1, 1, 2, 1, 3, 3, 1, 2, 1, 2, 1, 1, 1, 1, 3, 2, 2, 3, 1, 4, 1, 4, 5, 4, 1, 4, 1, 1, 3, 5, 2, 1, 4, 5, 2, 2, 4, 1, 2, 2, 4, 1, 3, 2, 1, 4, 3, 5, 5, 1, 3, 11, 3, 3, 5, 4, 3, 2, 1, 1, 2, 5, 1, 4, 2, 3, 1, 3, 2, 1, 3, 4, 2, 1, 6, 2, 1, 1, 3, 3, 2, 3, 3, 2, 3, 1, 1, 5, 3, 2, 1, 1, 3, 4, 1, 7, 1, 3, 3, 3, 2, 6, 3, 4, 1, 3, 1, 1, 4, 3, 1, 2, 2, 4, 1, 5, 4, 4, 1, 5, 4, 10, 2, 8, 6, 4, 3, 4, 8, 6, 5, 1, 4, 3, 2, 3, 4, 4, 1, 5, 2, 6, 3, 2, 3, 2, 4, 3, 3, 2, 8, 4, 2, 5, 5, 11, 7, 9, 9, 8, 7, 6, 10, 20, 15, 3, 5, 4, 2, 5, 4, 8, 8, 13, 11, 13, 26, 36, 33, 32, 48, 42, 2, 2, 2, 3, 5, 2, 2, 7, 2, 5, 5, 3, 3, 4, 2, 2, 6, 6, 1, 3, 2, 5, 10, 11, 6, 7, 10, 10, 10, 9, 2, 5, 3, 1, 4, 4, 4, 4, 3, 4, 6, 4, 3, 3, 5, 6, 9, 8, 1, 4, 6, 5, 4, 3, 3, 3, 1, 2, 3, 1, 4, 5, 2, 2, 6, 6, 3, 2, 6, 6, 1, 1, 2, 1, 2, 2, 7, 2, 4, 2, 2, 8, 6, 4, 1, 4, 7, 3, 9, 2, 2, 3, 4, 4, 1, 3, 3, 3, 2, 4, 4, 3, 4, 7, 4, 5, 1, 4, 1, 4, 4, 2, 1, 2, 2, 2, 1, 5, 2, 5, 2, 2, 2, 8, 3, 6, 3, 1, 2, 1, 6, 7, 5, 3, 5, 4, 7, 2, 3, 1, 2, 4, 5, 9, 1, 4, 2, 1, 1, 4, 3, 3, 3, 5, 2, 3, 5, 4, 6, 5, 3, 4, 2, 3, 4, 1, 1, 2, 8, 5, 3, 3, 3, 1, 2, 2, 4, 2, 3, 3, 7, 1, 5, 3, 1, 2, 3, 9, 1, 3, 5, 1, 4, 3, 2, 4, 1, 7, 2, 1, 4, 2, 2, 4, 3, 2, 1, 3, 3, 2, 3, 3, 3, 8, 5, 3, 3, 1, 2, 3, 1, 1, 2, 1, 2, 1, 3, 3, 4, 2, 5, 3, 4, 4, 7, 6, 7, 5, 2, 3, 4, 3, 4, 2, 1, 1, 3, 4, 4, 4, 2, 2, 2, 5, 2, 6, 3, 1, 4, 1, 2, 5, 4, 2, 1, 1, 1, 3, 3, 4, 1, 3, 6, 2, 5, 2, 5, 5, 4, 1, 1, 5, 9, 5, 6, 3, 2, 2, 4, 1, 4, 3, 3, 2, 5, 9, 9, 1, 2, 2, 5, 7, 6, 4, 1, 3, 5, 6, 3, 5, 2, 2, 4, 4, 5, 2, 1, 6, 7, 4, 4, 10, 10, 17, 15, 7, 14, 13, 15, 16, 14, 2, 7, 3, 5, 6, 8, 16, 15, 10, 12, 9, 22, 31, 33, 39, 37, 31, 6, 4, 4, 1, 3, 3, 1, 4, 2, 4, 11, 2, 3, 5, 1, 3, 2, 11, 3, 4, 5, 2, 6, 11, 7, 7, 14, 10, 13, 12, 14, 12, 10, 9, 4, 1, 10, 4, 5, 5, 6, 3, 4, 3, 7, 2, 5, 7, 5, 5, 3, 7, 8, 8, 9, 7, 2, 11, 7, 3, 10, 3, 4, 4, 2, 11, 1, 3, 1, 3, 2, 2, 6, 6, 4, 4, 4, 6, 3, 12, 7, 3, 3, 5, 7, 3, 6, 5, 3, 4, 2, 3, 7, 2, 3, 3, 7, 4, 3], \"yaxis\": \"y\"}],\n",
       "                        {\"height\": 600, \"legend\": {\"tracegroupgap\": 0}, \"margin\": {\"t\": 60}, \"template\": {\"data\": {\"bar\": [{\"error_x\": {\"color\": \"#2a3f5f\"}, \"error_y\": {\"color\": \"#2a3f5f\"}, \"marker\": {\"line\": {\"color\": \"#E5ECF6\", \"width\": 0.5}}, \"type\": \"bar\"}], \"barpolar\": [{\"marker\": {\"line\": {\"color\": \"#E5ECF6\", \"width\": 0.5}}, \"type\": \"barpolar\"}], \"carpet\": [{\"aaxis\": {\"endlinecolor\": \"#2a3f5f\", \"gridcolor\": \"white\", \"linecolor\": \"white\", \"minorgridcolor\": \"white\", \"startlinecolor\": \"#2a3f5f\"}, \"baxis\": {\"endlinecolor\": \"#2a3f5f\", \"gridcolor\": \"white\", \"linecolor\": \"white\", \"minorgridcolor\": \"white\", \"startlinecolor\": \"#2a3f5f\"}, \"type\": \"carpet\"}], \"choropleth\": [{\"colorbar\": {\"outlinewidth\": 0, \"ticks\": \"\"}, \"type\": \"choropleth\"}], \"contour\": [{\"colorbar\": {\"outlinewidth\": 0, \"ticks\": \"\"}, \"colorscale\": [[0.0, \"#0d0887\"], [0.1111111111111111, \"#46039f\"], [0.2222222222222222, \"#7201a8\"], [0.3333333333333333, \"#9c179e\"], [0.4444444444444444, \"#bd3786\"], [0.5555555555555556, \"#d8576b\"], [0.6666666666666666, \"#ed7953\"], [0.7777777777777778, \"#fb9f3a\"], [0.8888888888888888, \"#fdca26\"], [1.0, \"#f0f921\"]], \"type\": \"contour\"}], \"contourcarpet\": [{\"colorbar\": {\"outlinewidth\": 0, \"ticks\": \"\"}, \"type\": \"contourcarpet\"}], \"heatmap\": [{\"colorbar\": {\"outlinewidth\": 0, \"ticks\": \"\"}, \"colorscale\": [[0.0, \"#0d0887\"], [0.1111111111111111, \"#46039f\"], [0.2222222222222222, \"#7201a8\"], [0.3333333333333333, \"#9c179e\"], [0.4444444444444444, \"#bd3786\"], [0.5555555555555556, \"#d8576b\"], [0.6666666666666666, \"#ed7953\"], [0.7777777777777778, \"#fb9f3a\"], [0.8888888888888888, \"#fdca26\"], [1.0, \"#f0f921\"]], \"type\": \"heatmap\"}], \"heatmapgl\": [{\"colorbar\": {\"outlinewidth\": 0, \"ticks\": \"\"}, \"colorscale\": [[0.0, \"#0d0887\"], [0.1111111111111111, \"#46039f\"], [0.2222222222222222, \"#7201a8\"], [0.3333333333333333, \"#9c179e\"], [0.4444444444444444, \"#bd3786\"], [0.5555555555555556, \"#d8576b\"], [0.6666666666666666, \"#ed7953\"], [0.7777777777777778, \"#fb9f3a\"], [0.8888888888888888, \"#fdca26\"], [1.0, \"#f0f921\"]], \"type\": \"heatmapgl\"}], \"histogram\": [{\"marker\": {\"colorbar\": {\"outlinewidth\": 0, \"ticks\": \"\"}}, \"type\": \"histogram\"}], \"histogram2d\": [{\"colorbar\": {\"outlinewidth\": 0, \"ticks\": \"\"}, \"colorscale\": [[0.0, \"#0d0887\"], [0.1111111111111111, \"#46039f\"], [0.2222222222222222, \"#7201a8\"], [0.3333333333333333, \"#9c179e\"], [0.4444444444444444, \"#bd3786\"], [0.5555555555555556, \"#d8576b\"], [0.6666666666666666, \"#ed7953\"], [0.7777777777777778, \"#fb9f3a\"], [0.8888888888888888, \"#fdca26\"], [1.0, \"#f0f921\"]], \"type\": \"histogram2d\"}], \"histogram2dcontour\": [{\"colorbar\": {\"outlinewidth\": 0, \"ticks\": \"\"}, \"colorscale\": [[0.0, \"#0d0887\"], [0.1111111111111111, \"#46039f\"], [0.2222222222222222, \"#7201a8\"], [0.3333333333333333, \"#9c179e\"], [0.4444444444444444, \"#bd3786\"], [0.5555555555555556, \"#d8576b\"], [0.6666666666666666, \"#ed7953\"], [0.7777777777777778, \"#fb9f3a\"], [0.8888888888888888, \"#fdca26\"], [1.0, \"#f0f921\"]], \"type\": \"histogram2dcontour\"}], \"mesh3d\": [{\"colorbar\": {\"outlinewidth\": 0, \"ticks\": \"\"}, \"type\": \"mesh3d\"}], \"parcoords\": [{\"line\": {\"colorbar\": {\"outlinewidth\": 0, \"ticks\": \"\"}}, \"type\": \"parcoords\"}], \"pie\": [{\"automargin\": true, \"type\": \"pie\"}], \"scatter\": [{\"marker\": {\"colorbar\": {\"outlinewidth\": 0, \"ticks\": \"\"}}, \"type\": \"scatter\"}], \"scatter3d\": [{\"line\": {\"colorbar\": {\"outlinewidth\": 0, \"ticks\": \"\"}}, \"marker\": {\"colorbar\": {\"outlinewidth\": 0, \"ticks\": \"\"}}, \"type\": \"scatter3d\"}], \"scattercarpet\": [{\"marker\": {\"colorbar\": {\"outlinewidth\": 0, \"ticks\": \"\"}}, \"type\": \"scattercarpet\"}], \"scattergeo\": [{\"marker\": {\"colorbar\": {\"outlinewidth\": 0, \"ticks\": \"\"}}, \"type\": \"scattergeo\"}], \"scattergl\": [{\"marker\": {\"colorbar\": {\"outlinewidth\": 0, \"ticks\": \"\"}}, \"type\": \"scattergl\"}], \"scattermapbox\": [{\"marker\": {\"colorbar\": {\"outlinewidth\": 0, \"ticks\": \"\"}}, \"type\": \"scattermapbox\"}], \"scatterpolar\": [{\"marker\": {\"colorbar\": {\"outlinewidth\": 0, \"ticks\": \"\"}}, \"type\": \"scatterpolar\"}], \"scatterpolargl\": [{\"marker\": {\"colorbar\": {\"outlinewidth\": 0, \"ticks\": \"\"}}, \"type\": \"scatterpolargl\"}], \"scatterternary\": [{\"marker\": {\"colorbar\": {\"outlinewidth\": 0, \"ticks\": \"\"}}, \"type\": \"scatterternary\"}], \"surface\": [{\"colorbar\": {\"outlinewidth\": 0, \"ticks\": \"\"}, \"colorscale\": [[0.0, \"#0d0887\"], [0.1111111111111111, \"#46039f\"], [0.2222222222222222, \"#7201a8\"], [0.3333333333333333, \"#9c179e\"], [0.4444444444444444, \"#bd3786\"], [0.5555555555555556, \"#d8576b\"], [0.6666666666666666, \"#ed7953\"], [0.7777777777777778, \"#fb9f3a\"], [0.8888888888888888, \"#fdca26\"], [1.0, \"#f0f921\"]], \"type\": \"surface\"}], \"table\": [{\"cells\": {\"fill\": {\"color\": \"#EBF0F8\"}, \"line\": {\"color\": \"white\"}}, \"header\": {\"fill\": {\"color\": \"#C8D4E3\"}, \"line\": {\"color\": \"white\"}}, \"type\": \"table\"}]}, \"layout\": {\"annotationdefaults\": {\"arrowcolor\": \"#2a3f5f\", \"arrowhead\": 0, \"arrowwidth\": 1}, \"coloraxis\": {\"colorbar\": {\"outlinewidth\": 0, \"ticks\": \"\"}}, \"colorscale\": {\"diverging\": [[0, \"#8e0152\"], [0.1, \"#c51b7d\"], [0.2, \"#de77ae\"], [0.3, \"#f1b6da\"], [0.4, \"#fde0ef\"], [0.5, \"#f7f7f7\"], [0.6, \"#e6f5d0\"], [0.7, \"#b8e186\"], [0.8, \"#7fbc41\"], [0.9, \"#4d9221\"], [1, \"#276419\"]], \"sequential\": [[0.0, \"#0d0887\"], [0.1111111111111111, \"#46039f\"], [0.2222222222222222, \"#7201a8\"], [0.3333333333333333, \"#9c179e\"], [0.4444444444444444, \"#bd3786\"], [0.5555555555555556, \"#d8576b\"], [0.6666666666666666, \"#ed7953\"], [0.7777777777777778, \"#fb9f3a\"], [0.8888888888888888, \"#fdca26\"], [1.0, \"#f0f921\"]], \"sequentialminus\": [[0.0, \"#0d0887\"], [0.1111111111111111, \"#46039f\"], [0.2222222222222222, \"#7201a8\"], [0.3333333333333333, \"#9c179e\"], [0.4444444444444444, \"#bd3786\"], [0.5555555555555556, \"#d8576b\"], [0.6666666666666666, \"#ed7953\"], [0.7777777777777778, \"#fb9f3a\"], [0.8888888888888888, \"#fdca26\"], [1.0, \"#f0f921\"]]}, \"colorway\": [\"#636efa\", \"#EF553B\", \"#00cc96\", \"#ab63fa\", \"#FFA15A\", \"#19d3f3\", \"#FF6692\", \"#B6E880\", \"#FF97FF\", \"#FECB52\"], \"font\": {\"color\": \"#2a3f5f\"}, \"geo\": {\"bgcolor\": \"white\", \"lakecolor\": \"white\", \"landcolor\": \"#E5ECF6\", \"showlakes\": true, \"showland\": true, \"subunitcolor\": \"white\"}, \"hoverlabel\": {\"align\": \"left\"}, \"hovermode\": \"closest\", \"mapbox\": {\"style\": \"light\"}, \"paper_bgcolor\": \"white\", \"plot_bgcolor\": \"#E5ECF6\", \"polar\": {\"angularaxis\": {\"gridcolor\": \"white\", \"linecolor\": \"white\", \"ticks\": \"\"}, \"bgcolor\": \"#E5ECF6\", \"radialaxis\": {\"gridcolor\": \"white\", \"linecolor\": \"white\", \"ticks\": \"\"}}, \"scene\": {\"xaxis\": {\"backgroundcolor\": \"#E5ECF6\", \"gridcolor\": \"white\", \"gridwidth\": 2, \"linecolor\": \"white\", \"showbackground\": true, \"ticks\": \"\", \"zerolinecolor\": \"white\"}, \"yaxis\": {\"backgroundcolor\": \"#E5ECF6\", \"gridcolor\": \"white\", \"gridwidth\": 2, \"linecolor\": \"white\", \"showbackground\": true, \"ticks\": \"\", \"zerolinecolor\": \"white\"}, \"zaxis\": {\"backgroundcolor\": \"#E5ECF6\", \"gridcolor\": \"white\", \"gridwidth\": 2, \"linecolor\": \"white\", \"showbackground\": true, \"ticks\": \"\", \"zerolinecolor\": \"white\"}}, \"shapedefaults\": {\"line\": {\"color\": \"#2a3f5f\"}}, \"ternary\": {\"aaxis\": {\"gridcolor\": \"white\", \"linecolor\": \"white\", \"ticks\": \"\"}, \"baxis\": {\"gridcolor\": \"white\", \"linecolor\": \"white\", \"ticks\": \"\"}, \"bgcolor\": \"#E5ECF6\", \"caxis\": {\"gridcolor\": \"white\", \"linecolor\": \"white\", \"ticks\": \"\"}}, \"title\": {\"x\": 0.05}, \"xaxis\": {\"automargin\": true, \"gridcolor\": \"white\", \"linecolor\": \"white\", \"ticks\": \"\", \"title\": {\"standoff\": 15}, \"zerolinecolor\": \"white\", \"zerolinewidth\": 2}, \"yaxis\": {\"automargin\": true, \"gridcolor\": \"white\", \"linecolor\": \"white\", \"ticks\": \"\", \"title\": {\"standoff\": 15}, \"zerolinecolor\": \"white\", \"zerolinewidth\": 2}}}, \"title\": {\"text\": \"Transactions for turkey meat\"}, \"xaxis\": {\"anchor\": \"y\", \"domain\": [0.0, 1.0], \"title\": {\"text\": \"DATE\"}}, \"yaxis\": {\"anchor\": \"x\", \"domain\": [0.0, 1.0], \"title\": {\"text\": \"count\"}}},\n",
       "                        {\"responsive\": true}\n",
       "                    ).then(function(){\n",
       "                            \n",
       "var gd = document.getElementById('8098c5ad-cf44-4b9c-8937-e3263eb10c85');\n",
       "var x = new MutationObserver(function (mutations, observer) {{\n",
       "        var display = window.getComputedStyle(gd).display;\n",
       "        if (!display || display === 'none') {{\n",
       "            console.log([gd, 'removed!']);\n",
       "            Plotly.purge(gd);\n",
       "            observer.disconnect();\n",
       "        }}\n",
       "}});\n",
       "\n",
       "// Listen for the removal of the full notebook cells\n",
       "var notebookContainer = gd.closest('#notebook-container');\n",
       "if (notebookContainer) {{\n",
       "    x.observe(notebookContainer, {childList: true});\n",
       "}}\n",
       "\n",
       "// Listen for the clearing of the current output cell\n",
       "var outputEl = gd.closest('.output');\n",
       "if (outputEl) {{\n",
       "    x.observe(outputEl, {childList: true});\n",
       "}}\n",
       "\n",
       "                        })\n",
       "                };\n",
       "                });\n",
       "            </script>\n",
       "        </div>"
      ]
     },
     "metadata": {},
     "output_type": "display_data"
    }
   ],
   "source": [
    "# Get turkey transactions\n",
    "df_turkey_meat = df_meat_products[df_meat_products.COMMODITY_DESC.str.contains(\"TURKEY\")]\n",
    "df_turkey_meat_transactions = pd.merge(df_turkey_meat, df_transactions, on=\"PRODUCT_ID\", how=\"inner\")\n",
    "trans_per_day_turkey = df_turkey_meat_transactions.groupby(\"DATE\")[\"household_key\"].count().reset_index(name=\"count\").reset_index()\n",
    "# Plot\n",
    "fig = px.line(trans_per_day_turkey, x='DATE', y='count')\n",
    "fig.update_layout(title=\"Transactions for turkey meat\")\n",
    "fig.show()"
   ]
  },
  {
   "cell_type": "markdown",
   "metadata": {},
   "source": [
    "#### Time column"
   ]
  },
  {
   "cell_type": "code",
   "execution_count": null,
   "metadata": {},
   "outputs": [],
   "source": [
    "print(f\"Minimum value for the TRANS_TIME: {df_transactions.TRANS_TIME.min()}\")\n",
    "print(f\"Maximum value for the TRANS_TIME: {df_transactions.TRANS_TIME.max()}\")"
   ]
  },
  {
   "cell_type": "markdown",
   "metadata": {},
   "source": [
    "This column actually contains the time a which the transaction took place. The time is represented by an integer between 0 and 2359 that respectively corresponds to midnight and 23:59.  "
   ]
  },
  {
   "cell_type": "markdown",
   "metadata": {},
   "source": [
    "We only keep the transactions related to food prodcuts for the rest of the analysis."
   ]
  },
  {
   "cell_type": "code",
   "execution_count": null,
   "metadata": {},
   "outputs": [],
   "source": [
    "food_products_IDs = df_food_products.PRODUCT_ID.values\n",
    "df_food_transactions = df_transactions[df_transactions.PRODUCT_ID.isin(food_products_IDs)]"
   ]
  },
  {
   "cell_type": "code",
   "execution_count": null,
   "metadata": {},
   "outputs": [],
   "source": [
    "print(f\"The dataframe contains {len(df_food_transactions)} transactions.\")"
   ]
  },
  {
   "cell_type": "code",
   "execution_count": null,
   "metadata": {},
   "outputs": [],
   "source": [
    "print(f\"The dataframe contains {len(df_food_transactions.BASKET_ID.unique())} baskets.\")"
   ]
  },
  {
   "cell_type": "markdown",
   "metadata": {},
   "source": [
    "### Basket Prices"
   ]
  },
  {
   "cell_type": "markdown",
   "metadata": {},
   "source": [
    "To get an idea of how the people consume in the dataset, we are interested in knowing what is the distribution of the basket prices."
   ]
  },
  {
   "cell_type": "code",
   "execution_count": null,
   "metadata": {},
   "outputs": [],
   "source": [
    "df_food_transactions.groupby(\"BASKET_ID\").PAID_PRICE.sum().hist(bins=100)\n",
    "plt.xlabel('basket prices')\n",
    "plt.ylabel('count')\n",
    "plt.title('Histogram of Basket Prices');"
   ]
  },
  {
   "cell_type": "code",
   "execution_count": null,
   "metadata": {},
   "outputs": [],
   "source": [
    "basket_prices = df_transactions.groupby(\"BASKET_ID\").PAID_PRICE.sum()\n",
    "print(f\"The median basket price is {round(basket_prices.median(), 2)} $.\")"
   ]
  },
  {
   "cell_type": "markdown",
   "metadata": {},
   "source": [
    "It seems that the basket price follows a exponential distribution. We can plot it on a semi-log scale :"
   ]
  },
  {
   "cell_type": "code",
   "execution_count": null,
   "metadata": {},
   "outputs": [],
   "source": [
    "df_food_transactions.groupby(\"BASKET_ID\").PAID_PRICE.sum().hist(bins=100)\n",
    "plt.yscale(\"log\")\n",
    "plt.xlabel('basket prices')\n",
    "plt.ylabel('count')\n",
    "plt.title('Log-scaled Histogram of Basket Prices');"
   ]
  },
  {
   "cell_type": "markdown",
   "metadata": {},
   "source": [
    "We see that there are some baskets that cost 0 dollars. Let's have a look at one of those baskets :"
   ]
  },
  {
   "cell_type": "code",
   "execution_count": null,
   "metadata": {},
   "outputs": [],
   "source": [
    "free_products = len(df_food_transactions[df_food_transactions.PAID_PRICE == 0])\n",
    "percent_free_products = round(free_products * 100 / len(df_food_transactions), 2)\n",
    "print(f\"There are {free_products} products that were bought for free which is {percent_free_products}% of food related transcations.\")"
   ]
  },
  {
   "cell_type": "code",
   "execution_count": null,
   "metadata": {},
   "outputs": [],
   "source": [
    "df_food_transactions[df_food_transactions.PAID_PRICE == 0].sample(5)"
   ]
  },
  {
   "cell_type": "markdown",
   "metadata": {},
   "source": [
    "For these products, we observe that the discount is bigger than the sales value. This explains why some transactions do not cost anything to the buyer."
   ]
  },
  {
   "cell_type": "markdown",
   "metadata": {},
   "source": [
    "### Basket Sizes"
   ]
  },
  {
   "cell_type": "markdown",
   "metadata": {},
   "source": [
    "We are also interested in the quantity of products that the consumers buy."
   ]
  },
  {
   "cell_type": "code",
   "execution_count": null,
   "metadata": {},
   "outputs": [],
   "source": [
    "df_food_transactions.groupby(\"BASKET_ID\")[\"QUANTITY\"].sum().hist(bins=100)\n",
    "plt.yscale(\"log\")\n",
    "plt.xlabel('basket size')\n",
    "plt.ylabel('count')\n",
    "plt.title('Log-scaled Histogram of Basket Sizes');"
   ]
  },
  {
   "cell_type": "code",
   "execution_count": null,
   "metadata": {},
   "outputs": [],
   "source": [
    "basket_size = df_food_transactions.groupby(\"BASKET_ID\")[\"QUANTITY\"].sum()\n",
    "print(f\"The median basket size is {int(basket_size.median())}.\")"
   ]
  },
  {
   "cell_type": "markdown",
   "metadata": {},
   "source": [
    "It seems that people have relatively small baskets in general. A possible exaplanation is that they do not make their \"heavy\" groceries in the stores in which the data were collected."
   ]
  },
  {
   "cell_type": "markdown",
   "metadata": {},
   "source": [
    "### Department-level Analysis"
   ]
  },
  {
   "cell_type": "markdown",
   "metadata": {},
   "source": [
    "To understand what people buy, we look at the distribution of the food related transactions across the departments. "
   ]
  },
  {
   "cell_type": "code",
   "execution_count": null,
   "metadata": {},
   "outputs": [],
   "source": [
    "transac_prod = pd.merge(df_food_transactions, df_food_products, on=\"PRODUCT_ID\", how=\"inner\")[[\"PRODUCT_ID\", \"PAID_PRICE\", \"DEPARTMENT\"]]"
   ]
  },
  {
   "cell_type": "code",
   "execution_count": null,
   "metadata": {},
   "outputs": [],
   "source": [
    "fig, axes = plt.subplots(nrows=1, ncols=2, figsize=(20,4))\n",
    "transac_prod.groupby(\"DEPARTMENT\")[\"PAID_PRICE\"].count().sort_values(ascending=False).plot.bar(title='Number of  Transactions per Department', ax = axes[0])\n",
    "transac_prod.groupby(\"DEPARTMENT\")[\"PAID_PRICE\"].sum().sort_values(ascending=False).plot.bar(title='Total income per Department', ax = axes[1]);"
   ]
  },
  {
   "cell_type": "markdown",
   "metadata": {},
   "source": [
    "We observe that most of the transactions concern products of the GROCERY department which is not surprising as this is the biggest food-related department and it contains a bit of everything."
   ]
  },
  {
   "cell_type": "markdown",
   "metadata": {},
   "source": [
    "### Most sold ans most profitable products"
   ]
  },
  {
   "cell_type": "markdown",
   "metadata": {},
   "source": [
    "In continuity, we would also like to find out what are the most sold and most profitable products."
   ]
  },
  {
   "cell_type": "code",
   "execution_count": null,
   "metadata": {},
   "outputs": [],
   "source": [
    "transac_prod = pd.merge(df_food_transactions, df_food_products, on=\"PRODUCT_ID\", how=\"inner\")"
   ]
  },
  {
   "cell_type": "code",
   "execution_count": null,
   "metadata": {},
   "outputs": [],
   "source": [
    "ranking_sells = transac_prod.groupby(['PRODUCT_ID'], as_index=False)\\\n",
    "            .agg({'COMMODITY_DESC': 'first', 'SUB_COMMODITY_DESC': 'first', 'PAID_PRICE': 'count'})\\\n",
    "            .rename(columns={\"PAID_PRICE\": \"NUM_SOLD\"})\\\n",
    "            .sort_values(by=\"NUM_SOLD\", ascending=False)\\\n",
    "            .head(10)\n",
    "ranking_sells[\"RANK\"] = ranking_sells[\"NUM_SOLD\"].rank(ascending=False)\n",
    "ranking_sells = ranking_sells.set_index(\"RANK\")\n",
    "print(\"Ranking of the Most sold products: \")\n",
    "ranking_sells.head(10)"
   ]
  },
  {
   "cell_type": "code",
   "execution_count": null,
   "metadata": {},
   "outputs": [],
   "source": [
    "ranking_profit = transac_prod.groupby(['PRODUCT_ID'], as_index=False)\\\n",
    "            .agg({'COMMODITY_DESC': 'first', 'SUB_COMMODITY_DESC': 'first', 'PAID_PRICE': 'sum'})\\\n",
    "            .sort_values(by=\"PAID_PRICE\", ascending=False)\\\n",
    "            .head(10)\n",
    "ranking_profit[\"RANK\"] = ranking_profit[\"PAID_PRICE\"].rank(ascending=False)\n",
    "ranking_profit = ranking_profit.set_index(\"RANK\")\n",
    "print(\"Ranking of the Most profitable products: \")\n",
    "ranking.head(10)"
   ]
  },
  {
   "cell_type": "markdown",
   "metadata": {},
   "source": [
    "We did not really expect Bananas to be at the the top of the ranking. As for the other products in the top 10 this was fairly predictable."
   ]
  },
  {
   "cell_type": "markdown",
   "metadata": {},
   "source": [
    "### Analysis of Weekly spending per Household"
   ]
  },
  {
   "cell_type": "markdown",
   "metadata": {},
   "source": [
    "The analysis of the spending per household will be very important to answer our research questions.\n",
    "\n",
    "In this section, we will focus on spending for meat and vegetables andfood in general. The goal is to get an idea of what are the average spending for each of them and to discover the ratio of the spendings allocated to meat and vegetables.  "
   ]
  },
  {
   "cell_type": "code",
   "execution_count": null,
   "metadata": {},
   "outputs": [],
   "source": [
    "def get_stats_meat_veggies(df_meat, df_veggies):\n",
    "    \"\"\"\n",
    "    Returns a dataframe containg the :\n",
    "      - % of transactions\n",
    "      - % of spendings\n",
    "    for meat and vegetables related products\n",
    "    \"\"\"\n",
    "    indexes = [\"MEAT\", \"VEGGIES\"]\n",
    "    total_spent = df_food_transactions.PAID_PRICE.sum()\n",
    "\n",
    "    _dict = {\n",
    "        \"TRANSACTIONS_%\": [],\n",
    "        \"SPENDING_%\": [],\n",
    "    }\n",
    "    for df in df_meat, df_veggies:\n",
    "        _dict[\"TRANSACTIONS_%\"].append(int(len(df) * 100/len(df_food_transactions)))\n",
    "        \n",
    "        total_spent_for_cat = df.PAID_PRICE.sum()\n",
    "        _dict[\"SPENDING_%\"].append(int(((total_spent_for_cat / total_spent) * 100)))\n",
    "        \n",
    "    return pd.DataFrame(_dict, index=indexes)  "
   ]
  },
  {
   "cell_type": "markdown",
   "metadata": {},
   "source": [
    "When looking at the average spending for a household we only consider weeks in which they bought something."
   ]
  },
  {
   "cell_type": "code",
   "execution_count": null,
   "metadata": {},
   "outputs": [],
   "source": [
    "# find active weeks  and total spendings per household\n",
    "weeks_activity_by_household = df_food_transactions.groupby(\"household_key\").agg({\"WEEK_NO\": set, \"PAID_PRICE\": sum})\n",
    "# create new columns\n",
    "weeks_activity_by_household[\"number_of_active_weeks\"] = weeks_activity_by_household[\"WEEK_NO\"].apply(lambda x: len(x))\n",
    "weeks_activity_by_household[\"avg_spending_per_week\"] = weeks_activity_by_household[\"PAID_PRICE\"] / weeks_activity_by_household[\"number_of_active_weeks\"]\n",
    "# drop week_no and sort\n",
    "weeks_activity_by_household = weeks_activity_by_household.drop(columns=\"WEEK_NO\")\n",
    "weeks_activity_by_household = weeks_activity_by_household.sort_values(by=\"number_of_active_weeks\", ascending=False)"
   ]
  },
  {
   "cell_type": "markdown",
   "metadata": {},
   "source": [
    "We construct dataframes containing only meat related transactions as well as vegetables related transactions."
   ]
  },
  {
   "cell_type": "code",
   "execution_count": null,
   "metadata": {},
   "outputs": [],
   "source": [
    "df_meat_transactions = pd.merge(df_meat_products, df_food_transactions, on=\"PRODUCT_ID\", how=\"inner\")\n",
    "df_veggies_transactions = pd.merge(df_veggies_prducts, df_food_transactions, on=\"PRODUCT_ID\", how=\"inner\")"
   ]
  },
  {
   "cell_type": "code",
   "execution_count": null,
   "metadata": {},
   "outputs": [],
   "source": [
    "get_stats_meat_veggies(df_meat_transactions, df_veggies_transactions)"
   ]
  },
  {
   "cell_type": "markdown",
   "metadata": {},
   "source": [
    "We observe that 16% of the food related transactions are for meat products and this represnts 23% of the spendings. As for the vegetables those represent respectively 9% and 7% of the transactions and the spendings. "
   ]
  },
  {
   "cell_type": "markdown",
   "metadata": {},
   "source": [
    "We will now construct a new dataframe containing for each houselhod :\n",
    "- The total amount paid for meat, vegetables and food in general\n",
    "- The average spending per active week for meat, vegetables and food in general\n",
    "- The ratio spend for meat and vegetables (e.g. ratio_for_meat = avg.  weekly spending for meat / avg. weekly spending for food)"
   ]
  },
  {
   "cell_type": "code",
   "execution_count": null,
   "metadata": {},
   "outputs": [],
   "source": [
    "# compute total spending for meat per household\n",
    "spent_for_meat_by_household = df_meat_transactions.groupby(\"household_key\").agg({\"PAID_PRICE\": sum}).reset_index()\n",
    "# compute total spending for meat per household\n",
    "spent_for_veggies_by_household = df_veggies_transactions.groupby(\"household_key\").agg({\"PAID_PRICE\": sum}).reset_index()\n",
    "# compute totatl spending for food per househould\n",
    "spent_by_household = df_food_transactions.groupby(\"household_key\").PAID_PRICE.sum()\n",
    "\n",
    "# calculate avg. meat spending, avg. veggies, avg food spending and the ratio of meat over food spending per week\n",
    "\n",
    "# Merge spent_for_meat and weeks_activity\n",
    "spent_by_household = pd.merge(spent_for_meat_by_household, weeks_activity_by_household, on=\"household_key\")\n",
    "spent_by_household = spent_by_household.rename(columns={\"PAID_PRICE_x\": \"paid_meat\", \"PAID_PRICE_y\": \"paid_food\"})\n",
    "\n",
    "# Merge spent_by_household and spent_for_veggie\n",
    "spent_by_household = pd.merge(spent_by_household, spent_for_veggies_by_household, on=\"household_key\")\n",
    "spent_by_household = spent_by_household.rename(columns={\"PAID_PRICE\": \"paid_veggies\"})\n",
    "\n",
    "# Compute stats for meat\n",
    "spent_by_household[\"avg_spending_meat_per_week\"] = spent_by_household.paid_meat / spent_by_household.number_of_active_weeks\n",
    "spent_by_household[\"ratio_spent_for_meat\"] = spent_by_household.avg_spending_meat_per_week / spent_by_household.avg_spending_per_week\n",
    "\n",
    "# Compute stats for veggies\n",
    "spent_by_household[\"avg_spending_veggies_per_week\"] = spent_by_household.paid_veggies / spent_by_household.number_of_active_weeks\n",
    "spent_by_household[\"ratio_spent_for_veggies\"] = spent_by_household.avg_spending_veggies_per_week / spent_by_household.avg_spending_per_week"
   ]
  },
  {
   "cell_type": "code",
   "execution_count": null,
   "metadata": {},
   "outputs": [],
   "source": [
    "spent_by_household.head()"
   ]
  },
  {
   "cell_type": "markdown",
   "metadata": {},
   "source": [
    "We can look at the distribution of the average spending per week :"
   ]
  },
  {
   "cell_type": "code",
   "execution_count": null,
   "metadata": {},
   "outputs": [],
   "source": [
    "spent_by_household.avg_spending_per_week.hist(bins=100)\n",
    "plt.title(\"Average Spending for Food by Household per Week\")\n",
    "plt.show();"
   ]
  },
  {
   "cell_type": "markdown",
   "metadata": {},
   "source": [
    "We can also compare the spendings for meat with the spending for vegetables :"
   ]
  },
  {
   "cell_type": "code",
   "execution_count": null,
   "metadata": {},
   "outputs": [],
   "source": [
    "fig, axes = plt.subplots(nrows=2, ncols=2, figsize=(17,12))\n",
    "to_plot = {\n",
    "    \"Average Spending for Meat by Household per Week\": spent_by_household.avg_spending_meat_per_week,\n",
    "    \"Average Spending for Veggies by Household per Week\": spent_by_household.avg_spending_veggies_per_week,\n",
    "    \"Ratio Between the Avg. Meat and  Avg.Food Spending by Household per Week\": spent_by_household.ratio_spent_for_meat,\n",
    "    \"Ratio Between the Avg. Veggies and  Avg.Food Spending by Household per Week\": spent_by_household.ratio_spent_for_veggies\n",
    "}\n",
    "\n",
    "for i, (title, data) in enumerate(to_plot.items()):\n",
    "    color = \"tab:orange\" if i > 1 else \"tab:blue\" \n",
    "    ax =  axes[i // 2][i % 2]\n",
    "    median = data.median()\n",
    "    _max = data.max()\n",
    "    \n",
    "    data.hist(bins=100, ax=ax, color=color)\n",
    "    min_ylim, max_ylim = ax.get_ylim()\n",
    "    ax.set_title(title)\n",
    "    ax.axvline(median, color='k', linestyle='dashed', linewidth=1)\n",
    "    ax.axvline(_max, color='k', linestyle='dashed', linewidth=1)\n",
    "    ax.text(median*1.1, max_ylim*0.9, 'Median: {:.2f}'.format(median))\n",
    "    ax.text(_max*0.85, max_ylim*0.9, 'Max: {:.2f}'.format(_max))\n",
    "    \n",
    "st = fig.suptitle(\"Meat Spendings VS Veggies Spendings (in $)\", fontsize=\"x-large\")\n",
    "plt.show();"
   ]
  },
  {
   "cell_type": "code",
   "execution_count": null,
   "metadata": {},
   "outputs": [],
   "source": [
    "spent_by_household.plot.scatter(x=\"ratio_spent_for_meat\", y=\"ratio_spent_for_veggies\")"
   ]
  },
  {
   "cell_type": "markdown",
   "metadata": {},
   "source": [
    "There seems to be no linear correlation between the spending for meat and vegetables."
   ]
  },
  {
   "cell_type": "markdown",
   "metadata": {},
   "source": [
    "### Biggest meat consumers VS biggest veggies consumer"
   ]
  },
  {
   "cell_type": "markdown",
   "metadata": {},
   "source": [
    "We are also interested in looking at the consumption of the big meat and vegetables spenders. What are the other types of products that they buy ?\n",
    "\n",
    "To do this analysis, we consider households as big meat/vegeatables if  they are in the 4th quartile of meat/vegetables spendings."
   ]
  },
  {
   "cell_type": "code",
   "execution_count": null,
   "metadata": {},
   "outputs": [],
   "source": [
    "def get_transactions(spending_type, quantile):\n",
    "    # Get the transactions of the biggest meat consumers\n",
    "    quantile = spending_type.quantile(quantile)\n",
    "    households = spent_by_household[spending_type > quantile].household_key.values\n",
    "    transactions = df_food_transactions[df_food_transactions.household_key.isin(households)]\n",
    "    transactions_with_prod_info = pd.merge(transactions, df_products, how=\"inner\")    \n",
    "    return list(households), transactions_with_prod_info\n",
    "\n",
    "biggest_meat_buyers, biggest_meat_consumers_transactions = get_transactions(spent_by_household.ratio_spent_for_meat, quantile=0.75)\n",
    "biggest_veggies_buyers, biggest_veggie_consumers_transactions = get_transactions(spent_by_household.ratio_spent_for_veggies, quantile=0.75)\n",
    "\n",
    "print(f\"The 4th quartile corresponds to {len(biggest_veggies_buyers)} households\")\n",
    "\n",
    "households_in_both = list(set(biggest_meat_buyers).intersection(biggest_veggies_buyers))\n",
    "print(f\"Out of those {len(biggest_veggies_buyers)} household, {len(households_in_both)} of them (={round((len(households_in_both) / len(biggest_meat_buyers)) * 100, 2)}%) are both bigh meat buyers and big veggies buyers.\")"
   ]
  },
  {
   "cell_type": "markdown",
   "metadata": {},
   "source": [
    "We only consider households that appear in one of the two groups. Doing that we have two disting groups of people."
   ]
  },
  {
   "cell_type": "code",
   "execution_count": null,
   "metadata": {},
   "outputs": [],
   "source": [
    "# Remove houselds that are in the two groups\n",
    "biggest_meat_consumers_transactions = biggest_meat_consumers_transactions[~biggest_meat_consumers_transactions.household_key.isin(households_in_both)]\n",
    "biggest_veggie_consumers_transactions = biggest_veggie_consumers_transactions[~biggest_veggie_consumers_transactions.household_key.isin(households_in_both)]"
   ]
  },
  {
   "cell_type": "code",
   "execution_count": null,
   "metadata": {},
   "outputs": [],
   "source": [
    "# Look at the 15 most common commodities for each group\n",
    "top_15_meat = biggest_meat_consumers_transactions.groupby(\"COMMODITY_DESC\")[\"household_key\"]\\\n",
    "                                   .count()\\\n",
    "                                   .sort_values(ascending=False)[:20]\n",
    "top_15_veggies = biggest_veggie_consumers_transactions.groupby(\"COMMODITY_DESC\")[\"household_key\"]\\\n",
    "                                     .count()\\\n",
    "                                     .sort_values(ascending=False)[:20]\n",
    "\n",
    "fig, axes = plt.subplots(nrows=1, ncols=2, figsize=(20,4))\n",
    "top_15_meat.plot.bar(ax=axes[0]);\n",
    "top_15_veggies.plot.bar(ax=axes[1]);\n",
    "axes[0].set_title(\"Most Common Commodities for Big Meat Buyers\");\n",
    "axes[1].set_title(\"Most Common Commodities for Big Veggies Buyers\");"
   ]
  },
  {
   "cell_type": "markdown",
   "metadata": {},
   "source": [
    "We observe in the two plots that although there are some similiraties we also notice some differences. For example, big veggies spenders buy way more yoghourt than big meat buyers."
   ]
  },
  {
   "cell_type": "markdown",
   "metadata": {},
   "source": [
    "We can compare the 2 groups on some selected commodities :"
   ]
  },
  {
   "cell_type": "code",
   "execution_count": null,
   "metadata": {},
   "outputs": [],
   "source": [
    "# Compare the 2 groups on some selected commodities\n",
    "selected_commodities = [\n",
    "    \"FRUIT - SHELF STABLE\",\n",
    "    \"SOFT DRINKS\",\n",
    "    \"BAG SNACKS\",\n",
    "    \"YOGURT\",\n",
    "    \"CHEESE\",\n",
    "    \"FLUID MILK PRODUCTS\",\n",
    "    \"COFFEE\",\n",
    "    \"TEAS\",\n",
    "    \"VEGETABLES - SHELF STABLE\",\n",
    "    \"BEEF\",\n",
    "    \"LIQUOR\",\n",
    "    \"WATER\",\n",
    "]\n",
    "\n",
    "def get_count_by_commodity(df, commodities):\n",
    "    filtered = df[df.COMMODITY_DESC.isin(commodities)]\n",
    "    return filtered[[\"COMMODITY_DESC\"]].reset_index().groupby(\"COMMODITY_DESC\")[\"index\"].count().reset_index(name=\"count\")\n",
    "\n",
    "counts_per_commodity_meat = get_count_by_commodity(biggest_meat_consumers_transactions, selected_commodities)\n",
    "counts_per_commodity_veggies = get_count_by_commodity(biggest_veggie_consumers_transactions, selected_commodities)\n",
    "\n",
    "counts_per_commodity_meat['hue']=\"Big meat buyers\"\n",
    "counts_per_commodity_veggies['hue']=\"Big Veggies buyers\"\n",
    "res=pd.concat([counts_per_commodity_meat, counts_per_commodity_veggies])\n",
    "\n",
    "plt.figure(figsize=(20,5))\n",
    "plt.title (\"Big meat buyers vs big Veggies buyers\")\n",
    "plot = sns.barplot(x='COMMODITY_DESC',y='count',data=res,hue='hue')\n",
    "plot.set_xticklabels(plot.get_xticklabels(), rotation=90)\n",
    "plt.show()"
   ]
  },
  {
   "cell_type": "markdown",
   "metadata": {},
   "source": [
    "## Analysis of Coupons"
   ]
  },
  {
   "cell_type": "code",
   "execution_count": null,
   "metadata": {},
   "outputs": [],
   "source": [
    "df_coupon = pd.read_csv('dunnhumby/coupon.csv', sep = ',')\n",
    "df_coupon.head()"
   ]
  },
  {
   "cell_type": "code",
   "execution_count": null,
   "metadata": {},
   "outputs": [],
   "source": [
    "df_coupon_redempt = pd.read_csv('dunnhumby/coupon_redempt.csv', sep = ',')\n",
    "df_coupon_redempt.head()"
   ]
  },
  {
   "cell_type": "code",
   "execution_count": null,
   "metadata": {},
   "outputs": [],
   "source": [
    "print('There are {0} rows and {1} columns in the df_coupon.'.format(len(df_coupon), len(df_coupon.columns)))\n",
    "print('There are {0} rows and {1} columns in the df_coupon_redempt.'.format(len(df_coupon_redempt), len(df_coupon_redempt.columns)))\n",
    "print('Number of columns with missing values for df_coupon is {0}.'.format(len(df_coupon.columns.to_numpy()[df_coupon.isna().any()])))\n",
    "print('Number of columns with missing values for df_coupon_redempt is {0}.'.format(len(df_coupon_redempt.columns.to_numpy()[df_coupon_redempt.isna().any()])))"
   ]
  },
  {
   "cell_type": "code",
   "execution_count": null,
   "metadata": {},
   "outputs": [],
   "source": [
    "fig, axes = plt.subplots(nrows=1, ncols=3, figsize=(24,4))\n",
    "df_coupon.groupby('CAMPAIGN')['COUPON_UPC'].count().sort_values(ascending=False).plot.bar(ax=axes[0])\n",
    "axes[0].set_title(\"Number of Products per Campaign\")\n",
    "\n",
    "df_coupon_redempt.groupby('DAY')['household_key'].count().plot(ax=axes[1])\n",
    "axes[1].set_title(\"Coupon redemptions per time\")\n",
    "df_coupon_redempt.groupby(['CAMPAIGN', 'DAY'])['household_key'].count().reset_index().pivot('DAY', 'CAMPAIGN', 'household_key').plot(ax=axes[2])\n",
    "axes[2].set_title(\"Coupon redemptions per time per campaign\")\n",
    "plt.legend(prop={'size': 4});"
   ]
  },
  {
   "cell_type": "code",
   "execution_count": null,
   "metadata": {},
   "outputs": [],
   "source": [
    "# merge coupon dataframes and filter by food products\n",
    "df_coupon_and_redempt = pd.merge(df_coupon, df_coupon_redempt, on='COUPON_UPC')\n",
    "df_coupon_and_redempt_for_food = df_coupon_and_redempt[df_coupon_and_redempt.PRODUCT_ID.isin(df_food_products.PRODUCT_ID)]\\\n",
    "    .drop('CAMPAIGN_y', axis=1).rename(columns={'CAMPAIGN_x': 'CAMPAIGN'})\n",
    "\n",
    "fig, axes = plt.subplots(nrows=1, ncols=3, figsize=(24,4))\n",
    "df_coupon_and_redempt_for_food.groupby('CAMPAIGN')['COUPON_UPC'].count().sort_values(ascending=False).plot.bar(ax=axes[0])\n",
    "axes[0].set_title(\"Number of Products per Campaign\")\n",
    "\n",
    "df_coupon_and_redempt_for_food.groupby('DAY')['household_key'].count().plot(ax=axes[1])\n",
    "axes[1].set_title(\"Coupon redemptions per time\")\n",
    "df_coupon_and_redempt_for_food.groupby(['CAMPAIGN', 'DAY'])['household_key'].count().reset_index().pivot('DAY', 'CAMPAIGN', 'household_key').plot(ax=axes[2])\n",
    "axes[2].set_title(\"Coupon redemptions per time per campaign\")\n",
    "plt.legend(prop={'size': 4});"
   ]
  },
  {
   "cell_type": "markdown",
   "metadata": {},
   "source": [
    "## Combined Analysis"
   ]
  },
  {
   "cell_type": "code",
   "execution_count": null,
   "metadata": {},
   "outputs": [],
   "source": [
    "df_spent_and_demog=pd.merge(df_household, spent_by_household, on='household_key', how='inner')"
   ]
  },
  {
   "cell_type": "code",
   "execution_count": null,
   "metadata": {},
   "outputs": [],
   "source": [
    "def plot_weekly_spending(df, demographic_feature, feature_name, order=None):\n",
    "    fig, axes = plt.subplots(nrows=1, ncols=3, figsize=(20,4))\n",
    "    chart = sns.barplot(x = demographic_feature, y ='avg_spending_per_week', data = df, ax = axes[0], order=order)\n",
    "    chart.set_xticklabels(chart.get_xticklabels(), rotation=45)\n",
    "    axes[0].set_title(f'Average Weekly Spending on Food a.t. {feature_name}')\n",
    "    chart = sns.barplot(x = demographic_feature, y ='avg_spending_meat_per_week', data = df, ax = axes[1], order=order)\n",
    "    chart.set_xticklabels(chart.get_xticklabels(), rotation=45)\n",
    "    axes[1].set_title(f'Average Weekly Spending on Meat a.t. {feature_name}')\n",
    "    chart = sns.barplot(x = demographic_feature, y ='ratio_spent_for_meat', data = df, ax = axes[2], order=order)\n",
    "    chart.set_xticklabels(chart.get_xticklabels(), rotation=45)\n",
    "    axes[2].set_title(f'Ratio Between weekly Avg. Meat and  Avg.Food Spending a.t. {feature_name}');"
   ]
  },
  {
   "cell_type": "code",
   "execution_count": null,
   "metadata": {},
   "outputs": [],
   "source": [
    "plot_weekly_spending(df_spent_and_demog, 'INCOME_DESC', 'Income', order=[\"Under 35K\", \"35-49K\", \"50-74K\", \"75-99K\", \"100K+\"])"
   ]
  },
  {
   "cell_type": "code",
   "execution_count": null,
   "metadata": {},
   "outputs": [],
   "source": [
    "plot_weekly_spending(df_spent_and_demog, 'HOUSEHOLD_SIZE_DESC', 'House Size')"
   ]
  },
  {
   "cell_type": "code",
   "execution_count": null,
   "metadata": {},
   "outputs": [],
   "source": [
    "plot_weekly_spending(df_spent_and_demog, 'GENDER', 'House Size')"
   ]
  },
  {
   "cell_type": "code",
   "execution_count": null,
   "metadata": {},
   "outputs": [],
   "source": [
    "plot_weekly_spending(df_spent_and_demog, 'MARITAL_STATUS_CODE', 'House Size')"
   ]
  },
  {
   "cell_type": "code",
   "execution_count": null,
   "metadata": {},
   "outputs": [],
   "source": [
    "plot_weekly_spending(df_spent_and_demog, 'HH_COMP_DESC', 'House Size')"
   ]
  },
  {
   "cell_type": "code",
   "execution_count": null,
   "metadata": {},
   "outputs": [],
   "source": [
    "plot_weekly_spending(df_spent_and_demog, 'KID_CATEGORY_DESC', 'House Size')"
   ]
  },
  {
   "cell_type": "markdown",
   "metadata": {},
   "source": [
    "## Future Work"
   ]
  },
  {
   "cell_type": "code",
   "execution_count": null,
   "metadata": {},
   "outputs": [],
   "source": []
  },
  {
   "cell_type": "code",
   "execution_count": null,
   "metadata": {},
   "outputs": [],
   "source": []
  }
 ],
 "metadata": {
  "kernelspec": {
   "display_name": "Python [conda env:ada] *",
   "language": "python",
   "name": "conda-env-ada-py"
  },
  "language_info": {
   "codemirror_mode": {
    "name": "ipython",
    "version": 3
   },
   "file_extension": ".py",
   "mimetype": "text/x-python",
   "name": "python",
   "nbconvert_exporter": "python",
   "pygments_lexer": "ipython3",
   "version": "3.7.4"
  },
  "toc-autonumbering": false,
  "toc-showcode": false,
  "toc-showmarkdowntxt": false,
  "toc-showtags": false
 },
 "nbformat": 4,
 "nbformat_minor": 4
}
