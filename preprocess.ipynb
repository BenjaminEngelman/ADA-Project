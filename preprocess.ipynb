{
 "cells": [
  {
   "cell_type": "markdown",
   "metadata": {},
   "source": [
    "# Preprocessing of Products for Food and Meat"
   ]
  },
  {
   "cell_type": "code",
   "execution_count": 2,
   "metadata": {},
   "outputs": [],
   "source": [
    "# TODO: Add an explanation paragraph"
   ]
  },
  {
   "cell_type": "markdown",
   "metadata": {},
   "source": [
    "## Environment Setup"
   ]
  },
  {
   "cell_type": "code",
   "execution_count": 42,
   "metadata": {},
   "outputs": [],
   "source": [
    "import pandas as pd\n",
    "import numpy as np\n",
    "import matplotlib.pyplot as plt\n",
    "from matplotlib.ticker import MaxNLocator\n",
    "import seaborn as sns\n",
    "\n",
    "import re\n",
    "from requests import get\n",
    "from bs4 import BeautifulSoup"
   ]
  },
  {
   "cell_type": "markdown",
   "metadata": {},
   "source": [
    "## Data"
   ]
  },
  {
   "cell_type": "code",
   "execution_count": 4,
   "metadata": {},
   "outputs": [
    {
     "data": {
      "text/html": [
       "<div>\n",
       "<style scoped>\n",
       "    .dataframe tbody tr th:only-of-type {\n",
       "        vertical-align: middle;\n",
       "    }\n",
       "\n",
       "    .dataframe tbody tr th {\n",
       "        vertical-align: top;\n",
       "    }\n",
       "\n",
       "    .dataframe thead th {\n",
       "        text-align: right;\n",
       "    }\n",
       "</style>\n",
       "<table border=\"1\" class=\"dataframe\">\n",
       "  <thead>\n",
       "    <tr style=\"text-align: right;\">\n",
       "      <th></th>\n",
       "      <th>PRODUCT_ID</th>\n",
       "      <th>MANUFACTURER</th>\n",
       "      <th>DEPARTMENT</th>\n",
       "      <th>BRAND</th>\n",
       "      <th>COMMODITY_DESC</th>\n",
       "      <th>SUB_COMMODITY_DESC</th>\n",
       "      <th>CURR_SIZE_OF_PRODUCT</th>\n",
       "    </tr>\n",
       "  </thead>\n",
       "  <tbody>\n",
       "    <tr>\n",
       "      <td>0</td>\n",
       "      <td>25671</td>\n",
       "      <td>2</td>\n",
       "      <td>GROCERY</td>\n",
       "      <td>National</td>\n",
       "      <td>FRZN ICE</td>\n",
       "      <td>ICE - CRUSHED/CUBED</td>\n",
       "      <td>22 LB</td>\n",
       "    </tr>\n",
       "    <tr>\n",
       "      <td>1</td>\n",
       "      <td>26081</td>\n",
       "      <td>2</td>\n",
       "      <td>MISC. TRANS.</td>\n",
       "      <td>National</td>\n",
       "      <td>NO COMMODITY DESCRIPTION</td>\n",
       "      <td>NO SUBCOMMODITY DESCRIPTION</td>\n",
       "      <td></td>\n",
       "    </tr>\n",
       "    <tr>\n",
       "      <td>2</td>\n",
       "      <td>26093</td>\n",
       "      <td>69</td>\n",
       "      <td>PASTRY</td>\n",
       "      <td>Private</td>\n",
       "      <td>BREAD</td>\n",
       "      <td>BREAD:ITALIAN/FRENCH</td>\n",
       "      <td></td>\n",
       "    </tr>\n",
       "    <tr>\n",
       "      <td>3</td>\n",
       "      <td>26190</td>\n",
       "      <td>69</td>\n",
       "      <td>GROCERY</td>\n",
       "      <td>Private</td>\n",
       "      <td>FRUIT - SHELF STABLE</td>\n",
       "      <td>APPLE SAUCE</td>\n",
       "      <td>50 OZ</td>\n",
       "    </tr>\n",
       "    <tr>\n",
       "      <td>4</td>\n",
       "      <td>26355</td>\n",
       "      <td>69</td>\n",
       "      <td>GROCERY</td>\n",
       "      <td>Private</td>\n",
       "      <td>COOKIES/CONES</td>\n",
       "      <td>SPECIALTY COOKIES</td>\n",
       "      <td>14 OZ</td>\n",
       "    </tr>\n",
       "  </tbody>\n",
       "</table>\n",
       "</div>"
      ],
      "text/plain": [
       "   PRODUCT_ID  MANUFACTURER    DEPARTMENT     BRAND            COMMODITY_DESC  \\\n",
       "0       25671             2       GROCERY  National                  FRZN ICE   \n",
       "1       26081             2  MISC. TRANS.  National  NO COMMODITY DESCRIPTION   \n",
       "2       26093            69        PASTRY   Private                     BREAD   \n",
       "3       26190            69       GROCERY   Private      FRUIT - SHELF STABLE   \n",
       "4       26355            69       GROCERY   Private             COOKIES/CONES   \n",
       "\n",
       "            SUB_COMMODITY_DESC CURR_SIZE_OF_PRODUCT  \n",
       "0          ICE - CRUSHED/CUBED                22 LB  \n",
       "1  NO SUBCOMMODITY DESCRIPTION                       \n",
       "2         BREAD:ITALIAN/FRENCH                       \n",
       "3                  APPLE SAUCE                50 OZ  \n",
       "4            SPECIALTY COOKIES                14 OZ  "
      ]
     },
     "execution_count": 4,
     "metadata": {},
     "output_type": "execute_result"
    }
   ],
   "source": [
    "df_products = pd.read_csv('dunnhumby/product.csv', sep = ',')\n",
    "df_products.head()"
   ]
  },
  {
   "cell_type": "code",
   "execution_count": 5,
   "metadata": {},
   "outputs": [
    {
     "name": "stdout",
     "output_type": "stream",
     "text": [
      "There are 92353 rows and 7 columns in the dataset.\n"
     ]
    }
   ],
   "source": [
    "print('There are {0} rows and {1} columns in the dataset.'.format(len(df_products), len(df_products.columns))) "
   ]
  },
  {
   "cell_type": "code",
   "execution_count": 6,
   "metadata": {},
   "outputs": [
    {
     "name": "stdout",
     "output_type": "stream",
     "text": [
      "Number of columns with missing values is 0.\n"
     ]
    }
   ],
   "source": [
    "print('Number of columns with missing values is {0}.'.format(len(df_products.columns.to_numpy()[df_products.isna().any()])))"
   ]
  },
  {
   "cell_type": "code",
   "execution_count": 7,
   "metadata": {},
   "outputs": [
    {
     "name": "stdout",
     "output_type": "stream",
     "text": [
      "Columns:\n",
      "--------\n",
      "PRODUCT_ID\n",
      "MANUFACTURER\n",
      "DEPARTMENT\n",
      "BRAND\n",
      "COMMODITY_DESC\n",
      "SUB_COMMODITY_DESC\n",
      "CURR_SIZE_OF_PRODUCT\n"
     ]
    }
   ],
   "source": [
    "print('Columns:')\n",
    "print('--------')\n",
    "for col in df_products.columns:\n",
    "    print(col)"
   ]
  },
  {
   "cell_type": "code",
   "execution_count": 8,
   "metadata": {},
   "outputs": [
    {
     "name": "stdout",
     "output_type": "stream",
     "text": [
      "There are 92353 unique products distributed in 44 different departments.\n"
     ]
    }
   ],
   "source": [
    "print('There are {0} unique products distributed in {1} different departments.'.format(len(df_products['PRODUCT_ID'].unique()), len(df_products['DEPARTMENT'].unique())))"
   ]
  },
  {
   "cell_type": "markdown",
   "metadata": {},
   "source": [
    "## Food Data"
   ]
  },
  {
   "cell_type": "code",
   "execution_count": 9,
   "metadata": {},
   "outputs": [],
   "source": [
    "food_dep = ['GROCERY', 'PASTRY', 'MEAT-PCKGD','SEAFOOD-PCKGD', 'PRODUCE', 'NUTRITION', 'DELI',\n",
    "       'MEAT', 'SEAFOOD', 'SALAD BAR', 'GRO BAKERY','FROZEN GROCERY', 'SPIRITS', 'RESTAURANT',\n",
    "       'DAIRY DELI', 'CHEF SHOPPE', 'DELI/SNACK BAR', 'PORK']"
   ]
  },
  {
   "cell_type": "code",
   "execution_count": 11,
   "metadata": {},
   "outputs": [
    {
     "name": "stdout",
     "output_type": "stream",
     "text": [
      "There are 56031 unique food products distributed in 18 different departments.\n"
     ]
    }
   ],
   "source": [
    "df_food_products = df_products[df_products.DEPARTMENT.isin(food_dep)].copy()\n",
    "print('There are {0} unique food products distributed in {1} different departments.'.format(len(df_food_products['PRODUCT_ID'].unique()), len(df_food_products['DEPARTMENT'].unique())))"
   ]
  },
  {
   "cell_type": "code",
   "execution_count": 18,
   "metadata": {},
   "outputs": [
    {
     "data": {
      "text/plain": [
       "Text(0.5, 1.0, 'Number of Food Products per Department')"
      ]
     },
     "execution_count": 18,
     "metadata": {},
     "output_type": "execute_result"
    },
    {
     "data": {
      "image/png": "[encoded data removed]",
      "text/plain": [
       "<Figure size 432x288 with 1 Axes>"
      ]
     },
     "metadata": {
      "needs_background": "light"
     },
     "output_type": "display_data"
    }
   ],
   "source": [
    "df_food_products.groupby(\"DEPARTMENT\").count()[\"PRODUCT_ID\"].sort_values(ascending=False).plot.bar()\n",
    "plt.title('Number of Food Products per Department')"
   ]
  },
  {
   "cell_type": "code",
   "execution_count": 35,
   "metadata": {},
   "outputs": [
    {
     "name": "stdout",
     "output_type": "stream",
     "text": [
      "The GROCERY department contains nearly 69% of the products in the food sector. It may be useful to have a deeper look in it for better information on the type of products it contains.\n"
     ]
    }
   ],
   "source": [
    "percent = int(len(df_food_products[df_food_products.DEPARTMENT == 'GROCERY']) * 100 / len(df_food_products))\n",
    "print(f'The GROCERY department contains nearly {percent}% of the products in the food sector. It may be useful to have a deeper look in it for better information on the type of products it contains.')"
   ]
  },
  {
   "cell_type": "code",
   "execution_count": 37,
   "metadata": {},
   "outputs": [
    {
     "data": {
      "text/plain": [
       "array(['FRZN ICE', 'FRUIT - SHELF STABLE', 'COOKIES/CONES',\n",
       "       'SPICES & EXTRACTS', 'PNT BTR/JELLY/JAMS',\n",
       "       'ICE CREAM/MILK/SHERBTS', 'AIR CARE', 'CHEESE', 'SHORTENING/OIL',\n",
       "       'COFFEE', 'PAPER HOUSEWARES', 'BAKED BREAD/BUNS/ROLLS',\n",
       "       'VEGETABLES - SHELF STABLE', 'HISPANIC', 'DINNER MXS:DRY',\n",
       "       'CONDIMENTS/SAUCES', 'FRZN VEGETABLE/VEG DSH', 'BAKING NEEDS',\n",
       "       'FRZN FRUITS', 'HOUSEHOLD CLEANG NEEDS', 'FD WRAPS/BAGS/TRSH BG',\n",
       "       'DRY MIX DESSERTS', 'PICKLE/RELISH/PKLD VEG', 'BAKING MIXES',\n",
       "       'FLUID MILK PRODUCTS', 'SOUP', 'BAKED SWEET GOODS',\n",
       "       'DRY BN/VEG/POTATO/RICE', 'FACIAL TISS/DNR NAPKIN', 'FROZEN PIZZA',\n",
       "       'EGGS', 'REFRGRATD DOUGH PRODUCTS', 'HOT CEREAL', 'COLD CEREAL',\n",
       "       'SUGARS/SWEETNERS', 'SEAFOOD - SHELF STABLE', 'CANNED JUICES',\n",
       "       'BAG SNACKS', 'BEANS - CANNED GLASS & MW', 'CRACKERS/MISC BKD FD',\n",
       "       'CONVENIENT BRKFST/WHLSM SNACKS', 'SOFT DRINKS', 'BUTTER',\n",
       "       'FRZN MEAT/MEAT DINNERS', 'WATER - CARBONATED/FLVRD DRINK',\n",
       "       'FRZN BREAKFAST FOODS', 'MILK BY-PRODUCTS', 'LAUNDRY DETERGENTS',\n",
       "       'ISOTONIC DRINKS', 'FRZN JCE CONC/DRNKS', 'LAUNDRY ADDITIVES',\n",
       "       'TEAS', 'DRY NOODLES/PASTA', 'PASTA SAUCE', 'CAT FOOD',\n",
       "       'MOLASSES/SYRUP/PANCAKE MIXS', 'BATH TISSUES',\n",
       "       'FROZEN PIE/DESSERTS', 'MEAT - SHELF STABLE',\n",
       "       'SALD DRSNG/SNDWCH SPRD', 'LIQUOR', 'FROZEN BREAD/DOUGH',\n",
       "       'SNACK NUTS', 'BEERS/ALES', 'REFRGRATD JUICES/DRNKS', 'YOGURT',\n",
       "       'DOG FOODS', 'FRZN NOVELTIES/WTR ICE', 'WAREHOUSE SNACKS',\n",
       "       'DRY SAUCES/GRAVY', 'MARGARINES', 'PWDR/CRYSTL DRNK MX', 'OLIVES',\n",
       "       'MISC. DAIRY', 'COCOA MIXES', 'FLOUR & MEALS', 'SYRUPS/TOPPINGS',\n",
       "       'BLEACH', 'PAPER TOWELS', 'FRZN POTATOES', 'DISHWASH DETERGENTS',\n",
       "       'CANNED MILK', 'CAT LITTER', 'FROZEN CHICKEN', 'DOMESTIC WINE',\n",
       "       'MISC WINE', 'PET CARE SUPPLIES', 'COUPON/MISC ITEMS',\n",
       "       'IMPORTED WINE', 'RESTRICTED DIET', 'BIRD SEED', 'FRZN SEAFOOD',\n",
       "       'NEW AGE', 'BOTTLE DEPOSITS'], dtype=object)"
      ]
     },
     "execution_count": 37,
     "metadata": {},
     "output_type": "execute_result"
    }
   ],
   "source": [
    "df_food_products[df_food_products.DEPARTMENT == 'GROCERY'].COMMODITY_DESC.unique()"
   ]
  },
  {
   "cell_type": "markdown",
   "metadata": {},
   "source": [
    "It is clearly seen that some of the COMMODITY_DESC correspond to housecleaning and non-food commodities. \n",
    "Therefore, they have to be removed in the next step."
   ]
  },
  {
   "cell_type": "code",
   "execution_count": 38,
   "metadata": {},
   "outputs": [
    {
     "name": "stdout",
     "output_type": "stream",
     "text": [
      "There are 51341 unique food products distributed in 18 different departments.\n"
     ]
    }
   ],
   "source": [
    "non_food_groceries = ['AIR CARE', 'PAPER HOUSEWARES', 'HOUSEHOLD CLEANG NEEDS', 'FD WRAPS/BAGS/TRSH BG', 'FACIAL TISS/DNR NAPKIN',\\\n",
    "                     'LAUNDRY DETERGENTS', 'LAUNDRY ADDITIVES', 'CAT FOOD', 'BATH TISSUES', 'DOG FOODS', 'BLEACH', 'PAPER TOWELS',\\\n",
    "                     'DISHWASH DETERGENTS', 'CAT LITTER', 'COUPON/MISC ITEMS', 'PET CARE SUPPLIES', 'BIRD SEED', 'BOTTLE DEPOSITS']\n",
    "df_food_products = df_food_products[~df_food_products['COMMODITY_DESC'].isin(non_food_groceries)]\n",
    "print('There are {0} unique food products distributed in {1} different departments.'.format(len(df_food_products['PRODUCT_ID'].unique()), len(df_food_products['DEPARTMENT'].unique())))"
   ]
  },
  {
   "cell_type": "code",
   "execution_count": 39,
   "metadata": {},
   "outputs": [
    {
     "data": {
      "text/plain": [
       "Text(0.5, 1.0, 'Number of Food Products per Department')"
      ]
     },
     "execution_count": 39,
     "metadata": {},
     "output_type": "execute_result"
    },
    {
     "data": {
      "image/png": "[encoded data removed]",
      "text/plain": [
       "<Figure size 432x288 with 1 Axes>"
      ]
     },
     "metadata": {
      "needs_background": "light"
     },
     "output_type": "display_data"
    }
   ],
   "source": [
    "df_food_products.groupby(\"DEPARTMENT\").count()[\"PRODUCT_ID\"].sort_values(ascending=False).plot.bar()\n",
    "plt.title('Number of Food Products per Department')"
   ]
  },
  {
   "cell_type": "code",
   "execution_count": 40,
   "metadata": {},
   "outputs": [],
   "source": [
    "df_food_products.to_csv('data/food_products.csv')"
   ]
  },
  {
   "cell_type": "markdown",
   "metadata": {},
   "source": [
    "## Meat Data"
   ]
  },
  {
   "cell_type": "markdown",
   "metadata": {},
   "source": [
    "### Web scraping for meat-related words"
   ]
  },
  {
   "cell_type": "markdown",
   "metadata": {},
   "source": [
    "To detect meat related products automatically, we use [listchallenges.com](https://www.listchallenges.com/types-of-meat) and [manythings.com](https://www.manythings.org/vocabulary/lists/c/words.php) to get the words related to meat. These words are then used to select all the products whose DEPARTMENT, COMMODITY_DESC or SUB_COMMODITY_DESC contain one of these words."
   ]
  },
  {
   "cell_type": "code",
   "execution_count": 43,
   "metadata": {},
   "outputs": [],
   "source": [
    "meat_words = []\n",
    "\n",
    "# First Website\n",
    "urls = [\"https://www.listchallenges.com/types-of-meat\", \"https://www.listchallenges.com/types-of-meat/list/2\"]\n",
    "for url in urls:\n",
    "    r = get(url)\n",
    "    page_body = r.text\n",
    "    soup = BeautifulSoup(page_body, 'html.parser')\n",
    "    meat_divs = soup.findAll(\"div\", {\"class\": \"item-name\"})\n",
    "    meat_words.extend([div.text.upper().strip() for div in meat_divs])\n",
    "    \n",
    "# Second Website   \n",
    "base_url = \"https://www.manythings.org/vocabulary/lists/c/words.php\"\n",
    "urls = [base_url + \"?f=meat\", base_url + \"?f=fish\"]\n",
    "for url in urls:\n",
    "    r = get(url)\n",
    "    page_body = r.text\n",
    "    soup = BeautifulSoup(page_body, 'html.parser')\n",
    "    meat_li = soup.findAll(\"li\")\n",
    "    meat_words.extend([li.text.upper().strip() for li in meat_li])"
   ]
  },
  {
   "cell_type": "code",
   "execution_count": 45,
   "metadata": {},
   "outputs": [
    {
     "name": "stdout",
     "output_type": "stream",
     "text": [
      "keywords: ['ANCHOVY', 'BACON', 'BEEF', 'BUFFALO', 'CARIBOU', 'CATFISH', 'CHICKEN', 'CLAMS', 'COD', 'CORNISH GAME HEN', 'CRAB', 'DUCK', 'EEL', 'EMU', 'GOAT', 'GOOSE', 'GROUSE', 'HALIBUT', 'HAM', 'KANGAROO', 'LAMB', 'LOBSTER', 'MACKEREL', 'MAHI MAHI', 'OCTOPUS', 'OSTRICH', 'OYSTERS', 'PHEASANT', 'PORK', 'QUAIL', 'RABBIT', 'SALMON', 'SARDINES', 'SCALLOPS', 'SHARK', 'SHRIMP', 'SNAKE', 'SQUAB', 'SQUID', 'SWORDFISH', 'TILAPIA', 'TUNA', 'TURKEY', 'VEAL', 'VENISON', 'SALAMI', 'HAM', 'POULTRY', 'SEAFOOD', 'FISH', 'MEAT', 'MEATS', 'SALAMI', 'HAM', 'POULTRY', 'SEAFOOD', 'FISH', 'MEAT', 'MEATS']\n"
     ]
    }
   ],
   "source": [
    "# add particular words that are not in both websites\n",
    "meat_words.extend([\"SALAMI\", \"HAM\", \"POULTRY\", \"SEAFOOD\", \"FISH\",\"MEAT\",\"MEATS\"])\n",
    "print('keywords:', meat_words)"
   ]
  },
  {
   "cell_type": "code",
   "execution_count": 48,
   "metadata": {},
   "outputs": [
    {
     "name": "stdout",
     "output_type": "stream",
     "text": [
      "There are 9039 meat products distributed in 12 different departments.\n"
     ]
    }
   ],
   "source": [
    "meat_words_regex = [r'\\b%s\\b' % word for word in meat_words]\n",
    "full_regex = re.compile('|'.join(meat_words_regex))\n",
    "meat_products = df_products[df_products.DEPARTMENT.str.contains(full_regex, regex=True)|\\\n",
    "                          df_products.COMMODITY_DESC.str.contains(full_regex, regex=True) |\\\n",
    "                          df_products.SUB_COMMODITY_DESC.str.contains(full_regex, regex=True)]\n",
    "print('There are {0} meat products distributed in {1} different departments.'.format(len(meat_products['PRODUCT_ID'].unique()), len(meat_products['DEPARTMENT'].unique())))"
   ]
  },
  {
   "cell_type": "code",
   "execution_count": 54,
   "metadata": {},
   "outputs": [
    {
     "name": "stdout",
     "output_type": "stream",
     "text": [
      "Unique commodity description for selected products:\n",
      "---------------------------------------------------\n"
     ]
    },
    {
     "data": {
      "text/plain": [
       "array(['DINNER SAUSAGE', 'SEAFOOD - FROZEN', 'SEAFOOD - SHELF STABLE',\n",
       "       'FROZEN MEAT', 'FRZN MEAT/MEAT DINNERS',\n",
       "       'BEANS - CANNED GLASS & MW', 'MEAT - SHELF STABLE', 'MEAT - MISC',\n",
       "       'LUNCHMEAT', 'BREAKFAST SAUSAGE/SANDWICHES', 'BACON', 'HOT DOGS',\n",
       "       'CHICKEN', 'HEAT/SERVE', 'DELI MEATS', 'BEEF', 'MISCELLANEOUS',\n",
       "       'WAREHOUSE SNACKS', 'CHICKEN/POULTRY', 'TURKEY', 'SEAFOOD-FRESH',\n",
       "       'SEAFOOD - MISC', 'MISC. DAIRY', 'FROZEN CHICKEN', 'SMOKED MEATS',\n",
       "       'DINNER MXS:DRY', 'PORK', 'SALADS/DIPS', '(CORP USE ONLY)',\n",
       "       'CONDIMENTS/SAUCES', 'LAMB', 'BAKING NEEDS', 'DRY SAUCES/GRAVY',\n",
       "       'PARTY TRAYS', 'FROZEN', 'REFRIGERATED', 'VEAL', 'PASTA SAUCE',\n",
       "       'FROZEN - BOXED(GROCERY)', 'FRZN SEAFOOD', 'SPICES & EXTRACTS',\n",
       "       'PREPARED/PKGD FOODS', 'COUPON', 'PREPARED FOOD',\n",
       "       'RW FRESH PROCESSED MEAT', 'EXOTIC GAME/FOWL', 'MEAT SUPPLIES',\n",
       "       'DELI SUPPLIES', 'COUPON/MISC ITEMS', 'BAKING MIXES', 'BAG SNACKS',\n",
       "       'NO COMMODITY DESCRIPTION', 'PKG.SEAFOOD MISC', 'HISPANIC',\n",
       "       'BREAKFAST SWEETS', 'DELI SPECIALTIES (RETAIL PK)',\n",
       "       'FROZEN PACKAGE MEAT'], dtype=object)"
      ]
     },
     "execution_count": 54,
     "metadata": {},
     "output_type": "execute_result"
    }
   ],
   "source": [
    "print('Unique commodity description for selected products:')\n",
    "print('---------------------------------------------------')\n",
    "meat_products['COMMODITY_DESC'].unique()"
   ]
  },
  {
   "cell_type": "markdown",
   "metadata": {},
   "source": [
    "As for food products, some products are incorrectly placed in the meat category. They have to be removed by hand as before."
   ]
  },
  {
   "cell_type": "code",
   "execution_count": 66,
   "metadata": {},
   "outputs": [
    {
     "name": "stdout",
     "output_type": "stream",
     "text": [
      "There are 8785 meat products distributed in 10 different departments.\n"
     ]
    }
   ],
   "source": [
    "meat_drops_sub = [ 'FROZEN MEAT (VEGETARIAN)', 'VEGETARIAN MEATS', 'FRZN MEAT ALTERNATIVES', 'SAUERKRAUT', 'PICKLES',\\\n",
    "                  'SALADS', 'CHEESE', 'PICKLE ITEMS', 'SAL:OLIVES/PICKLES-BULK', 'POTATOES PROCESSED',\\\n",
    "                  'NON-MEATS - OTHER', 'MISC SALES TRANS', 'NON-MEATS - OTHER']\n",
    "\n",
    "meat_products = meat_products[~meat_products['SUB_COMMODITY_DESC'].isin(meat_drops_sub)]\n",
    "meat_products = meat_products[~(meat_products['DEPARTMENT'] == 'MISC SALES TRAN')]\n",
    "print('There are {0} meat products distributed in {1} different departments.'.format(len(meat_products['PRODUCT_ID'].unique()), len(meat_products['DEPARTMENT'].unique())))"
   ]
  },
  {
   "cell_type": "code",
   "execution_count": 67,
   "metadata": {},
   "outputs": [
    {
     "data": {
      "text/plain": [
       "Text(0.5, 1.0, 'Number of Meat Products per Department')"
      ]
     },
     "execution_count": 67,
     "metadata": {},
     "output_type": "execute_result"
    },
    {
     "data": {
      "image/png": "[encoded data removed]",
      "text/plain": [
       "<Figure size 432x288 with 1 Axes>"
      ]
     },
     "metadata": {
      "needs_background": "light"
     },
     "output_type": "display_data"
    }
   ],
   "source": [
    "meat_products.groupby(\"DEPARTMENT\").count()[\"PRODUCT_ID\"].sort_values(ascending=False).plot.bar()\n",
    "plt.title('Number of Meat Products per Department')"
   ]
  },
  {
   "cell_type": "code",
   "execution_count": 72,
   "metadata": {},
   "outputs": [
    {
     "name": "stdout",
     "output_type": "stream",
     "text": [
      "We can see that 17% of the food products are meat related products.\n"
     ]
    }
   ],
   "source": [
    "percent = int(len(meat_products) * 100 / len(df_food_products))\n",
    "print(f\"We can see that {percent}% of the food products are meat related products.\")"
   ]
  },
  {
   "cell_type": "code",
   "execution_count": 74,
   "metadata": {},
   "outputs": [],
   "source": [
    "meat_products.to_csv('data/meat_products.csv')"
   ]
  },
  {
   "cell_type": "code",
   "execution_count": null,
   "metadata": {},
   "outputs": [],
   "source": []
  }
 ],
 "metadata": {
  "kernelspec": {
   "display_name": "Python 3",
   "language": "python",
   "name": "python3"
  },
  "language_info": {
   "codemirror_mode": {
    "name": "ipython",
    "version": 3
   },
   "file_extension": ".py",
   "mimetype": "text/x-python",
   "name": "python",
   "nbconvert_exporter": "python",
   "pygments_lexer": "ipython3",
   "version": "3.7.4"
  }
 },
 "nbformat": 4,
 "nbformat_minor": 4
}
